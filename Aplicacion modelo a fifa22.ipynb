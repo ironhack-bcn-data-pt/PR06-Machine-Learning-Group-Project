{
 "cells": [
  {
   "cell_type": "markdown",
   "id": "fbaf088c",
   "metadata": {
    "ExecuteTime": {
     "end_time": "2022-02-26T09:47:47.467531Z",
     "start_time": "2022-02-26T09:47:47.459527Z"
    }
   },
   "source": [
    "# Cargo modelo"
   ]
  },
  {
   "cell_type": "code",
   "execution_count": 4,
   "id": "ea6070cd",
   "metadata": {
    "ExecuteTime": {
     "end_time": "2022-02-26T09:48:04.802898Z",
     "start_time": "2022-02-26T09:48:04.257074Z"
    }
   },
   "outputs": [],
   "source": [
    "import pickle\n",
    "import pandas as pd"
   ]
  },
  {
   "cell_type": "code",
   "execution_count": 47,
   "id": "f66390c8",
   "metadata": {
    "ExecuteTime": {
     "end_time": "2022-02-26T10:06:27.653240Z",
     "start_time": "2022-02-26T10:06:27.567152Z"
    }
   },
   "outputs": [],
   "source": [
    "url_modelo=\".models/model_Todos_jugadores2.pkl\"\n",
    "modelo=pickle.load(open(url_modelo, 'rb'))"
   ]
  },
  {
   "cell_type": "markdown",
   "id": "3412dfc1",
   "metadata": {},
   "source": [
    "# Importamos y limpiamos el fifa"
   ]
  },
  {
   "cell_type": "code",
   "execution_count": 5,
   "id": "1f1d8b52",
   "metadata": {
    "ExecuteTime": {
     "end_time": "2022-02-26T09:48:19.829455Z",
     "start_time": "2022-02-26T09:48:19.597457Z"
    }
   },
   "outputs": [
    {
     "name": "stderr",
     "output_type": "stream",
     "text": [
      "C:\\Users\\irazu\\anaconda3\\lib\\site-packages\\IPython\\core\\interactiveshell.py:3165: DtypeWarning: Columns (25,108) have mixed types.Specify dtype option on import or set low_memory=False.\n",
      "  has_raised = await self.run_ast_nodes(code_ast.body, cell_name,\n"
     ]
    }
   ],
   "source": [
    "df=pd.read_csv(\"data/players_22.csv\")"
   ]
  },
  {
   "cell_type": "code",
   "execution_count": 6,
   "id": "3b402ab2",
   "metadata": {
    "ExecuteTime": {
     "end_time": "2022-02-26T09:48:23.028659Z",
     "start_time": "2022-02-26T09:48:22.981039Z"
    },
    "scrolled": true
   },
   "outputs": [
    {
     "data": {
      "text/html": [
       "<div>\n",
       "<style scoped>\n",
       "    .dataframe tbody tr th:only-of-type {\n",
       "        vertical-align: middle;\n",
       "    }\n",
       "\n",
       "    .dataframe tbody tr th {\n",
       "        vertical-align: top;\n",
       "    }\n",
       "\n",
       "    .dataframe thead th {\n",
       "        text-align: right;\n",
       "    }\n",
       "</style>\n",
       "<table border=\"1\" class=\"dataframe\">\n",
       "  <thead>\n",
       "    <tr style=\"text-align: right;\">\n",
       "      <th></th>\n",
       "      <th>sofifa_id</th>\n",
       "      <th>player_url</th>\n",
       "      <th>short_name</th>\n",
       "      <th>long_name</th>\n",
       "      <th>player_positions</th>\n",
       "      <th>overall</th>\n",
       "      <th>potential</th>\n",
       "      <th>value_eur</th>\n",
       "      <th>wage_eur</th>\n",
       "      <th>age</th>\n",
       "      <th>...</th>\n",
       "      <th>lcb</th>\n",
       "      <th>cb</th>\n",
       "      <th>rcb</th>\n",
       "      <th>rb</th>\n",
       "      <th>gk</th>\n",
       "      <th>player_face_url</th>\n",
       "      <th>club_logo_url</th>\n",
       "      <th>club_flag_url</th>\n",
       "      <th>nation_logo_url</th>\n",
       "      <th>nation_flag_url</th>\n",
       "    </tr>\n",
       "  </thead>\n",
       "  <tbody>\n",
       "    <tr>\n",
       "      <th>0</th>\n",
       "      <td>158023</td>\n",
       "      <td>https://sofifa.com/player/158023/lionel-messi/...</td>\n",
       "      <td>L. Messi</td>\n",
       "      <td>Lionel Andrés Messi Cuccittini</td>\n",
       "      <td>RW, ST, CF</td>\n",
       "      <td>93</td>\n",
       "      <td>93</td>\n",
       "      <td>78000000.0</td>\n",
       "      <td>320000.0</td>\n",
       "      <td>34</td>\n",
       "      <td>...</td>\n",
       "      <td>50+3</td>\n",
       "      <td>50+3</td>\n",
       "      <td>50+3</td>\n",
       "      <td>61+3</td>\n",
       "      <td>19+3</td>\n",
       "      <td>https://cdn.sofifa.net/players/158/023/22_120.png</td>\n",
       "      <td>https://cdn.sofifa.net/teams/73/60.png</td>\n",
       "      <td>https://cdn.sofifa.net/flags/fr.png</td>\n",
       "      <td>https://cdn.sofifa.net/teams/1369/60.png</td>\n",
       "      <td>https://cdn.sofifa.net/flags/ar.png</td>\n",
       "    </tr>\n",
       "    <tr>\n",
       "      <th>1</th>\n",
       "      <td>188545</td>\n",
       "      <td>https://sofifa.com/player/188545/robert-lewand...</td>\n",
       "      <td>R. Lewandowski</td>\n",
       "      <td>Robert Lewandowski</td>\n",
       "      <td>ST</td>\n",
       "      <td>92</td>\n",
       "      <td>92</td>\n",
       "      <td>119500000.0</td>\n",
       "      <td>270000.0</td>\n",
       "      <td>32</td>\n",
       "      <td>...</td>\n",
       "      <td>60+3</td>\n",
       "      <td>60+3</td>\n",
       "      <td>60+3</td>\n",
       "      <td>61+3</td>\n",
       "      <td>19+3</td>\n",
       "      <td>https://cdn.sofifa.net/players/188/545/22_120.png</td>\n",
       "      <td>https://cdn.sofifa.net/teams/21/60.png</td>\n",
       "      <td>https://cdn.sofifa.net/flags/de.png</td>\n",
       "      <td>https://cdn.sofifa.net/teams/1353/60.png</td>\n",
       "      <td>https://cdn.sofifa.net/flags/pl.png</td>\n",
       "    </tr>\n",
       "    <tr>\n",
       "      <th>2</th>\n",
       "      <td>20801</td>\n",
       "      <td>https://sofifa.com/player/20801/c-ronaldo-dos-...</td>\n",
       "      <td>Cristiano Ronaldo</td>\n",
       "      <td>Cristiano Ronaldo dos Santos Aveiro</td>\n",
       "      <td>ST, LW</td>\n",
       "      <td>91</td>\n",
       "      <td>91</td>\n",
       "      <td>45000000.0</td>\n",
       "      <td>270000.0</td>\n",
       "      <td>36</td>\n",
       "      <td>...</td>\n",
       "      <td>53+3</td>\n",
       "      <td>53+3</td>\n",
       "      <td>53+3</td>\n",
       "      <td>60+3</td>\n",
       "      <td>20+3</td>\n",
       "      <td>https://cdn.sofifa.net/players/020/801/22_120.png</td>\n",
       "      <td>https://cdn.sofifa.net/teams/11/60.png</td>\n",
       "      <td>https://cdn.sofifa.net/flags/gb-eng.png</td>\n",
       "      <td>https://cdn.sofifa.net/teams/1354/60.png</td>\n",
       "      <td>https://cdn.sofifa.net/flags/pt.png</td>\n",
       "    </tr>\n",
       "    <tr>\n",
       "      <th>3</th>\n",
       "      <td>190871</td>\n",
       "      <td>https://sofifa.com/player/190871/neymar-da-sil...</td>\n",
       "      <td>Neymar Jr</td>\n",
       "      <td>Neymar da Silva Santos Júnior</td>\n",
       "      <td>LW, CAM</td>\n",
       "      <td>91</td>\n",
       "      <td>91</td>\n",
       "      <td>129000000.0</td>\n",
       "      <td>270000.0</td>\n",
       "      <td>29</td>\n",
       "      <td>...</td>\n",
       "      <td>50+3</td>\n",
       "      <td>50+3</td>\n",
       "      <td>50+3</td>\n",
       "      <td>62+3</td>\n",
       "      <td>20+3</td>\n",
       "      <td>https://cdn.sofifa.net/players/190/871/22_120.png</td>\n",
       "      <td>https://cdn.sofifa.net/teams/73/60.png</td>\n",
       "      <td>https://cdn.sofifa.net/flags/fr.png</td>\n",
       "      <td>NaN</td>\n",
       "      <td>https://cdn.sofifa.net/flags/br.png</td>\n",
       "    </tr>\n",
       "    <tr>\n",
       "      <th>4</th>\n",
       "      <td>192985</td>\n",
       "      <td>https://sofifa.com/player/192985/kevin-de-bruy...</td>\n",
       "      <td>K. De Bruyne</td>\n",
       "      <td>Kevin De Bruyne</td>\n",
       "      <td>CM, CAM</td>\n",
       "      <td>91</td>\n",
       "      <td>91</td>\n",
       "      <td>125500000.0</td>\n",
       "      <td>350000.0</td>\n",
       "      <td>30</td>\n",
       "      <td>...</td>\n",
       "      <td>69+3</td>\n",
       "      <td>69+3</td>\n",
       "      <td>69+3</td>\n",
       "      <td>75+3</td>\n",
       "      <td>21+3</td>\n",
       "      <td>https://cdn.sofifa.net/players/192/985/22_120.png</td>\n",
       "      <td>https://cdn.sofifa.net/teams/10/60.png</td>\n",
       "      <td>https://cdn.sofifa.net/flags/gb-eng.png</td>\n",
       "      <td>https://cdn.sofifa.net/teams/1325/60.png</td>\n",
       "      <td>https://cdn.sofifa.net/flags/be.png</td>\n",
       "    </tr>\n",
       "    <tr>\n",
       "      <th>...</th>\n",
       "      <td>...</td>\n",
       "      <td>...</td>\n",
       "      <td>...</td>\n",
       "      <td>...</td>\n",
       "      <td>...</td>\n",
       "      <td>...</td>\n",
       "      <td>...</td>\n",
       "      <td>...</td>\n",
       "      <td>...</td>\n",
       "      <td>...</td>\n",
       "      <td>...</td>\n",
       "      <td>...</td>\n",
       "      <td>...</td>\n",
       "      <td>...</td>\n",
       "      <td>...</td>\n",
       "      <td>...</td>\n",
       "      <td>...</td>\n",
       "      <td>...</td>\n",
       "      <td>...</td>\n",
       "      <td>...</td>\n",
       "      <td>...</td>\n",
       "    </tr>\n",
       "    <tr>\n",
       "      <th>19234</th>\n",
       "      <td>261962</td>\n",
       "      <td>https://sofifa.com/player/261962/defu-song/220002</td>\n",
       "      <td>Song Defu</td>\n",
       "      <td>宋德福</td>\n",
       "      <td>CDM</td>\n",
       "      <td>47</td>\n",
       "      <td>52</td>\n",
       "      <td>70000.0</td>\n",
       "      <td>1000.0</td>\n",
       "      <td>22</td>\n",
       "      <td>...</td>\n",
       "      <td>46+2</td>\n",
       "      <td>46+2</td>\n",
       "      <td>46+2</td>\n",
       "      <td>48+2</td>\n",
       "      <td>15+2</td>\n",
       "      <td>https://cdn.sofifa.net/players/261/962/22_120.png</td>\n",
       "      <td>https://cdn.sofifa.net/teams/112541/60.png</td>\n",
       "      <td>https://cdn.sofifa.net/flags/cn.png</td>\n",
       "      <td>NaN</td>\n",
       "      <td>https://cdn.sofifa.net/flags/cn.png</td>\n",
       "    </tr>\n",
       "    <tr>\n",
       "      <th>19235</th>\n",
       "      <td>262040</td>\n",
       "      <td>https://sofifa.com/player/262040/caoimhin-port...</td>\n",
       "      <td>C. Porter</td>\n",
       "      <td>Caoimhin Porter</td>\n",
       "      <td>CM</td>\n",
       "      <td>47</td>\n",
       "      <td>59</td>\n",
       "      <td>110000.0</td>\n",
       "      <td>500.0</td>\n",
       "      <td>19</td>\n",
       "      <td>...</td>\n",
       "      <td>44+2</td>\n",
       "      <td>44+2</td>\n",
       "      <td>44+2</td>\n",
       "      <td>48+2</td>\n",
       "      <td>14+2</td>\n",
       "      <td>https://cdn.sofifa.net/players/262/040/22_120.png</td>\n",
       "      <td>https://cdn.sofifa.net/teams/445/60.png</td>\n",
       "      <td>https://cdn.sofifa.net/flags/ie.png</td>\n",
       "      <td>NaN</td>\n",
       "      <td>https://cdn.sofifa.net/flags/ie.png</td>\n",
       "    </tr>\n",
       "    <tr>\n",
       "      <th>19236</th>\n",
       "      <td>262760</td>\n",
       "      <td>https://sofifa.com/player/262760/nathan-logue/...</td>\n",
       "      <td>N. Logue</td>\n",
       "      <td>Nathan Logue-Cunningham</td>\n",
       "      <td>CM</td>\n",
       "      <td>47</td>\n",
       "      <td>55</td>\n",
       "      <td>100000.0</td>\n",
       "      <td>500.0</td>\n",
       "      <td>21</td>\n",
       "      <td>...</td>\n",
       "      <td>45+2</td>\n",
       "      <td>45+2</td>\n",
       "      <td>45+2</td>\n",
       "      <td>47+2</td>\n",
       "      <td>12+2</td>\n",
       "      <td>https://cdn.sofifa.net/players/262/760/22_120.png</td>\n",
       "      <td>https://cdn.sofifa.net/teams/111131/60.png</td>\n",
       "      <td>https://cdn.sofifa.net/flags/ie.png</td>\n",
       "      <td>NaN</td>\n",
       "      <td>https://cdn.sofifa.net/flags/ie.png</td>\n",
       "    </tr>\n",
       "    <tr>\n",
       "      <th>19237</th>\n",
       "      <td>262820</td>\n",
       "      <td>https://sofifa.com/player/262820/luke-rudden/2...</td>\n",
       "      <td>L. Rudden</td>\n",
       "      <td>Luke Rudden</td>\n",
       "      <td>ST</td>\n",
       "      <td>47</td>\n",
       "      <td>60</td>\n",
       "      <td>110000.0</td>\n",
       "      <td>500.0</td>\n",
       "      <td>19</td>\n",
       "      <td>...</td>\n",
       "      <td>26+2</td>\n",
       "      <td>26+2</td>\n",
       "      <td>26+2</td>\n",
       "      <td>32+2</td>\n",
       "      <td>15+2</td>\n",
       "      <td>https://cdn.sofifa.net/players/262/820/22_120.png</td>\n",
       "      <td>https://cdn.sofifa.net/teams/111131/60.png</td>\n",
       "      <td>https://cdn.sofifa.net/flags/ie.png</td>\n",
       "      <td>NaN</td>\n",
       "      <td>https://cdn.sofifa.net/flags/ie.png</td>\n",
       "    </tr>\n",
       "    <tr>\n",
       "      <th>19238</th>\n",
       "      <td>264540</td>\n",
       "      <td>https://sofifa.com/player/264540/emanuel-lalch...</td>\n",
       "      <td>E. Lalchhanchhuaha</td>\n",
       "      <td>Emanuel Lalchhanchhuaha</td>\n",
       "      <td>CAM</td>\n",
       "      <td>47</td>\n",
       "      <td>60</td>\n",
       "      <td>110000.0</td>\n",
       "      <td>500.0</td>\n",
       "      <td>19</td>\n",
       "      <td>...</td>\n",
       "      <td>41+2</td>\n",
       "      <td>41+2</td>\n",
       "      <td>41+2</td>\n",
       "      <td>45+2</td>\n",
       "      <td>16+2</td>\n",
       "      <td>https://cdn.sofifa.net/players/264/540/22_120.png</td>\n",
       "      <td>https://cdn.sofifa.net/teams/113040/60.png</td>\n",
       "      <td>https://cdn.sofifa.net/flags/in.png</td>\n",
       "      <td>NaN</td>\n",
       "      <td>https://cdn.sofifa.net/flags/in.png</td>\n",
       "    </tr>\n",
       "  </tbody>\n",
       "</table>\n",
       "<p>19239 rows × 110 columns</p>\n",
       "</div>"
      ],
      "text/plain": [
       "       sofifa_id                                         player_url  \\\n",
       "0         158023  https://sofifa.com/player/158023/lionel-messi/...   \n",
       "1         188545  https://sofifa.com/player/188545/robert-lewand...   \n",
       "2          20801  https://sofifa.com/player/20801/c-ronaldo-dos-...   \n",
       "3         190871  https://sofifa.com/player/190871/neymar-da-sil...   \n",
       "4         192985  https://sofifa.com/player/192985/kevin-de-bruy...   \n",
       "...          ...                                                ...   \n",
       "19234     261962  https://sofifa.com/player/261962/defu-song/220002   \n",
       "19235     262040  https://sofifa.com/player/262040/caoimhin-port...   \n",
       "19236     262760  https://sofifa.com/player/262760/nathan-logue/...   \n",
       "19237     262820  https://sofifa.com/player/262820/luke-rudden/2...   \n",
       "19238     264540  https://sofifa.com/player/264540/emanuel-lalch...   \n",
       "\n",
       "               short_name                            long_name  \\\n",
       "0                L. Messi       Lionel Andrés Messi Cuccittini   \n",
       "1          R. Lewandowski                   Robert Lewandowski   \n",
       "2       Cristiano Ronaldo  Cristiano Ronaldo dos Santos Aveiro   \n",
       "3               Neymar Jr        Neymar da Silva Santos Júnior   \n",
       "4            K. De Bruyne                      Kevin De Bruyne   \n",
       "...                   ...                                  ...   \n",
       "19234           Song Defu                                  宋德福   \n",
       "19235           C. Porter                      Caoimhin Porter   \n",
       "19236            N. Logue              Nathan Logue-Cunningham   \n",
       "19237           L. Rudden                          Luke Rudden   \n",
       "19238  E. Lalchhanchhuaha              Emanuel Lalchhanchhuaha   \n",
       "\n",
       "      player_positions  overall  potential    value_eur  wage_eur  age  ...  \\\n",
       "0           RW, ST, CF       93         93   78000000.0  320000.0   34  ...   \n",
       "1                   ST       92         92  119500000.0  270000.0   32  ...   \n",
       "2               ST, LW       91         91   45000000.0  270000.0   36  ...   \n",
       "3              LW, CAM       91         91  129000000.0  270000.0   29  ...   \n",
       "4              CM, CAM       91         91  125500000.0  350000.0   30  ...   \n",
       "...                ...      ...        ...          ...       ...  ...  ...   \n",
       "19234              CDM       47         52      70000.0    1000.0   22  ...   \n",
       "19235               CM       47         59     110000.0     500.0   19  ...   \n",
       "19236               CM       47         55     100000.0     500.0   21  ...   \n",
       "19237               ST       47         60     110000.0     500.0   19  ...   \n",
       "19238              CAM       47         60     110000.0     500.0   19  ...   \n",
       "\n",
       "        lcb    cb   rcb    rb    gk  \\\n",
       "0      50+3  50+3  50+3  61+3  19+3   \n",
       "1      60+3  60+3  60+3  61+3  19+3   \n",
       "2      53+3  53+3  53+3  60+3  20+3   \n",
       "3      50+3  50+3  50+3  62+3  20+3   \n",
       "4      69+3  69+3  69+3  75+3  21+3   \n",
       "...     ...   ...   ...   ...   ...   \n",
       "19234  46+2  46+2  46+2  48+2  15+2   \n",
       "19235  44+2  44+2  44+2  48+2  14+2   \n",
       "19236  45+2  45+2  45+2  47+2  12+2   \n",
       "19237  26+2  26+2  26+2  32+2  15+2   \n",
       "19238  41+2  41+2  41+2  45+2  16+2   \n",
       "\n",
       "                                         player_face_url  \\\n",
       "0      https://cdn.sofifa.net/players/158/023/22_120.png   \n",
       "1      https://cdn.sofifa.net/players/188/545/22_120.png   \n",
       "2      https://cdn.sofifa.net/players/020/801/22_120.png   \n",
       "3      https://cdn.sofifa.net/players/190/871/22_120.png   \n",
       "4      https://cdn.sofifa.net/players/192/985/22_120.png   \n",
       "...                                                  ...   \n",
       "19234  https://cdn.sofifa.net/players/261/962/22_120.png   \n",
       "19235  https://cdn.sofifa.net/players/262/040/22_120.png   \n",
       "19236  https://cdn.sofifa.net/players/262/760/22_120.png   \n",
       "19237  https://cdn.sofifa.net/players/262/820/22_120.png   \n",
       "19238  https://cdn.sofifa.net/players/264/540/22_120.png   \n",
       "\n",
       "                                    club_logo_url  \\\n",
       "0          https://cdn.sofifa.net/teams/73/60.png   \n",
       "1          https://cdn.sofifa.net/teams/21/60.png   \n",
       "2          https://cdn.sofifa.net/teams/11/60.png   \n",
       "3          https://cdn.sofifa.net/teams/73/60.png   \n",
       "4          https://cdn.sofifa.net/teams/10/60.png   \n",
       "...                                           ...   \n",
       "19234  https://cdn.sofifa.net/teams/112541/60.png   \n",
       "19235     https://cdn.sofifa.net/teams/445/60.png   \n",
       "19236  https://cdn.sofifa.net/teams/111131/60.png   \n",
       "19237  https://cdn.sofifa.net/teams/111131/60.png   \n",
       "19238  https://cdn.sofifa.net/teams/113040/60.png   \n",
       "\n",
       "                                 club_flag_url  \\\n",
       "0          https://cdn.sofifa.net/flags/fr.png   \n",
       "1          https://cdn.sofifa.net/flags/de.png   \n",
       "2      https://cdn.sofifa.net/flags/gb-eng.png   \n",
       "3          https://cdn.sofifa.net/flags/fr.png   \n",
       "4      https://cdn.sofifa.net/flags/gb-eng.png   \n",
       "...                                        ...   \n",
       "19234      https://cdn.sofifa.net/flags/cn.png   \n",
       "19235      https://cdn.sofifa.net/flags/ie.png   \n",
       "19236      https://cdn.sofifa.net/flags/ie.png   \n",
       "19237      https://cdn.sofifa.net/flags/ie.png   \n",
       "19238      https://cdn.sofifa.net/flags/in.png   \n",
       "\n",
       "                                nation_logo_url  \\\n",
       "0      https://cdn.sofifa.net/teams/1369/60.png   \n",
       "1      https://cdn.sofifa.net/teams/1353/60.png   \n",
       "2      https://cdn.sofifa.net/teams/1354/60.png   \n",
       "3                                           NaN   \n",
       "4      https://cdn.sofifa.net/teams/1325/60.png   \n",
       "...                                         ...   \n",
       "19234                                       NaN   \n",
       "19235                                       NaN   \n",
       "19236                                       NaN   \n",
       "19237                                       NaN   \n",
       "19238                                       NaN   \n",
       "\n",
       "                           nation_flag_url  \n",
       "0      https://cdn.sofifa.net/flags/ar.png  \n",
       "1      https://cdn.sofifa.net/flags/pl.png  \n",
       "2      https://cdn.sofifa.net/flags/pt.png  \n",
       "3      https://cdn.sofifa.net/flags/br.png  \n",
       "4      https://cdn.sofifa.net/flags/be.png  \n",
       "...                                    ...  \n",
       "19234  https://cdn.sofifa.net/flags/cn.png  \n",
       "19235  https://cdn.sofifa.net/flags/ie.png  \n",
       "19236  https://cdn.sofifa.net/flags/ie.png  \n",
       "19237  https://cdn.sofifa.net/flags/ie.png  \n",
       "19238  https://cdn.sofifa.net/flags/in.png  \n",
       "\n",
       "[19239 rows x 110 columns]"
      ]
     },
     "execution_count": 6,
     "metadata": {},
     "output_type": "execute_result"
    }
   ],
   "source": [
    "df"
   ]
  },
  {
   "cell_type": "code",
   "execution_count": 14,
   "id": "6d82cbac",
   "metadata": {
    "ExecuteTime": {
     "end_time": "2022-02-26T09:50:37.363757Z",
     "start_time": "2022-02-26T09:50:37.336565Z"
    }
   },
   "outputs": [],
   "source": [
    "#funcion transformación en lista\n",
    "def lista_posicion(x):\n",
    "    return (x.replace(' ','').split(','))\n",
    "\n",
    "#transforma valores de columna player_positions en una lista\n",
    "df['player_positions']=df['player_positions'].apply(lambda x: lista_posicion(x))"
   ]
  },
  {
   "cell_type": "code",
   "execution_count": 15,
   "id": "8e789996",
   "metadata": {
    "ExecuteTime": {
     "end_time": "2022-02-26T09:50:43.615588Z",
     "start_time": "2022-02-26T09:50:43.596585Z"
    }
   },
   "outputs": [
    {
     "data": {
      "text/plain": [
       "0        [RW, ST, CF]\n",
       "1                [ST]\n",
       "2            [ST, LW]\n",
       "3           [LW, CAM]\n",
       "4           [CM, CAM]\n",
       "             ...     \n",
       "19234           [CDM]\n",
       "19235            [CM]\n",
       "19236            [CM]\n",
       "19237            [ST]\n",
       "19238           [CAM]\n",
       "Name: player_positions, Length: 19239, dtype: object"
      ]
     },
     "execution_count": 15,
     "metadata": {},
     "output_type": "execute_result"
    }
   ],
   "source": [
    "df.player_positions"
   ]
  },
  {
   "cell_type": "code",
   "execution_count": 17,
   "id": "7e865b41",
   "metadata": {
    "ExecuteTime": {
     "end_time": "2022-02-26T09:51:29.035349Z",
     "start_time": "2022-02-26T09:51:29.028347Z"
    }
   },
   "outputs": [],
   "source": [
    "#defino listas para agrupar posiciones por 4 categorias\n",
    "pos_defensas=['LCB','RCB','CB','RB','LB','RWB','LWB']\n",
    "pos_medios=['LW','LCM','RCM','CAM','RW','LDM','CDM','CM','RDM','RM','RAM','LAM','LM']\n",
    "pos_delanteros=['CF','ST','RS','LS','RF']"
   ]
  },
  {
   "cell_type": "code",
   "execution_count": 18,
   "id": "5ecc1f4f",
   "metadata": {
    "ExecuteTime": {
     "end_time": "2022-02-26T09:51:32.070707Z",
     "start_time": "2022-02-26T09:51:31.758620Z"
    }
   },
   "outputs": [],
   "source": [
    "#agrupo posiciones en posiciones genéricas    \n",
    "for i in df.index:\n",
    "            if len(df.at[i,'player_positions'])==1:\n",
    "                if df.at[i,'player_positions'][0]=='GK':\n",
    "                    df.at[i,'player_positions']='portero'\n",
    "                if df.at[i,'player_positions'][0] in pos_defensas:\n",
    "                    df.at[i,'player_positions']='defensa'\n",
    "                elif df.at[i,'player_positions'][0] in pos_medios:\n",
    "                    df.at[i,'player_positions']='centrocampista'\n",
    "                elif df.at[i,'player_positions'][0] in pos_delanteros:\n",
    "                    df.at[i,'player_positions']='delantero'\n",
    "            else:\n",
    "                if df.at[i,'player_positions'][0] in pos_defensas:\n",
    "                    df.at[i,'player_positions']='defensa'\n",
    "                elif df.at[i,'player_positions'][0] in pos_medios:\n",
    "                    df.at[i,'player_positions']='centrocampista'\n",
    "                elif df.at[i,'player_positions'][0] in pos_delanteros:\n",
    "                    df.at[i,'player_positions']='delantero'\n",
    "                elif df.at[i,'player_positions'][0]=='GK':\n",
    "                    df.at[i,'player_positions']='portero'"
   ]
  },
  {
   "cell_type": "code",
   "execution_count": 19,
   "id": "85b5f6f7",
   "metadata": {
    "ExecuteTime": {
     "end_time": "2022-02-26T09:51:51.749939Z",
     "start_time": "2022-02-26T09:51:51.729943Z"
    }
   },
   "outputs": [],
   "source": [
    "#df solo con las columnas a transformar\n",
    "posiciones=df[[\"ls\",\"st\",\"rs\",\"lw\",\"lf\",\"cf\",\"rf\",\"rw\", 'lam', 'cam', 'ram', 'lm', 'lcm', 'cm', 'rcm', 'rm', 'ldm', 'cdm', 'rdm',\n",
    "     'lwb', 'rwb', 'lb', 'lcb', 'cb', 'rcb', 'rb',\"gk\"]]"
   ]
  },
  {
   "cell_type": "code",
   "execution_count": 21,
   "id": "0f3a413b",
   "metadata": {
    "ExecuteTime": {
     "end_time": "2022-02-26T09:52:15.913276Z",
     "start_time": "2022-02-26T09:52:15.906278Z"
    }
   },
   "outputs": [],
   "source": [
    "#funcion para limpiar valores\n",
    "def limp_posiciones(x):\n",
    "    x.replace(\"+\",\" \")\n",
    "    return x.split(\" \")[0]\n"
   ]
  },
  {
   "cell_type": "code",
   "execution_count": 22,
   "id": "b3f0a499",
   "metadata": {
    "ExecuteTime": {
     "end_time": "2022-02-26T09:52:16.245171Z",
     "start_time": "2022-02-26T09:52:16.093126Z"
    }
   },
   "outputs": [],
   "source": [
    "#limpiar en df\n",
    "for i in posiciones.columns:\n",
    "    df[i]=df[i].astype(str)\n",
    "    df[i]=df[i].apply(limp_posiciones)"
   ]
  },
  {
   "cell_type": "code",
   "execution_count": 29,
   "id": "88fbc6fb",
   "metadata": {
    "ExecuteTime": {
     "end_time": "2022-02-26T09:54:07.876466Z",
     "start_time": "2022-02-26T09:54:07.856460Z"
    }
   },
   "outputs": [],
   "source": [
    "#Transformar por nation_position por 0 y 1:\n",
    "df['nation_position'] = df['nation_position'].replace(np.nan, 0)\n",
    "df['nation_position'] = df['nation_position'].apply(lambda x: 0 if x==0 else 1)"
   ]
  },
  {
   "cell_type": "code",
   "execution_count": 31,
   "id": "4f60900d",
   "metadata": {
    "ExecuteTime": {
     "end_time": "2022-02-26T09:54:48.491327Z",
     "start_time": "2022-02-26T09:54:48.484331Z"
    },
    "scrolled": true
   },
   "outputs": [],
   "source": [
    "df['gk'] =df['gk'].replace(\"+\",\"\")"
   ]
  },
  {
   "cell_type": "code",
   "execution_count": 32,
   "id": "6481a55c",
   "metadata": {
    "ExecuteTime": {
     "end_time": "2022-02-26T09:54:49.679333Z",
     "start_time": "2022-02-26T09:54:49.648531Z"
    }
   },
   "outputs": [],
   "source": [
    "df['gk'] = df['gk'].str.replace(r'\\+', '', regex=True)"
   ]
  },
  {
   "cell_type": "code",
   "execution_count": 33,
   "id": "7e139f03",
   "metadata": {
    "ExecuteTime": {
     "end_time": "2022-02-26T09:55:01.684358Z",
     "start_time": "2022-02-26T09:55:01.665857Z"
    }
   },
   "outputs": [],
   "source": [
    "df.gk.fillna(0,inplace=True)\n",
    "df['gk']=df.gk.astype(int)"
   ]
  },
  {
   "cell_type": "code",
   "execution_count": 34,
   "id": "8f5eaace",
   "metadata": {
    "ExecuteTime": {
     "end_time": "2022-02-26T09:55:32.441815Z",
     "start_time": "2022-02-26T09:55:32.412871Z"
    }
   },
   "outputs": [],
   "source": [
    "#reemplazo valor nan = 0\n",
    "df[['goalkeeping_speed','player_traits','club_team_id','club_jersey_number',\n",
    "   'club_contract_valid_until', 'value_eur','wage_eur','pace','shooting',\n",
    "   'passing','dribbling','defending','club_joined','physic','shooting',\n",
    "  'league_level','mentality_composure','club_joined']] = df[['goalkeeping_speed','player_traits','club_team_id','club_jersey_number',\n",
    "   'club_contract_valid_until', 'value_eur','wage_eur','pace','shooting',\n",
    "   'passing','dribbling','defending','club_joined','physic','shooting',\n",
    "  'league_level','mentality_composure','club_joined']].replace(np.nan, 0)"
   ]
  },
  {
   "cell_type": "code",
   "execution_count": 35,
   "id": "b3003a00",
   "metadata": {
    "ExecuteTime": {
     "end_time": "2022-02-26T09:55:40.277777Z",
     "start_time": "2022-02-26T09:55:40.258778Z"
    }
   },
   "outputs": [],
   "source": [
    "#Replace NaNs por Jugador libre\n",
    "df[['club_name','league_name']] = df[['club_name','league_name']].replace(np.nan, \"jugador_libre\")"
   ]
  },
  {
   "cell_type": "code",
   "execution_count": 42,
   "id": "2ba185d7",
   "metadata": {
    "ExecuteTime": {
     "end_time": "2022-02-26T09:58:52.158990Z",
     "start_time": "2022-02-26T09:58:52.142008Z"
    }
   },
   "outputs": [],
   "source": [
    "selected_feat=['overall', 'potential', 'value_eur', 'age', 'height_cm', 'weight_kg',\n",
    "       'physic', 'attacking_crossing', 'attacking_finishing',\n",
    "       'attacking_heading_accuracy', 'attacking_short_passing',\n",
    "       'attacking_volleys', 'skill_dribbling', 'skill_curve',\n",
    "       'skill_fk_accuracy', 'skill_long_passing', 'skill_ball_control',\n",
    "       'movement_acceleration', 'movement_sprint_speed', 'movement_agility',\n",
    "       'movement_reactions', 'movement_balance', 'power_shot_power',\n",
    "       'power_jumping', 'power_stamina', 'power_strength', 'power_long_shots',\n",
    "       'mentality_aggression', 'mentality_interceptions',\n",
    "       'mentality_positioning', 'mentality_vision', 'mentality_penalties',\n",
    "       'mentality_composure', 'defending_marking_awareness',\n",
    "       'defending_standing_tackle', 'defending_sliding_tackle',\n",
    "       'goalkeeping_diving', 'goalkeeping_handling', 'goalkeeping_kicking',\n",
    "       'goalkeeping_positioning', 'goalkeeping_reflexes']"
   ]
  },
  {
   "cell_type": "code",
   "execution_count": 44,
   "id": "f5e008e2",
   "metadata": {
    "ExecuteTime": {
     "end_time": "2022-02-26T09:58:58.347415Z",
     "start_time": "2022-02-26T09:58:58.338410Z"
    }
   },
   "outputs": [],
   "source": [
    "X=df[selected_feat]"
   ]
  },
  {
   "cell_type": "code",
   "execution_count": 49,
   "id": "6ed1775a",
   "metadata": {
    "ExecuteTime": {
     "end_time": "2022-02-26T10:07:30.092489Z",
     "start_time": "2022-02-26T10:07:29.876489Z"
    },
    "scrolled": true
   },
   "outputs": [],
   "source": [
    "cracks=modelo.predict(X)"
   ]
  },
  {
   "cell_type": "code",
   "execution_count": 50,
   "id": "2c131905",
   "metadata": {
    "ExecuteTime": {
     "end_time": "2022-02-26T10:07:41.563486Z",
     "start_time": "2022-02-26T10:07:41.548507Z"
    }
   },
   "outputs": [],
   "source": [
    "df[\"cracks\"]=cracks"
   ]
  },
  {
   "cell_type": "markdown",
   "id": "0731f3e7",
   "metadata": {},
   "source": [
    "## Los jugadores que van a mejorar"
   ]
  },
  {
   "cell_type": "code",
   "execution_count": 54,
   "id": "20437c1d",
   "metadata": {
    "ExecuteTime": {
     "end_time": "2022-02-26T10:09:53.298883Z",
     "start_time": "2022-02-26T10:09:53.276879Z"
    },
    "scrolled": false
   },
   "outputs": [
    {
     "data": {
      "text/html": [
       "<div>\n",
       "<style scoped>\n",
       "    .dataframe tbody tr th:only-of-type {\n",
       "        vertical-align: middle;\n",
       "    }\n",
       "\n",
       "    .dataframe tbody tr th {\n",
       "        vertical-align: top;\n",
       "    }\n",
       "\n",
       "    .dataframe thead th {\n",
       "        text-align: right;\n",
       "    }\n",
       "</style>\n",
       "<table border=\"1\" class=\"dataframe\">\n",
       "  <thead>\n",
       "    <tr style=\"text-align: right;\">\n",
       "      <th></th>\n",
       "      <th>short_name</th>\n",
       "      <th>age</th>\n",
       "      <th>player_positions</th>\n",
       "      <th>overall</th>\n",
       "      <th>value_eur</th>\n",
       "      <th>club_name</th>\n",
       "    </tr>\n",
       "  </thead>\n",
       "  <tbody>\n",
       "    <tr>\n",
       "      <th>16661</th>\n",
       "      <td>O. Cooper</td>\n",
       "      <td>21</td>\n",
       "      <td>centrocampista</td>\n",
       "      <td>58</td>\n",
       "      <td>500000.0</td>\n",
       "      <td>Newport County</td>\n",
       "    </tr>\n",
       "    <tr>\n",
       "      <th>16806</th>\n",
       "      <td>D. Svensson</td>\n",
       "      <td>19</td>\n",
       "      <td>defensa</td>\n",
       "      <td>58</td>\n",
       "      <td>475000.0</td>\n",
       "      <td>FC Nordsjælland</td>\n",
       "    </tr>\n",
       "    <tr>\n",
       "      <th>16860</th>\n",
       "      <td>M. Sánchez</td>\n",
       "      <td>19</td>\n",
       "      <td>delantero</td>\n",
       "      <td>58</td>\n",
       "      <td>525000.0</td>\n",
       "      <td>CD Antofagasta</td>\n",
       "    </tr>\n",
       "    <tr>\n",
       "      <th>16950</th>\n",
       "      <td>S. Cissé</td>\n",
       "      <td>22</td>\n",
       "      <td>defensa</td>\n",
       "      <td>58</td>\n",
       "      <td>300000.0</td>\n",
       "      <td>US Quevilly Rouen Métropole</td>\n",
       "    </tr>\n",
       "    <tr>\n",
       "      <th>17228</th>\n",
       "      <td>A. Simsir</td>\n",
       "      <td>19</td>\n",
       "      <td>centrocampista</td>\n",
       "      <td>57</td>\n",
       "      <td>425000.0</td>\n",
       "      <td>FC Midtjylland</td>\n",
       "    </tr>\n",
       "    <tr>\n",
       "      <th>...</th>\n",
       "      <td>...</td>\n",
       "      <td>...</td>\n",
       "      <td>...</td>\n",
       "      <td>...</td>\n",
       "      <td>...</td>\n",
       "      <td>...</td>\n",
       "    </tr>\n",
       "    <tr>\n",
       "      <th>19189</th>\n",
       "      <td>Ruan Zhexiang</td>\n",
       "      <td>24</td>\n",
       "      <td>centrocampista</td>\n",
       "      <td>48</td>\n",
       "      <td>70000.0</td>\n",
       "      <td>Qingdao FC</td>\n",
       "    </tr>\n",
       "    <tr>\n",
       "      <th>19197</th>\n",
       "      <td>J. Neal</td>\n",
       "      <td>17</td>\n",
       "      <td>defensa</td>\n",
       "      <td>48</td>\n",
       "      <td>140000.0</td>\n",
       "      <td>LA Galaxy</td>\n",
       "    </tr>\n",
       "    <tr>\n",
       "      <th>19217</th>\n",
       "      <td>J. Affonso</td>\n",
       "      <td>23</td>\n",
       "      <td>centrocampista</td>\n",
       "      <td>48</td>\n",
       "      <td>90000.0</td>\n",
       "      <td>Cerro Largo Fútbol Club</td>\n",
       "    </tr>\n",
       "    <tr>\n",
       "      <th>19224</th>\n",
       "      <td>Hu Xingyu</td>\n",
       "      <td>19</td>\n",
       "      <td>centrocampista</td>\n",
       "      <td>47</td>\n",
       "      <td>100000.0</td>\n",
       "      <td>Chongqing Liangjiang Athletic</td>\n",
       "    </tr>\n",
       "    <tr>\n",
       "      <th>19234</th>\n",
       "      <td>Song Defu</td>\n",
       "      <td>22</td>\n",
       "      <td>centrocampista</td>\n",
       "      <td>47</td>\n",
       "      <td>70000.0</td>\n",
       "      <td>Wuhan FC</td>\n",
       "    </tr>\n",
       "  </tbody>\n",
       "</table>\n",
       "<p>191 rows × 6 columns</p>\n",
       "</div>"
      ],
      "text/plain": [
       "          short_name  age player_positions  overall  value_eur  \\\n",
       "16661      O. Cooper   21   centrocampista       58   500000.0   \n",
       "16806    D. Svensson   19          defensa       58   475000.0   \n",
       "16860     M. Sánchez   19        delantero       58   525000.0   \n",
       "16950       S. Cissé   22          defensa       58   300000.0   \n",
       "17228      A. Simsir   19   centrocampista       57   425000.0   \n",
       "...              ...  ...              ...      ...        ...   \n",
       "19189  Ruan Zhexiang   24   centrocampista       48    70000.0   \n",
       "19197        J. Neal   17          defensa       48   140000.0   \n",
       "19217     J. Affonso   23   centrocampista       48    90000.0   \n",
       "19224      Hu Xingyu   19   centrocampista       47   100000.0   \n",
       "19234      Song Defu   22   centrocampista       47    70000.0   \n",
       "\n",
       "                           club_name  \n",
       "16661                 Newport County  \n",
       "16806                FC Nordsjælland  \n",
       "16860                 CD Antofagasta  \n",
       "16950    US Quevilly Rouen Métropole  \n",
       "17228                 FC Midtjylland  \n",
       "...                              ...  \n",
       "19189                     Qingdao FC  \n",
       "19197                      LA Galaxy  \n",
       "19217        Cerro Largo Fútbol Club  \n",
       "19224  Chongqing Liangjiang Athletic  \n",
       "19234                       Wuhan FC  \n",
       "\n",
       "[191 rows x 6 columns]"
      ]
     },
     "execution_count": 54,
     "metadata": {},
     "output_type": "execute_result"
    }
   ],
   "source": [
    "df[df[\"cracks\"]==1][[\"short_name\",\"age\",\"player_positions\",\"overall\",\"value_eur\",\"club_name\"]]"
   ]
  }
 ],
 "metadata": {
  "kernelspec": {
   "display_name": "Python 3",
   "language": "python",
   "name": "python3"
  },
  "language_info": {
   "codemirror_mode": {
    "name": "ipython",
    "version": 3
   },
   "file_extension": ".py",
   "mimetype": "text/x-python",
   "name": "python",
   "nbconvert_exporter": "python",
   "pygments_lexer": "ipython3",
   "version": "3.8.8"
  },
  "toc": {
   "base_numbering": 1,
   "nav_menu": {},
   "number_sections": true,
   "sideBar": true,
   "skip_h1_title": false,
   "title_cell": "Table of Contents",
   "title_sidebar": "Contents",
   "toc_cell": false,
   "toc_position": {},
   "toc_section_display": true,
   "toc_window_display": false
  },
  "varInspector": {
   "cols": {
    "lenName": 16,
    "lenType": 16,
    "lenVar": 40
   },
   "kernels_config": {
    "python": {
     "delete_cmd_postfix": "",
     "delete_cmd_prefix": "del ",
     "library": "var_list.py",
     "varRefreshCmd": "print(var_dic_list())"
    },
    "r": {
     "delete_cmd_postfix": ") ",
     "delete_cmd_prefix": "rm(",
     "library": "var_list.r",
     "varRefreshCmd": "cat(var_dic_list()) "
    }
   },
   "types_to_exclude": [
    "module",
    "function",
    "builtin_function_or_method",
    "instance",
    "_Feature"
   ],
   "window_display": false
  }
 },
 "nbformat": 4,
 "nbformat_minor": 5
}
