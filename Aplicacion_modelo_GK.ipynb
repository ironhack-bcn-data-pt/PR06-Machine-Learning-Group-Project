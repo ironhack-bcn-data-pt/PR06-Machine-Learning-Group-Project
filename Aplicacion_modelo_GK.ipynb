{
 "cells": [
  {
   "cell_type": "code",
   "execution_count": 38,
   "id": "760a3d27",
   "metadata": {},
   "outputs": [],
   "source": [
    "import pickle\n",
    "import pandas as pd\n",
    "import seaborn as sns\n",
    "import numpy as np\n",
    "import matplotlib.pyplot as plt"
   ]
  },
  {
   "cell_type": "code",
   "execution_count": 39,
   "id": "837dcc3d",
   "metadata": {},
   "outputs": [
    {
     "name": "stderr",
     "output_type": "stream",
     "text": [
      "C:\\Users\\carlo\\anaconda3\\lib\\site-packages\\IPython\\core\\interactiveshell.py:3165: DtypeWarning: Columns (25,108) have mixed types.Specify dtype option on import or set low_memory=False.\n",
      "  has_raised = await self.run_ast_nodes(code_ast.body, cell_name,\n"
     ]
    }
   ],
   "source": [
    "#importación dataset\n",
    "df22=pd.read_csv('../data/players_22.csv')\n"
   ]
  },
  {
   "cell_type": "markdown",
   "id": "deb5c8bc",
   "metadata": {},
   "source": [
    "## Limpieza datos"
   ]
  },
  {
   "cell_type": "code",
   "execution_count": 40,
   "id": "42be1721",
   "metadata": {},
   "outputs": [],
   "source": [
    "#eliminamos columnas de url que no aportan información\n",
    "df22 = df22[df22.columns.drop(df22.filter(regex='url').columns)]"
   ]
  },
  {
   "cell_type": "code",
   "execution_count": 41,
   "id": "b80cb5e9",
   "metadata": {},
   "outputs": [],
   "source": [
    "#funcion transformación en lista\n",
    "def lista_posicion(x):\n",
    "    return (x.replace(' ','').split(','))"
   ]
  },
  {
   "cell_type": "code",
   "execution_count": 42,
   "id": "ca6e49ac",
   "metadata": {},
   "outputs": [],
   "source": [
    "#transforma valores de columna player_positions en una lista\n",
    "df22['player_positions']=df22['player_positions'].apply(lambda x: lista_posicion(x))"
   ]
  },
  {
   "cell_type": "code",
   "execution_count": 43,
   "id": "a02c3a10",
   "metadata": {},
   "outputs": [],
   "source": [
    "#defino listas para agrupar posiciones por 4 categorias\n",
    "pos_defensas=['LCB','RCB','CB','RB','LB','RWB','LWB']\n",
    "pos_medios=['LW','LCM','RCM','CAM','RW','LDM','CDM','CM','RDM','RM','RAM','LAM','LM']\n",
    "pos_delanteros=['CF','ST','RS','LS','RF']"
   ]
  },
  {
   "cell_type": "code",
   "execution_count": 44,
   "id": "6902b0be",
   "metadata": {},
   "outputs": [],
   "source": [
    "#agrupo posiciones en posiciones genéricas    \n",
    "for i in df22.index:\n",
    "            if len(df22.at[i,'player_positions'])==1:\n",
    "                if df22.at[i,'player_positions'][0]=='GK':\n",
    "                    df22.at[i,'player_positions']='portero'\n",
    "                if df22.at[i,'player_positions'][0] in pos_defensas:\n",
    "                    df22.at[i,'player_positions']='defensa'\n",
    "                elif df22.at[i,'player_positions'][0] in pos_medios:\n",
    "                    df22.at[i,'player_positions']='centrocampista'\n",
    "                elif df22.at[i,'player_positions'][0] in pos_delanteros:\n",
    "                    df22.at[i,'player_positions']='delantero'\n",
    "            else:\n",
    "                if df22.at[i,'player_positions'][0] in pos_defensas:\n",
    "                    df22.at[i,'player_positions']='defensa'\n",
    "                elif df22.at[i,'player_positions'][0] in pos_medios:\n",
    "                    df22.at[i,'player_positions']='centrocampista'\n",
    "                elif df22.at[i,'player_positions'][0] in pos_delanteros:\n",
    "                    df22.at[i,'player_positions']='delantero'\n",
    "                elif df22.at[i,'player_positions'][0]=='GK':\n",
    "                    df22.at[i,'player_positions']='portero'"
   ]
  },
  {
   "cell_type": "code",
   "execution_count": 45,
   "id": "d9885e2e",
   "metadata": {},
   "outputs": [],
   "source": [
    "#filtramos dataset \n",
    "df22=df22[df22['player_positions']=='portero']"
   ]
  },
  {
   "cell_type": "code",
   "execution_count": 46,
   "id": "291a5d84",
   "metadata": {},
   "outputs": [],
   "source": [
    "#Agrupa por Equipo y año versión(temporada) y añade el total en cada jugador\n",
    "df22['overall_team/year'] = df22.groupby('club_team_id')['overall'].transform('sum')"
   ]
  },
  {
   "cell_type": "code",
   "execution_count": 47,
   "id": "ed26a8c2",
   "metadata": {},
   "outputs": [],
   "source": [
    "#Crea columna nº de equipos por liga/año\n",
    "df22['teams_in_league/year'] = df22.groupby('league_name')['club_team_id'].transform('nunique')"
   ]
  },
  {
   "cell_type": "code",
   "execution_count": 48,
   "id": "e0675684",
   "metadata": {},
   "outputs": [],
   "source": [
    "#Crea columna media liga/año\n",
    "df22['mean_league/year'] = df22.groupby('league_name')['overall'].transform('mean')"
   ]
  },
  {
   "cell_type": "code",
   "execution_count": 49,
   "id": "ff49bfc9",
   "metadata": {},
   "outputs": [],
   "source": [
    "#Crea columna media equipo/año\n",
    "df22['mean_team/year'] = df22.groupby('club_team_id')['overall'].transform('mean')"
   ]
  },
  {
   "cell_type": "code",
   "execution_count": 50,
   "id": "dd9e94e8",
   "metadata": {},
   "outputs": [],
   "source": [
    "#df solo con las columnas a transformar\n",
    "posiciones=df22[[\"ls\",\"st\",\"rs\",\"lw\",\"lf\",\"cf\",\"rf\",\"rw\", 'lam', 'cam', 'ram', 'lm', 'lcm', 'cm', 'rcm', 'rm', 'ldm', 'cdm', 'rdm',\n",
    "     'lwb', 'rwb', 'lb', 'lcb', 'cb', 'rcb', 'rb',\"gk\"]]"
   ]
  },
  {
   "cell_type": "code",
   "execution_count": 51,
   "id": "ecf985bd",
   "metadata": {},
   "outputs": [],
   "source": [
    "#funcion para limpiar valores\n",
    "def limp_posiciones(x):\n",
    "    x.replace(\"+\",\" \")\n",
    "    return x.split(\" \")[0]"
   ]
  },
  {
   "cell_type": "code",
   "execution_count": 52,
   "id": "f919bfa1",
   "metadata": {},
   "outputs": [],
   "source": [
    "#limpiar en df\n",
    "for i in posiciones.columns:\n",
    "    df22[i]=df22[i].astype(str)\n",
    "    df22[i]=df22[i].apply(limp_posiciones)"
   ]
  },
  {
   "cell_type": "code",
   "execution_count": 53,
   "id": "4ab0a0a5",
   "metadata": {},
   "outputs": [],
   "source": [
    "df22['lf'] = df22['lf'].str.replace(r'\\+', ' ', regex=True)\n",
    "df22['cf'] = df22['cf'].str.replace(r'\\+', ' ', regex=True)\n",
    "df22['rf'] = df22['rf'].str.replace(r'\\+', ' ', regex=True)\n",
    "df22['lam'] = df22['lam'].str.replace(r'\\+', ' ', regex=True)\n",
    "df22['ram'] = df22['ram'].str.replace(r'\\+', ' ', regex=True)\n",
    "df22['lm'] = df22['lm'].str.replace(r'\\+', ' ', regex=True)\n",
    "df22['rm'] = df22['rm'].str.replace(r'\\+', ' ', regex=True)\n",
    "df22['cam'] = df22['cam'].str.replace(r'\\+', ' ', regex=True)\n",
    "df22['rs'] = df22['rs'].str.replace(r'\\+', ' ', regex=True)\n",
    "df22['gk'] = df22['gk'].str.replace(r'\\+', ' ', regex=True)\n",
    "\n",
    "df22['lf'] = df22['lf'].str.replace(r'\\-', ' ', regex=True)\n",
    "df22['cf'] = df22['cf'].str.replace(r'\\-', ' ', regex=True)\n",
    "df22['rf'] = df22['rf'].str.replace(r'\\-', ' ', regex=True)\n",
    "df22['lam'] = df22['lam'].str.replace(r'\\-', ' ', regex=True)\n",
    "df22['ram'] = df22['ram'].str.replace(r'\\-', ' ', regex=True)\n",
    "df22['lm'] = df22['lm'].str.replace(r'\\-', ' ', regex=True)\n",
    "df22['rm'] = df22['rm'].str.replace(r'\\-', ' ', regex=True)\n",
    "df22['cam'] = df22['cam'].str.replace(r'\\-', ' ', regex=True)\n",
    "df22['gk'] = df22['gk'].str.replace(r'\\-', ' ', regex=True)"
   ]
  },
  {
   "cell_type": "code",
   "execution_count": 54,
   "id": "1e71b80b",
   "metadata": {},
   "outputs": [],
   "source": [
    "#funcion para limpiar valores\n",
    "def limp_posiciones(x):\n",
    "    return x.split(\" \")[0]"
   ]
  },
  {
   "cell_type": "code",
   "execution_count": 55,
   "id": "e521b506",
   "metadata": {},
   "outputs": [],
   "source": [
    "for i in ['lf','cf','rf','rs','lam','ram','cam','lm','rm','gk']:\n",
    "    df22[i]=df22[i].astype(str)\n",
    "    df22[i]=df22[i].apply(limp_posiciones)"
   ]
  },
  {
   "cell_type": "code",
   "execution_count": 56,
   "id": "c054a41c",
   "metadata": {},
   "outputs": [
    {
     "data": {
      "text/html": [
       "<div>\n",
       "<style scoped>\n",
       "    .dataframe tbody tr th:only-of-type {\n",
       "        vertical-align: middle;\n",
       "    }\n",
       "\n",
       "    .dataframe tbody tr th {\n",
       "        vertical-align: top;\n",
       "    }\n",
       "\n",
       "    .dataframe thead th {\n",
       "        text-align: right;\n",
       "    }\n",
       "</style>\n",
       "<table border=\"1\" class=\"dataframe\">\n",
       "  <thead>\n",
       "    <tr style=\"text-align: right;\">\n",
       "      <th></th>\n",
       "      <th>lf</th>\n",
       "      <th>cf</th>\n",
       "      <th>rf</th>\n",
       "      <th>rs</th>\n",
       "      <th>lam</th>\n",
       "      <th>ram</th>\n",
       "      <th>cam</th>\n",
       "      <th>lm</th>\n",
       "      <th>rm</th>\n",
       "      <th>gk</th>\n",
       "    </tr>\n",
       "  </thead>\n",
       "  <tbody>\n",
       "    <tr>\n",
       "      <th>5</th>\n",
       "      <td>35</td>\n",
       "      <td>35</td>\n",
       "      <td>35</td>\n",
       "      <td>33</td>\n",
       "      <td>38</td>\n",
       "      <td>38</td>\n",
       "      <td>38</td>\n",
       "      <td>35</td>\n",
       "      <td>35</td>\n",
       "      <td>89</td>\n",
       "    </tr>\n",
       "    <tr>\n",
       "      <th>7</th>\n",
       "      <td>43</td>\n",
       "      <td>43</td>\n",
       "      <td>43</td>\n",
       "      <td>40</td>\n",
       "      <td>47</td>\n",
       "      <td>47</td>\n",
       "      <td>47</td>\n",
       "      <td>44</td>\n",
       "      <td>44</td>\n",
       "      <td>88</td>\n",
       "    </tr>\n",
       "    <tr>\n",
       "      <th>8</th>\n",
       "      <td>38</td>\n",
       "      <td>38</td>\n",
       "      <td>38</td>\n",
       "      <td>35</td>\n",
       "      <td>42</td>\n",
       "      <td>42</td>\n",
       "      <td>42</td>\n",
       "      <td>39</td>\n",
       "      <td>39</td>\n",
       "      <td>88</td>\n",
       "    </tr>\n",
       "    <tr>\n",
       "      <th>12</th>\n",
       "      <td>31</td>\n",
       "      <td>31</td>\n",
       "      <td>31</td>\n",
       "      <td>31</td>\n",
       "      <td>32</td>\n",
       "      <td>32</td>\n",
       "      <td>32</td>\n",
       "      <td>31</td>\n",
       "      <td>31</td>\n",
       "      <td>86</td>\n",
       "    </tr>\n",
       "    <tr>\n",
       "      <th>18</th>\n",
       "      <td>43</td>\n",
       "      <td>43</td>\n",
       "      <td>43</td>\n",
       "      <td>40</td>\n",
       "      <td>47</td>\n",
       "      <td>47</td>\n",
       "      <td>47</td>\n",
       "      <td>44</td>\n",
       "      <td>44</td>\n",
       "      <td>87</td>\n",
       "    </tr>\n",
       "    <tr>\n",
       "      <th>...</th>\n",
       "      <td>...</td>\n",
       "      <td>...</td>\n",
       "      <td>...</td>\n",
       "      <td>...</td>\n",
       "      <td>...</td>\n",
       "      <td>...</td>\n",
       "      <td>...</td>\n",
       "      <td>...</td>\n",
       "      <td>...</td>\n",
       "      <td>...</td>\n",
       "    </tr>\n",
       "    <tr>\n",
       "      <th>19210</th>\n",
       "      <td>17</td>\n",
       "      <td>17</td>\n",
       "      <td>17</td>\n",
       "      <td>19</td>\n",
       "      <td>17</td>\n",
       "      <td>17</td>\n",
       "      <td>17</td>\n",
       "      <td>16</td>\n",
       "      <td>16</td>\n",
       "      <td>47</td>\n",
       "    </tr>\n",
       "    <tr>\n",
       "      <th>19216</th>\n",
       "      <td>18</td>\n",
       "      <td>18</td>\n",
       "      <td>18</td>\n",
       "      <td>18</td>\n",
       "      <td>19</td>\n",
       "      <td>19</td>\n",
       "      <td>19</td>\n",
       "      <td>19</td>\n",
       "      <td>19</td>\n",
       "      <td>47</td>\n",
       "    </tr>\n",
       "    <tr>\n",
       "      <th>19225</th>\n",
       "      <td>19</td>\n",
       "      <td>19</td>\n",
       "      <td>19</td>\n",
       "      <td>19</td>\n",
       "      <td>20</td>\n",
       "      <td>20</td>\n",
       "      <td>20</td>\n",
       "      <td>19</td>\n",
       "      <td>19</td>\n",
       "      <td>46</td>\n",
       "    </tr>\n",
       "    <tr>\n",
       "      <th>19227</th>\n",
       "      <td>17</td>\n",
       "      <td>17</td>\n",
       "      <td>17</td>\n",
       "      <td>17</td>\n",
       "      <td>18</td>\n",
       "      <td>18</td>\n",
       "      <td>18</td>\n",
       "      <td>18</td>\n",
       "      <td>18</td>\n",
       "      <td>46</td>\n",
       "    </tr>\n",
       "    <tr>\n",
       "      <th>19231</th>\n",
       "      <td>18</td>\n",
       "      <td>18</td>\n",
       "      <td>18</td>\n",
       "      <td>17</td>\n",
       "      <td>20</td>\n",
       "      <td>20</td>\n",
       "      <td>20</td>\n",
       "      <td>18</td>\n",
       "      <td>18</td>\n",
       "      <td>46</td>\n",
       "    </tr>\n",
       "  </tbody>\n",
       "</table>\n",
       "<p>2132 rows × 10 columns</p>\n",
       "</div>"
      ],
      "text/plain": [
       "       lf  cf  rf  rs lam ram cam  lm  rm  gk\n",
       "5      35  35  35  33  38  38  38  35  35  89\n",
       "7      43  43  43  40  47  47  47  44  44  88\n",
       "8      38  38  38  35  42  42  42  39  39  88\n",
       "12     31  31  31  31  32  32  32  31  31  86\n",
       "18     43  43  43  40  47  47  47  44  44  87\n",
       "...    ..  ..  ..  ..  ..  ..  ..  ..  ..  ..\n",
       "19210  17  17  17  19  17  17  17  16  16  47\n",
       "19216  18  18  18  18  19  19  19  19  19  47\n",
       "19225  19  19  19  19  20  20  20  19  19  46\n",
       "19227  17  17  17  17  18  18  18  18  18  46\n",
       "19231  18  18  18  17  20  20  20  18  18  46\n",
       "\n",
       "[2132 rows x 10 columns]"
      ]
     },
     "execution_count": 56,
     "metadata": {},
     "output_type": "execute_result"
    }
   ],
   "source": [
    "df22[['lf','cf','rf','rs','lam','ram','cam','lm','rm','gk']]"
   ]
  },
  {
   "cell_type": "markdown",
   "id": "5bb3580b",
   "metadata": {},
   "source": [
    "## Definir X"
   ]
  },
  {
   "cell_type": "code",
   "execution_count": 57,
   "id": "cf6ea5cd",
   "metadata": {},
   "outputs": [],
   "source": [
    "#Variables a usar (según notebook de modelo):\n",
    "variables=['overall',\n",
    " 'value_eur',\n",
    " 'wage_eur',\n",
    " 'age',\n",
    " 'height_cm',\n",
    " 'weight_kg',\n",
    " 'attacking_short_passing',\n",
    " 'attacking_volleys',\n",
    " 'skill_curve',\n",
    " 'skill_fk_accuracy',\n",
    " 'skill_long_passing',\n",
    " 'skill_ball_control',\n",
    " 'movement_acceleration',\n",
    " 'movement_sprint_speed',\n",
    " 'movement_agility',\n",
    " 'movement_reactions',\n",
    " 'movement_balance',\n",
    " 'power_shot_power',\n",
    " 'power_jumping',\n",
    " 'power_stamina',\n",
    " 'power_strength',\n",
    " 'power_long_shots',\n",
    " 'mentality_aggression',\n",
    " 'mentality_interceptions',\n",
    " 'mentality_vision',\n",
    " 'mentality_penalties',\n",
    " 'mentality_composure',\n",
    " 'defending_marking_awareness',\n",
    " 'goalkeeping_kicking',\n",
    " 'gk',\n",
    " 'overall_team/year',\n",
    " 'teams_in_league/year',\n",
    " 'mean_league/year']"
   ]
  },
  {
   "cell_type": "code",
   "execution_count": 58,
   "id": "831634e8",
   "metadata": {},
   "outputs": [],
   "source": [
    "X22=df22[variables]"
   ]
  },
  {
   "cell_type": "code",
   "execution_count": 59,
   "id": "6bf838f6",
   "metadata": {},
   "outputs": [
    {
     "name": "stderr",
     "output_type": "stream",
     "text": [
      "C:\\Users\\carlo\\anaconda3\\lib\\site-packages\\pandas\\core\\frame.py:4462: SettingWithCopyWarning: \n",
      "A value is trying to be set on a copy of a slice from a DataFrame\n",
      "\n",
      "See the caveats in the documentation: https://pandas.pydata.org/pandas-docs/stable/user_guide/indexing.html#returning-a-view-versus-a-copy\n",
      "  return super().fillna(\n"
     ]
    }
   ],
   "source": [
    "#llenar valor nulos de forma preventiva\n",
    "X22.fillna(0,inplace=True)"
   ]
  },
  {
   "cell_type": "code",
   "execution_count": 70,
   "id": "b1b74550",
   "metadata": {},
   "outputs": [
    {
     "name": "stderr",
     "output_type": "stream",
     "text": [
      "<ipython-input-70-01dbb10a3d63>:2: SettingWithCopyWarning: \n",
      "A value is trying to be set on a copy of a slice from a DataFrame.\n",
      "Try using .loc[row_indexer,col_indexer] = value instead\n",
      "\n",
      "See the caveats in the documentation: https://pandas.pydata.org/pandas-docs/stable/user_guide/indexing.html#returning-a-view-versus-a-copy\n",
      "  X22['gk']=X22.gk.astype(int)\n"
     ]
    }
   ],
   "source": [
    "#transformar datos a numérico\n",
    "X22['gk']=X22.gk.astype(int)"
   ]
  },
  {
   "cell_type": "markdown",
   "id": "5d6f0a90",
   "metadata": {},
   "source": [
    "## aplicar modelo"
   ]
  },
  {
   "cell_type": "code",
   "execution_count": 72,
   "id": "30493b62",
   "metadata": {},
   "outputs": [],
   "source": [
    "with open('../models/model_GK.pkl','rb') as f:\n",
    "    super_modelo=pickle.load(f)"
   ]
  },
  {
   "cell_type": "code",
   "execution_count": 74,
   "id": "2047facd",
   "metadata": {},
   "outputs": [],
   "source": [
    "y_pred=super_modelo.predict(X22)"
   ]
  },
  {
   "cell_type": "code",
   "execution_count": 75,
   "id": "da101715",
   "metadata": {},
   "outputs": [],
   "source": [
    "ind_list=X22[y_pred==1].index.to_list()"
   ]
  },
  {
   "cell_type": "code",
   "execution_count": 76,
   "id": "4328aee8",
   "metadata": {},
   "outputs": [
    {
     "data": {
      "text/html": [
       "<div>\n",
       "<style scoped>\n",
       "    .dataframe tbody tr th:only-of-type {\n",
       "        vertical-align: middle;\n",
       "    }\n",
       "\n",
       "    .dataframe tbody tr th {\n",
       "        vertical-align: top;\n",
       "    }\n",
       "\n",
       "    .dataframe thead th {\n",
       "        text-align: right;\n",
       "    }\n",
       "</style>\n",
       "<table border=\"1\" class=\"dataframe\">\n",
       "  <thead>\n",
       "    <tr style=\"text-align: right;\">\n",
       "      <th></th>\n",
       "      <th>sofifa_id</th>\n",
       "      <th>short_name</th>\n",
       "      <th>long_name</th>\n",
       "      <th>player_positions</th>\n",
       "      <th>overall</th>\n",
       "      <th>potential</th>\n",
       "      <th>value_eur</th>\n",
       "      <th>wage_eur</th>\n",
       "      <th>age</th>\n",
       "      <th>dob</th>\n",
       "      <th>...</th>\n",
       "      <th>lb</th>\n",
       "      <th>lcb</th>\n",
       "      <th>cb</th>\n",
       "      <th>rcb</th>\n",
       "      <th>rb</th>\n",
       "      <th>gk</th>\n",
       "      <th>overall_team/year</th>\n",
       "      <th>teams_in_league/year</th>\n",
       "      <th>mean_league/year</th>\n",
       "      <th>mean_team/year</th>\n",
       "    </tr>\n",
       "  </thead>\n",
       "  <tbody>\n",
       "  </tbody>\n",
       "</table>\n",
       "<p>0 rows × 108 columns</p>\n",
       "</div>"
      ],
      "text/plain": [
       "Empty DataFrame\n",
       "Columns: [sofifa_id, short_name, long_name, player_positions, overall, potential, value_eur, wage_eur, age, dob, height_cm, weight_kg, club_team_id, club_name, league_name, league_level, club_position, club_jersey_number, club_loaned_from, club_joined, club_contract_valid_until, nationality_id, nationality_name, nation_team_id, nation_position, nation_jersey_number, preferred_foot, weak_foot, skill_moves, international_reputation, work_rate, body_type, real_face, release_clause_eur, player_tags, player_traits, pace, shooting, passing, dribbling, defending, physic, attacking_crossing, attacking_finishing, attacking_heading_accuracy, attacking_short_passing, attacking_volleys, skill_dribbling, skill_curve, skill_fk_accuracy, skill_long_passing, skill_ball_control, movement_acceleration, movement_sprint_speed, movement_agility, movement_reactions, movement_balance, power_shot_power, power_jumping, power_stamina, power_strength, power_long_shots, mentality_aggression, mentality_interceptions, mentality_positioning, mentality_vision, mentality_penalties, mentality_composure, defending_marking_awareness, defending_standing_tackle, defending_sliding_tackle, goalkeeping_diving, goalkeeping_handling, goalkeeping_kicking, goalkeeping_positioning, goalkeeping_reflexes, goalkeeping_speed, ls, st, rs, lw, lf, cf, rf, rw, lam, cam, ram, lm, lcm, cm, rcm, rm, lwb, ldm, cdm, rdm, rwb, lb, lcb, ...]\n",
       "Index: []\n",
       "\n",
       "[0 rows x 108 columns]"
      ]
     },
     "execution_count": 76,
     "metadata": {},
     "output_type": "execute_result"
    }
   ],
   "source": [
    "#top 5 porteros con mayor proyección\n",
    "df22[df22.index.isin(ind_list)].sort_values(by='overall', ascending=False).head()"
   ]
  },
  {
   "cell_type": "code",
   "execution_count": null,
   "id": "ce20771c",
   "metadata": {},
   "outputs": [],
   "source": []
  }
 ],
 "metadata": {
  "kernelspec": {
   "display_name": "Python 3",
   "language": "python",
   "name": "python3"
  },
  "language_info": {
   "codemirror_mode": {
    "name": "ipython",
    "version": 3
   },
   "file_extension": ".py",
   "mimetype": "text/x-python",
   "name": "python",
   "nbconvert_exporter": "python",
   "pygments_lexer": "ipython3",
   "version": "3.8.8"
  },
  "toc": {
   "base_numbering": 1,
   "nav_menu": {},
   "number_sections": true,
   "sideBar": true,
   "skip_h1_title": false,
   "title_cell": "Table of Contents",
   "title_sidebar": "Contents",
   "toc_cell": false,
   "toc_position": {},
   "toc_section_display": true,
   "toc_window_display": false
  },
  "varInspector": {
   "cols": {
    "lenName": 16,
    "lenType": 16,
    "lenVar": 40
   },
   "kernels_config": {
    "python": {
     "delete_cmd_postfix": "",
     "delete_cmd_prefix": "del ",
     "library": "var_list.py",
     "varRefreshCmd": "print(var_dic_list())"
    },
    "r": {
     "delete_cmd_postfix": ") ",
     "delete_cmd_prefix": "rm(",
     "library": "var_list.r",
     "varRefreshCmd": "cat(var_dic_list()) "
    }
   },
   "types_to_exclude": [
    "module",
    "function",
    "builtin_function_or_method",
    "instance",
    "_Feature"
   ],
   "window_display": false
  }
 },
 "nbformat": 4,
 "nbformat_minor": 5
}
