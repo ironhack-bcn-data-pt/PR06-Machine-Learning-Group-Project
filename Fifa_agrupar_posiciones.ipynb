{
 "cells": [
  {
   "cell_type": "markdown",
   "id": "f3d8e4b6",
   "metadata": {},
   "source": [
    "## Importación librerias y dataset"
   ]
  },
  {
   "cell_type": "code",
   "execution_count": 146,
   "id": "9ceb7b37",
   "metadata": {},
   "outputs": [],
   "source": [
    "import pandas as pd\n",
    "import numpy as np\n",
    "\n",
    "import matplotlib as plt\n",
    "import seaborn as sns"
   ]
  },
  {
   "cell_type": "code",
   "execution_count": 173,
   "id": "b757e6bf",
   "metadata": {},
   "outputs": [],
   "source": [
    "df=pd.read_csv('data\\players_total2.csv')"
   ]
  },
  {
   "cell_type": "code",
   "execution_count": 148,
   "id": "c64ff82b",
   "metadata": {},
   "outputs": [],
   "source": [
    "definiciones=pd.read_csv('data\\definiciones_fifa.csv')"
   ]
  },
  {
   "cell_type": "code",
   "execution_count": 149,
   "id": "4adb25b4",
   "metadata": {},
   "outputs": [
    {
     "data": {
      "text/html": [
       "<div>\n",
       "<style scoped>\n",
       "    .dataframe tbody tr th:only-of-type {\n",
       "        vertical-align: middle;\n",
       "    }\n",
       "\n",
       "    .dataframe tbody tr th {\n",
       "        vertical-align: top;\n",
       "    }\n",
       "\n",
       "    .dataframe thead th {\n",
       "        text-align: right;\n",
       "    }\n",
       "</style>\n",
       "<table border=\"1\" class=\"dataframe\">\n",
       "  <thead>\n",
       "    <tr style=\"text-align: right;\">\n",
       "      <th></th>\n",
       "      <th>campo</th>\n",
       "      <th>descripcion</th>\n",
       "    </tr>\n",
       "  </thead>\n",
       "  <tbody>\n",
       "    <tr>\n",
       "      <th>88</th>\n",
       "      <td>ram</td>\n",
       "      <td>player attribute playing as Right Attacking Mi...</td>\n",
       "    </tr>\n",
       "  </tbody>\n",
       "</table>\n",
       "</div>"
      ],
      "text/plain": [
       "   campo                                        descripcion\n",
       "88   ram  player attribute playing as Right Attacking Mi..."
      ]
     },
     "execution_count": 149,
     "metadata": {},
     "output_type": "execute_result"
    }
   ],
   "source": [
    "definiciones[definiciones['campo']=='ram']"
   ]
  },
  {
   "cell_type": "code",
   "execution_count": 150,
   "id": "616de90e",
   "metadata": {},
   "outputs": [
    {
     "data": {
      "text/plain": [
       "array(['unique player ID on sofifa', 'URL of the scraped player',\n",
       "       'player short name', 'player long name',\n",
       "       'player preferred positions', 'player current overall attribute',\n",
       "       'player potential overall attribute', 'player value (in EUR)',\n",
       "       'player weekly wage (in EUR)', 'player age',\n",
       "       'player date of birth', 'player height (in cm)',\n",
       "       'player weight (in kg)', 'club id',\n",
       "       'club name where the player plays', 'league name of the club', nan,\n",
       "       'player jersey number in the club',\n",
       "       'club loaning out the player - if applicable',\n",
       "       'date when the player joined his current club',\n",
       "       'player contract expiration date', 'player nationality id',\n",
       "       'player nationality', 'nation team id',\n",
       "       'player position in the national team',\n",
       "       'player jersey number in the national team',\n",
       "       'player preferred foot', 'player weak foot attribute',\n",
       "       'player skill moves attribute',\n",
       "       'player international reputation attribute',\n",
       "       'player work rate attributes (attacking / defensive)',\n",
       "       'player body type', 'player real face',\n",
       "       'player release clause (in EUR) - if applicable', 'player tags',\n",
       "       'player traits', 'player pace attribute',\n",
       "       'player shooting attribute', 'player passing attribute',\n",
       "       'player dribbling attribute', 'player defending attribute',\n",
       "       'player physic attribute', 'player crossing attribute',\n",
       "       'player finishing attribute', 'player heading accuracy attribute',\n",
       "       'player short passing attribute', 'player volleys attribute',\n",
       "       'player special dribbling attribute', 'player curve attribute',\n",
       "       'player free-kick accuracy attribute',\n",
       "       'player long passing attribute', 'player ball control attribute',\n",
       "       'player acceleration attribute', 'player sprint speed attribute',\n",
       "       'player agility attribute', 'player reactions attribute',\n",
       "       'player balance attribute', 'player shot power attribute',\n",
       "       'player jumping attribute', 'player stamina attribute',\n",
       "       'player strength attribute', 'player long shots attribute',\n",
       "       'player aggression attribute', 'player interceptions attribute',\n",
       "       'player positioning attribute', 'player vision attribute',\n",
       "       'player penalties attribute', 'player composure attribute',\n",
       "       'player marking awareness attribute',\n",
       "       'player standing tackle attribute',\n",
       "       'player sliding tackle attribute', 'player GK diving attribute',\n",
       "       'player GK handling attribute', 'player GK kicking attribute',\n",
       "       'player GK positioning attribute', 'player GK reflexes attribute',\n",
       "       'player GK speed attribute',\n",
       "       'player attribute playing as Left Striker',\n",
       "       'player attribute playing as Striker',\n",
       "       'player attribute playing as Right Striker',\n",
       "       'player attribute playing as Left Winger',\n",
       "       'player attribute playing as Left Forward',\n",
       "       'player attribute playing as Central Forward or Second Forward',\n",
       "       'player attribute playing as Right Forward',\n",
       "       'player attribute playing as Right Winger',\n",
       "       'player attribute playing as Left Attacking Midfielder',\n",
       "       'player attribute playing as Central Attacking Midfielder',\n",
       "       'player attribute playing as Right Attacking Midfielder',\n",
       "       'player attribute playing as Left Midfielder',\n",
       "       'player attribute playing as Left Central Midfielder',\n",
       "       'player attribute playing as Central Midfielder',\n",
       "       'player attribute playing as Right Central Midfielder',\n",
       "       'player attribute playing as Right Midfielder',\n",
       "       'player attribute playing as Left Wing Back',\n",
       "       'player attribute playing as Left Defensive Midfielder',\n",
       "       'player attribute playing as Central Defensive Midfielder',\n",
       "       'player attribute playing as Right Defensive Midfielder',\n",
       "       'player attribute playing as Right Wing Back',\n",
       "       'player attribute playing as Left Back',\n",
       "       'player attribute playing as Left Central Back',\n",
       "       'player attribute playing as Central Back',\n",
       "       'player attribute playing as Right Central Back',\n",
       "       'player attribute playing as Right Back',\n",
       "       'player attribute playing as Goalkeaper', 'URL of the player face',\n",
       "       'URL of the club logo', 'URL of the club nationality flag',\n",
       "       'URL of the national team logo', 'URL of the national flag'],\n",
       "      dtype=object)"
      ]
     },
     "execution_count": 150,
     "metadata": {},
     "output_type": "execute_result"
    }
   ],
   "source": [
    "definiciones['descripcion'].unique()"
   ]
  },
  {
   "cell_type": "code",
   "execution_count": 151,
   "id": "62dec8a1",
   "metadata": {},
   "outputs": [
    {
     "data": {
      "text/plain": [
       "array(['sofifa_id', 'player_url', 'short_name', 'long_name',\n",
       "       'player_positions', 'overall', 'potential', 'value_eur',\n",
       "       'wage_eur', 'age', 'dob', 'height_cm', 'weight_kg', 'club_team_id',\n",
       "       'club_name', 'league_name',\n",
       "       'league_level,\"league rank of the club (e.g. English Premier League is 1, English League Championship is 2, etc.)\"',\n",
       "       'club_position,\"player position in the club (e.g. SUB means substitute, RES means reserve)\"',\n",
       "       'club_jersey_number', 'club_loaned_from', 'club_joined',\n",
       "       'club_contract_valid_until', 'nationality_id', 'nationality_name',\n",
       "       'nation_team_id', 'nation_position', 'nation_jersey_number',\n",
       "       'preferred_foot', 'weak_foot', 'skill_moves',\n",
       "       'international_reputation', 'work_rate', 'body_type', 'real_face',\n",
       "       'release_clause_eur', 'player_tags', 'player_traits', 'pace',\n",
       "       'shooting', 'passing', 'dribbling', 'defending', 'physic',\n",
       "       'attacking_crossing', 'attacking_finishing',\n",
       "       'attacking_heading_accuracy', 'attacking_short_passing',\n",
       "       'attacking_volleys', 'skill_dribbling', 'skill_curve',\n",
       "       'skill_fk_accuracy', 'skill_long_passing', 'skill_ball_control',\n",
       "       'movement_acceleration', 'movement_sprint_speed',\n",
       "       'movement_agility', 'movement_reactions', 'movement_balance',\n",
       "       'power_shot_power', 'power_jumping', 'power_stamina',\n",
       "       'power_strength', 'power_long_shots', 'mentality_aggression',\n",
       "       'mentality_interceptions', 'mentality_positioning',\n",
       "       'mentality_vision', 'mentality_penalties', 'mentality_composure',\n",
       "       'defending_marking_awareness', 'defending_standing_tackle',\n",
       "       'defending_sliding_tackle', 'goalkeeping_diving',\n",
       "       'goalkeeping_handling', 'goalkeeping_kicking',\n",
       "       'goalkeeping_positioning', 'goalkeeping_reflexes',\n",
       "       'goalkeeping_speed', 'ls', 'st', 'rs', 'lw', 'lf', 'cf', 'rf',\n",
       "       'rw', 'lam', 'cam', 'ram', 'lm', 'lcm', 'cm', 'rcm', 'rm', 'lwb',\n",
       "       'ldm', 'cdm', 'rdm', 'rwb', 'lb', 'lcb', 'cb', 'rcb', 'rb', 'gk',\n",
       "       'player_face_url', 'club_logo_url', 'club_flag_url',\n",
       "       'nation_logo_url', 'nation_flag_url'], dtype=object)"
      ]
     },
     "execution_count": 151,
     "metadata": {},
     "output_type": "execute_result"
    }
   ],
   "source": [
    "definiciones['campo'].unique()"
   ]
  },
  {
   "cell_type": "markdown",
   "id": "9b5e6923",
   "metadata": {},
   "source": [
    "## Porteros"
   ]
  },
  {
   "cell_type": "code",
   "execution_count": 152,
   "id": "abbf222c",
   "metadata": {},
   "outputs": [],
   "source": [
    "porteros=df[df['player_positions']=='GK']"
   ]
  },
  {
   "cell_type": "code",
   "execution_count": 153,
   "id": "d83d270c",
   "metadata": {},
   "outputs": [],
   "source": [
    "#me quedo con el resto de jugadores\n",
    "df=df[df['player_positions']!='GK']"
   ]
  },
  {
   "cell_type": "markdown",
   "id": "eaf86340",
   "metadata": {},
   "source": [
    "## Defensas"
   ]
  },
  {
   "cell_type": "code",
   "execution_count": 154,
   "id": "de33cd7c",
   "metadata": {},
   "outputs": [
    {
     "data": {
      "text/plain": [
       "['CF',\n",
       " 'LW',\n",
       " 'SUB',\n",
       " 'ST',\n",
       " 'LCM',\n",
       " 'RES',\n",
       " 'RS',\n",
       " 'LM',\n",
       " 'RCM',\n",
       " 'LCB',\n",
       " 'CAM',\n",
       " 'RW',\n",
       " 'LS',\n",
       " 'LDM',\n",
       " 'RCB',\n",
       " 'CB',\n",
       " 'CDM',\n",
       " 'CM',\n",
       " 'RDM',\n",
       " 'RB',\n",
       " 'RM',\n",
       " 'LB',\n",
       " 'RAM',\n",
       " 'LAM',\n",
       " nan,\n",
       " 'RWB',\n",
       " 'LF',\n",
       " 'RF',\n",
       " 'LWB']"
      ]
     },
     "execution_count": 154,
     "metadata": {},
     "output_type": "execute_result"
    }
   ],
   "source": [
    "#\"player position in the club (e.g. SUB means substitute, RES means reserve)\"\n",
    "df.club_position.unique().tolist()"
   ]
  },
  {
   "cell_type": "code",
   "execution_count": 155,
   "id": "77f3738c",
   "metadata": {},
   "outputs": [],
   "source": [
    "pos_defensas=['LCB','RCB','CB','RB','LB','RWB','LWB']"
   ]
  },
  {
   "cell_type": "code",
   "execution_count": 156,
   "id": "5640ddaa",
   "metadata": {},
   "outputs": [],
   "source": [
    "isdefense=df.club_position.isin(pos_defensas)\n",
    "defensas=df[isdefense]"
   ]
  },
  {
   "cell_type": "code",
   "execution_count": 157,
   "id": "496791c1",
   "metadata": {},
   "outputs": [],
   "source": [
    "#me quedo con el resto de jugadores\n",
    "isnotdefense=~df.club_position.isin(pos_defensas)\n",
    "df=df[isnotdefense]"
   ]
  },
  {
   "cell_type": "markdown",
   "id": "ed1cde2f",
   "metadata": {},
   "source": [
    "## Centrocampistas"
   ]
  },
  {
   "cell_type": "code",
   "execution_count": 158,
   "id": "fa546c36",
   "metadata": {},
   "outputs": [
    {
     "data": {
      "text/plain": [
       "['CF',\n",
       " 'LW',\n",
       " 'SUB',\n",
       " 'ST',\n",
       " 'LCM',\n",
       " 'RES',\n",
       " 'RS',\n",
       " 'LM',\n",
       " 'RCM',\n",
       " 'CAM',\n",
       " 'RW',\n",
       " 'LS',\n",
       " 'LDM',\n",
       " 'CDM',\n",
       " 'CM',\n",
       " 'RDM',\n",
       " 'RM',\n",
       " 'RAM',\n",
       " 'LAM',\n",
       " nan,\n",
       " 'LF',\n",
       " 'RF']"
      ]
     },
     "execution_count": 158,
     "metadata": {},
     "output_type": "execute_result"
    }
   ],
   "source": [
    "df.club_position.unique().tolist()"
   ]
  },
  {
   "cell_type": "code",
   "execution_count": 159,
   "id": "dc6374ce",
   "metadata": {},
   "outputs": [],
   "source": [
    "pos_medios=['LW','LCM','RCM','CAM','RW','LDM','CDM','CM','RDM','RM','RAM','LAM','LM']"
   ]
  },
  {
   "cell_type": "code",
   "execution_count": 160,
   "id": "d5614f34",
   "metadata": {},
   "outputs": [],
   "source": [
    "ismidfilder=df.club_position.isin(pos_medios)\n",
    "medios=df[ismidfilder]"
   ]
  },
  {
   "cell_type": "code",
   "execution_count": 161,
   "id": "b759adab",
   "metadata": {},
   "outputs": [],
   "source": [
    "#me quedo con el resto de jugadores\n",
    "isnotmidfilder=~df.club_position.isin(pos_medios)\n",
    "df=df[isnotmidfilder]"
   ]
  },
  {
   "cell_type": "markdown",
   "id": "55dfa483",
   "metadata": {},
   "source": [
    "## Delanteros"
   ]
  },
  {
   "cell_type": "code",
   "execution_count": 162,
   "id": "529c05f7",
   "metadata": {},
   "outputs": [
    {
     "data": {
      "text/plain": [
       "['CF', 'SUB', 'ST', 'RES', 'RS', 'LS', nan, 'LF', 'RF']"
      ]
     },
     "execution_count": 162,
     "metadata": {},
     "output_type": "execute_result"
    }
   ],
   "source": [
    "df.club_position.unique().tolist()"
   ]
  },
  {
   "cell_type": "code",
   "execution_count": 163,
   "id": "84c6c0d9",
   "metadata": {},
   "outputs": [],
   "source": [
    "pos_delanteros=['CF','ST','RS','LS','RF']"
   ]
  },
  {
   "cell_type": "code",
   "execution_count": 164,
   "id": "04cc8fce",
   "metadata": {},
   "outputs": [],
   "source": [
    "isforward=df.club_position.isin(pos_delanteros)\n",
    "delanteros=df[isforward]"
   ]
  },
  {
   "cell_type": "code",
   "execution_count": 165,
   "id": "044a4cf4",
   "metadata": {},
   "outputs": [],
   "source": [
    "#me quedo con el resto de jugadores\n",
    "isnotforward=~df.club_position.isin(pos_delanteros)\n",
    "df=df[isnotforward]"
   ]
  },
  {
   "cell_type": "markdown",
   "id": "77568285",
   "metadata": {},
   "source": [
    "## Jugadores pendientes de distribuir"
   ]
  },
  {
   "cell_type": "code",
   "execution_count": 166,
   "id": "96a71405",
   "metadata": {},
   "outputs": [],
   "source": [
    "#Estrategia: Hacer función\n",
    "#Si hay una posición poner el grupo de esa posicion\n",
    "#Buscar si alguna de las posiciones del jugador coincide con la posicion del jugador en la selección. Si coincide tiene esa posición y buscamos de que grupo es.\n",
    "#Si no coincide hacemos un conteo de las posiciones que tiene dentro de cada grupo => nos quedamos con el grupo con más\n",
    "#Si está igualado llamamos al jugador polivalente y lo duplicamos"
   ]
  },
  {
   "cell_type": "code",
   "execution_count": 174,
   "id": "38314c2e",
   "metadata": {},
   "outputs": [],
   "source": [
    "def lista_posicion(x):\n",
    "    return (x.replace(' ','').split(','))"
   ]
  },
  {
   "cell_type": "code",
   "execution_count": 168,
   "id": "eb6c2a04",
   "metadata": {},
   "outputs": [],
   "source": [
    "df['player_positions']=df['player_positions'].apply(lambda x: lista_posicion(x))\n",
    "    "
   ]
  },
  {
   "cell_type": "code",
   "execution_count": 169,
   "id": "f62254a2",
   "metadata": {},
   "outputs": [],
   "source": [
    "def posicion_jugador(x) :\n",
    "    #categorizo las posiciones en diccionario y las agrupo en un diccionario\n",
    "    dic_posicion = {}\n",
    "    dic_posicion['delantero'] = 'ls', 'st', 'rs', 'lw', 'lf', 'cf', 'rf', 'rw'\n",
    "    dic_posicion['centrocampista'] = 'lam', 'cam', 'ram', 'lm', 'lcm', 'cm', 'rcm', 'rm', 'ldm', 'cdm', 'rdm'\n",
    "    dic_posicion['defensa'] = 'lwb', 'rwb', 'lb', 'lcb', 'cb', 'rcb', 'rb'\n",
    "    dic_posicion['portero'] = 'gk'\n",
    "    #extraigo la lista de posiciones\n",
    "    lista_x = x.replace(' ','').split(',')\n",
    "    #transforomo la posicion\n",
    "    for x in lista_x:\n",
    "        for posicion, items in dic_posicion.items():\n",
    "            if x.lower() in items:\n",
    "                return (posicion)\n",
    "    print('Error')"
   ]
  },
  {
   "cell_type": "markdown",
   "id": "0dac25ea",
   "metadata": {},
   "source": [
    "## Definitivo"
   ]
  },
  {
   "cell_type": "code",
   "execution_count": 178,
   "id": "2aa8371d",
   "metadata": {},
   "outputs": [],
   "source": [
    "#df=pd.read_csv('data\\players_total2.csv')"
   ]
  },
  {
   "cell_type": "code",
   "execution_count": 179,
   "id": "6ef61f85",
   "metadata": {},
   "outputs": [],
   "source": [
    "#funcion transformación en lista\n",
    "def lista_posicion(x):\n",
    "    return (x.replace(' ','').split(','))"
   ]
  },
  {
   "cell_type": "code",
   "execution_count": 180,
   "id": "68f8a9c4",
   "metadata": {},
   "outputs": [],
   "source": [
    "#transforma valores de columna player_positions en una lista\n",
    "df['player_positions']=df['player_positions'].apply(lambda x: lista_posicion(x))"
   ]
  },
  {
   "cell_type": "code",
   "execution_count": 181,
   "id": "276ee101",
   "metadata": {},
   "outputs": [],
   "source": [
    "    \n",
    "for i in df.index:\n",
    "            if len(df.at[i,'player_positions'])==1:\n",
    "                if df.at[i,'player_positions'][0]=='GK':\n",
    "                    df.at[i,'player_positions']='portero'\n",
    "                if df.at[i,'player_positions'][0] in pos_defensas:\n",
    "                    df.at[i,'player_positions']='defensa'\n",
    "                elif df.at[i,'player_positions'][0] in pos_medios:\n",
    "                    df.at[i,'player_positions']='centrocampista'\n",
    "                elif df.at[i,'player_positions'][0] in pos_delanteros:\n",
    "                    df.at[i,'player_positions']='delantero'\n",
    "            else:\n",
    "                if df.at[i,'player_positions'][0] in pos_defensas:\n",
    "                    df.at[i,'player_positions']='defensa'\n",
    "                elif df.at[i,'player_positions'][0] in pos_medios:\n",
    "                    df.at[i,'player_positions']='centrocampista'\n",
    "                elif df.at[i,'player_positions'][0] in pos_delanteros:\n",
    "                    df.at[i,'player_positions']='delantero'\n",
    "                elif df.at[i,'player_positions'][0]=='GK':\n",
    "                    df.at[i,'player_positions']='portero'\n",
    "                    "
   ]
  },
  {
   "cell_type": "code",
   "execution_count": 182,
   "id": "db1bf93a",
   "metadata": {},
   "outputs": [
    {
     "data": {
      "text/html": [
       "<div>\n",
       "<style scoped>\n",
       "    .dataframe tbody tr th:only-of-type {\n",
       "        vertical-align: middle;\n",
       "    }\n",
       "\n",
       "    .dataframe tbody tr th {\n",
       "        vertical-align: top;\n",
       "    }\n",
       "\n",
       "    .dataframe thead th {\n",
       "        text-align: right;\n",
       "    }\n",
       "</style>\n",
       "<table border=\"1\" class=\"dataframe\">\n",
       "  <thead>\n",
       "    <tr style=\"text-align: right;\">\n",
       "      <th></th>\n",
       "      <th>Unnamed: 0</th>\n",
       "      <th>Unnamed: 0.1</th>\n",
       "      <th>sofifa_id</th>\n",
       "      <th>short_name</th>\n",
       "      <th>long_name</th>\n",
       "      <th>player_positions</th>\n",
       "      <th>overall</th>\n",
       "      <th>potential</th>\n",
       "      <th>value_eur</th>\n",
       "      <th>wage_eur</th>\n",
       "      <th>...</th>\n",
       "      <th>rdm</th>\n",
       "      <th>rwb</th>\n",
       "      <th>lb</th>\n",
       "      <th>lcb</th>\n",
       "      <th>cb</th>\n",
       "      <th>rcb</th>\n",
       "      <th>rb</th>\n",
       "      <th>gk</th>\n",
       "      <th>año_version</th>\n",
       "      <th>progresion_anual</th>\n",
       "    </tr>\n",
       "  </thead>\n",
       "  <tbody>\n",
       "  </tbody>\n",
       "</table>\n",
       "<p>0 rows × 108 columns</p>\n",
       "</div>"
      ],
      "text/plain": [
       "Empty DataFrame\n",
       "Columns: [Unnamed: 0, Unnamed: 0.1, sofifa_id, short_name, long_name, player_positions, overall, potential, value_eur, wage_eur, age, dob, height_cm, weight_kg, club_team_id, club_name, league_name, league_level, club_position, club_jersey_number, club_loaned_from, club_joined, club_contract_valid_until, nationality_id, nationality_name, nation_team_id, nation_position, nation_jersey_number, preferred_foot, weak_foot, skill_moves, international_reputation, work_rate, body_type, real_face, release_clause_eur, player_tags, player_traits, pace, shooting, passing, dribbling, defending, physic, attacking_crossing, attacking_finishing, attacking_heading_accuracy, attacking_short_passing, attacking_volleys, skill_dribbling, skill_curve, skill_fk_accuracy, skill_long_passing, skill_ball_control, movement_acceleration, movement_sprint_speed, movement_agility, movement_reactions, movement_balance, power_shot_power, power_jumping, power_stamina, power_strength, power_long_shots, mentality_aggression, mentality_interceptions, mentality_positioning, mentality_vision, mentality_penalties, mentality_composure, defending_marking_awareness, defending_standing_tackle, defending_sliding_tackle, goalkeeping_diving, goalkeeping_handling, goalkeeping_kicking, goalkeeping_positioning, goalkeeping_reflexes, goalkeeping_speed, ls, st, rs, lw, lf, cf, rf, rw, lam, cam, ram, lm, lcm, cm, rcm, rm, lwb, ldm, cdm, rdm, rwb, ...]\n",
       "Index: []\n",
       "\n",
       "[0 rows x 108 columns]"
      ]
     },
     "execution_count": 182,
     "metadata": {},
     "output_type": "execute_result"
    }
   ],
   "source": [
    "df[(df['player_positions']!='defensa')&(df['player_positions']!='centrocampista')&(df['player_positions']!='delantero')&(df['player_positions']!='portero')]"
   ]
  },
  {
   "cell_type": "code",
   "execution_count": 185,
   "id": "6ccedbe2",
   "metadata": {},
   "outputs": [
    {
     "data": {
      "text/plain": [
       "player_positions\n",
       "centrocampista    36424\n",
       "defensa           29039\n",
       "delantero         12650\n",
       "portero            9634\n",
       "Name: sofifa_id, dtype: int64"
      ]
     },
     "execution_count": 185,
     "metadata": {},
     "output_type": "execute_result"
    }
   ],
   "source": [
    "df.groupby('player_positions')['sofifa_id'].count()"
   ]
  },
  {
   "cell_type": "code",
   "execution_count": 186,
   "id": "aac497c1",
   "metadata": {},
   "outputs": [
    {
     "data": {
      "text/plain": [
       "0        89+3\n",
       "1        91+1\n",
       "2        84+3\n",
       "3        87+3\n",
       "4        38+3\n",
       "         ... \n",
       "87742    46+2\n",
       "87743    34+2\n",
       "87744    32+2\n",
       "87745    46+1\n",
       "87746    47+2\n",
       "Name: ls, Length: 87747, dtype: object"
      ]
     },
     "execution_count": 186,
     "metadata": {},
     "output_type": "execute_result"
    }
   ],
   "source": [
    "df['ls']"
   ]
  },
  {
   "cell_type": "code",
   "execution_count": null,
   "id": "250c50b2",
   "metadata": {},
   "outputs": [],
   "source": []
  }
 ],
 "metadata": {
  "kernelspec": {
   "display_name": "Python 3",
   "language": "python",
   "name": "python3"
  },
  "language_info": {
   "codemirror_mode": {
    "name": "ipython",
    "version": 3
   },
   "file_extension": ".py",
   "mimetype": "text/x-python",
   "name": "python",
   "nbconvert_exporter": "python",
   "pygments_lexer": "ipython3",
   "version": "3.8.8"
  },
  "toc": {
   "base_numbering": 1,
   "nav_menu": {},
   "number_sections": true,
   "sideBar": true,
   "skip_h1_title": false,
   "title_cell": "Table of Contents",
   "title_sidebar": "Contents",
   "toc_cell": false,
   "toc_position": {},
   "toc_section_display": true,
   "toc_window_display": false
  },
  "varInspector": {
   "cols": {
    "lenName": 16,
    "lenType": 16,
    "lenVar": 40
   },
   "kernels_config": {
    "python": {
     "delete_cmd_postfix": "",
     "delete_cmd_prefix": "del ",
     "library": "var_list.py",
     "varRefreshCmd": "print(var_dic_list())"
    },
    "r": {
     "delete_cmd_postfix": ") ",
     "delete_cmd_prefix": "rm(",
     "library": "var_list.r",
     "varRefreshCmd": "cat(var_dic_list()) "
    }
   },
   "types_to_exclude": [
    "module",
    "function",
    "builtin_function_or_method",
    "instance",
    "_Feature"
   ],
   "window_display": false
  }
 },
 "nbformat": 4,
 "nbformat_minor": 5
}
