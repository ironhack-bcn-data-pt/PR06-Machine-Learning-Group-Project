{
 "cells": [
  {
   "cell_type": "markdown",
   "id": "f3d8e4b6",
   "metadata": {},
   "source": [
    "## Importación librerias y dataset"
   ]
  },
  {
   "cell_type": "code",
   "execution_count": 1,
   "id": "9ceb7b37",
   "metadata": {},
   "outputs": [],
   "source": [
    "import pandas as pd\n",
    "import numpy as np\n",
    "\n",
    "import matplotlib as plt\n",
    "import seaborn as sns"
   ]
  },
  {
   "cell_type": "code",
   "execution_count": 2,
   "id": "b757e6bf",
   "metadata": {},
   "outputs": [],
   "source": [
    "df=pd.read_csv('data\\players_total2.csv')"
   ]
  },
  {
   "cell_type": "code",
   "execution_count": 3,
   "id": "c64ff82b",
   "metadata": {},
   "outputs": [],
   "source": [
    "definiciones=pd.read_csv('data\\definiciones_fifa.csv')"
   ]
  },
  {
   "cell_type": "code",
   "execution_count": 4,
   "id": "4adb25b4",
   "metadata": {},
   "outputs": [
    {
     "data": {
      "text/html": [
       "<div>\n",
       "<style scoped>\n",
       "    .dataframe tbody tr th:only-of-type {\n",
       "        vertical-align: middle;\n",
       "    }\n",
       "\n",
       "    .dataframe tbody tr th {\n",
       "        vertical-align: top;\n",
       "    }\n",
       "\n",
       "    .dataframe thead th {\n",
       "        text-align: right;\n",
       "    }\n",
       "</style>\n",
       "<table border=\"1\" class=\"dataframe\">\n",
       "  <thead>\n",
       "    <tr style=\"text-align: right;\">\n",
       "      <th></th>\n",
       "      <th>campo</th>\n",
       "      <th>descripcion</th>\n",
       "    </tr>\n",
       "  </thead>\n",
       "  <tbody>\n",
       "    <tr>\n",
       "      <th>88</th>\n",
       "      <td>ram</td>\n",
       "      <td>player attribute playing as Right Attacking Mi...</td>\n",
       "    </tr>\n",
       "  </tbody>\n",
       "</table>\n",
       "</div>"
      ],
      "text/plain": [
       "   campo                                        descripcion\n",
       "88   ram  player attribute playing as Right Attacking Mi..."
      ]
     },
     "execution_count": 4,
     "metadata": {},
     "output_type": "execute_result"
    }
   ],
   "source": [
    "definiciones[definiciones['campo']=='ram']"
   ]
  },
  {
   "cell_type": "code",
   "execution_count": 5,
   "id": "616de90e",
   "metadata": {},
   "outputs": [
    {
     "data": {
      "text/plain": [
       "array(['unique player ID on sofifa', 'URL of the scraped player',\n",
       "       'player short name', 'player long name',\n",
       "       'player preferred positions', 'player current overall attribute',\n",
       "       'player potential overall attribute', 'player value (in EUR)',\n",
       "       'player weekly wage (in EUR)', 'player age',\n",
       "       'player date of birth', 'player height (in cm)',\n",
       "       'player weight (in kg)', 'club id',\n",
       "       'club name where the player plays', 'league name of the club', nan,\n",
       "       'player jersey number in the club',\n",
       "       'club loaning out the player - if applicable',\n",
       "       'date when the player joined his current club',\n",
       "       'player contract expiration date', 'player nationality id',\n",
       "       'player nationality', 'nation team id',\n",
       "       'player position in the national team',\n",
       "       'player jersey number in the national team',\n",
       "       'player preferred foot', 'player weak foot attribute',\n",
       "       'player skill moves attribute',\n",
       "       'player international reputation attribute',\n",
       "       'player work rate attributes (attacking / defensive)',\n",
       "       'player body type', 'player real face',\n",
       "       'player release clause (in EUR) - if applicable', 'player tags',\n",
       "       'player traits', 'player pace attribute',\n",
       "       'player shooting attribute', 'player passing attribute',\n",
       "       'player dribbling attribute', 'player defending attribute',\n",
       "       'player physic attribute', 'player crossing attribute',\n",
       "       'player finishing attribute', 'player heading accuracy attribute',\n",
       "       'player short passing attribute', 'player volleys attribute',\n",
       "       'player special dribbling attribute', 'player curve attribute',\n",
       "       'player free-kick accuracy attribute',\n",
       "       'player long passing attribute', 'player ball control attribute',\n",
       "       'player acceleration attribute', 'player sprint speed attribute',\n",
       "       'player agility attribute', 'player reactions attribute',\n",
       "       'player balance attribute', 'player shot power attribute',\n",
       "       'player jumping attribute', 'player stamina attribute',\n",
       "       'player strength attribute', 'player long shots attribute',\n",
       "       'player aggression attribute', 'player interceptions attribute',\n",
       "       'player positioning attribute', 'player vision attribute',\n",
       "       'player penalties attribute', 'player composure attribute',\n",
       "       'player marking awareness attribute',\n",
       "       'player standing tackle attribute',\n",
       "       'player sliding tackle attribute', 'player GK diving attribute',\n",
       "       'player GK handling attribute', 'player GK kicking attribute',\n",
       "       'player GK positioning attribute', 'player GK reflexes attribute',\n",
       "       'player GK speed attribute',\n",
       "       'player attribute playing as Left Striker',\n",
       "       'player attribute playing as Striker',\n",
       "       'player attribute playing as Right Striker',\n",
       "       'player attribute playing as Left Winger',\n",
       "       'player attribute playing as Left Forward',\n",
       "       'player attribute playing as Central Forward or Second Forward',\n",
       "       'player attribute playing as Right Forward',\n",
       "       'player attribute playing as Right Winger',\n",
       "       'player attribute playing as Left Attacking Midfielder',\n",
       "       'player attribute playing as Central Attacking Midfielder',\n",
       "       'player attribute playing as Right Attacking Midfielder',\n",
       "       'player attribute playing as Left Midfielder',\n",
       "       'player attribute playing as Left Central Midfielder',\n",
       "       'player attribute playing as Central Midfielder',\n",
       "       'player attribute playing as Right Central Midfielder',\n",
       "       'player attribute playing as Right Midfielder',\n",
       "       'player attribute playing as Left Wing Back',\n",
       "       'player attribute playing as Left Defensive Midfielder',\n",
       "       'player attribute playing as Central Defensive Midfielder',\n",
       "       'player attribute playing as Right Defensive Midfielder',\n",
       "       'player attribute playing as Right Wing Back',\n",
       "       'player attribute playing as Left Back',\n",
       "       'player attribute playing as Left Central Back',\n",
       "       'player attribute playing as Central Back',\n",
       "       'player attribute playing as Right Central Back',\n",
       "       'player attribute playing as Right Back',\n",
       "       'player attribute playing as Goalkeaper', 'URL of the player face',\n",
       "       'URL of the club logo', 'URL of the club nationality flag',\n",
       "       'URL of the national team logo', 'URL of the national flag'],\n",
       "      dtype=object)"
      ]
     },
     "execution_count": 5,
     "metadata": {},
     "output_type": "execute_result"
    }
   ],
   "source": [
    "definiciones['descripcion'].unique()"
   ]
  },
  {
   "cell_type": "code",
   "execution_count": 6,
   "id": "62dec8a1",
   "metadata": {},
   "outputs": [
    {
     "data": {
      "text/plain": [
       "array(['sofifa_id', 'player_url', 'short_name', 'long_name',\n",
       "       'player_positions', 'overall', 'potential', 'value_eur',\n",
       "       'wage_eur', 'age', 'dob', 'height_cm', 'weight_kg', 'club_team_id',\n",
       "       'club_name', 'league_name',\n",
       "       'league_level,\"league rank of the club (e.g. English Premier League is 1, English League Championship is 2, etc.)\"',\n",
       "       'club_position,\"player position in the club (e.g. SUB means substitute, RES means reserve)\"',\n",
       "       'club_jersey_number', 'club_loaned_from', 'club_joined',\n",
       "       'club_contract_valid_until', 'nationality_id', 'nationality_name',\n",
       "       'nation_team_id', 'nation_position', 'nation_jersey_number',\n",
       "       'preferred_foot', 'weak_foot', 'skill_moves',\n",
       "       'international_reputation', 'work_rate', 'body_type', 'real_face',\n",
       "       'release_clause_eur', 'player_tags', 'player_traits', 'pace',\n",
       "       'shooting', 'passing', 'dribbling', 'defending', 'physic',\n",
       "       'attacking_crossing', 'attacking_finishing',\n",
       "       'attacking_heading_accuracy', 'attacking_short_passing',\n",
       "       'attacking_volleys', 'skill_dribbling', 'skill_curve',\n",
       "       'skill_fk_accuracy', 'skill_long_passing', 'skill_ball_control',\n",
       "       'movement_acceleration', 'movement_sprint_speed',\n",
       "       'movement_agility', 'movement_reactions', 'movement_balance',\n",
       "       'power_shot_power', 'power_jumping', 'power_stamina',\n",
       "       'power_strength', 'power_long_shots', 'mentality_aggression',\n",
       "       'mentality_interceptions', 'mentality_positioning',\n",
       "       'mentality_vision', 'mentality_penalties', 'mentality_composure',\n",
       "       'defending_marking_awareness', 'defending_standing_tackle',\n",
       "       'defending_sliding_tackle', 'goalkeeping_diving',\n",
       "       'goalkeeping_handling', 'goalkeeping_kicking',\n",
       "       'goalkeeping_positioning', 'goalkeeping_reflexes',\n",
       "       'goalkeeping_speed', 'ls', 'st', 'rs', 'lw', 'lf', 'cf', 'rf',\n",
       "       'rw', 'lam', 'cam', 'ram', 'lm', 'lcm', 'cm', 'rcm', 'rm', 'lwb',\n",
       "       'ldm', 'cdm', 'rdm', 'rwb', 'lb', 'lcb', 'cb', 'rcb', 'rb', 'gk',\n",
       "       'player_face_url', 'club_logo_url', 'club_flag_url',\n",
       "       'nation_logo_url', 'nation_flag_url'], dtype=object)"
      ]
     },
     "execution_count": 6,
     "metadata": {},
     "output_type": "execute_result"
    }
   ],
   "source": [
    "definiciones['campo'].unique()"
   ]
  },
  {
   "cell_type": "markdown",
   "id": "9b5e6923",
   "metadata": {},
   "source": [
    "## Porteros"
   ]
  },
  {
   "cell_type": "code",
   "execution_count": 7,
   "id": "abbf222c",
   "metadata": {},
   "outputs": [],
   "source": [
    "porteros=df[df['player_positions']=='GK']"
   ]
  },
  {
   "cell_type": "code",
   "execution_count": 8,
   "id": "d83d270c",
   "metadata": {},
   "outputs": [],
   "source": [
    "#me quedo con el resto de jugadores\n",
    "df=df[df['player_positions']!='GK']"
   ]
  },
  {
   "cell_type": "markdown",
   "id": "eaf86340",
   "metadata": {},
   "source": [
    "## Defensas"
   ]
  },
  {
   "cell_type": "code",
   "execution_count": 9,
   "id": "de33cd7c",
   "metadata": {},
   "outputs": [
    {
     "data": {
      "text/plain": [
       "['CF',\n",
       " 'LW',\n",
       " 'SUB',\n",
       " 'ST',\n",
       " 'LCM',\n",
       " 'RES',\n",
       " 'RS',\n",
       " 'LM',\n",
       " 'RCM',\n",
       " 'LCB',\n",
       " 'CAM',\n",
       " 'RW',\n",
       " 'LS',\n",
       " 'LDM',\n",
       " 'RCB',\n",
       " 'CB',\n",
       " 'CDM',\n",
       " 'CM',\n",
       " 'RDM',\n",
       " 'RB',\n",
       " 'RM',\n",
       " 'LB',\n",
       " 'RAM',\n",
       " 'LAM',\n",
       " nan,\n",
       " 'RWB',\n",
       " 'LF',\n",
       " 'RF',\n",
       " 'LWB']"
      ]
     },
     "execution_count": 9,
     "metadata": {},
     "output_type": "execute_result"
    }
   ],
   "source": [
    "#\"player position in the club (e.g. SUB means substitute, RES means reserve)\"\n",
    "df.club_position.unique().tolist()"
   ]
  },
  {
   "cell_type": "code",
   "execution_count": 10,
   "id": "77f3738c",
   "metadata": {},
   "outputs": [],
   "source": [
    "pos_defensas=['LCB','RCB','CB','RB','LB','RWB','LWB']"
   ]
  },
  {
   "cell_type": "code",
   "execution_count": 11,
   "id": "5640ddaa",
   "metadata": {},
   "outputs": [],
   "source": [
    "isdefense=df.club_position.isin(pos_defensas)\n",
    "defensas=df[isdefense]"
   ]
  },
  {
   "cell_type": "code",
   "execution_count": 12,
   "id": "496791c1",
   "metadata": {},
   "outputs": [],
   "source": [
    "#me quedo con el resto de jugadores\n",
    "isnotdefense=~df.club_position.isin(pos_defensas)\n",
    "df=df[isnotdefense]"
   ]
  },
  {
   "cell_type": "markdown",
   "id": "ed1cde2f",
   "metadata": {},
   "source": [
    "## Centrocampistas"
   ]
  },
  {
   "cell_type": "code",
   "execution_count": 13,
   "id": "fa546c36",
   "metadata": {},
   "outputs": [
    {
     "data": {
      "text/plain": [
       "['CF',\n",
       " 'LW',\n",
       " 'SUB',\n",
       " 'ST',\n",
       " 'LCM',\n",
       " 'RES',\n",
       " 'RS',\n",
       " 'LM',\n",
       " 'RCM',\n",
       " 'CAM',\n",
       " 'RW',\n",
       " 'LS',\n",
       " 'LDM',\n",
       " 'CDM',\n",
       " 'CM',\n",
       " 'RDM',\n",
       " 'RM',\n",
       " 'RAM',\n",
       " 'LAM',\n",
       " nan,\n",
       " 'LF',\n",
       " 'RF']"
      ]
     },
     "execution_count": 13,
     "metadata": {},
     "output_type": "execute_result"
    }
   ],
   "source": [
    "df.club_position.unique().tolist()"
   ]
  },
  {
   "cell_type": "code",
   "execution_count": 14,
   "id": "dc6374ce",
   "metadata": {},
   "outputs": [],
   "source": [
    "pos_medios=['LW','LCM','RCM','CAM','RW','LDM','CDM','CM','RDM','RM','RAM','LAM','LM']"
   ]
  },
  {
   "cell_type": "code",
   "execution_count": 15,
   "id": "d5614f34",
   "metadata": {},
   "outputs": [],
   "source": [
    "ismidfilder=df.club_position.isin(pos_medios)\n",
    "medios=df[ismidfilder]"
   ]
  },
  {
   "cell_type": "code",
   "execution_count": 16,
   "id": "b759adab",
   "metadata": {},
   "outputs": [],
   "source": [
    "#me quedo con el resto de jugadores\n",
    "isnotmidfilder=~df.club_position.isin(pos_medios)\n",
    "df=df[isnotmidfilder]"
   ]
  },
  {
   "cell_type": "markdown",
   "id": "55dfa483",
   "metadata": {},
   "source": [
    "## Delanteros"
   ]
  },
  {
   "cell_type": "code",
   "execution_count": 17,
   "id": "529c05f7",
   "metadata": {},
   "outputs": [
    {
     "data": {
      "text/plain": [
       "['CF', 'SUB', 'ST', 'RES', 'RS', 'LS', nan, 'LF', 'RF']"
      ]
     },
     "execution_count": 17,
     "metadata": {},
     "output_type": "execute_result"
    }
   ],
   "source": [
    "df.club_position.unique().tolist()"
   ]
  },
  {
   "cell_type": "code",
   "execution_count": 18,
   "id": "84c6c0d9",
   "metadata": {},
   "outputs": [],
   "source": [
    "pos_delanteros=['CF','ST','RS','LS','RF']"
   ]
  },
  {
   "cell_type": "code",
   "execution_count": 19,
   "id": "04cc8fce",
   "metadata": {},
   "outputs": [],
   "source": [
    "isforward=df.club_position.isin(pos_delanteros)\n",
    "delanteros=df[isforward]"
   ]
  },
  {
   "cell_type": "code",
   "execution_count": 20,
   "id": "044a4cf4",
   "metadata": {},
   "outputs": [],
   "source": [
    "#me quedo con el resto de jugadores\n",
    "isnotforward=~df.club_position.isin(pos_delanteros)\n",
    "df=df[isnotforward]"
   ]
  },
  {
   "cell_type": "markdown",
   "id": "77568285",
   "metadata": {},
   "source": [
    "## Jugadores pendientes de distribuir"
   ]
  },
  {
   "cell_type": "code",
   "execution_count": 21,
   "id": "96a71405",
   "metadata": {},
   "outputs": [],
   "source": [
    "#Estrategia: Hacer función\n",
    "#Si hay una posición poner el grupo de esa posicion\n",
    "#Buscar si alguna de las posiciones del jugador coincide con la posicion del jugador en la selección. Si coincide tiene esa posición y buscamos de que grupo es.\n",
    "#Si no coincide hacemos un conteo de las posiciones que tiene dentro de cada grupo => nos quedamos con el grupo con más\n",
    "#Si está igualado llamamos al jugador polivalente y lo duplicamos"
   ]
  },
  {
   "cell_type": "code",
   "execution_count": 22,
   "id": "47a739a3",
   "metadata": {},
   "outputs": [
    {
     "data": {
      "text/html": [
       "<div>\n",
       "<style scoped>\n",
       "    .dataframe tbody tr th:only-of-type {\n",
       "        vertical-align: middle;\n",
       "    }\n",
       "\n",
       "    .dataframe tbody tr th {\n",
       "        vertical-align: top;\n",
       "    }\n",
       "\n",
       "    .dataframe thead th {\n",
       "        text-align: right;\n",
       "    }\n",
       "</style>\n",
       "<table border=\"1\" class=\"dataframe\">\n",
       "  <thead>\n",
       "    <tr style=\"text-align: right;\">\n",
       "      <th></th>\n",
       "      <th>Unnamed: 0</th>\n",
       "      <th>Unnamed: 0.1</th>\n",
       "      <th>sofifa_id</th>\n",
       "      <th>short_name</th>\n",
       "      <th>long_name</th>\n",
       "      <th>player_positions</th>\n",
       "      <th>overall</th>\n",
       "      <th>potential</th>\n",
       "      <th>value_eur</th>\n",
       "      <th>wage_eur</th>\n",
       "      <th>...</th>\n",
       "      <th>rdm</th>\n",
       "      <th>rwb</th>\n",
       "      <th>lb</th>\n",
       "      <th>lcb</th>\n",
       "      <th>cb</th>\n",
       "      <th>rcb</th>\n",
       "      <th>rb</th>\n",
       "      <th>gk</th>\n",
       "      <th>año_version</th>\n",
       "      <th>progresion_anual</th>\n",
       "    </tr>\n",
       "  </thead>\n",
       "  <tbody>\n",
       "    <tr>\n",
       "      <th>2</th>\n",
       "      <td>2</td>\n",
       "      <td>2</td>\n",
       "      <td>9014</td>\n",
       "      <td>A. Robben</td>\n",
       "      <td>Arjen Robben</td>\n",
       "      <td>RM, LM, RW</td>\n",
       "      <td>90</td>\n",
       "      <td>90</td>\n",
       "      <td>54500000.0</td>\n",
       "      <td>275000.0</td>\n",
       "      <td>...</td>\n",
       "      <td>64+3</td>\n",
       "      <td>64+3</td>\n",
       "      <td>55+3</td>\n",
       "      <td>46+3</td>\n",
       "      <td>46+3</td>\n",
       "      <td>46+3</td>\n",
       "      <td>55+3</td>\n",
       "      <td>14+3</td>\n",
       "      <td>2015</td>\n",
       "      <td>0.000000</td>\n",
       "    </tr>\n",
       "    <tr>\n",
       "      <th>6</th>\n",
       "      <td>6</td>\n",
       "      <td>6</td>\n",
       "      <td>176580</td>\n",
       "      <td>L. Suárez</td>\n",
       "      <td>Luis Alberto Suárez Díaz</td>\n",
       "      <td>ST, CF</td>\n",
       "      <td>89</td>\n",
       "      <td>91</td>\n",
       "      <td>49500000.0</td>\n",
       "      <td>300000.0</td>\n",
       "      <td>...</td>\n",
       "      <td>67+3</td>\n",
       "      <td>67+3</td>\n",
       "      <td>62+3</td>\n",
       "      <td>57+3</td>\n",
       "      <td>57+3</td>\n",
       "      <td>57+3</td>\n",
       "      <td>62+3</td>\n",
       "      <td>34+3</td>\n",
       "      <td>2015</td>\n",
       "      <td>0.011236</td>\n",
       "    </tr>\n",
       "    <tr>\n",
       "      <th>8</th>\n",
       "      <td>8</td>\n",
       "      <td>8</td>\n",
       "      <td>121944</td>\n",
       "      <td>B. Schweinsteiger</td>\n",
       "      <td>Bastian Schweinsteiger</td>\n",
       "      <td>CM, CDM</td>\n",
       "      <td>88</td>\n",
       "      <td>88</td>\n",
       "      <td>39000000.0</td>\n",
       "      <td>200000.0</td>\n",
       "      <td>...</td>\n",
       "      <td>84+2</td>\n",
       "      <td>81+2</td>\n",
       "      <td>81+2</td>\n",
       "      <td>79+2</td>\n",
       "      <td>79+2</td>\n",
       "      <td>79+2</td>\n",
       "      <td>81+2</td>\n",
       "      <td>18+2</td>\n",
       "      <td>2015</td>\n",
       "      <td>-0.022727</td>\n",
       "    </tr>\n",
       "    <tr>\n",
       "      <th>9</th>\n",
       "      <td>9</td>\n",
       "      <td>9</td>\n",
       "      <td>156616</td>\n",
       "      <td>F. Ribéry</td>\n",
       "      <td>Franck Bilal Ribéry</td>\n",
       "      <td>LM</td>\n",
       "      <td>88</td>\n",
       "      <td>88</td>\n",
       "      <td>33000000.0</td>\n",
       "      <td>200000.0</td>\n",
       "      <td>...</td>\n",
       "      <td>63+2</td>\n",
       "      <td>63+2</td>\n",
       "      <td>53+2</td>\n",
       "      <td>44+2</td>\n",
       "      <td>44+2</td>\n",
       "      <td>44+2</td>\n",
       "      <td>53+2</td>\n",
       "      <td>14+2</td>\n",
       "      <td>2015</td>\n",
       "      <td>-0.011364</td>\n",
       "    </tr>\n",
       "    <tr>\n",
       "      <th>10</th>\n",
       "      <td>10</td>\n",
       "      <td>10</td>\n",
       "      <td>167397</td>\n",
       "      <td>Falcao</td>\n",
       "      <td>Radamel Falcao García Zárate</td>\n",
       "      <td>ST</td>\n",
       "      <td>88</td>\n",
       "      <td>88</td>\n",
       "      <td>46500000.0</td>\n",
       "      <td>250000.0</td>\n",
       "      <td>...</td>\n",
       "      <td>60+2</td>\n",
       "      <td>58+2</td>\n",
       "      <td>56+2</td>\n",
       "      <td>55+2</td>\n",
       "      <td>55+2</td>\n",
       "      <td>55+2</td>\n",
       "      <td>56+2</td>\n",
       "      <td>14+2</td>\n",
       "      <td>2015</td>\n",
       "      <td>-0.056818</td>\n",
       "    </tr>\n",
       "    <tr>\n",
       "      <th>...</th>\n",
       "      <td>...</td>\n",
       "      <td>...</td>\n",
       "      <td>...</td>\n",
       "      <td>...</td>\n",
       "      <td>...</td>\n",
       "      <td>...</td>\n",
       "      <td>...</td>\n",
       "      <td>...</td>\n",
       "      <td>...</td>\n",
       "      <td>...</td>\n",
       "      <td>...</td>\n",
       "      <td>...</td>\n",
       "      <td>...</td>\n",
       "      <td>...</td>\n",
       "      <td>...</td>\n",
       "      <td>...</td>\n",
       "      <td>...</td>\n",
       "      <td>...</td>\n",
       "      <td>...</td>\n",
       "      <td>...</td>\n",
       "      <td>...</td>\n",
       "    </tr>\n",
       "    <tr>\n",
       "      <th>87742</th>\n",
       "      <td>122824</td>\n",
       "      <td>18928</td>\n",
       "      <td>243790</td>\n",
       "      <td>Wang Zhen'ao</td>\n",
       "      <td>王振澳</td>\n",
       "      <td>RW</td>\n",
       "      <td>47</td>\n",
       "      <td>57</td>\n",
       "      <td>100000.0</td>\n",
       "      <td>2000.0</td>\n",
       "      <td>...</td>\n",
       "      <td>36+2</td>\n",
       "      <td>40+2</td>\n",
       "      <td>39+2</td>\n",
       "      <td>35+2</td>\n",
       "      <td>35+2</td>\n",
       "      <td>35+2</td>\n",
       "      <td>39+2</td>\n",
       "      <td>14+2</td>\n",
       "      <td>2021</td>\n",
       "      <td>0.000000</td>\n",
       "    </tr>\n",
       "    <tr>\n",
       "      <th>87743</th>\n",
       "      <td>122826</td>\n",
       "      <td>18930</td>\n",
       "      <td>250989</td>\n",
       "      <td>Wang Zhenghao</td>\n",
       "      <td>王政豪</td>\n",
       "      <td>CB</td>\n",
       "      <td>47</td>\n",
       "      <td>51</td>\n",
       "      <td>60000.0</td>\n",
       "      <td>1000.0</td>\n",
       "      <td>...</td>\n",
       "      <td>42+2</td>\n",
       "      <td>42+2</td>\n",
       "      <td>44+2</td>\n",
       "      <td>47+2</td>\n",
       "      <td>47+2</td>\n",
       "      <td>47+2</td>\n",
       "      <td>44+2</td>\n",
       "      <td>16+2</td>\n",
       "      <td>2021</td>\n",
       "      <td>0.042553</td>\n",
       "    </tr>\n",
       "    <tr>\n",
       "      <th>87744</th>\n",
       "      <td>122833</td>\n",
       "      <td>18937</td>\n",
       "      <td>257689</td>\n",
       "      <td>Wang Huapeng</td>\n",
       "      <td>王华鹏</td>\n",
       "      <td>CB</td>\n",
       "      <td>47</td>\n",
       "      <td>53</td>\n",
       "      <td>70000.0</td>\n",
       "      <td>1000.0</td>\n",
       "      <td>...</td>\n",
       "      <td>40+2</td>\n",
       "      <td>42+2</td>\n",
       "      <td>45+2</td>\n",
       "      <td>47+2</td>\n",
       "      <td>47+2</td>\n",
       "      <td>47+2</td>\n",
       "      <td>45+2</td>\n",
       "      <td>15+2</td>\n",
       "      <td>2021</td>\n",
       "      <td>0.042553</td>\n",
       "    </tr>\n",
       "    <tr>\n",
       "      <th>87745</th>\n",
       "      <td>122837</td>\n",
       "      <td>18941</td>\n",
       "      <td>257936</td>\n",
       "      <td>Song Yue</td>\n",
       "      <td>宋岳</td>\n",
       "      <td>CM</td>\n",
       "      <td>47</td>\n",
       "      <td>47</td>\n",
       "      <td>45000.0</td>\n",
       "      <td>2000.0</td>\n",
       "      <td>...</td>\n",
       "      <td>47</td>\n",
       "      <td>47</td>\n",
       "      <td>47</td>\n",
       "      <td>46+1</td>\n",
       "      <td>46+1</td>\n",
       "      <td>46+1</td>\n",
       "      <td>47</td>\n",
       "      <td>11+2</td>\n",
       "      <td>2021</td>\n",
       "      <td>0.063830</td>\n",
       "    </tr>\n",
       "    <tr>\n",
       "      <th>87746</th>\n",
       "      <td>122838</td>\n",
       "      <td>18942</td>\n",
       "      <td>258736</td>\n",
       "      <td>V. Da Silva</td>\n",
       "      <td>Ivanilson Loforte Tique Da Silva</td>\n",
       "      <td>ST</td>\n",
       "      <td>47</td>\n",
       "      <td>67</td>\n",
       "      <td>130000.0</td>\n",
       "      <td>500.0</td>\n",
       "      <td>...</td>\n",
       "      <td>32+2</td>\n",
       "      <td>35+2</td>\n",
       "      <td>33+2</td>\n",
       "      <td>26+2</td>\n",
       "      <td>26+2</td>\n",
       "      <td>26+2</td>\n",
       "      <td>33+2</td>\n",
       "      <td>14+2</td>\n",
       "      <td>2021</td>\n",
       "      <td>0.106383</td>\n",
       "    </tr>\n",
       "  </tbody>\n",
       "</table>\n",
       "<p>42090 rows × 108 columns</p>\n",
       "</div>"
      ],
      "text/plain": [
       "       Unnamed: 0  Unnamed: 0.1  sofifa_id         short_name  \\\n",
       "2               2             2       9014          A. Robben   \n",
       "6               6             6     176580          L. Suárez   \n",
       "8               8             8     121944  B. Schweinsteiger   \n",
       "9               9             9     156616          F. Ribéry   \n",
       "10             10            10     167397             Falcao   \n",
       "...           ...           ...        ...                ...   \n",
       "87742      122824         18928     243790       Wang Zhen'ao   \n",
       "87743      122826         18930     250989      Wang Zhenghao   \n",
       "87744      122833         18937     257689       Wang Huapeng   \n",
       "87745      122837         18941     257936           Song Yue   \n",
       "87746      122838         18942     258736        V. Da Silva   \n",
       "\n",
       "                              long_name player_positions  overall  potential  \\\n",
       "2                          Arjen Robben       RM, LM, RW       90         90   \n",
       "6              Luis Alberto Suárez Díaz           ST, CF       89         91   \n",
       "8                Bastian Schweinsteiger          CM, CDM       88         88   \n",
       "9                   Franck Bilal Ribéry               LM       88         88   \n",
       "10         Radamel Falcao García Zárate               ST       88         88   \n",
       "...                                 ...              ...      ...        ...   \n",
       "87742                               王振澳               RW       47         57   \n",
       "87743                               王政豪               CB       47         51   \n",
       "87744                               王华鹏               CB       47         53   \n",
       "87745                                宋岳               CM       47         47   \n",
       "87746  Ivanilson Loforte Tique Da Silva               ST       47         67   \n",
       "\n",
       "        value_eur  wage_eur  ...   rdm   rwb    lb   lcb    cb   rcb    rb  \\\n",
       "2      54500000.0  275000.0  ...  64+3  64+3  55+3  46+3  46+3  46+3  55+3   \n",
       "6      49500000.0  300000.0  ...  67+3  67+3  62+3  57+3  57+3  57+3  62+3   \n",
       "8      39000000.0  200000.0  ...  84+2  81+2  81+2  79+2  79+2  79+2  81+2   \n",
       "9      33000000.0  200000.0  ...  63+2  63+2  53+2  44+2  44+2  44+2  53+2   \n",
       "10     46500000.0  250000.0  ...  60+2  58+2  56+2  55+2  55+2  55+2  56+2   \n",
       "...           ...       ...  ...   ...   ...   ...   ...   ...   ...   ...   \n",
       "87742    100000.0    2000.0  ...  36+2  40+2  39+2  35+2  35+2  35+2  39+2   \n",
       "87743     60000.0    1000.0  ...  42+2  42+2  44+2  47+2  47+2  47+2  44+2   \n",
       "87744     70000.0    1000.0  ...  40+2  42+2  45+2  47+2  47+2  47+2  45+2   \n",
       "87745     45000.0    2000.0  ...    47    47    47  46+1  46+1  46+1    47   \n",
       "87746    130000.0     500.0  ...  32+2  35+2  33+2  26+2  26+2  26+2  33+2   \n",
       "\n",
       "         gk año_version  progresion_anual  \n",
       "2      14+3        2015          0.000000  \n",
       "6      34+3        2015          0.011236  \n",
       "8      18+2        2015         -0.022727  \n",
       "9      14+2        2015         -0.011364  \n",
       "10     14+2        2015         -0.056818  \n",
       "...     ...         ...               ...  \n",
       "87742  14+2        2021          0.000000  \n",
       "87743  16+2        2021          0.042553  \n",
       "87744  15+2        2021          0.042553  \n",
       "87745  11+2        2021          0.063830  \n",
       "87746  14+2        2021          0.106383  \n",
       "\n",
       "[42090 rows x 108 columns]"
      ]
     },
     "execution_count": 22,
     "metadata": {},
     "output_type": "execute_result"
    }
   ],
   "source": [
    "df"
   ]
  }
 ],
 "metadata": {
  "kernelspec": {
   "display_name": "Python 3",
   "language": "python",
   "name": "python3"
  },
  "language_info": {
   "codemirror_mode": {
    "name": "ipython",
    "version": 3
   },
   "file_extension": ".py",
   "mimetype": "text/x-python",
   "name": "python",
   "nbconvert_exporter": "python",
   "pygments_lexer": "ipython3",
   "version": "3.8.8"
  },
  "toc": {
   "base_numbering": 1,
   "nav_menu": {},
   "number_sections": true,
   "sideBar": true,
   "skip_h1_title": false,
   "title_cell": "Table of Contents",
   "title_sidebar": "Contents",
   "toc_cell": false,
   "toc_position": {},
   "toc_section_display": true,
   "toc_window_display": false
  },
  "varInspector": {
   "cols": {
    "lenName": 16,
    "lenType": 16,
    "lenVar": 40
   },
   "kernels_config": {
    "python": {
     "delete_cmd_postfix": "",
     "delete_cmd_prefix": "del ",
     "library": "var_list.py",
     "varRefreshCmd": "print(var_dic_list())"
    },
    "r": {
     "delete_cmd_postfix": ") ",
     "delete_cmd_prefix": "rm(",
     "library": "var_list.r",
     "varRefreshCmd": "cat(var_dic_list()) "
    }
   },
   "types_to_exclude": [
    "module",
    "function",
    "builtin_function_or_method",
    "instance",
    "_Feature"
   ],
   "window_display": false
  }
 },
 "nbformat": 4,
 "nbformat_minor": 5
}
