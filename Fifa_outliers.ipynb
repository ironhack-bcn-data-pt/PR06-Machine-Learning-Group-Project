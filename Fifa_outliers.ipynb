{
 "cells": [
  {
   "cell_type": "markdown",
   "id": "9084a0fe",
   "metadata": {},
   "source": [
    "## Importación librerias y dataset"
   ]
  },
  {
   "cell_type": "code",
   "execution_count": 1,
   "id": "d3a4b68e",
   "metadata": {},
   "outputs": [],
   "source": [
    "import pandas as pd\n",
    "import numpy as np\n",
    "\n",
    "import matplotlib as plt\n",
    "import seaborn as sns"
   ]
  },
  {
   "cell_type": "code",
   "execution_count": 2,
   "id": "d81946ca",
   "metadata": {},
   "outputs": [],
   "source": [
    "df=pd.read_csv('data\\players_total2.csv')"
   ]
  },
  {
   "cell_type": "markdown",
   "id": "bdbaed62",
   "metadata": {},
   "source": [
    "## Visualización de las variables numéricas"
   ]
  },
  {
   "cell_type": "code",
   "execution_count": 3,
   "id": "31880824",
   "metadata": {},
   "outputs": [
    {
     "name": "stdout",
     "output_type": "stream",
     "text": [
      "['Unnamed: 0', 'Unnamed: 0.1', 'sofifa_id', 'overall', 'potential', 'value_eur', 'wage_eur', 'age', 'height_cm', 'weight_kg', 'club_team_id', 'league_level', 'club_jersey_number', 'club_contract_valid_until', 'nationality_id', 'nation_team_id', 'nation_jersey_number', 'weak_foot', 'skill_moves', 'international_reputation', 'release_clause_eur', 'pace', 'shooting', 'passing', 'dribbling', 'defending', 'physic', 'attacking_crossing', 'attacking_finishing', 'attacking_heading_accuracy', 'attacking_short_passing', 'attacking_volleys', 'skill_dribbling', 'skill_curve', 'skill_fk_accuracy', 'skill_long_passing', 'skill_ball_control', 'movement_acceleration', 'movement_sprint_speed', 'movement_agility', 'movement_reactions', 'movement_balance', 'power_shot_power', 'power_jumping', 'power_stamina', 'power_strength', 'power_long_shots', 'mentality_aggression', 'mentality_interceptions', 'mentality_positioning', 'mentality_vision', 'mentality_penalties', 'mentality_composure', 'defending_marking_awareness', 'defending_standing_tackle', 'defending_sliding_tackle', 'goalkeeping_diving', 'goalkeeping_handling', 'goalkeeping_kicking', 'goalkeeping_positioning', 'goalkeeping_reflexes', 'goalkeeping_speed', 'año_version', 'progresion_anual']\n"
     ]
    }
   ],
   "source": [
    "#ver las variables numéricas\n",
    "pd.set_option('display.max_columns', None)\n",
    "print(df.select_dtypes(include=np.number).columns.tolist())"
   ]
  },
  {
   "cell_type": "markdown",
   "id": "15277571",
   "metadata": {},
   "source": [
    "## Funciones"
   ]
  },
  {
   "cell_type": "code",
   "execution_count": 4,
   "id": "e2edb194",
   "metadata": {},
   "outputs": [],
   "source": [
    "def outlier_treatment(datacolumn):\n",
    "    sorted(datacolumn)\n",
    "    Q1,Q3 = np.percentile(datacolumn , [25,75])\n",
    "    IQR = Q3 - Q1\n",
    "    lower_range = Q1 - (1.5 * IQR)\n",
    "    upper_range = Q3 + (1.5 * IQR)\n",
    "    return lower_range,upper_range"
   ]
  },
  {
   "cell_type": "code",
   "execution_count": 5,
   "id": "e9a061ad",
   "metadata": {},
   "outputs": [],
   "source": [
    "def outliers(column):\n",
    "    lower_range,upper_range = outlier_treatment(column)\n",
    "    out_inf=df[column<lower_range].count()[0]\n",
    "    out_sup=df[column>upper_range].count()[0]\n",
    "    return f'Hay {out_inf} outliers por debajo de {lower_range} y {out_sup} outliers por encima de {upper_range}.' "
   ]
  },
  {
   "cell_type": "code",
   "execution_count": 6,
   "id": "f3a546bc",
   "metadata": {},
   "outputs": [],
   "source": [
    "def outlier_detector(col,n_outliers):\n",
    "    '''Detecta los outliers en funcion del percentil. \n",
    "    Si está por encima del percil 99% o per debajo del 1%\n",
    "    \n",
    "    Sample input: ('edad',5)\n",
    "    Sample output: fila con 5 outliers por edad\n",
    "    '''\n",
    "    \n",
    "    \n",
    "    q_low = df[col].quantile(0.01)\n",
    "    q_hi  = df[col].quantile(0.99)\n",
    "    \n",
    "    while True:\n",
    "        try:\n",
    "            p=input('¿Qué quieres obtener el outiler inferior (I) o el superior (S)?')\n",
    "            if p ==\"I\":\n",
    "                return df[df[col] < q_low].sort_values(by=[col],ascending=True).head(n_outliers)\n",
    "            elif p==\"S\":\n",
    "                return df[df[col] > q_hi].sort_values(by=[col],ascending=False).head(n_outliers)\n",
    "        except:\n",
    "            pass\n"
   ]
  },
  {
   "cell_type": "markdown",
   "id": "d82c867a",
   "metadata": {},
   "source": [
    "## Analisis variables numéricas"
   ]
  },
  {
   "cell_type": "markdown",
   "id": "68a1158b",
   "metadata": {},
   "source": [
    "### Variable Age"
   ]
  },
  {
   "cell_type": "code",
   "execution_count": 7,
   "id": "8b60df5a",
   "metadata": {},
   "outputs": [
    {
     "data": {
      "text/plain": [
       "<AxesSubplot:>"
      ]
     },
     "execution_count": 7,
     "metadata": {},
     "output_type": "execute_result"
    },
    {
     "data": {
      "image/png": "[encoded data removed]",
      "text/plain": [
       "<Figure size 432x288 with 1 Axes>"
      ]
     },
     "metadata": {
      "needs_background": "light"
     },
     "output_type": "display_data"
    }
   ],
   "source": [
    "df['age'].hist()"
   ]
  },
  {
   "cell_type": "code",
   "execution_count": 8,
   "id": "3e4bab41",
   "metadata": {},
   "outputs": [
    {
     "data": {
      "text/plain": [
       "<AxesSubplot:xlabel='age'>"
      ]
     },
     "execution_count": 8,
     "metadata": {},
     "output_type": "execute_result"
    },
    {
     "data": {
      "image/png": "[encoded data removed]",
      "text/plain": [
       "<Figure size 432x288 with 1 Axes>"
      ]
     },
     "metadata": {
      "needs_background": "light"
     },
     "output_type": "display_data"
    }
   ],
   "source": [
    "sns.boxplot(x=df['age'],whis=1.5)"
   ]
  },
  {
   "cell_type": "code",
   "execution_count": 9,
   "id": "d129dab3",
   "metadata": {},
   "outputs": [
    {
     "data": {
      "text/plain": [
       "'Hay 0 outliers por debajo de 13.0 y 257 outliers por encima de 37.0.'"
      ]
     },
     "execution_count": 9,
     "metadata": {},
     "output_type": "execute_result"
    }
   ],
   "source": [
    "outliers(df['age'])"
   ]
  },
  {
   "cell_type": "code",
   "execution_count": 10,
   "id": "15d741b9",
   "metadata": {},
   "outputs": [
    {
     "data": {
      "text/plain": [
       "52"
      ]
     },
     "execution_count": 10,
     "metadata": {},
     "output_type": "execute_result"
    }
   ],
   "source": [
    "df[df['age']>=40].count()[0]"
   ]
  },
  {
   "cell_type": "code",
   "execution_count": 11,
   "id": "bd04ce7d",
   "metadata": {},
   "outputs": [
    {
     "data": {
      "text/plain": [
       "'Podemos considerar que a partir de los 40 años de edad tenemos 52 outliers. \\nSi la edad es una variable relevante podemos decidir eliminar estos outliers para que no distorsionen la prevision'"
      ]
     },
     "execution_count": 11,
     "metadata": {},
     "output_type": "execute_result"
    }
   ],
   "source": [
    "'''Podemos considerar que a partir de los 40 años de edad tenemos 52 outliers. \n",
    "Si la edad es una variable relevante podemos decidir eliminar estos outliers para que no distorsionen la prevision'''"
   ]
  },
  {
   "cell_type": "markdown",
   "id": "c79fa362",
   "metadata": {},
   "source": [
    "### Variable Height_cm"
   ]
  },
  {
   "cell_type": "code",
   "execution_count": 12,
   "id": "c81939d0",
   "metadata": {},
   "outputs": [
    {
     "data": {
      "text/plain": [
       "<AxesSubplot:xlabel='height_cm'>"
      ]
     },
     "execution_count": 12,
     "metadata": {},
     "output_type": "execute_result"
    },
    {
     "data": {
      "image/png": "[encoded data removed]",
      "text/plain": [
       "<Figure size 432x288 with 1 Axes>"
      ]
     },
     "metadata": {
      "needs_background": "light"
     },
     "output_type": "display_data"
    }
   ],
   "source": [
    "sns.boxplot(x=df['height_cm'])"
   ]
  },
  {
   "cell_type": "code",
   "execution_count": 13,
   "id": "924bb12e",
   "metadata": {},
   "outputs": [
    {
     "data": {
      "text/plain": [
       "'Hay 249 outliers por debajo de 163.5 y 126 outliers por encima de 199.5.'"
      ]
     },
     "execution_count": 13,
     "metadata": {},
     "output_type": "execute_result"
    }
   ],
   "source": [
    "outliers(df['height_cm'])"
   ]
  },
  {
   "cell_type": "code",
   "execution_count": 14,
   "id": "f4ba8644",
   "metadata": {},
   "outputs": [],
   "source": [
    "# Mejor no eliminar estos outliers porque son características físicas que pueden ir bien para una determinada posición (GK)"
   ]
  },
  {
   "cell_type": "markdown",
   "id": "af407240",
   "metadata": {},
   "source": [
    "### Variable weight_kg"
   ]
  },
  {
   "cell_type": "code",
   "execution_count": 15,
   "id": "76e83141",
   "metadata": {},
   "outputs": [
    {
     "data": {
      "text/plain": [
       "<AxesSubplot:xlabel='weight_kg'>"
      ]
     },
     "execution_count": 15,
     "metadata": {},
     "output_type": "execute_result"
    },
    {
     "data": {
      "image/png": "[encoded data removed]",
      "text/plain": [
       "<Figure size 432x288 with 1 Axes>"
      ]
     },
     "metadata": {
      "needs_background": "light"
     },
     "output_type": "display_data"
    }
   ],
   "source": [
    "sns.boxplot(x=df['weight_kg'])"
   ]
  },
  {
   "cell_type": "code",
   "execution_count": 16,
   "id": "87fb31fe",
   "metadata": {},
   "outputs": [
    {
     "data": {
      "text/plain": [
       "'Hay 42 outliers por debajo de 55.0 y 295 outliers por encima de 95.0.'"
      ]
     },
     "execution_count": 16,
     "metadata": {},
     "output_type": "execute_result"
    }
   ],
   "source": [
    "outliers(df['weight_kg'])"
   ]
  },
  {
   "cell_type": "code",
   "execution_count": 17,
   "id": "dd8a4206",
   "metadata": {},
   "outputs": [
    {
     "data": {
      "text/plain": [
       "<AxesSubplot:xlabel='weight_kg', ylabel='height_cm'>"
      ]
     },
     "execution_count": 17,
     "metadata": {},
     "output_type": "execute_result"
    },
    {
     "data": {
      "image/png": "[encoded data removed]",
      "text/plain": [
       "<Figure size 432x288 with 1 Axes>"
      ]
     },
     "metadata": {
      "needs_background": "light"
     },
     "output_type": "display_data"
    }
   ],
   "source": [
    "sns.scatterplot(data=df,x='weight_kg',y='height_cm')\n",
    "#vemos que hay una correlacion entre peso y altura"
   ]
  },
  {
   "cell_type": "code",
   "execution_count": 18,
   "id": "6c20cb97",
   "metadata": {},
   "outputs": [
    {
     "data": {
      "text/html": [
       "<div>\n",
       "<style scoped>\n",
       "    .dataframe tbody tr th:only-of-type {\n",
       "        vertical-align: middle;\n",
       "    }\n",
       "\n",
       "    .dataframe tbody tr th {\n",
       "        vertical-align: top;\n",
       "    }\n",
       "\n",
       "    .dataframe thead th {\n",
       "        text-align: right;\n",
       "    }\n",
       "</style>\n",
       "<table border=\"1\" class=\"dataframe\">\n",
       "  <thead>\n",
       "    <tr style=\"text-align: right;\">\n",
       "      <th></th>\n",
       "      <th>Unnamed: 0</th>\n",
       "      <th>Unnamed: 0.1</th>\n",
       "      <th>sofifa_id</th>\n",
       "      <th>short_name</th>\n",
       "      <th>long_name</th>\n",
       "      <th>player_positions</th>\n",
       "      <th>overall</th>\n",
       "      <th>potential</th>\n",
       "      <th>value_eur</th>\n",
       "      <th>wage_eur</th>\n",
       "      <th>age</th>\n",
       "      <th>dob</th>\n",
       "      <th>height_cm</th>\n",
       "      <th>weight_kg</th>\n",
       "      <th>club_team_id</th>\n",
       "      <th>club_name</th>\n",
       "      <th>league_name</th>\n",
       "      <th>league_level</th>\n",
       "      <th>club_position</th>\n",
       "      <th>club_jersey_number</th>\n",
       "      <th>club_loaned_from</th>\n",
       "      <th>club_joined</th>\n",
       "      <th>club_contract_valid_until</th>\n",
       "      <th>nationality_id</th>\n",
       "      <th>nationality_name</th>\n",
       "      <th>nation_team_id</th>\n",
       "      <th>nation_position</th>\n",
       "      <th>nation_jersey_number</th>\n",
       "      <th>preferred_foot</th>\n",
       "      <th>weak_foot</th>\n",
       "      <th>skill_moves</th>\n",
       "      <th>international_reputation</th>\n",
       "      <th>work_rate</th>\n",
       "      <th>body_type</th>\n",
       "      <th>real_face</th>\n",
       "      <th>release_clause_eur</th>\n",
       "      <th>player_tags</th>\n",
       "      <th>player_traits</th>\n",
       "      <th>pace</th>\n",
       "      <th>shooting</th>\n",
       "      <th>passing</th>\n",
       "      <th>dribbling</th>\n",
       "      <th>defending</th>\n",
       "      <th>physic</th>\n",
       "      <th>attacking_crossing</th>\n",
       "      <th>attacking_finishing</th>\n",
       "      <th>attacking_heading_accuracy</th>\n",
       "      <th>attacking_short_passing</th>\n",
       "      <th>attacking_volleys</th>\n",
       "      <th>skill_dribbling</th>\n",
       "      <th>skill_curve</th>\n",
       "      <th>skill_fk_accuracy</th>\n",
       "      <th>skill_long_passing</th>\n",
       "      <th>skill_ball_control</th>\n",
       "      <th>movement_acceleration</th>\n",
       "      <th>movement_sprint_speed</th>\n",
       "      <th>movement_agility</th>\n",
       "      <th>movement_reactions</th>\n",
       "      <th>movement_balance</th>\n",
       "      <th>power_shot_power</th>\n",
       "      <th>power_jumping</th>\n",
       "      <th>power_stamina</th>\n",
       "      <th>power_strength</th>\n",
       "      <th>power_long_shots</th>\n",
       "      <th>mentality_aggression</th>\n",
       "      <th>mentality_interceptions</th>\n",
       "      <th>mentality_positioning</th>\n",
       "      <th>mentality_vision</th>\n",
       "      <th>mentality_penalties</th>\n",
       "      <th>mentality_composure</th>\n",
       "      <th>defending_marking_awareness</th>\n",
       "      <th>defending_standing_tackle</th>\n",
       "      <th>defending_sliding_tackle</th>\n",
       "      <th>goalkeeping_diving</th>\n",
       "      <th>goalkeeping_handling</th>\n",
       "      <th>goalkeeping_kicking</th>\n",
       "      <th>goalkeeping_positioning</th>\n",
       "      <th>goalkeeping_reflexes</th>\n",
       "      <th>goalkeeping_speed</th>\n",
       "      <th>ls</th>\n",
       "      <th>st</th>\n",
       "      <th>rs</th>\n",
       "      <th>lw</th>\n",
       "      <th>lf</th>\n",
       "      <th>cf</th>\n",
       "      <th>rf</th>\n",
       "      <th>rw</th>\n",
       "      <th>lam</th>\n",
       "      <th>cam</th>\n",
       "      <th>ram</th>\n",
       "      <th>lm</th>\n",
       "      <th>lcm</th>\n",
       "      <th>cm</th>\n",
       "      <th>rcm</th>\n",
       "      <th>rm</th>\n",
       "      <th>lwb</th>\n",
       "      <th>ldm</th>\n",
       "      <th>cdm</th>\n",
       "      <th>rdm</th>\n",
       "      <th>rwb</th>\n",
       "      <th>lb</th>\n",
       "      <th>lcb</th>\n",
       "      <th>cb</th>\n",
       "      <th>rcb</th>\n",
       "      <th>rb</th>\n",
       "      <th>gk</th>\n",
       "      <th>año_version</th>\n",
       "      <th>progresion_anual</th>\n",
       "    </tr>\n",
       "  </thead>\n",
       "  <tbody>\n",
       "    <tr>\n",
       "      <th>7422</th>\n",
       "      <td>9377</td>\n",
       "      <td>9377</td>\n",
       "      <td>156321</td>\n",
       "      <td>A. Akinfenwa</td>\n",
       "      <td>Saheed Adebayo Akinfenwa</td>\n",
       "      <td>ST</td>\n",
       "      <td>62</td>\n",
       "      <td>62</td>\n",
       "      <td>275000.0</td>\n",
       "      <td>2000.0</td>\n",
       "      <td>32</td>\n",
       "      <td>1982-05-10</td>\n",
       "      <td>178</td>\n",
       "      <td>110</td>\n",
       "      <td>112259.0</td>\n",
       "      <td>AFC Wimbledon</td>\n",
       "      <td>English League Two</td>\n",
       "      <td>4.0</td>\n",
       "      <td>RS</td>\n",
       "      <td>10.0</td>\n",
       "      <td>NaN</td>\n",
       "      <td>2014-06-20</td>\n",
       "      <td>2015.0</td>\n",
       "      <td>14</td>\n",
       "      <td>England</td>\n",
       "      <td>NaN</td>\n",
       "      <td>NaN</td>\n",
       "      <td>NaN</td>\n",
       "      <td>Right</td>\n",
       "      <td>3</td>\n",
       "      <td>2</td>\n",
       "      <td>1</td>\n",
       "      <td>Low/Low</td>\n",
       "      <td>Stocky (170-185)</td>\n",
       "      <td>No</td>\n",
       "      <td>NaN</td>\n",
       "      <td>#Strength</td>\n",
       "      <td>NaN</td>\n",
       "      <td>50.0</td>\n",
       "      <td>59.0</td>\n",
       "      <td>53.0</td>\n",
       "      <td>61.0</td>\n",
       "      <td>34.0</td>\n",
       "      <td>78.0</td>\n",
       "      <td>38</td>\n",
       "      <td>63</td>\n",
       "      <td>68</td>\n",
       "      <td>59</td>\n",
       "      <td>58</td>\n",
       "      <td>60</td>\n",
       "      <td>49</td>\n",
       "      <td>41</td>\n",
       "      <td>49</td>\n",
       "      <td>69</td>\n",
       "      <td>45</td>\n",
       "      <td>54</td>\n",
       "      <td>41</td>\n",
       "      <td>59</td>\n",
       "      <td>70</td>\n",
       "      <td>54</td>\n",
       "      <td>57</td>\n",
       "      <td>59</td>\n",
       "      <td>97</td>\n",
       "      <td>49</td>\n",
       "      <td>59</td>\n",
       "      <td>25</td>\n",
       "      <td>67</td>\n",
       "      <td>64</td>\n",
       "      <td>66</td>\n",
       "      <td>NaN</td>\n",
       "      <td>25</td>\n",
       "      <td>40</td>\n",
       "      <td>25</td>\n",
       "      <td>13</td>\n",
       "      <td>6</td>\n",
       "      <td>14</td>\n",
       "      <td>5</td>\n",
       "      <td>15</td>\n",
       "      <td>NaN</td>\n",
       "      <td>62</td>\n",
       "      <td>62</td>\n",
       "      <td>62</td>\n",
       "      <td>56</td>\n",
       "      <td>60</td>\n",
       "      <td>60</td>\n",
       "      <td>60</td>\n",
       "      <td>56</td>\n",
       "      <td>60</td>\n",
       "      <td>60</td>\n",
       "      <td>60</td>\n",
       "      <td>56</td>\n",
       "      <td>56</td>\n",
       "      <td>56</td>\n",
       "      <td>56</td>\n",
       "      <td>56</td>\n",
       "      <td>45</td>\n",
       "      <td>52</td>\n",
       "      <td>52</td>\n",
       "      <td>52</td>\n",
       "      <td>45</td>\n",
       "      <td>44</td>\n",
       "      <td>48</td>\n",
       "      <td>48</td>\n",
       "      <td>48</td>\n",
       "      <td>44</td>\n",
       "      <td>13</td>\n",
       "      <td>2015</td>\n",
       "      <td>0.032258</td>\n",
       "    </tr>\n",
       "    <tr>\n",
       "      <th>18450</th>\n",
       "      <td>24934</td>\n",
       "      <td>8779</td>\n",
       "      <td>156321</td>\n",
       "      <td>A. Akinfenwa</td>\n",
       "      <td>Saheed Adebayo Akinfenwa</td>\n",
       "      <td>ST</td>\n",
       "      <td>64</td>\n",
       "      <td>64</td>\n",
       "      <td>300000.0</td>\n",
       "      <td>2000.0</td>\n",
       "      <td>33</td>\n",
       "      <td>1982-05-10</td>\n",
       "      <td>178</td>\n",
       "      <td>110</td>\n",
       "      <td>112259.0</td>\n",
       "      <td>AFC Wimbledon</td>\n",
       "      <td>English League Two</td>\n",
       "      <td>4.0</td>\n",
       "      <td>LS</td>\n",
       "      <td>10.0</td>\n",
       "      <td>NaN</td>\n",
       "      <td>2014-06-20</td>\n",
       "      <td>2016.0</td>\n",
       "      <td>14</td>\n",
       "      <td>England</td>\n",
       "      <td>NaN</td>\n",
       "      <td>NaN</td>\n",
       "      <td>NaN</td>\n",
       "      <td>Right</td>\n",
       "      <td>3</td>\n",
       "      <td>2</td>\n",
       "      <td>1</td>\n",
       "      <td>Low/Low</td>\n",
       "      <td>Unique</td>\n",
       "      <td>Yes</td>\n",
       "      <td>NaN</td>\n",
       "      <td>#Strength</td>\n",
       "      <td>NaN</td>\n",
       "      <td>49.0</td>\n",
       "      <td>60.0</td>\n",
       "      <td>54.0</td>\n",
       "      <td>62.0</td>\n",
       "      <td>35.0</td>\n",
       "      <td>81.0</td>\n",
       "      <td>39</td>\n",
       "      <td>64</td>\n",
       "      <td>69</td>\n",
       "      <td>60</td>\n",
       "      <td>59</td>\n",
       "      <td>61</td>\n",
       "      <td>50</td>\n",
       "      <td>42</td>\n",
       "      <td>50</td>\n",
       "      <td>71</td>\n",
       "      <td>45</td>\n",
       "      <td>52</td>\n",
       "      <td>32</td>\n",
       "      <td>60</td>\n",
       "      <td>70</td>\n",
       "      <td>55</td>\n",
       "      <td>57</td>\n",
       "      <td>69</td>\n",
       "      <td>98</td>\n",
       "      <td>50</td>\n",
       "      <td>60</td>\n",
       "      <td>17</td>\n",
       "      <td>68</td>\n",
       "      <td>65</td>\n",
       "      <td>67</td>\n",
       "      <td>NaN</td>\n",
       "      <td>32</td>\n",
       "      <td>41</td>\n",
       "      <td>24</td>\n",
       "      <td>14</td>\n",
       "      <td>7</td>\n",
       "      <td>15</td>\n",
       "      <td>6</td>\n",
       "      <td>16</td>\n",
       "      <td>NaN</td>\n",
       "      <td>64</td>\n",
       "      <td>64</td>\n",
       "      <td>64</td>\n",
       "      <td>58</td>\n",
       "      <td>62</td>\n",
       "      <td>62</td>\n",
       "      <td>62</td>\n",
       "      <td>58</td>\n",
       "      <td>61</td>\n",
       "      <td>61</td>\n",
       "      <td>61</td>\n",
       "      <td>59</td>\n",
       "      <td>59</td>\n",
       "      <td>59</td>\n",
       "      <td>59</td>\n",
       "      <td>59</td>\n",
       "      <td>46</td>\n",
       "      <td>50</td>\n",
       "      <td>50</td>\n",
       "      <td>50</td>\n",
       "      <td>46</td>\n",
       "      <td>44</td>\n",
       "      <td>49</td>\n",
       "      <td>49</td>\n",
       "      <td>49</td>\n",
       "      <td>44</td>\n",
       "      <td>16</td>\n",
       "      <td>2016</td>\n",
       "      <td>0.000000</td>\n",
       "    </tr>\n",
       "    <tr>\n",
       "      <th>31262</th>\n",
       "      <td>42396</td>\n",
       "      <td>10618</td>\n",
       "      <td>156321</td>\n",
       "      <td>A. Akinfenwa</td>\n",
       "      <td>Saheed Adebayo Akinfenwa</td>\n",
       "      <td>ST</td>\n",
       "      <td>64</td>\n",
       "      <td>64</td>\n",
       "      <td>230000.0</td>\n",
       "      <td>7000.0</td>\n",
       "      <td>34</td>\n",
       "      <td>1982-05-10</td>\n",
       "      <td>178</td>\n",
       "      <td>110</td>\n",
       "      <td>1933.0</td>\n",
       "      <td>Wycombe Wanderers</td>\n",
       "      <td>English League Two</td>\n",
       "      <td>4.0</td>\n",
       "      <td>SUB</td>\n",
       "      <td>20.0</td>\n",
       "      <td>NaN</td>\n",
       "      <td>2016-07-10</td>\n",
       "      <td>2017.0</td>\n",
       "      <td>14</td>\n",
       "      <td>England</td>\n",
       "      <td>NaN</td>\n",
       "      <td>NaN</td>\n",
       "      <td>NaN</td>\n",
       "      <td>Right</td>\n",
       "      <td>3</td>\n",
       "      <td>2</td>\n",
       "      <td>1</td>\n",
       "      <td>Low/Low</td>\n",
       "      <td>Unique</td>\n",
       "      <td>Yes</td>\n",
       "      <td>NaN</td>\n",
       "      <td>#Strength</td>\n",
       "      <td>Backs Into Player, Target Forward</td>\n",
       "      <td>45.0</td>\n",
       "      <td>60.0</td>\n",
       "      <td>51.0</td>\n",
       "      <td>60.0</td>\n",
       "      <td>35.0</td>\n",
       "      <td>80.0</td>\n",
       "      <td>39</td>\n",
       "      <td>64</td>\n",
       "      <td>68</td>\n",
       "      <td>56</td>\n",
       "      <td>59</td>\n",
       "      <td>59</td>\n",
       "      <td>50</td>\n",
       "      <td>42</td>\n",
       "      <td>47</td>\n",
       "      <td>69</td>\n",
       "      <td>41</td>\n",
       "      <td>49</td>\n",
       "      <td>29</td>\n",
       "      <td>61</td>\n",
       "      <td>70</td>\n",
       "      <td>57</td>\n",
       "      <td>50</td>\n",
       "      <td>63</td>\n",
       "      <td>98</td>\n",
       "      <td>50</td>\n",
       "      <td>63</td>\n",
       "      <td>17</td>\n",
       "      <td>68</td>\n",
       "      <td>62</td>\n",
       "      <td>66</td>\n",
       "      <td>70.0</td>\n",
       "      <td>33</td>\n",
       "      <td>40</td>\n",
       "      <td>24</td>\n",
       "      <td>14</td>\n",
       "      <td>7</td>\n",
       "      <td>15</td>\n",
       "      <td>6</td>\n",
       "      <td>16</td>\n",
       "      <td>NaN</td>\n",
       "      <td>63+1</td>\n",
       "      <td>63+1</td>\n",
       "      <td>63+1</td>\n",
       "      <td>57</td>\n",
       "      <td>61</td>\n",
       "      <td>61</td>\n",
       "      <td>61</td>\n",
       "      <td>57</td>\n",
       "      <td>59+1</td>\n",
       "      <td>59+1</td>\n",
       "      <td>59+1</td>\n",
       "      <td>57+1</td>\n",
       "      <td>56+1</td>\n",
       "      <td>56+1</td>\n",
       "      <td>56+1</td>\n",
       "      <td>57+1</td>\n",
       "      <td>44+1</td>\n",
       "      <td>48+1</td>\n",
       "      <td>48+1</td>\n",
       "      <td>48+1</td>\n",
       "      <td>44+1</td>\n",
       "      <td>43+1</td>\n",
       "      <td>48+1</td>\n",
       "      <td>48+1</td>\n",
       "      <td>48+1</td>\n",
       "      <td>43+1</td>\n",
       "      <td>16+1</td>\n",
       "      <td>2017</td>\n",
       "      <td>0.000000</td>\n",
       "    </tr>\n",
       "    <tr>\n",
       "      <th>43850</th>\n",
       "      <td>60285</td>\n",
       "      <td>10911</td>\n",
       "      <td>156321</td>\n",
       "      <td>A. Akinfenwa</td>\n",
       "      <td>Saheed Adebayo Akinfenwa</td>\n",
       "      <td>ST</td>\n",
       "      <td>64</td>\n",
       "      <td>64</td>\n",
       "      <td>210000.0</td>\n",
       "      <td>5000.0</td>\n",
       "      <td>35</td>\n",
       "      <td>1982-05-10</td>\n",
       "      <td>178</td>\n",
       "      <td>110</td>\n",
       "      <td>1933.0</td>\n",
       "      <td>Wycombe Wanderers</td>\n",
       "      <td>English League Two</td>\n",
       "      <td>4.0</td>\n",
       "      <td>ST</td>\n",
       "      <td>20.0</td>\n",
       "      <td>NaN</td>\n",
       "      <td>2016-07-10</td>\n",
       "      <td>2018.0</td>\n",
       "      <td>14</td>\n",
       "      <td>England</td>\n",
       "      <td>NaN</td>\n",
       "      <td>NaN</td>\n",
       "      <td>NaN</td>\n",
       "      <td>Right</td>\n",
       "      <td>3</td>\n",
       "      <td>2</td>\n",
       "      <td>1</td>\n",
       "      <td>Low/Low</td>\n",
       "      <td>Unique</td>\n",
       "      <td>Yes</td>\n",
       "      <td>368000.0</td>\n",
       "      <td>#Strength</td>\n",
       "      <td>Power Header, Backs Into Player, Target Forward</td>\n",
       "      <td>45.0</td>\n",
       "      <td>61.0</td>\n",
       "      <td>51.0</td>\n",
       "      <td>56.0</td>\n",
       "      <td>35.0</td>\n",
       "      <td>80.0</td>\n",
       "      <td>39</td>\n",
       "      <td>64</td>\n",
       "      <td>71</td>\n",
       "      <td>56</td>\n",
       "      <td>59</td>\n",
       "      <td>52</td>\n",
       "      <td>50</td>\n",
       "      <td>42</td>\n",
       "      <td>47</td>\n",
       "      <td>69</td>\n",
       "      <td>41</td>\n",
       "      <td>49</td>\n",
       "      <td>29</td>\n",
       "      <td>61</td>\n",
       "      <td>70</td>\n",
       "      <td>61</td>\n",
       "      <td>50</td>\n",
       "      <td>63</td>\n",
       "      <td>98</td>\n",
       "      <td>51</td>\n",
       "      <td>63</td>\n",
       "      <td>17</td>\n",
       "      <td>68</td>\n",
       "      <td>62</td>\n",
       "      <td>66</td>\n",
       "      <td>70.0</td>\n",
       "      <td>33</td>\n",
       "      <td>40</td>\n",
       "      <td>24</td>\n",
       "      <td>14</td>\n",
       "      <td>7</td>\n",
       "      <td>15</td>\n",
       "      <td>6</td>\n",
       "      <td>16</td>\n",
       "      <td>NaN</td>\n",
       "      <td>63+1</td>\n",
       "      <td>63+1</td>\n",
       "      <td>63+1</td>\n",
       "      <td>56</td>\n",
       "      <td>60</td>\n",
       "      <td>60</td>\n",
       "      <td>60</td>\n",
       "      <td>56</td>\n",
       "      <td>58+1</td>\n",
       "      <td>58+1</td>\n",
       "      <td>58+1</td>\n",
       "      <td>56+1</td>\n",
       "      <td>56+1</td>\n",
       "      <td>56+1</td>\n",
       "      <td>56+1</td>\n",
       "      <td>56+1</td>\n",
       "      <td>44+1</td>\n",
       "      <td>48+1</td>\n",
       "      <td>48+1</td>\n",
       "      <td>48+1</td>\n",
       "      <td>44+1</td>\n",
       "      <td>43+1</td>\n",
       "      <td>48+1</td>\n",
       "      <td>48+1</td>\n",
       "      <td>48+1</td>\n",
       "      <td>43+1</td>\n",
       "      <td>16+1</td>\n",
       "      <td>2018</td>\n",
       "      <td>0.031250</td>\n",
       "    </tr>\n",
       "    <tr>\n",
       "      <th>55238</th>\n",
       "      <td>76015</td>\n",
       "      <td>8687</td>\n",
       "      <td>156321</td>\n",
       "      <td>A. Akinfenwa</td>\n",
       "      <td>Saheed Adebayo Akinfenwa</td>\n",
       "      <td>ST</td>\n",
       "      <td>66</td>\n",
       "      <td>66</td>\n",
       "      <td>230000.0</td>\n",
       "      <td>3000.0</td>\n",
       "      <td>36</td>\n",
       "      <td>1982-05-10</td>\n",
       "      <td>178</td>\n",
       "      <td>110</td>\n",
       "      <td>1933.0</td>\n",
       "      <td>Wycombe Wanderers</td>\n",
       "      <td>English League One</td>\n",
       "      <td>3.0</td>\n",
       "      <td>ST</td>\n",
       "      <td>20.0</td>\n",
       "      <td>NaN</td>\n",
       "      <td>2016-07-10</td>\n",
       "      <td>2022.0</td>\n",
       "      <td>14</td>\n",
       "      <td>England</td>\n",
       "      <td>NaN</td>\n",
       "      <td>NaN</td>\n",
       "      <td>NaN</td>\n",
       "      <td>Right</td>\n",
       "      <td>3</td>\n",
       "      <td>2</td>\n",
       "      <td>1</td>\n",
       "      <td>Low/Low</td>\n",
       "      <td>Unique</td>\n",
       "      <td>Yes</td>\n",
       "      <td>403000.0</td>\n",
       "      <td>#Strength</td>\n",
       "      <td>Injury Free, Power Header, Backs Into Player, ...</td>\n",
       "      <td>44.0</td>\n",
       "      <td>64.0</td>\n",
       "      <td>53.0</td>\n",
       "      <td>57.0</td>\n",
       "      <td>33.0</td>\n",
       "      <td>83.0</td>\n",
       "      <td>39</td>\n",
       "      <td>66</td>\n",
       "      <td>71</td>\n",
       "      <td>59</td>\n",
       "      <td>59</td>\n",
       "      <td>52</td>\n",
       "      <td>50</td>\n",
       "      <td>42</td>\n",
       "      <td>47</td>\n",
       "      <td>69</td>\n",
       "      <td>38</td>\n",
       "      <td>49</td>\n",
       "      <td>35</td>\n",
       "      <td>61</td>\n",
       "      <td>71</td>\n",
       "      <td>70</td>\n",
       "      <td>49</td>\n",
       "      <td>77</td>\n",
       "      <td>97</td>\n",
       "      <td>54</td>\n",
       "      <td>66</td>\n",
       "      <td>17</td>\n",
       "      <td>71</td>\n",
       "      <td>62</td>\n",
       "      <td>66</td>\n",
       "      <td>70.0</td>\n",
       "      <td>27</td>\n",
       "      <td>40</td>\n",
       "      <td>24</td>\n",
       "      <td>14</td>\n",
       "      <td>7</td>\n",
       "      <td>15</td>\n",
       "      <td>6</td>\n",
       "      <td>16</td>\n",
       "      <td>NaN</td>\n",
       "      <td>65+1</td>\n",
       "      <td>65+1</td>\n",
       "      <td>65+1</td>\n",
       "      <td>57</td>\n",
       "      <td>61</td>\n",
       "      <td>61</td>\n",
       "      <td>61</td>\n",
       "      <td>57</td>\n",
       "      <td>59+1</td>\n",
       "      <td>59+1</td>\n",
       "      <td>59+1</td>\n",
       "      <td>57+1</td>\n",
       "      <td>58+1</td>\n",
       "      <td>58+1</td>\n",
       "      <td>58+1</td>\n",
       "      <td>57+1</td>\n",
       "      <td>45+1</td>\n",
       "      <td>49+1</td>\n",
       "      <td>49+1</td>\n",
       "      <td>49+1</td>\n",
       "      <td>45+1</td>\n",
       "      <td>44+1</td>\n",
       "      <td>48+1</td>\n",
       "      <td>48+1</td>\n",
       "      <td>48+1</td>\n",
       "      <td>44+1</td>\n",
       "      <td>16+1</td>\n",
       "      <td>2019</td>\n",
       "      <td>-0.015152</td>\n",
       "    </tr>\n",
       "    <tr>\n",
       "      <th>69286</th>\n",
       "      <td>95396</td>\n",
       "      <td>9983</td>\n",
       "      <td>156321</td>\n",
       "      <td>A. Akinfenwa</td>\n",
       "      <td>Saheed Adebayo Akinfenwa</td>\n",
       "      <td>ST</td>\n",
       "      <td>65</td>\n",
       "      <td>65</td>\n",
       "      <td>160000.0</td>\n",
       "      <td>2000.0</td>\n",
       "      <td>37</td>\n",
       "      <td>1982-05-10</td>\n",
       "      <td>178</td>\n",
       "      <td>110</td>\n",
       "      <td>1933.0</td>\n",
       "      <td>Wycombe Wanderers</td>\n",
       "      <td>English League One</td>\n",
       "      <td>3.0</td>\n",
       "      <td>ST</td>\n",
       "      <td>20.0</td>\n",
       "      <td>NaN</td>\n",
       "      <td>2016-07-10</td>\n",
       "      <td>2020.0</td>\n",
       "      <td>14</td>\n",
       "      <td>England</td>\n",
       "      <td>NaN</td>\n",
       "      <td>NaN</td>\n",
       "      <td>NaN</td>\n",
       "      <td>Right</td>\n",
       "      <td>3</td>\n",
       "      <td>2</td>\n",
       "      <td>1</td>\n",
       "      <td>Low/Low</td>\n",
       "      <td>Unique</td>\n",
       "      <td>Yes</td>\n",
       "      <td>333000.0</td>\n",
       "      <td>#Strength</td>\n",
       "      <td>Solid Player, Power Header</td>\n",
       "      <td>43.0</td>\n",
       "      <td>63.0</td>\n",
       "      <td>54.0</td>\n",
       "      <td>56.0</td>\n",
       "      <td>35.0</td>\n",
       "      <td>81.0</td>\n",
       "      <td>44</td>\n",
       "      <td>64</td>\n",
       "      <td>72</td>\n",
       "      <td>60</td>\n",
       "      <td>59</td>\n",
       "      <td>52</td>\n",
       "      <td>50</td>\n",
       "      <td>42</td>\n",
       "      <td>51</td>\n",
       "      <td>67</td>\n",
       "      <td>37</td>\n",
       "      <td>48</td>\n",
       "      <td>35</td>\n",
       "      <td>61</td>\n",
       "      <td>71</td>\n",
       "      <td>70</td>\n",
       "      <td>49</td>\n",
       "      <td>69</td>\n",
       "      <td>97</td>\n",
       "      <td>54</td>\n",
       "      <td>66</td>\n",
       "      <td>17</td>\n",
       "      <td>68</td>\n",
       "      <td>61</td>\n",
       "      <td>64</td>\n",
       "      <td>67.0</td>\n",
       "      <td>32</td>\n",
       "      <td>40</td>\n",
       "      <td>24</td>\n",
       "      <td>14</td>\n",
       "      <td>7</td>\n",
       "      <td>15</td>\n",
       "      <td>6</td>\n",
       "      <td>16</td>\n",
       "      <td>NaN</td>\n",
       "      <td>64+1</td>\n",
       "      <td>64+1</td>\n",
       "      <td>64+1</td>\n",
       "      <td>56</td>\n",
       "      <td>60</td>\n",
       "      <td>60</td>\n",
       "      <td>60</td>\n",
       "      <td>56</td>\n",
       "      <td>59+2</td>\n",
       "      <td>59+2</td>\n",
       "      <td>59+2</td>\n",
       "      <td>57+2</td>\n",
       "      <td>57+2</td>\n",
       "      <td>57+2</td>\n",
       "      <td>57+2</td>\n",
       "      <td>57+2</td>\n",
       "      <td>45+2</td>\n",
       "      <td>49+2</td>\n",
       "      <td>49+2</td>\n",
       "      <td>49+2</td>\n",
       "      <td>45+2</td>\n",
       "      <td>44+2</td>\n",
       "      <td>49+2</td>\n",
       "      <td>49+2</td>\n",
       "      <td>49+2</td>\n",
       "      <td>44+2</td>\n",
       "      <td>16+2</td>\n",
       "      <td>2020</td>\n",
       "      <td>0.000000</td>\n",
       "    </tr>\n",
       "    <tr>\n",
       "      <th>82300</th>\n",
       "      <td>113484</td>\n",
       "      <td>9588</td>\n",
       "      <td>156321</td>\n",
       "      <td>A. Akinfenwa</td>\n",
       "      <td>Saheed Adebayo Akinfenwa</td>\n",
       "      <td>ST</td>\n",
       "      <td>65</td>\n",
       "      <td>65</td>\n",
       "      <td>240000.0</td>\n",
       "      <td>3000.0</td>\n",
       "      <td>38</td>\n",
       "      <td>1982-05-10</td>\n",
       "      <td>178</td>\n",
       "      <td>110</td>\n",
       "      <td>1933.0</td>\n",
       "      <td>Wycombe Wanderers</td>\n",
       "      <td>English League Championship</td>\n",
       "      <td>2.0</td>\n",
       "      <td>SUB</td>\n",
       "      <td>20.0</td>\n",
       "      <td>NaN</td>\n",
       "      <td>2016-07-10</td>\n",
       "      <td>2021.0</td>\n",
       "      <td>14</td>\n",
       "      <td>England</td>\n",
       "      <td>NaN</td>\n",
       "      <td>NaN</td>\n",
       "      <td>NaN</td>\n",
       "      <td>Right</td>\n",
       "      <td>3</td>\n",
       "      <td>2</td>\n",
       "      <td>1</td>\n",
       "      <td>Low/Low</td>\n",
       "      <td>Unique</td>\n",
       "      <td>Yes</td>\n",
       "      <td>352000.0</td>\n",
       "      <td>#Strength</td>\n",
       "      <td>Solid Player, Power Header</td>\n",
       "      <td>42.0</td>\n",
       "      <td>64.0</td>\n",
       "      <td>54.0</td>\n",
       "      <td>56.0</td>\n",
       "      <td>35.0</td>\n",
       "      <td>81.0</td>\n",
       "      <td>44</td>\n",
       "      <td>64</td>\n",
       "      <td>74</td>\n",
       "      <td>60</td>\n",
       "      <td>59</td>\n",
       "      <td>50</td>\n",
       "      <td>50</td>\n",
       "      <td>42</td>\n",
       "      <td>52</td>\n",
       "      <td>68</td>\n",
       "      <td>37</td>\n",
       "      <td>46</td>\n",
       "      <td>34</td>\n",
       "      <td>63</td>\n",
       "      <td>71</td>\n",
       "      <td>71</td>\n",
       "      <td>49</td>\n",
       "      <td>65</td>\n",
       "      <td>97</td>\n",
       "      <td>56</td>\n",
       "      <td>69</td>\n",
       "      <td>17</td>\n",
       "      <td>68</td>\n",
       "      <td>61</td>\n",
       "      <td>64</td>\n",
       "      <td>68.0</td>\n",
       "      <td>32</td>\n",
       "      <td>40</td>\n",
       "      <td>24</td>\n",
       "      <td>14</td>\n",
       "      <td>7</td>\n",
       "      <td>15</td>\n",
       "      <td>6</td>\n",
       "      <td>16</td>\n",
       "      <td>NaN</td>\n",
       "      <td>65</td>\n",
       "      <td>65</td>\n",
       "      <td>65</td>\n",
       "      <td>56</td>\n",
       "      <td>60</td>\n",
       "      <td>60</td>\n",
       "      <td>60</td>\n",
       "      <td>56</td>\n",
       "      <td>59+2</td>\n",
       "      <td>59+2</td>\n",
       "      <td>59+2</td>\n",
       "      <td>57+2</td>\n",
       "      <td>57+2</td>\n",
       "      <td>57+2</td>\n",
       "      <td>57+2</td>\n",
       "      <td>57+2</td>\n",
       "      <td>45+2</td>\n",
       "      <td>50+2</td>\n",
       "      <td>50+2</td>\n",
       "      <td>50+2</td>\n",
       "      <td>45+2</td>\n",
       "      <td>44+2</td>\n",
       "      <td>49+2</td>\n",
       "      <td>49+2</td>\n",
       "      <td>49+2</td>\n",
       "      <td>44+2</td>\n",
       "      <td>17+2</td>\n",
       "      <td>2021</td>\n",
       "      <td>0.000000</td>\n",
       "    </tr>\n",
       "  </tbody>\n",
       "</table>\n",
       "</div>"
      ],
      "text/plain": [
       "       Unnamed: 0  Unnamed: 0.1  sofifa_id    short_name  \\\n",
       "7422         9377          9377     156321  A. Akinfenwa   \n",
       "18450       24934          8779     156321  A. Akinfenwa   \n",
       "31262       42396         10618     156321  A. Akinfenwa   \n",
       "43850       60285         10911     156321  A. Akinfenwa   \n",
       "55238       76015          8687     156321  A. Akinfenwa   \n",
       "69286       95396          9983     156321  A. Akinfenwa   \n",
       "82300      113484          9588     156321  A. Akinfenwa   \n",
       "\n",
       "                      long_name player_positions  overall  potential  \\\n",
       "7422   Saheed Adebayo Akinfenwa               ST       62         62   \n",
       "18450  Saheed Adebayo Akinfenwa               ST       64         64   \n",
       "31262  Saheed Adebayo Akinfenwa               ST       64         64   \n",
       "43850  Saheed Adebayo Akinfenwa               ST       64         64   \n",
       "55238  Saheed Adebayo Akinfenwa               ST       66         66   \n",
       "69286  Saheed Adebayo Akinfenwa               ST       65         65   \n",
       "82300  Saheed Adebayo Akinfenwa               ST       65         65   \n",
       "\n",
       "       value_eur  wage_eur  age         dob  height_cm  weight_kg  \\\n",
       "7422    275000.0    2000.0   32  1982-05-10        178        110   \n",
       "18450   300000.0    2000.0   33  1982-05-10        178        110   \n",
       "31262   230000.0    7000.0   34  1982-05-10        178        110   \n",
       "43850   210000.0    5000.0   35  1982-05-10        178        110   \n",
       "55238   230000.0    3000.0   36  1982-05-10        178        110   \n",
       "69286   160000.0    2000.0   37  1982-05-10        178        110   \n",
       "82300   240000.0    3000.0   38  1982-05-10        178        110   \n",
       "\n",
       "       club_team_id          club_name                  league_name  \\\n",
       "7422       112259.0      AFC Wimbledon           English League Two   \n",
       "18450      112259.0      AFC Wimbledon           English League Two   \n",
       "31262        1933.0  Wycombe Wanderers           English League Two   \n",
       "43850        1933.0  Wycombe Wanderers           English League Two   \n",
       "55238        1933.0  Wycombe Wanderers           English League One   \n",
       "69286        1933.0  Wycombe Wanderers           English League One   \n",
       "82300        1933.0  Wycombe Wanderers  English League Championship   \n",
       "\n",
       "       league_level club_position  club_jersey_number club_loaned_from  \\\n",
       "7422            4.0            RS                10.0              NaN   \n",
       "18450           4.0            LS                10.0              NaN   \n",
       "31262           4.0           SUB                20.0              NaN   \n",
       "43850           4.0            ST                20.0              NaN   \n",
       "55238           3.0            ST                20.0              NaN   \n",
       "69286           3.0            ST                20.0              NaN   \n",
       "82300           2.0           SUB                20.0              NaN   \n",
       "\n",
       "      club_joined  club_contract_valid_until  nationality_id nationality_name  \\\n",
       "7422   2014-06-20                     2015.0              14          England   \n",
       "18450  2014-06-20                     2016.0              14          England   \n",
       "31262  2016-07-10                     2017.0              14          England   \n",
       "43850  2016-07-10                     2018.0              14          England   \n",
       "55238  2016-07-10                     2022.0              14          England   \n",
       "69286  2016-07-10                     2020.0              14          England   \n",
       "82300  2016-07-10                     2021.0              14          England   \n",
       "\n",
       "       nation_team_id nation_position  nation_jersey_number preferred_foot  \\\n",
       "7422              NaN             NaN                   NaN          Right   \n",
       "18450             NaN             NaN                   NaN          Right   \n",
       "31262             NaN             NaN                   NaN          Right   \n",
       "43850             NaN             NaN                   NaN          Right   \n",
       "55238             NaN             NaN                   NaN          Right   \n",
       "69286             NaN             NaN                   NaN          Right   \n",
       "82300             NaN             NaN                   NaN          Right   \n",
       "\n",
       "       weak_foot  skill_moves  international_reputation work_rate  \\\n",
       "7422           3            2                         1   Low/Low   \n",
       "18450          3            2                         1   Low/Low   \n",
       "31262          3            2                         1   Low/Low   \n",
       "43850          3            2                         1   Low/Low   \n",
       "55238          3            2                         1   Low/Low   \n",
       "69286          3            2                         1   Low/Low   \n",
       "82300          3            2                         1   Low/Low   \n",
       "\n",
       "              body_type real_face  release_clause_eur player_tags  \\\n",
       "7422   Stocky (170-185)        No                 NaN   #Strength   \n",
       "18450            Unique       Yes                 NaN   #Strength   \n",
       "31262            Unique       Yes                 NaN   #Strength   \n",
       "43850            Unique       Yes            368000.0   #Strength   \n",
       "55238            Unique       Yes            403000.0   #Strength   \n",
       "69286            Unique       Yes            333000.0   #Strength   \n",
       "82300            Unique       Yes            352000.0   #Strength   \n",
       "\n",
       "                                           player_traits  pace  shooting  \\\n",
       "7422                                                 NaN  50.0      59.0   \n",
       "18450                                                NaN  49.0      60.0   \n",
       "31262                  Backs Into Player, Target Forward  45.0      60.0   \n",
       "43850    Power Header, Backs Into Player, Target Forward  45.0      61.0   \n",
       "55238  Injury Free, Power Header, Backs Into Player, ...  44.0      64.0   \n",
       "69286                         Solid Player, Power Header  43.0      63.0   \n",
       "82300                         Solid Player, Power Header  42.0      64.0   \n",
       "\n",
       "       passing  dribbling  defending  physic  attacking_crossing  \\\n",
       "7422      53.0       61.0       34.0    78.0                  38   \n",
       "18450     54.0       62.0       35.0    81.0                  39   \n",
       "31262     51.0       60.0       35.0    80.0                  39   \n",
       "43850     51.0       56.0       35.0    80.0                  39   \n",
       "55238     53.0       57.0       33.0    83.0                  39   \n",
       "69286     54.0       56.0       35.0    81.0                  44   \n",
       "82300     54.0       56.0       35.0    81.0                  44   \n",
       "\n",
       "       attacking_finishing  attacking_heading_accuracy  \\\n",
       "7422                    63                          68   \n",
       "18450                   64                          69   \n",
       "31262                   64                          68   \n",
       "43850                   64                          71   \n",
       "55238                   66                          71   \n",
       "69286                   64                          72   \n",
       "82300                   64                          74   \n",
       "\n",
       "       attacking_short_passing  attacking_volleys  skill_dribbling  \\\n",
       "7422                        59                 58               60   \n",
       "18450                       60                 59               61   \n",
       "31262                       56                 59               59   \n",
       "43850                       56                 59               52   \n",
       "55238                       59                 59               52   \n",
       "69286                       60                 59               52   \n",
       "82300                       60                 59               50   \n",
       "\n",
       "       skill_curve  skill_fk_accuracy  skill_long_passing  skill_ball_control  \\\n",
       "7422            49                 41                  49                  69   \n",
       "18450           50                 42                  50                  71   \n",
       "31262           50                 42                  47                  69   \n",
       "43850           50                 42                  47                  69   \n",
       "55238           50                 42                  47                  69   \n",
       "69286           50                 42                  51                  67   \n",
       "82300           50                 42                  52                  68   \n",
       "\n",
       "       movement_acceleration  movement_sprint_speed  movement_agility  \\\n",
       "7422                      45                     54                41   \n",
       "18450                     45                     52                32   \n",
       "31262                     41                     49                29   \n",
       "43850                     41                     49                29   \n",
       "55238                     38                     49                35   \n",
       "69286                     37                     48                35   \n",
       "82300                     37                     46                34   \n",
       "\n",
       "       movement_reactions  movement_balance  power_shot_power  power_jumping  \\\n",
       "7422                   59                70                54             57   \n",
       "18450                  60                70                55             57   \n",
       "31262                  61                70                57             50   \n",
       "43850                  61                70                61             50   \n",
       "55238                  61                71                70             49   \n",
       "69286                  61                71                70             49   \n",
       "82300                  63                71                71             49   \n",
       "\n",
       "       power_stamina  power_strength  power_long_shots  mentality_aggression  \\\n",
       "7422              59              97                49                    59   \n",
       "18450             69              98                50                    60   \n",
       "31262             63              98                50                    63   \n",
       "43850             63              98                51                    63   \n",
       "55238             77              97                54                    66   \n",
       "69286             69              97                54                    66   \n",
       "82300             65              97                56                    69   \n",
       "\n",
       "       mentality_interceptions  mentality_positioning  mentality_vision  \\\n",
       "7422                        25                     67                64   \n",
       "18450                       17                     68                65   \n",
       "31262                       17                     68                62   \n",
       "43850                       17                     68                62   \n",
       "55238                       17                     71                62   \n",
       "69286                       17                     68                61   \n",
       "82300                       17                     68                61   \n",
       "\n",
       "       mentality_penalties  mentality_composure  defending_marking_awareness  \\\n",
       "7422                    66                  NaN                           25   \n",
       "18450                   67                  NaN                           32   \n",
       "31262                   66                 70.0                           33   \n",
       "43850                   66                 70.0                           33   \n",
       "55238                   66                 70.0                           27   \n",
       "69286                   64                 67.0                           32   \n",
       "82300                   64                 68.0                           32   \n",
       "\n",
       "       defending_standing_tackle  defending_sliding_tackle  \\\n",
       "7422                          40                        25   \n",
       "18450                         41                        24   \n",
       "31262                         40                        24   \n",
       "43850                         40                        24   \n",
       "55238                         40                        24   \n",
       "69286                         40                        24   \n",
       "82300                         40                        24   \n",
       "\n",
       "       goalkeeping_diving  goalkeeping_handling  goalkeeping_kicking  \\\n",
       "7422                   13                     6                   14   \n",
       "18450                  14                     7                   15   \n",
       "31262                  14                     7                   15   \n",
       "43850                  14                     7                   15   \n",
       "55238                  14                     7                   15   \n",
       "69286                  14                     7                   15   \n",
       "82300                  14                     7                   15   \n",
       "\n",
       "       goalkeeping_positioning  goalkeeping_reflexes  goalkeeping_speed    ls  \\\n",
       "7422                         5                    15                NaN    62   \n",
       "18450                        6                    16                NaN    64   \n",
       "31262                        6                    16                NaN  63+1   \n",
       "43850                        6                    16                NaN  63+1   \n",
       "55238                        6                    16                NaN  65+1   \n",
       "69286                        6                    16                NaN  64+1   \n",
       "82300                        6                    16                NaN    65   \n",
       "\n",
       "         st    rs  lw  lf  cf  rf  rw   lam   cam   ram    lm   lcm    cm  \\\n",
       "7422     62    62  56  60  60  60  56    60    60    60    56    56    56   \n",
       "18450    64    64  58  62  62  62  58    61    61    61    59    59    59   \n",
       "31262  63+1  63+1  57  61  61  61  57  59+1  59+1  59+1  57+1  56+1  56+1   \n",
       "43850  63+1  63+1  56  60  60  60  56  58+1  58+1  58+1  56+1  56+1  56+1   \n",
       "55238  65+1  65+1  57  61  61  61  57  59+1  59+1  59+1  57+1  58+1  58+1   \n",
       "69286  64+1  64+1  56  60  60  60  56  59+2  59+2  59+2  57+2  57+2  57+2   \n",
       "82300    65    65  56  60  60  60  56  59+2  59+2  59+2  57+2  57+2  57+2   \n",
       "\n",
       "        rcm    rm   lwb   ldm   cdm   rdm   rwb    lb   lcb    cb   rcb    rb  \\\n",
       "7422     56    56    45    52    52    52    45    44    48    48    48    44   \n",
       "18450    59    59    46    50    50    50    46    44    49    49    49    44   \n",
       "31262  56+1  57+1  44+1  48+1  48+1  48+1  44+1  43+1  48+1  48+1  48+1  43+1   \n",
       "43850  56+1  56+1  44+1  48+1  48+1  48+1  44+1  43+1  48+1  48+1  48+1  43+1   \n",
       "55238  58+1  57+1  45+1  49+1  49+1  49+1  45+1  44+1  48+1  48+1  48+1  44+1   \n",
       "69286  57+2  57+2  45+2  49+2  49+2  49+2  45+2  44+2  49+2  49+2  49+2  44+2   \n",
       "82300  57+2  57+2  45+2  50+2  50+2  50+2  45+2  44+2  49+2  49+2  49+2  44+2   \n",
       "\n",
       "         gk  año_version  progresion_anual  \n",
       "7422     13         2015          0.032258  \n",
       "18450    16         2016          0.000000  \n",
       "31262  16+1         2017          0.000000  \n",
       "43850  16+1         2018          0.031250  \n",
       "55238  16+1         2019         -0.015152  \n",
       "69286  16+2         2020          0.000000  \n",
       "82300  17+2         2021          0.000000  "
      ]
     },
     "execution_count": 18,
     "metadata": {},
     "output_type": "execute_result"
    }
   ],
   "source": [
    "# buscamos el outlier de height & weight\n",
    "df[(df['weight_kg']>=110)&(df['height_cm']<=180)]"
   ]
  },
  {
   "cell_type": "code",
   "execution_count": 19,
   "id": "81d65a35",
   "metadata": {},
   "outputs": [
    {
     "data": {
      "text/plain": [
       "0.7642825221293341"
      ]
     },
     "execution_count": 19,
     "metadata": {},
     "output_type": "execute_result"
    }
   ],
   "source": [
    "# lo comprobamos:\n",
    "#df.drop(df[(df['weight_kg']>=110)&(df['height_cm']<=180)].index, inplace=True)['weight_kg'].corr(df.drop(df[(df['weight_kg']>=110)&(df['height_cm']<=180)].index, inplace=True)['height_cm'])\n",
    "df['weight_kg'].corr(df['height_cm'])"
   ]
  },
  {
   "cell_type": "code",
   "execution_count": 20,
   "id": "516f7ac9",
   "metadata": {},
   "outputs": [
    {
     "data": {
      "text/plain": [
       "'Hay alta correlación entre weight y height. Podríamos juntas las 2 o eliminar 1 y calcular los outliers de la nueva \\nvariable. Si la nueva variable pesa en la predicción podemos probar a eliminar los outliers por si distorsionan.'"
      ]
     },
     "execution_count": 20,
     "metadata": {},
     "output_type": "execute_result"
    }
   ],
   "source": [
    "'''Hay alta correlación entre weight y height. Podríamos juntas las 2 o eliminar 1 y calcular los outliers de la nueva \n",
    "variable. Si la nueva variable pesa en la predicción podemos probar a eliminar los outliers por si distorsionan.'''"
   ]
  },
  {
   "cell_type": "markdown",
   "id": "fbcce43a",
   "metadata": {},
   "source": [
    "### Variable skill_moves"
   ]
  },
  {
   "cell_type": "code",
   "execution_count": 21,
   "id": "c470f92a",
   "metadata": {},
   "outputs": [
    {
     "data": {
      "text/plain": [
       "array([4, 5, 1, 3, 2], dtype=int64)"
      ]
     },
     "execution_count": 21,
     "metadata": {},
     "output_type": "execute_result"
    }
   ],
   "source": [
    "df['skill_moves'].unique() #Variable de clasificación => no hay outliers"
   ]
  },
  {
   "cell_type": "markdown",
   "id": "285b3a02",
   "metadata": {},
   "source": [
    "### Variable international_reputation"
   ]
  },
  {
   "cell_type": "code",
   "execution_count": 22,
   "id": "31ac1054",
   "metadata": {},
   "outputs": [
    {
     "data": {
      "text/plain": [
       "array([5, 4, 3, 2, 1], dtype=int64)"
      ]
     },
     "execution_count": 22,
     "metadata": {},
     "output_type": "execute_result"
    }
   ],
   "source": [
    "df['international_reputation'].unique() #Variable de clasificación => no hay outliers"
   ]
  },
  {
   "cell_type": "markdown",
   "id": "2388c3e6",
   "metadata": {},
   "source": [
    "### Variable release_clause_eur"
   ]
  },
  {
   "cell_type": "code",
   "execution_count": 23,
   "id": "325151ee",
   "metadata": {},
   "outputs": [
    {
     "data": {
      "text/plain": [
       "<AxesSubplot:xlabel='release_clause_eur'>"
      ]
     },
     "execution_count": 23,
     "metadata": {},
     "output_type": "execute_result"
    },
    {
     "data": {
      "image/png": "[encoded data removed]",
      "text/plain": [
       "<Figure size 432x288 with 1 Axes>"
      ]
     },
     "metadata": {
      "needs_background": "light"
     },
     "output_type": "display_data"
    }
   ],
   "source": [
    "sns.boxplot(x=df[df['release_clause_eur'].fillna(0)>0]['release_clause_eur']) #vemos que hay muchos outliers"
   ]
  },
  {
   "cell_type": "code",
   "execution_count": 24,
   "id": "50c603be",
   "metadata": {},
   "outputs": [
    {
     "data": {
      "text/plain": [
       "'Hay 0 outliers por debajo de -2700000.0 y 13434 outliers por encima de 4500000.0.'"
      ]
     },
     "execution_count": 24,
     "metadata": {},
     "output_type": "execute_result"
    }
   ],
   "source": [
    "outliers(df['release_clause_eur'].fillna(0))"
   ]
  },
  {
   "cell_type": "markdown",
   "id": "5f1db452",
   "metadata": {},
   "source": [
    "## Variables que no afectan a porteros (GK)"
   ]
  },
  {
   "cell_type": "code",
   "execution_count": 25,
   "id": "750c2123",
   "metadata": {},
   "outputs": [],
   "source": [
    "df=df[df['player_positions']!='GK']"
   ]
  },
  {
   "cell_type": "markdown",
   "id": "6809a25d",
   "metadata": {},
   "source": [
    "### Variable pace"
   ]
  },
  {
   "cell_type": "code",
   "execution_count": 26,
   "id": "4f2553b8",
   "metadata": {},
   "outputs": [
    {
     "data": {
      "text/plain": [
       "<AxesSubplot:xlabel='pace'>"
      ]
     },
     "execution_count": 26,
     "metadata": {},
     "output_type": "execute_result"
    },
    {
     "data": {
      "image/png": "[encoded data removed]",
      "text/plain": [
       "<Figure size 432x288 with 1 Axes>"
      ]
     },
     "metadata": {
      "needs_background": "light"
     },
     "output_type": "display_data"
    }
   ],
   "source": [
    "sns.boxplot(x=df['pace']) #los porteros no tienen pace"
   ]
  },
  {
   "cell_type": "code",
   "execution_count": 27,
   "id": "5e43ca0f",
   "metadata": {},
   "outputs": [
    {
     "data": {
      "text/plain": [
       "'Hay 1995 outliers por debajo de 43.5 y 17 outliers por encima de 95.5.'"
      ]
     },
     "execution_count": 27,
     "metadata": {},
     "output_type": "execute_result"
    }
   ],
   "source": [
    "outliers(df['pace'])"
   ]
  },
  {
   "cell_type": "markdown",
   "id": "df43adab",
   "metadata": {},
   "source": [
    "### Variable shooting"
   ]
  },
  {
   "cell_type": "code",
   "execution_count": 28,
   "id": "47263a9d",
   "metadata": {},
   "outputs": [
    {
     "data": {
      "text/plain": [
       "<AxesSubplot:xlabel='shooting'>"
      ]
     },
     "execution_count": 28,
     "metadata": {},
     "output_type": "execute_result"
    },
    {
     "data": {
      "image/png": "[encoded data removed]",
      "text/plain": [
       "<Figure size 432x288 with 1 Axes>"
      ]
     },
     "metadata": {
      "needs_background": "light"
     },
     "output_type": "display_data"
    }
   ],
   "source": [
    "sns.boxplot(x=df['shooting']) #los porteros no tienen pace"
   ]
  },
  {
   "cell_type": "code",
   "execution_count": 29,
   "id": "5a52b8f0",
   "metadata": {},
   "outputs": [
    {
     "data": {
      "text/plain": [
       "'Hay 0 outliers por debajo de 11.5 y 0 outliers por encima de 95.5.'"
      ]
     },
     "execution_count": 29,
     "metadata": {},
     "output_type": "execute_result"
    }
   ],
   "source": [
    "outliers(df['shooting'])"
   ]
  },
  {
   "cell_type": "markdown",
   "id": "56dbf7cf",
   "metadata": {},
   "source": [
    "### Variable passing"
   ]
  },
  {
   "cell_type": "code",
   "execution_count": 30,
   "id": "0fd735e8",
   "metadata": {},
   "outputs": [
    {
     "data": {
      "text/plain": [
       "<AxesSubplot:xlabel='passing'>"
      ]
     },
     "execution_count": 30,
     "metadata": {},
     "output_type": "execute_result"
    },
    {
     "data": {
      "image/png": "[encoded data removed]",
      "text/plain": [
       "<Figure size 432x288 with 1 Axes>"
      ]
     },
     "metadata": {
      "needs_background": "light"
     },
     "output_type": "display_data"
    }
   ],
   "source": [
    "sns.boxplot(x=df['passing'])"
   ]
  },
  {
   "cell_type": "code",
   "execution_count": 31,
   "id": "ef1b2503",
   "metadata": {},
   "outputs": [
    {
     "data": {
      "text/plain": [
       "'Hay 380 outliers por debajo de 30.0 y 69 outliers por encima de 86.0.'"
      ]
     },
     "execution_count": 31,
     "metadata": {},
     "output_type": "execute_result"
    }
   ],
   "source": [
    "outliers(df['passing'])"
   ]
  }
 ],
 "metadata": {
  "kernelspec": {
   "display_name": "Python 3",
   "language": "python",
   "name": "python3"
  },
  "language_info": {
   "codemirror_mode": {
    "name": "ipython",
    "version": 3
   },
   "file_extension": ".py",
   "mimetype": "text/x-python",
   "name": "python",
   "nbconvert_exporter": "python",
   "pygments_lexer": "ipython3",
   "version": "3.8.8"
  },
  "toc": {
   "base_numbering": 1,
   "nav_menu": {},
   "number_sections": true,
   "sideBar": true,
   "skip_h1_title": false,
   "title_cell": "Table of Contents",
   "title_sidebar": "Contents",
   "toc_cell": false,
   "toc_position": {},
   "toc_section_display": true,
   "toc_window_display": false
  },
  "varInspector": {
   "cols": {
    "lenName": 16,
    "lenType": 16,
    "lenVar": 40
   },
   "kernels_config": {
    "python": {
     "delete_cmd_postfix": "",
     "delete_cmd_prefix": "del ",
     "library": "var_list.py",
     "varRefreshCmd": "print(var_dic_list())"
    },
    "r": {
     "delete_cmd_postfix": ") ",
     "delete_cmd_prefix": "rm(",
     "library": "var_list.r",
     "varRefreshCmd": "cat(var_dic_list()) "
    }
   },
   "types_to_exclude": [
    "module",
    "function",
    "builtin_function_or_method",
    "instance",
    "_Feature"
   ],
   "window_display": false
  }
 },
 "nbformat": 4,
 "nbformat_minor": 5
}
