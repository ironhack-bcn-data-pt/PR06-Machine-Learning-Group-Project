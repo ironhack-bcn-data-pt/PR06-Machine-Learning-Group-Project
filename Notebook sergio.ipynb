{
 "cells": [
  {
   "cell_type": "code",
   "execution_count": 24,
   "id": "101b32e0",
   "metadata": {
    "ExecuteTime": {
     "end_time": "2022-02-24T20:22:24.198822Z",
     "start_time": "2022-02-24T20:22:24.185822Z"
    }
   },
   "outputs": [],
   "source": [
    "import pandas as pd\n",
    "import numpy as np\n",
    "import matplotlib.pyplot as plt\n",
    "import seaborn as sns\n",
    "from sklearn.ensemble import RandomForestClassifier\n",
    "from sklearn.feature_selection import SelectFromModel\n",
    "from sklearn.model_selection import train_test_split"
   ]
  },
  {
   "cell_type": "code",
   "execution_count": 2,
   "id": "d0073b6b",
   "metadata": {
    "ExecuteTime": {
     "end_time": "2022-02-24T20:14:53.557333Z",
     "start_time": "2022-02-24T20:14:52.660331Z"
    },
    "scrolled": true
   },
   "outputs": [
    {
     "name": "stderr",
     "output_type": "stream",
     "text": [
      "C:\\Users\\irazu\\anaconda3\\lib\\site-packages\\IPython\\core\\interactiveshell.py:3165: DtypeWarning: Columns (99) have mixed types.Specify dtype option on import or set low_memory=False.\n",
      "  has_raised = await self.run_ast_nodes(code_ast.body, cell_name,\n"
     ]
    }
   ],
   "source": [
    "df=pd.read_csv(\"data/df_cleaned.csv\")"
   ]
  },
  {
   "cell_type": "code",
   "execution_count": 9,
   "id": "ff30476c",
   "metadata": {
    "ExecuteTime": {
     "end_time": "2022-02-24T20:17:36.860000Z",
     "start_time": "2022-02-24T20:17:36.843947Z"
    }
   },
   "outputs": [],
   "source": [
    "df['gk'] =df['gk'].replace(\"+\",\"\")"
   ]
  },
  {
   "cell_type": "code",
   "execution_count": 10,
   "id": "ececff56",
   "metadata": {
    "ExecuteTime": {
     "end_time": "2022-02-24T20:17:37.206404Z",
     "start_time": "2022-02-24T20:17:37.109341Z"
    }
   },
   "outputs": [],
   "source": [
    "df['gk'] = df['gk'].str.replace(r'\\+', '', regex=True)\n"
   ]
  },
  {
   "cell_type": "code",
   "execution_count": 11,
   "id": "c32f8e2c",
   "metadata": {
    "ExecuteTime": {
     "end_time": "2022-02-24T20:17:37.503936Z",
     "start_time": "2022-02-24T20:17:37.486659Z"
    }
   },
   "outputs": [],
   "source": [
    "df.gk.fillna(0,inplace=True)"
   ]
  },
  {
   "cell_type": "code",
   "execution_count": 12,
   "id": "0349c1ba",
   "metadata": {
    "ExecuteTime": {
     "end_time": "2022-02-24T20:17:40.391524Z",
     "start_time": "2022-02-24T20:17:40.366478Z"
    }
   },
   "outputs": [],
   "source": [
    "df['gk']=df.gk.astype(int)"
   ]
  },
  {
   "cell_type": "code",
   "execution_count": 7,
   "id": "694b9187",
   "metadata": {
    "ExecuteTime": {
     "end_time": "2022-02-24T20:17:17.443509Z",
     "start_time": "2022-02-24T20:17:17.363443Z"
    }
   },
   "outputs": [],
   "source": [
    "#elimino columnas \n",
    "df.drop(['sofifa_id',\n",
    " 'short_name',\n",
    " 'long_name',\n",
    " 'player_positions',\n",
    "     'dob', 'club_team_id',\n",
    " 'club_name',\n",
    " 'league_name',\n",
    " 'league_level',\n",
    "'club_jersey_number',\n",
    " 'club_joined',\n",
    " 'club_contract_valid_until',\n",
    " 'nationality_id',\n",
    " 'nationality_name',\n",
    " 'nation_team_id','work_rate',\n",
    " 'body_type',\n",
    " 'real_face',\n",
    "    'player_traits'],axis=1,inplace=True)"
   ]
  },
  {
   "cell_type": "code",
   "execution_count": 17,
   "id": "e3a30771",
   "metadata": {
    "ExecuteTime": {
     "end_time": "2022-02-24T20:19:04.529676Z",
     "start_time": "2022-02-24T20:19:04.496835Z"
    }
   },
   "outputs": [],
   "source": [
    "pierna=[]\n",
    "for i in df.preferred_foot:\n",
    "    if i==\"Left\":\n",
    "        pierna.append(0)\n",
    "    else:\n",
    "        pierna.append(1)"
   ]
  },
  {
   "cell_type": "code",
   "execution_count": 18,
   "id": "9b46776f",
   "metadata": {
    "ExecuteTime": {
     "end_time": "2022-02-24T20:19:39.831074Z",
     "start_time": "2022-02-24T20:19:39.771042Z"
    }
   },
   "outputs": [],
   "source": [
    "df.drop(\"preferred_foot\",axis=1,inplace=True)\n",
    "df[\"preferred_foot\"]=pierna"
   ]
  },
  {
   "cell_type": "code",
   "execution_count": 32,
   "id": "6b8db36b",
   "metadata": {
    "ExecuteTime": {
     "end_time": "2022-02-24T20:33:48.123394Z",
     "start_time": "2022-02-24T20:33:48.057392Z"
    }
   },
   "outputs": [
    {
     "data": {
      "text/html": [
       "<div>\n",
       "<style scoped>\n",
       "    .dataframe tbody tr th:only-of-type {\n",
       "        vertical-align: middle;\n",
       "    }\n",
       "\n",
       "    .dataframe tbody tr th {\n",
       "        vertical-align: top;\n",
       "    }\n",
       "\n",
       "    .dataframe thead th {\n",
       "        text-align: right;\n",
       "    }\n",
       "</style>\n",
       "<table border=\"1\" class=\"dataframe\">\n",
       "  <thead>\n",
       "    <tr style=\"text-align: right;\">\n",
       "      <th></th>\n",
       "      <th>overall</th>\n",
       "      <th>potential</th>\n",
       "      <th>age</th>\n",
       "      <th>height_cm</th>\n",
       "      <th>weight_kg</th>\n",
       "      <th>club_position</th>\n",
       "      <th>nation_position</th>\n",
       "      <th>weak_foot</th>\n",
       "      <th>skill_moves</th>\n",
       "      <th>international_reputation</th>\n",
       "      <th>...</th>\n",
       "      <th>lb</th>\n",
       "      <th>lcb</th>\n",
       "      <th>cb</th>\n",
       "      <th>rcb</th>\n",
       "      <th>rb</th>\n",
       "      <th>año_version</th>\n",
       "      <th>ranking</th>\n",
       "      <th>puntos</th>\n",
       "      <th>preferred_foot</th>\n",
       "      <th>target</th>\n",
       "    </tr>\n",
       "  </thead>\n",
       "  <tbody>\n",
       "    <tr>\n",
       "      <th>0</th>\n",
       "      <td>93</td>\n",
       "      <td>95</td>\n",
       "      <td>27</td>\n",
       "      <td>169</td>\n",
       "      <td>67</td>\n",
       "      <td>1</td>\n",
       "      <td>1</td>\n",
       "      <td>3</td>\n",
       "      <td>4</td>\n",
       "      <td>5</td>\n",
       "      <td>...</td>\n",
       "      <td>54</td>\n",
       "      <td>45</td>\n",
       "      <td>45</td>\n",
       "      <td>45</td>\n",
       "      <td>54</td>\n",
       "      <td>2015</td>\n",
       "      <td>13</td>\n",
       "      <td>1833</td>\n",
       "      <td>0</td>\n",
       "      <td>0</td>\n",
       "    </tr>\n",
       "    <tr>\n",
       "      <th>1</th>\n",
       "      <td>92</td>\n",
       "      <td>92</td>\n",
       "      <td>29</td>\n",
       "      <td>185</td>\n",
       "      <td>80</td>\n",
       "      <td>1</td>\n",
       "      <td>1</td>\n",
       "      <td>4</td>\n",
       "      <td>5</td>\n",
       "      <td>5</td>\n",
       "      <td>...</td>\n",
       "      <td>57</td>\n",
       "      <td>52</td>\n",
       "      <td>52</td>\n",
       "      <td>52</td>\n",
       "      <td>57</td>\n",
       "      <td>2015</td>\n",
       "      <td>4</td>\n",
       "      <td>1980</td>\n",
       "      <td>1</td>\n",
       "      <td>0</td>\n",
       "    </tr>\n",
       "    <tr>\n",
       "      <th>2</th>\n",
       "      <td>90</td>\n",
       "      <td>90</td>\n",
       "      <td>30</td>\n",
       "      <td>180</td>\n",
       "      <td>80</td>\n",
       "      <td>0</td>\n",
       "      <td>1</td>\n",
       "      <td>2</td>\n",
       "      <td>4</td>\n",
       "      <td>5</td>\n",
       "      <td>...</td>\n",
       "      <td>55</td>\n",
       "      <td>46</td>\n",
       "      <td>46</td>\n",
       "      <td>46</td>\n",
       "      <td>55</td>\n",
       "      <td>2015</td>\n",
       "      <td>1</td>\n",
       "      <td>2089</td>\n",
       "      <td>0</td>\n",
       "      <td>0</td>\n",
       "    </tr>\n",
       "    <tr>\n",
       "      <th>3</th>\n",
       "      <td>90</td>\n",
       "      <td>90</td>\n",
       "      <td>32</td>\n",
       "      <td>195</td>\n",
       "      <td>95</td>\n",
       "      <td>1</td>\n",
       "      <td>1</td>\n",
       "      <td>4</td>\n",
       "      <td>4</td>\n",
       "      <td>5</td>\n",
       "      <td>...</td>\n",
       "      <td>56</td>\n",
       "      <td>55</td>\n",
       "      <td>55</td>\n",
       "      <td>55</td>\n",
       "      <td>56</td>\n",
       "      <td>2015</td>\n",
       "      <td>8</td>\n",
       "      <td>1907</td>\n",
       "      <td>1</td>\n",
       "      <td>0</td>\n",
       "    </tr>\n",
       "    <tr>\n",
       "      <th>4</th>\n",
       "      <td>90</td>\n",
       "      <td>90</td>\n",
       "      <td>28</td>\n",
       "      <td>193</td>\n",
       "      <td>92</td>\n",
       "      <td>1</td>\n",
       "      <td>1</td>\n",
       "      <td>4</td>\n",
       "      <td>1</td>\n",
       "      <td>5</td>\n",
       "      <td>...</td>\n",
       "      <td>36</td>\n",
       "      <td>38</td>\n",
       "      <td>38</td>\n",
       "      <td>38</td>\n",
       "      <td>36</td>\n",
       "      <td>2015</td>\n",
       "      <td>1</td>\n",
       "      <td>2089</td>\n",
       "      <td>1</td>\n",
       "      <td>0</td>\n",
       "    </tr>\n",
       "    <tr>\n",
       "      <th>...</th>\n",
       "      <td>...</td>\n",
       "      <td>...</td>\n",
       "      <td>...</td>\n",
       "      <td>...</td>\n",
       "      <td>...</td>\n",
       "      <td>...</td>\n",
       "      <td>...</td>\n",
       "      <td>...</td>\n",
       "      <td>...</td>\n",
       "      <td>...</td>\n",
       "      <td>...</td>\n",
       "      <td>...</td>\n",
       "      <td>...</td>\n",
       "      <td>...</td>\n",
       "      <td>...</td>\n",
       "      <td>...</td>\n",
       "      <td>...</td>\n",
       "      <td>...</td>\n",
       "      <td>...</td>\n",
       "      <td>...</td>\n",
       "      <td>...</td>\n",
       "    </tr>\n",
       "    <tr>\n",
       "      <th>87742</th>\n",
       "      <td>47</td>\n",
       "      <td>57</td>\n",
       "      <td>20</td>\n",
       "      <td>175</td>\n",
       "      <td>69</td>\n",
       "      <td>0</td>\n",
       "      <td>0</td>\n",
       "      <td>3</td>\n",
       "      <td>2</td>\n",
       "      <td>1</td>\n",
       "      <td>...</td>\n",
       "      <td>39</td>\n",
       "      <td>35</td>\n",
       "      <td>35</td>\n",
       "      <td>35</td>\n",
       "      <td>39</td>\n",
       "      <td>2021</td>\n",
       "      <td>1779</td>\n",
       "      <td>1271</td>\n",
       "      <td>1</td>\n",
       "      <td>0</td>\n",
       "    </tr>\n",
       "    <tr>\n",
       "      <th>87743</th>\n",
       "      <td>47</td>\n",
       "      <td>51</td>\n",
       "      <td>20</td>\n",
       "      <td>185</td>\n",
       "      <td>74</td>\n",
       "      <td>0</td>\n",
       "      <td>0</td>\n",
       "      <td>2</td>\n",
       "      <td>2</td>\n",
       "      <td>1</td>\n",
       "      <td>...</td>\n",
       "      <td>44</td>\n",
       "      <td>47</td>\n",
       "      <td>47</td>\n",
       "      <td>47</td>\n",
       "      <td>44</td>\n",
       "      <td>2021</td>\n",
       "      <td>2081</td>\n",
       "      <td>1250</td>\n",
       "      <td>1</td>\n",
       "      <td>0</td>\n",
       "    </tr>\n",
       "    <tr>\n",
       "      <th>87744</th>\n",
       "      <td>47</td>\n",
       "      <td>53</td>\n",
       "      <td>20</td>\n",
       "      <td>181</td>\n",
       "      <td>77</td>\n",
       "      <td>0</td>\n",
       "      <td>0</td>\n",
       "      <td>2</td>\n",
       "      <td>2</td>\n",
       "      <td>1</td>\n",
       "      <td>...</td>\n",
       "      <td>45</td>\n",
       "      <td>47</td>\n",
       "      <td>47</td>\n",
       "      <td>47</td>\n",
       "      <td>45</td>\n",
       "      <td>2021</td>\n",
       "      <td>1299</td>\n",
       "      <td>1314</td>\n",
       "      <td>1</td>\n",
       "      <td>0</td>\n",
       "    </tr>\n",
       "    <tr>\n",
       "      <th>87745</th>\n",
       "      <td>47</td>\n",
       "      <td>47</td>\n",
       "      <td>28</td>\n",
       "      <td>185</td>\n",
       "      <td>79</td>\n",
       "      <td>0</td>\n",
       "      <td>0</td>\n",
       "      <td>2</td>\n",
       "      <td>2</td>\n",
       "      <td>1</td>\n",
       "      <td>...</td>\n",
       "      <td>47</td>\n",
       "      <td>46</td>\n",
       "      <td>46</td>\n",
       "      <td>46</td>\n",
       "      <td>47</td>\n",
       "      <td>2021</td>\n",
       "      <td>2081</td>\n",
       "      <td>1250</td>\n",
       "      <td>1</td>\n",
       "      <td>0</td>\n",
       "    </tr>\n",
       "    <tr>\n",
       "      <th>87746</th>\n",
       "      <td>47</td>\n",
       "      <td>67</td>\n",
       "      <td>17</td>\n",
       "      <td>171</td>\n",
       "      <td>58</td>\n",
       "      <td>0</td>\n",
       "      <td>0</td>\n",
       "      <td>2</td>\n",
       "      <td>2</td>\n",
       "      <td>1</td>\n",
       "      <td>...</td>\n",
       "      <td>33</td>\n",
       "      <td>26</td>\n",
       "      <td>26</td>\n",
       "      <td>26</td>\n",
       "      <td>33</td>\n",
       "      <td>2021</td>\n",
       "      <td>0</td>\n",
       "      <td>0</td>\n",
       "      <td>1</td>\n",
       "      <td>1</td>\n",
       "    </tr>\n",
       "  </tbody>\n",
       "</table>\n",
       "<p>87747 rows × 74 columns</p>\n",
       "</div>"
      ],
      "text/plain": [
       "       overall  potential  age  height_cm  weight_kg  club_position  \\\n",
       "0           93         95   27        169         67              1   \n",
       "1           92         92   29        185         80              1   \n",
       "2           90         90   30        180         80              0   \n",
       "3           90         90   32        195         95              1   \n",
       "4           90         90   28        193         92              1   \n",
       "...        ...        ...  ...        ...        ...            ...   \n",
       "87742       47         57   20        175         69              0   \n",
       "87743       47         51   20        185         74              0   \n",
       "87744       47         53   20        181         77              0   \n",
       "87745       47         47   28        185         79              0   \n",
       "87746       47         67   17        171         58              0   \n",
       "\n",
       "       nation_position  weak_foot  skill_moves  international_reputation  ...  \\\n",
       "0                    1          3            4                         5  ...   \n",
       "1                    1          4            5                         5  ...   \n",
       "2                    1          2            4                         5  ...   \n",
       "3                    1          4            4                         5  ...   \n",
       "4                    1          4            1                         5  ...   \n",
       "...                ...        ...          ...                       ...  ...   \n",
       "87742                0          3            2                         1  ...   \n",
       "87743                0          2            2                         1  ...   \n",
       "87744                0          2            2                         1  ...   \n",
       "87745                0          2            2                         1  ...   \n",
       "87746                0          2            2                         1  ...   \n",
       "\n",
       "       lb  lcb  cb  rcb  rb  año_version  ranking  puntos  preferred_foot  \\\n",
       "0      54   45  45   45  54         2015       13    1833               0   \n",
       "1      57   52  52   52  57         2015        4    1980               1   \n",
       "2      55   46  46   46  55         2015        1    2089               0   \n",
       "3      56   55  55   55  56         2015        8    1907               1   \n",
       "4      36   38  38   38  36         2015        1    2089               1   \n",
       "...    ..  ...  ..  ...  ..          ...      ...     ...             ...   \n",
       "87742  39   35  35   35  39         2021     1779    1271               1   \n",
       "87743  44   47  47   47  44         2021     2081    1250               1   \n",
       "87744  45   47  47   47  45         2021     1299    1314               1   \n",
       "87745  47   46  46   46  47         2021     2081    1250               1   \n",
       "87746  33   26  26   26  33         2021        0       0               1   \n",
       "\n",
       "       target  \n",
       "0           0  \n",
       "1           0  \n",
       "2           0  \n",
       "3           0  \n",
       "4           0  \n",
       "...       ...  \n",
       "87742       0  \n",
       "87743       0  \n",
       "87744       0  \n",
       "87745       0  \n",
       "87746       1  \n",
       "\n",
       "[87747 rows x 74 columns]"
      ]
     },
     "execution_count": 32,
     "metadata": {},
     "output_type": "execute_result"
    }
   ],
   "source": [
    "df.select_dtypes(\"int64\")"
   ]
  },
  {
   "cell_type": "code",
   "execution_count": 21,
   "id": "417e333f",
   "metadata": {
    "ExecuteTime": {
     "end_time": "2022-02-24T20:20:51.943085Z",
     "start_time": "2022-02-24T20:20:51.893811Z"
    }
   },
   "outputs": [],
   "source": [
    "target=[]\n",
    "#elegimos el % de target para que sea 0 y 1\n",
    "for i in df.progresion_anual:\n",
    "    if i>0.1:\n",
    "        target.append(1)\n",
    "    else:\n",
    "        target.append(0)\n",
    "df[\"target\"]=target"
   ]
  },
  {
   "cell_type": "code",
   "execution_count": 40,
   "id": "d330135a",
   "metadata": {
    "ExecuteTime": {
     "end_time": "2022-02-24T20:40:34.881381Z",
     "start_time": "2022-02-24T20:40:34.841376Z"
    }
   },
   "outputs": [],
   "source": [
    "X=df.drop([\"progresion_anual\",\"target\"],axis=1)\n",
    "y=df.target"
   ]
  },
  {
   "cell_type": "code",
   "execution_count": 41,
   "id": "930bd78c",
   "metadata": {
    "ExecuteTime": {
     "end_time": "2022-02-24T20:40:35.367652Z",
     "start_time": "2022-02-24T20:40:35.364650Z"
    }
   },
   "outputs": [],
   "source": [
    "#TENGO QUE HACER EL UNDERSAMPLING"
   ]
  },
  {
   "cell_type": "code",
   "execution_count": 49,
   "id": "5a4c7caf",
   "metadata": {
    "ExecuteTime": {
     "end_time": "2022-02-24T20:42:27.481284Z",
     "start_time": "2022-02-24T20:42:27.367290Z"
    }
   },
   "outputs": [],
   "source": [
    "X_train, X_test, y_train, y_test = train_test_split(X, y, test_size=0.3, random_state=0)"
   ]
  },
  {
   "cell_type": "code",
   "execution_count": 43,
   "id": "75e9f6f9",
   "metadata": {
    "ExecuteTime": {
     "end_time": "2022-02-24T20:41:09.093225Z",
     "start_time": "2022-02-24T20:40:36.300755Z"
    }
   },
   "outputs": [
    {
     "data": {
      "text/plain": [
       "SelectFromModel(estimator=RandomForestClassifier())"
      ]
     },
     "execution_count": 43,
     "metadata": {},
     "output_type": "execute_result"
    }
   ],
   "source": [
    "#seleccion de columnas \n",
    "sel = SelectFromModel(RandomForestClassifier(n_estimators = 100))\n",
    "sel.fit(X,y)"
   ]
  },
  {
   "cell_type": "code",
   "execution_count": 44,
   "id": "9e0dad1f",
   "metadata": {
    "ExecuteTime": {
     "end_time": "2022-02-24T20:41:09.390521Z",
     "start_time": "2022-02-24T20:41:09.359514Z"
    },
    "scrolled": true
   },
   "outputs": [
    {
     "data": {
      "text/plain": [
       "array([ True,  True,  True, False,  True,  True,  True, False, False,\n",
       "       False, False, False, False, False, False, False, False,  True,\n",
       "        True, False,  True,  True,  True,  True,  True,  True,  True,\n",
       "        True,  True,  True,  True,  True,  True,  True,  True,  True,\n",
       "        True,  True,  True,  True,  True,  True,  True,  True,  True,\n",
       "       False,  True, False,  True,  True,  True,  True, False, False,\n",
       "       False, False, False, False, False, False, False, False, False,\n",
       "       False, False, False, False, False, False, False, False, False,\n",
       "       False, False, False, False, False, False, False, False, False,\n",
       "        True,  True,  True,  True,  True,  True, False])"
      ]
     },
     "execution_count": 44,
     "metadata": {},
     "output_type": "execute_result"
    }
   ],
   "source": [
    "#columnas que coge\n",
    "sel.get_support()"
   ]
  },
  {
   "cell_type": "code",
   "execution_count": 45,
   "id": "f79c5d53",
   "metadata": {
    "ExecuteTime": {
     "end_time": "2022-02-24T20:41:18.336499Z",
     "start_time": "2022-02-24T20:41:18.285499Z"
    }
   },
   "outputs": [
    {
     "data": {
      "text/plain": [
       "44"
      ]
     },
     "execution_count": 45,
     "metadata": {},
     "output_type": "execute_result"
    }
   ],
   "source": [
    "selected_feat= X_train.columns[(sel.get_support())]\n",
    "len(selected_feat)"
   ]
  },
  {
   "cell_type": "code",
   "execution_count": 46,
   "id": "c94acda7",
   "metadata": {
    "ExecuteTime": {
     "end_time": "2022-02-24T20:41:26.824245Z",
     "start_time": "2022-02-24T20:41:26.814251Z"
    }
   },
   "outputs": [
    {
     "data": {
      "text/plain": [
       "Index(['overall', 'potential', 'value_eur', 'age', 'height_cm', 'weight_kg',\n",
       "       'physic', 'attacking_crossing', 'attacking_heading_accuracy',\n",
       "       'attacking_short_passing', 'attacking_volleys', 'skill_dribbling',\n",
       "       'skill_curve', 'skill_fk_accuracy', 'skill_long_passing',\n",
       "       'skill_ball_control', 'movement_acceleration', 'movement_sprint_speed',\n",
       "       'movement_agility', 'movement_reactions', 'movement_balance',\n",
       "       'power_shot_power', 'power_jumping', 'power_stamina', 'power_strength',\n",
       "       'power_long_shots', 'mentality_aggression', 'mentality_interceptions',\n",
       "       'mentality_positioning', 'mentality_vision', 'mentality_penalties',\n",
       "       'mentality_composure', 'defending_marking_awareness',\n",
       "       'defending_sliding_tackle', 'goalkeeping_handling',\n",
       "       'goalkeeping_kicking', 'goalkeeping_positioning',\n",
       "       'goalkeeping_reflexes', 'overall_team/year', 'teams_in_league/year',\n",
       "       'mean_league/year', 'mean_team/year', 'ranking', 'puntos'],\n",
       "      dtype='object')"
      ]
     },
     "execution_count": 46,
     "metadata": {},
     "output_type": "execute_result"
    }
   ],
   "source": [
    "selected_feat"
   ]
  },
  {
   "cell_type": "code",
   "execution_count": 48,
   "id": "513f2e4e",
   "metadata": {
    "ExecuteTime": {
     "end_time": "2022-02-24T20:42:17.969587Z",
     "start_time": "2022-02-24T20:42:17.962592Z"
    }
   },
   "outputs": [],
   "source": [
    "model=RandomForestClassifier()"
   ]
  },
  {
   "cell_type": "code",
   "execution_count": 50,
   "id": "60bdc0f9",
   "metadata": {
    "ExecuteTime": {
     "end_time": "2022-02-24T20:43:04.281305Z",
     "start_time": "2022-02-24T20:42:37.149298Z"
    }
   },
   "outputs": [
    {
     "data": {
      "text/plain": [
       "RandomForestClassifier()"
      ]
     },
     "execution_count": 50,
     "metadata": {},
     "output_type": "execute_result"
    }
   ],
   "source": [
    "model.fit(X_train,y_train)"
   ]
  },
  {
   "cell_type": "code",
   "execution_count": 51,
   "id": "60233585",
   "metadata": {
    "ExecuteTime": {
     "end_time": "2022-02-24T20:43:09.960495Z",
     "start_time": "2022-02-24T20:43:09.495490Z"
    }
   },
   "outputs": [
    {
     "data": {
      "text/plain": [
       "0.9494776828110162"
      ]
     },
     "execution_count": 51,
     "metadata": {},
     "output_type": "execute_result"
    }
   ],
   "source": [
    "model.score(X_test,y_test)"
   ]
  },
  {
   "cell_type": "code",
   "execution_count": 53,
   "id": "fcab7da1",
   "metadata": {
    "ExecuteTime": {
     "end_time": "2022-02-24T20:43:34.917068Z",
     "start_time": "2022-02-24T20:43:34.471069Z"
    }
   },
   "outputs": [],
   "source": [
    "y_pred=model.predict(X_test)"
   ]
  },
  {
   "cell_type": "code",
   "execution_count": 52,
   "id": "433977bd",
   "metadata": {
    "ExecuteTime": {
     "end_time": "2022-02-24T20:43:20.651354Z",
     "start_time": "2022-02-24T20:43:20.633313Z"
    }
   },
   "outputs": [],
   "source": [
    "from sklearn.metrics import classification_report"
   ]
  },
  {
   "cell_type": "code",
   "execution_count": 54,
   "id": "16d81d51",
   "metadata": {
    "ExecuteTime": {
     "end_time": "2022-02-24T20:43:49.145049Z",
     "start_time": "2022-02-24T20:43:49.105265Z"
    },
    "scrolled": true
   },
   "outputs": [
    {
     "name": "stdout",
     "output_type": "stream",
     "text": [
      "              precision    recall  f1-score   support\n",
      "\n",
      "           0       0.95      1.00      0.97     25010\n",
      "           1       0.35      0.01      0.02      1315\n",
      "\n",
      "    accuracy                           0.95     26325\n",
      "   macro avg       0.65      0.51      0.50     26325\n",
      "weighted avg       0.92      0.95      0.93     26325\n",
      "\n"
     ]
    }
   ],
   "source": [
    "print(classification_report(y_test,y_pred))"
   ]
  },
  {
   "cell_type": "code",
   "execution_count": 55,
   "id": "933eb60e",
   "metadata": {
    "ExecuteTime": {
     "end_time": "2022-02-24T20:44:07.834911Z",
     "start_time": "2022-02-24T20:44:07.694873Z"
    }
   },
   "outputs": [],
   "source": [
    "from imblearn.under_sampling import RandomUnderSampler"
   ]
  },
  {
   "cell_type": "code",
   "execution_count": 56,
   "id": "6c9ff206",
   "metadata": {
    "ExecuteTime": {
     "end_time": "2022-02-24T20:44:42.683756Z",
     "start_time": "2022-02-24T20:44:42.565703Z"
    }
   },
   "outputs": [],
   "source": [
    "rus = RandomUnderSampler(random_state=0)\n",
    "X_res, y_res =rus.fit_resample(X, y)\n",
    "\n",
    "\n",
    "X_train, X_test, y_train, y_test = train_test_split(X_res, y_res, test_size=0.2, random_state=0)\n",
    "\n"
   ]
  },
  {
   "cell_type": "code",
   "execution_count": 57,
   "id": "2999b8e7",
   "metadata": {
    "ExecuteTime": {
     "end_time": "2022-02-24T20:44:51.498300Z",
     "start_time": "2022-02-24T20:44:48.889299Z"
    }
   },
   "outputs": [
    {
     "data": {
      "text/plain": [
       "RandomForestClassifier()"
      ]
     },
     "execution_count": 57,
     "metadata": {},
     "output_type": "execute_result"
    }
   ],
   "source": [
    "model=RandomForestClassifier()\n",
    "model.fit(X_train,y_train)\n",
    "\n"
   ]
  },
  {
   "cell_type": "code",
   "execution_count": 58,
   "id": "45970344",
   "metadata": {
    "ExecuteTime": {
     "end_time": "2022-02-24T20:44:55.284386Z",
     "start_time": "2022-02-24T20:44:55.241381Z"
    }
   },
   "outputs": [
    {
     "data": {
      "text/plain": [
       "0.7906976744186046"
      ]
     },
     "execution_count": 58,
     "metadata": {},
     "output_type": "execute_result"
    }
   ],
   "source": [
    "model.score(X_test,y_test)\n",
    "\n"
   ]
  },
  {
   "cell_type": "code",
   "execution_count": 59,
   "id": "1fa7c508",
   "metadata": {
    "ExecuteTime": {
     "end_time": "2022-02-24T20:45:01.435109Z",
     "start_time": "2022-02-24T20:45:01.377118Z"
    },
    "scrolled": true
   },
   "outputs": [
    {
     "name": "stdout",
     "output_type": "stream",
     "text": [
      "              precision    recall  f1-score   support\n",
      "\n",
      "           0       0.82      0.76      0.79       853\n",
      "           1       0.77      0.82      0.79       824\n",
      "\n",
      "    accuracy                           0.79      1677\n",
      "   macro avg       0.79      0.79      0.79      1677\n",
      "weighted avg       0.79      0.79      0.79      1677\n",
      "\n"
     ]
    }
   ],
   "source": [
    "y_pred=model.predict(X_test)\n",
    "\n",
    "print(classification_report(y_test, y_pred))"
   ]
  },
  {
   "cell_type": "code",
   "execution_count": 60,
   "id": "49957514",
   "metadata": {
    "ExecuteTime": {
     "end_time": "2022-02-24T20:45:52.418030Z",
     "start_time": "2022-02-24T20:45:52.416028Z"
    }
   },
   "outputs": [],
   "source": [
    "from sklearn.svm import SVC"
   ]
  },
  {
   "cell_type": "code",
   "execution_count": 62,
   "id": "591512ed",
   "metadata": {
    "ExecuteTime": {
     "end_time": "2022-02-24T20:46:04.172875Z",
     "start_time": "2022-02-24T20:46:00.712817Z"
    }
   },
   "outputs": [
    {
     "name": "stdout",
     "output_type": "stream",
     "text": [
      "              precision    recall  f1-score   support\n",
      "\n",
      "           0       0.82      0.76      0.79       853\n",
      "           1       0.77      0.82      0.79       824\n",
      "\n",
      "    accuracy                           0.79      1677\n",
      "   macro avg       0.79      0.79      0.79      1677\n",
      "weighted avg       0.79      0.79      0.79      1677\n",
      "\n"
     ]
    }
   ],
   "source": [
    "model4=SVC()\n",
    "model4.fit(X_train,y_train).score(X_test,y_test)\n",
    "y_pred=model.predict(X_test)\n",
    "print(classification_report(y_test, y_pred))"
   ]
  },
  {
   "cell_type": "code",
   "execution_count": null,
   "id": "a9836663",
   "metadata": {},
   "outputs": [],
   "source": []
  }
 ],
 "metadata": {
  "kernelspec": {
   "display_name": "Python 3",
   "language": "python",
   "name": "python3"
  },
  "language_info": {
   "codemirror_mode": {
    "name": "ipython",
    "version": 3
   },
   "file_extension": ".py",
   "mimetype": "text/x-python",
   "name": "python",
   "nbconvert_exporter": "python",
   "pygments_lexer": "ipython3",
   "version": "3.8.8"
  },
  "toc": {
   "base_numbering": 1,
   "nav_menu": {},
   "number_sections": true,
   "sideBar": true,
   "skip_h1_title": false,
   "title_cell": "Table of Contents",
   "title_sidebar": "Contents",
   "toc_cell": false,
   "toc_position": {},
   "toc_section_display": true,
   "toc_window_display": false
  },
  "varInspector": {
   "cols": {
    "lenName": 16,
    "lenType": 16,
    "lenVar": 40
   },
   "kernels_config": {
    "python": {
     "delete_cmd_postfix": "",
     "delete_cmd_prefix": "del ",
     "library": "var_list.py",
     "varRefreshCmd": "print(var_dic_list())"
    },
    "r": {
     "delete_cmd_postfix": ") ",
     "delete_cmd_prefix": "rm(",
     "library": "var_list.r",
     "varRefreshCmd": "cat(var_dic_list()) "
    }
   },
   "types_to_exclude": [
    "module",
    "function",
    "builtin_function_or_method",
    "instance",
    "_Feature"
   ],
   "window_display": false
  }
 },
 "nbformat": 4,
 "nbformat_minor": 5
}
