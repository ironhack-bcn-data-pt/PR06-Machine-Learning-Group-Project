{
 "cells": [
  {
   "cell_type": "markdown",
   "id": "8c8623b0",
   "metadata": {},
   "source": [
    "## Importación"
   ]
  },
  {
   "cell_type": "code",
   "execution_count": 122,
   "id": "101b32e0",
   "metadata": {
    "ExecuteTime": {
     "end_time": "2022-02-24T20:22:24.198822Z",
     "start_time": "2022-02-24T20:22:24.185822Z"
    }
   },
   "outputs": [],
   "source": [
    "import pandas as pd\n",
    "import numpy as np\n",
    "import matplotlib.pyplot as plt\n",
    "import seaborn as sns\n",
    "from sklearn.ensemble import RandomForestClassifier\n",
    "from sklearn.feature_selection import SelectFromModel\n",
    "from sklearn.model_selection import train_test_split\n",
    "from sklearn.preprocessing import StandardScaler, OneHotEncoder, LabelEncoder, OrdinalEncoder\n",
    "from sklearn.compose import make_column_transformer\n",
    "from sklearn.pipeline import make_pipeline\n",
    "from sklearn.linear_model import LinearRegression, Lasso, Ridge, ElasticNet\n",
    "from sklearn.metrics import classification_report\n",
    "from imblearn.under_sampling import RandomUnderSampler\n",
    "from sklearn.svm import SVC\n",
    "from imblearn.over_sampling import SMOTEN\n",
    "from imblearn.over_sampling import RandomOverSampler"
   ]
  },
  {
   "cell_type": "code",
   "execution_count": 123,
   "id": "d0073b6b",
   "metadata": {
    "ExecuteTime": {
     "end_time": "2022-02-24T20:14:53.557333Z",
     "start_time": "2022-02-24T20:14:52.660331Z"
    },
    "scrolled": true
   },
   "outputs": [
    {
     "name": "stderr",
     "output_type": "stream",
     "text": [
      "C:\\Users\\carlo\\anaconda3\\lib\\site-packages\\IPython\\core\\interactiveshell.py:3165: DtypeWarning: Columns (99) have mixed types.Specify dtype option on import or set low_memory=False.\n",
      "  has_raised = await self.run_ast_nodes(code_ast.body, cell_name,\n"
     ]
    }
   ],
   "source": [
    "df=pd.read_csv(\"https://raw.githubusercontent.com/nathygonzalez/PR06-Machine-Learning-Group-Project/develop/data/df_cleaned.csv\")"
   ]
  },
  {
   "cell_type": "markdown",
   "id": "af375c3a",
   "metadata": {},
   "source": [
    "## depuración columna \"gk\""
   ]
  },
  {
   "cell_type": "code",
   "execution_count": 124,
   "id": "ff30476c",
   "metadata": {
    "ExecuteTime": {
     "end_time": "2022-02-24T20:17:36.860000Z",
     "start_time": "2022-02-24T20:17:36.843947Z"
    }
   },
   "outputs": [],
   "source": [
    "df['gk'] =df['gk'].replace(\"+\",\"\")"
   ]
  },
  {
   "cell_type": "code",
   "execution_count": 125,
   "id": "ececff56",
   "metadata": {
    "ExecuteTime": {
     "end_time": "2022-02-24T20:17:37.206404Z",
     "start_time": "2022-02-24T20:17:37.109341Z"
    }
   },
   "outputs": [],
   "source": [
    "df['gk'] = df['gk'].str.replace(r'\\+', '', regex=True)\n"
   ]
  },
  {
   "cell_type": "code",
   "execution_count": 126,
   "id": "c32f8e2c",
   "metadata": {
    "ExecuteTime": {
     "end_time": "2022-02-24T20:17:37.503936Z",
     "start_time": "2022-02-24T20:17:37.486659Z"
    }
   },
   "outputs": [],
   "source": [
    "df.gk.fillna(0,inplace=True)"
   ]
  },
  {
   "cell_type": "code",
   "execution_count": 127,
   "id": "0349c1ba",
   "metadata": {
    "ExecuteTime": {
     "end_time": "2022-02-24T20:17:40.391524Z",
     "start_time": "2022-02-24T20:17:40.366478Z"
    }
   },
   "outputs": [],
   "source": [
    "df['gk']=df.gk.astype(int)"
   ]
  },
  {
   "cell_type": "code",
   "execution_count": 128,
   "id": "2848a252",
   "metadata": {},
   "outputs": [
    {
     "data": {
      "text/plain": [
       "0        15\n",
       "1        16\n",
       "2        14\n",
       "3        17\n",
       "4        87\n",
       "         ..\n",
       "87742     0\n",
       "87743     0\n",
       "87744     0\n",
       "87745     0\n",
       "87746     0\n",
       "Name: gk, Length: 87747, dtype: int32"
      ]
     },
     "execution_count": 128,
     "metadata": {},
     "output_type": "execute_result"
    }
   ],
   "source": [
    "df['gk']"
   ]
  },
  {
   "cell_type": "markdown",
   "id": "a6ecf8f3",
   "metadata": {},
   "source": [
    "## Añadir variable años pendientes de contrato"
   ]
  },
  {
   "cell_type": "code",
   "execution_count": 129,
   "id": "26a24d45",
   "metadata": {},
   "outputs": [],
   "source": [
    "df['años_de_contrato']=np.where((df['club_contract_valid_until']-df['año_version'])<0,0,(df['club_contract_valid_until']-df['año_version']))"
   ]
  },
  {
   "cell_type": "code",
   "execution_count": 130,
   "id": "6f2dcd88",
   "metadata": {},
   "outputs": [
    {
     "data": {
      "text/plain": [
       "años_de_contrato\n",
       "0.0    30707\n",
       "1.0    21182\n",
       "2.0    17779\n",
       "3.0     9287\n",
       "4.0     4872\n",
       "5.0     2502\n",
       "6.0     1413\n",
       "7.0        3\n",
       "8.0        2\n",
       "Name: años_de_contrato, dtype: int64"
      ]
     },
     "execution_count": 130,
     "metadata": {},
     "output_type": "execute_result"
    }
   ],
   "source": [
    "#comprobación\n",
    "df.groupby('años_de_contrato')['años_de_contrato'].count()"
   ]
  },
  {
   "cell_type": "markdown",
   "id": "2f59cdea",
   "metadata": {},
   "source": [
    "## Eliminación de ruido"
   ]
  },
  {
   "cell_type": "code",
   "execution_count": 131,
   "id": "694b9187",
   "metadata": {
    "ExecuteTime": {
     "end_time": "2022-02-24T20:17:17.443509Z",
     "start_time": "2022-02-24T20:17:17.363443Z"
    }
   },
   "outputs": [
    {
     "data": {
      "text/plain": [
       "\"df.drop(['sofifa_id',\\n 'short_name',\\n 'long_name',\\n 'player_positions',\\n     'dob', 'club_team_id',\\n 'club_name',\\n 'league_name',\\n 'league_level',\\n'club_jersey_number',\\n 'club_joined',\\n 'club_contract_valid_until',\\n 'nationality_id',\\n 'nationality_name',\\n 'nation_team_id','work_rate',\\n 'body_type',\\n 'real_face',\\n    'player_traits'],axis=1,inplace=True)\""
      ]
     },
     "execution_count": 131,
     "metadata": {},
     "output_type": "execute_result"
    }
   ],
   "source": [
    "#elimino columnas (según Sergio)\n",
    "'''df.drop(['sofifa_id',\n",
    " 'short_name',\n",
    " 'long_name',\n",
    " 'player_positions',\n",
    "     'dob', 'club_team_id',\n",
    " 'club_name',\n",
    " 'league_name',\n",
    " 'league_level',\n",
    "'club_jersey_number',\n",
    " 'club_joined',\n",
    " 'club_contract_valid_until',\n",
    " 'nationality_id',\n",
    " 'nationality_name',\n",
    " 'nation_team_id','work_rate',\n",
    " 'body_type',\n",
    " 'real_face',\n",
    "    'player_traits'],axis=1,inplace=True)'''"
   ]
  },
  {
   "cell_type": "code",
   "execution_count": 132,
   "id": "18634378",
   "metadata": {},
   "outputs": [],
   "source": [
    "#eliminamos columnas que sabemos seguro que sólo aportan ruido (según Carlos)\n",
    "df.drop([\"sofifa_id\",'short_name', 'long_name',\"nationality_id\",\"dob\",'club_team_id', 'club_name', 'league_name',\n",
    "        'club_jersey_number', 'club_joined', 'club_contract_valid_until','nationality_id', 'nationality_name','player_traits',\n",
    "        'ranking','puntos','año_version'],axis=1,inplace=True)"
   ]
  },
  {
   "cell_type": "markdown",
   "id": "e9ef54c5",
   "metadata": {},
   "source": [
    "## Agrupar columna bodytype"
   ]
  },
  {
   "cell_type": "code",
   "execution_count": 133,
   "id": "a79555a7",
   "metadata": {},
   "outputs": [],
   "source": [
    "Lean=['Lean (170-)','Lean (185+)','Lean (170-185)']\n",
    "Normal=['Normal (170-)','Normal (170-185)','Normal (185+)']\n",
    "Stocky=['Stocky (170-)','Stocky (170-185)','Stocky (185+)']\n",
    "\n",
    "#agrupo posiciones en posiciones genéricas    \n",
    "for i in df.index:\n",
    "    if df.at[i,'body_type'] in Lean:\n",
    "        df.at[i,'body_type']='Lean'\n",
    "    elif df.at[i,'body_type'] in Normal:\n",
    "        df.at[i,'body_type']='Normal'\n",
    "    elif df.at[i,'body_type'] in Stocky:\n",
    "        df.at[i,'body_type']='Stocky'\n",
    "    else:\n",
    "        pass"
   ]
  },
  {
   "cell_type": "markdown",
   "id": "91da7391",
   "metadata": {},
   "source": [
    "## Exploración feature engineering"
   ]
  },
  {
   "cell_type": "code",
   "execution_count": 134,
   "id": "41d15456",
   "metadata": {},
   "outputs": [
    {
     "data": {
      "text/plain": [
       "Right    66970\n",
       "Left     20777\n",
       "Name: preferred_foot, dtype: int64"
      ]
     },
     "execution_count": 134,
     "metadata": {},
     "output_type": "execute_result"
    }
   ],
   "source": [
    "df.preferred_foot.value_counts() #categorica a OHE"
   ]
  },
  {
   "cell_type": "code",
   "execution_count": 135,
   "id": "35c80876",
   "metadata": {},
   "outputs": [
    {
     "data": {
      "text/plain": [
       "Medium/Medium    47248\n",
       "High/Medium      15911\n",
       "Medium/High       8196\n",
       "High/High         4712\n",
       "Medium/Low        4072\n",
       "High/Low          3332\n",
       "Low/Medium        2078\n",
       "Low/High          2058\n",
       "Low/Low            140\n",
       "Name: work_rate, dtype: int64"
      ]
     },
     "execution_count": 135,
     "metadata": {},
     "output_type": "execute_result"
    }
   ],
   "source": [
    "df.work_rate.value_counts() #categorica transformarla con un ordinal encoder"
   ]
  },
  {
   "cell_type": "code",
   "execution_count": 136,
   "id": "6e2593a5",
   "metadata": {},
   "outputs": [
    {
     "data": {
      "text/plain": [
       "Normal    51581\n",
       "Lean      30898\n",
       "Stocky     5099\n",
       "Unique      169\n",
       "Name: body_type, dtype: int64"
      ]
     },
     "execution_count": 136,
     "metadata": {},
     "output_type": "execute_result"
    }
   ],
   "source": [
    "df.body_type.value_counts() #categorica a OHE"
   ]
  },
  {
   "cell_type": "code",
   "execution_count": 137,
   "id": "f7eb32f1",
   "metadata": {},
   "outputs": [
    {
     "data": {
      "text/plain": [
       "No     78885\n",
       "Yes     8862\n",
       "Name: real_face, dtype: int64"
      ]
     },
     "execution_count": 137,
     "metadata": {},
     "output_type": "execute_result"
    }
   ],
   "source": [
    "df.real_face.value_counts() #categorica a OHE"
   ]
  },
  {
   "cell_type": "markdown",
   "id": "d42a36c9",
   "metadata": {},
   "source": [
    "## Feature engineering (transformar todas las variables a numéricas menos player_positions)"
   ]
  },
  {
   "cell_type": "code",
   "execution_count": 138,
   "id": "153d6124",
   "metadata": {},
   "outputs": [],
   "source": [
    "#preparación para transformación categorica a num\n",
    "work_rate_ord=['Low/Low','Low/Medium','Low/High','Medium/Low','Medium/Medium','Medium/High','High/Low','High/Medium','High/High']\n",
    "league_level_ord=['0.0','4.0','3.0','2.0','1.0']\n",
    "df['league_level']=df['league_level'].apply(str)"
   ]
  },
  {
   "cell_type": "code",
   "execution_count": 139,
   "id": "fd3368d0",
   "metadata": {},
   "outputs": [],
   "source": [
    "#Ordinal Encoder\n",
    "df[['work_rate','league_level']]=OrdinalEncoder(categories=[work_rate_ord,league_level_ord]).fit_transform(df[['work_rate','league_level']])"
   ]
  },
  {
   "cell_type": "code",
   "execution_count": 140,
   "id": "d5589aa9",
   "metadata": {},
   "outputs": [],
   "source": [
    "#OHE\n",
    "df[['preferred_foot','body_type_1','body_type_2','body_type_3','real_face']]=OneHotEncoder(drop='first',sparse=False).fit_transform(df[['preferred_foot','body_type','real_face']])                                          "
   ]
  },
  {
   "cell_type": "code",
   "execution_count": 141,
   "id": "c5aac211",
   "metadata": {},
   "outputs": [
    {
     "data": {
      "text/plain": [
       "player_positions    True\n",
       "body_type           True\n",
       "dtype: bool"
      ]
     },
     "execution_count": 141,
     "metadata": {},
     "output_type": "execute_result"
    }
   ],
   "source": [
    "#comprobar columnas\n",
    "categorical = df.dtypes == object\n",
    "categorical[categorical==True]"
   ]
  },
  {
   "cell_type": "code",
   "execution_count": 142,
   "id": "389108ce",
   "metadata": {},
   "outputs": [],
   "source": [
    "#eliminar columna body_type\n",
    "df.drop([\"body_type\"],axis=1,inplace=True)"
   ]
  },
  {
   "cell_type": "markdown",
   "id": "6e07157e",
   "metadata": {},
   "source": [
    "## Filtramos el dataset por posicion"
   ]
  },
  {
   "cell_type": "code",
   "execution_count": 143,
   "id": "8eeec70d",
   "metadata": {},
   "outputs": [],
   "source": [
    "#filtramos dataset para evitar excesiva coliniaridad\n",
    "df=df[df['player_positions']=='portero']\n",
    "#eliminar columna player_positions\n",
    "df.drop([\"player_positions\"],axis=1,inplace=True)"
   ]
  },
  {
   "cell_type": "code",
   "execution_count": 144,
   "id": "a4807008",
   "metadata": {},
   "outputs": [
    {
     "data": {
      "text/html": [
       "<div>\n",
       "<style scoped>\n",
       "    .dataframe tbody tr th:only-of-type {\n",
       "        vertical-align: middle;\n",
       "    }\n",
       "\n",
       "    .dataframe tbody tr th {\n",
       "        vertical-align: top;\n",
       "    }\n",
       "\n",
       "    .dataframe thead th {\n",
       "        text-align: right;\n",
       "    }\n",
       "</style>\n",
       "<table border=\"1\" class=\"dataframe\">\n",
       "  <thead>\n",
       "    <tr style=\"text-align: right;\">\n",
       "      <th></th>\n",
       "      <th>overall</th>\n",
       "      <th>potential</th>\n",
       "      <th>value_eur</th>\n",
       "      <th>wage_eur</th>\n",
       "      <th>age</th>\n",
       "      <th>height_cm</th>\n",
       "      <th>weight_kg</th>\n",
       "      <th>league_level</th>\n",
       "      <th>club_position</th>\n",
       "      <th>nation_team_id</th>\n",
       "      <th>...</th>\n",
       "      <th>gk</th>\n",
       "      <th>progresion_anual</th>\n",
       "      <th>overall_team/year</th>\n",
       "      <th>teams_in_league/year</th>\n",
       "      <th>mean_league/year</th>\n",
       "      <th>mean_team/year</th>\n",
       "      <th>años_de_contrato</th>\n",
       "      <th>body_type_1</th>\n",
       "      <th>body_type_2</th>\n",
       "      <th>body_type_3</th>\n",
       "    </tr>\n",
       "  </thead>\n",
       "  <tbody>\n",
       "    <tr>\n",
       "      <th>4</th>\n",
       "      <td>90</td>\n",
       "      <td>90</td>\n",
       "      <td>63500000.0</td>\n",
       "      <td>300000.0</td>\n",
       "      <td>28</td>\n",
       "      <td>193</td>\n",
       "      <td>92</td>\n",
       "      <td>4.0</td>\n",
       "      <td>1</td>\n",
       "      <td>1</td>\n",
       "      <td>...</td>\n",
       "      <td>87</td>\n",
       "      <td>0.0</td>\n",
       "      <td>2061.0</td>\n",
       "      <td>18.0</td>\n",
       "      <td>71.280514</td>\n",
       "      <td>79.269231</td>\n",
       "      <td>4.0</td>\n",
       "      <td>1.0</td>\n",
       "      <td>0.0</td>\n",
       "      <td>0.0</td>\n",
       "    </tr>\n",
       "    <tr>\n",
       "      <th>29</th>\n",
       "      <td>86</td>\n",
       "      <td>90</td>\n",
       "      <td>27000000.0</td>\n",
       "      <td>170000.0</td>\n",
       "      <td>22</td>\n",
       "      <td>199</td>\n",
       "      <td>88</td>\n",
       "      <td>4.0</td>\n",
       "      <td>1</td>\n",
       "      <td>1</td>\n",
       "      <td>...</td>\n",
       "      <td>85</td>\n",
       "      <td>0.0</td>\n",
       "      <td>2305.0</td>\n",
       "      <td>20.0</td>\n",
       "      <td>71.277778</td>\n",
       "      <td>74.354839</td>\n",
       "      <td>4.0</td>\n",
       "      <td>0.0</td>\n",
       "      <td>0.0</td>\n",
       "      <td>0.0</td>\n",
       "    </tr>\n",
       "    <tr>\n",
       "      <th>31</th>\n",
       "      <td>85</td>\n",
       "      <td>85</td>\n",
       "      <td>18000000.0</td>\n",
       "      <td>170000.0</td>\n",
       "      <td>32</td>\n",
       "      <td>196</td>\n",
       "      <td>90</td>\n",
       "      <td>4.0</td>\n",
       "      <td>0</td>\n",
       "      <td>1</td>\n",
       "      <td>...</td>\n",
       "      <td>83</td>\n",
       "      <td>0.0</td>\n",
       "      <td>2305.0</td>\n",
       "      <td>20.0</td>\n",
       "      <td>71.277778</td>\n",
       "      <td>74.354839</td>\n",
       "      <td>1.0</td>\n",
       "      <td>1.0</td>\n",
       "      <td>0.0</td>\n",
       "      <td>0.0</td>\n",
       "    </tr>\n",
       "    <tr>\n",
       "      <th>34</th>\n",
       "      <td>85</td>\n",
       "      <td>86</td>\n",
       "      <td>21000000.0</td>\n",
       "      <td>160000.0</td>\n",
       "      <td>27</td>\n",
       "      <td>188</td>\n",
       "      <td>78</td>\n",
       "      <td>4.0</td>\n",
       "      <td>1</td>\n",
       "      <td>1</td>\n",
       "      <td>...</td>\n",
       "      <td>84</td>\n",
       "      <td>0.0</td>\n",
       "      <td>1991.0</td>\n",
       "      <td>20.0</td>\n",
       "      <td>71.277778</td>\n",
       "      <td>73.740741</td>\n",
       "      <td>4.0</td>\n",
       "      <td>0.0</td>\n",
       "      <td>0.0</td>\n",
       "      <td>0.0</td>\n",
       "    </tr>\n",
       "    <tr>\n",
       "      <th>44</th>\n",
       "      <td>84</td>\n",
       "      <td>84</td>\n",
       "      <td>16500000.0</td>\n",
       "      <td>140000.0</td>\n",
       "      <td>33</td>\n",
       "      <td>185</td>\n",
       "      <td>84</td>\n",
       "      <td>4.0</td>\n",
       "      <td>1</td>\n",
       "      <td>1</td>\n",
       "      <td>...</td>\n",
       "      <td>82</td>\n",
       "      <td>0.0</td>\n",
       "      <td>2418.0</td>\n",
       "      <td>20.0</td>\n",
       "      <td>71.357143</td>\n",
       "      <td>75.562500</td>\n",
       "      <td>2.0</td>\n",
       "      <td>1.0</td>\n",
       "      <td>0.0</td>\n",
       "      <td>0.0</td>\n",
       "    </tr>\n",
       "  </tbody>\n",
       "</table>\n",
       "<p>5 rows × 94 columns</p>\n",
       "</div>"
      ],
      "text/plain": [
       "    overall  potential   value_eur  wage_eur  age  height_cm  weight_kg  \\\n",
       "4        90         90  63500000.0  300000.0   28        193         92   \n",
       "29       86         90  27000000.0  170000.0   22        199         88   \n",
       "31       85         85  18000000.0  170000.0   32        196         90   \n",
       "34       85         86  21000000.0  160000.0   27        188         78   \n",
       "44       84         84  16500000.0  140000.0   33        185         84   \n",
       "\n",
       "    league_level  club_position  nation_team_id  ...  gk  progresion_anual  \\\n",
       "4            4.0              1               1  ...  87               0.0   \n",
       "29           4.0              1               1  ...  85               0.0   \n",
       "31           4.0              0               1  ...  83               0.0   \n",
       "34           4.0              1               1  ...  84               0.0   \n",
       "44           4.0              1               1  ...  82               0.0   \n",
       "\n",
       "    overall_team/year  teams_in_league/year  mean_league/year  mean_team/year  \\\n",
       "4              2061.0                  18.0         71.280514       79.269231   \n",
       "29             2305.0                  20.0         71.277778       74.354839   \n",
       "31             2305.0                  20.0         71.277778       74.354839   \n",
       "34             1991.0                  20.0         71.277778       73.740741   \n",
       "44             2418.0                  20.0         71.357143       75.562500   \n",
       "\n",
       "    años_de_contrato  body_type_1  body_type_2  body_type_3  \n",
       "4                4.0          1.0          0.0          0.0  \n",
       "29               4.0          0.0          0.0          0.0  \n",
       "31               1.0          1.0          0.0          0.0  \n",
       "34               4.0          0.0          0.0          0.0  \n",
       "44               2.0          1.0          0.0          0.0  \n",
       "\n",
       "[5 rows x 94 columns]"
      ]
     },
     "execution_count": 144,
     "metadata": {},
     "output_type": "execute_result"
    }
   ],
   "source": [
    "df.head()"
   ]
  },
  {
   "cell_type": "markdown",
   "id": "6d308c0a",
   "metadata": {},
   "source": [
    "## Features selection"
   ]
  },
  {
   "cell_type": "code",
   "execution_count": 145,
   "id": "417e333f",
   "metadata": {
    "ExecuteTime": {
     "end_time": "2022-02-24T20:20:51.943085Z",
     "start_time": "2022-02-24T20:20:51.893811Z"
    }
   },
   "outputs": [],
   "source": [
    "target=[]\n",
    "#elegimos el % de target para que sea 0 y 1\n",
    "for i in df.progresion_anual:\n",
    "    if i>0.1:\n",
    "        target.append(1)\n",
    "    else:\n",
    "        target.append(0)\n",
    "df[\"target\"]=target"
   ]
  },
  {
   "cell_type": "code",
   "execution_count": 146,
   "id": "d330135a",
   "metadata": {
    "ExecuteTime": {
     "end_time": "2022-02-24T20:40:34.881381Z",
     "start_time": "2022-02-24T20:40:34.841376Z"
    }
   },
   "outputs": [],
   "source": [
    "X=df.drop([\"progresion_anual\",\"target\"],axis=1)\n",
    "y=df.target"
   ]
  },
  {
   "cell_type": "code",
   "execution_count": 147,
   "id": "75e9f6f9",
   "metadata": {
    "ExecuteTime": {
     "end_time": "2022-02-24T20:41:09.093225Z",
     "start_time": "2022-02-24T20:40:36.300755Z"
    }
   },
   "outputs": [
    {
     "data": {
      "text/plain": [
       "SelectFromModel(estimator=RandomForestClassifier())"
      ]
     },
     "execution_count": 147,
     "metadata": {},
     "output_type": "execute_result"
    }
   ],
   "source": [
    "#seleccion de columnas \n",
    "sel = SelectFromModel(RandomForestClassifier(n_estimators = 100))\n",
    "sel.fit(X,y)"
   ]
  },
  {
   "cell_type": "code",
   "execution_count": 148,
   "id": "9e0dad1f",
   "metadata": {
    "ExecuteTime": {
     "end_time": "2022-02-24T20:41:09.390521Z",
     "start_time": "2022-02-24T20:41:09.359514Z"
    },
    "scrolled": true
   },
   "outputs": [
    {
     "data": {
      "text/plain": [
       "array([ True,  True,  True,  True,  True,  True,  True, False, False,\n",
       "       False, False, False, False, False, False, False, False, False,\n",
       "       False, False, False, False, False, False, False, False,  True,\n",
       "        True, False,  True,  True,  True,  True,  True,  True,  True,\n",
       "        True,  True,  True,  True,  True,  True,  True,  True,  True,\n",
       "        True,  True,  True,  True,  True,  True, False,  True,  True,\n",
       "        True,  True,  True,  True, False, False, False, False, False,\n",
       "       False, False, False, False, False, False, False, False, False,\n",
       "       False, False, False, False, False, False, False, False, False,\n",
       "       False, False, False,  True,  True,  True,  True,  True,  True,\n",
       "       False, False, False])"
      ]
     },
     "execution_count": 148,
     "metadata": {},
     "output_type": "execute_result"
    }
   ],
   "source": [
    "#columnas que coge\n",
    "sel.get_support()"
   ]
  },
  {
   "cell_type": "code",
   "execution_count": 149,
   "id": "f79c5d53",
   "metadata": {
    "ExecuteTime": {
     "end_time": "2022-02-24T20:41:18.336499Z",
     "start_time": "2022-02-24T20:41:18.285499Z"
    }
   },
   "outputs": [
    {
     "data": {
      "text/plain": [
       "43"
      ]
     },
     "execution_count": 149,
     "metadata": {},
     "output_type": "execute_result"
    }
   ],
   "source": [
    "selected_feat= X.columns[(sel.get_support())]\n",
    "len(selected_feat) #selecciona 40 columnas"
   ]
  },
  {
   "cell_type": "code",
   "execution_count": 150,
   "id": "c94acda7",
   "metadata": {
    "ExecuteTime": {
     "end_time": "2022-02-24T20:41:26.824245Z",
     "start_time": "2022-02-24T20:41:26.814251Z"
    }
   },
   "outputs": [
    {
     "data": {
      "text/plain": [
       "Index(['overall', 'potential', 'value_eur', 'wage_eur', 'age', 'height_cm',\n",
       "       'weight_kg', 'attacking_short_passing', 'attacking_volleys',\n",
       "       'skill_curve', 'skill_fk_accuracy', 'skill_long_passing',\n",
       "       'skill_ball_control', 'movement_acceleration', 'movement_sprint_speed',\n",
       "       'movement_agility', 'movement_reactions', 'movement_balance',\n",
       "       'power_shot_power', 'power_jumping', 'power_stamina', 'power_strength',\n",
       "       'power_long_shots', 'mentality_aggression', 'mentality_interceptions',\n",
       "       'mentality_positioning', 'mentality_vision', 'mentality_penalties',\n",
       "       'mentality_composure', 'defending_marking_awareness',\n",
       "       'defending_standing_tackle', 'goalkeeping_diving',\n",
       "       'goalkeeping_handling', 'goalkeeping_kicking',\n",
       "       'goalkeeping_positioning', 'goalkeeping_reflexes', 'goalkeeping_speed',\n",
       "       'gk', 'overall_team/year', 'teams_in_league/year', 'mean_league/year',\n",
       "       'mean_team/year', 'años_de_contrato'],\n",
       "      dtype='object')"
      ]
     },
     "execution_count": 150,
     "metadata": {},
     "output_type": "execute_result"
    }
   ],
   "source": [
    "#vemos que variables son\n",
    "selected_feat"
   ]
  },
  {
   "cell_type": "markdown",
   "id": "08f53379",
   "metadata": {},
   "source": [
    "## Examinamos coliniaridad y eliminamos variables con VIF"
   ]
  },
  {
   "cell_type": "code",
   "execution_count": 151,
   "id": "63870319",
   "metadata": {},
   "outputs": [
    {
     "data": {
      "text/plain": [
       "<AxesSubplot:>"
      ]
     },
     "execution_count": 151,
     "metadata": {},
     "output_type": "execute_result"
    },
    {
     "data": {
      "image/png": "[encoded data removed]",
      "text/plain": [
       "<Figure size 720x720 with 2 Axes>"
      ]
     },
     "metadata": {
      "needs_background": "light"
     },
     "output_type": "display_data"
    }
   ],
   "source": [
    "features=selected_feat.to_list()\n",
    "plt.rcParams['figure.figsize'] = (10,10)\n",
    "sns.heatmap(df[features].corr())"
   ]
  },
  {
   "cell_type": "code",
   "execution_count": 152,
   "id": "606931c0",
   "metadata": {},
   "outputs": [],
   "source": [
    "from statsmodels.stats.outliers_influence import variance_inflation_factor\n",
    "import statsmodels.api as sm"
   ]
  },
  {
   "cell_type": "code",
   "execution_count": 153,
   "id": "683a0326",
   "metadata": {},
   "outputs": [
    {
     "name": "stdout",
     "output_type": "stream",
     "text": [
      "Wall time: 1.15 s\n"
     ]
    },
    {
     "data": {
      "text/plain": [
       "movement_reactions       3.842984\n",
       "power_long_shots         3.687897\n",
       "mentality_positioning    3.584575\n",
       "movement_acceleration    3.546220\n",
       "movement_sprint_speed    3.517163\n",
       "dtype: float64"
      ]
     },
     "execution_count": 153,
     "metadata": {},
     "output_type": "execute_result"
    }
   ],
   "source": [
    "\n",
    "%%time\n",
    "#vamos viendo y eliminando variable de forma iterativa\n",
    "X = sm.add_constant(df[features].drop(['mean_team/year','goalkeeping_speed','goalkeeping_positioning','goalkeeping_reflexes',\n",
    "                                      'goalkeeping_diving','goalkeeping_handling','potential'],axis=1))\n",
    "VIF=pd.Series([variance_inflation_factor(X,i) for i in range (1, X.shape[1])],index=X.columns[1:]).sort_values(kind=\"quicksort\",ascending=False)\n",
    "VIF[1:].head()"
   ]
  },
  {
   "cell_type": "code",
   "execution_count": 154,
   "id": "ce1c9066",
   "metadata": {},
   "outputs": [],
   "source": [
    "variables_def=df[features].drop(['mean_team/year','goalkeeping_speed','goalkeeping_positioning','goalkeeping_reflexes',\n",
    "                                      'goalkeeping_diving','goalkeeping_handling','potential'],axis=1).columns"
   ]
  },
  {
   "cell_type": "code",
   "execution_count": 155,
   "id": "1640338f",
   "metadata": {},
   "outputs": [],
   "source": [
    "#redefinimos X:\n",
    "X=df[variables_def.to_list()]"
   ]
  },
  {
   "cell_type": "code",
   "execution_count": 156,
   "id": "c1ed5fe4",
   "metadata": {},
   "outputs": [
    {
     "data": {
      "text/plain": [
       "<AxesSubplot:>"
      ]
     },
     "execution_count": 156,
     "metadata": {},
     "output_type": "execute_result"
    },
    {
     "data": {
      "image/png": "[encoded data removed]",
      "text/plain": [
       "<Figure size 720x720 with 2 Axes>"
      ]
     },
     "metadata": {
      "needs_background": "light"
     },
     "output_type": "display_data"
    }
   ],
   "source": [
    "#volvemos a mirar correlación\n",
    "features=selected_feat.to_list()\n",
    "plt.rcParams['figure.figsize'] = (10,10)\n",
    "sns.heatmap(X.corr())"
   ]
  },
  {
   "cell_type": "markdown",
   "id": "53ac5078",
   "metadata": {},
   "source": [
    "## Primer modelo naive"
   ]
  },
  {
   "cell_type": "code",
   "execution_count": 157,
   "id": "5a4c7caf",
   "metadata": {
    "ExecuteTime": {
     "end_time": "2022-02-24T20:42:27.481284Z",
     "start_time": "2022-02-24T20:42:27.367290Z"
    }
   },
   "outputs": [],
   "source": [
    "#split el dataframe\n",
    "X_train, X_test, y_train, y_test = train_test_split(X, y, test_size=0.2, random_state=0)"
   ]
  },
  {
   "cell_type": "code",
   "execution_count": 158,
   "id": "513f2e4e",
   "metadata": {
    "ExecuteTime": {
     "end_time": "2022-02-24T20:42:17.969587Z",
     "start_time": "2022-02-24T20:42:17.962592Z"
    }
   },
   "outputs": [],
   "source": [
    "model=RandomForestClassifier()"
   ]
  },
  {
   "cell_type": "code",
   "execution_count": 159,
   "id": "60bdc0f9",
   "metadata": {
    "ExecuteTime": {
     "end_time": "2022-02-24T20:43:04.281305Z",
     "start_time": "2022-02-24T20:42:37.149298Z"
    }
   },
   "outputs": [
    {
     "data": {
      "text/plain": [
       "RandomForestClassifier()"
      ]
     },
     "execution_count": 159,
     "metadata": {},
     "output_type": "execute_result"
    }
   ],
   "source": [
    "model.fit(X_train,y_train)"
   ]
  },
  {
   "cell_type": "code",
   "execution_count": 160,
   "id": "60233585",
   "metadata": {
    "ExecuteTime": {
     "end_time": "2022-02-24T20:43:09.960495Z",
     "start_time": "2022-02-24T20:43:09.495490Z"
    }
   },
   "outputs": [
    {
     "data": {
      "text/plain": [
       "0.9558899844317592"
      ]
     },
     "execution_count": 160,
     "metadata": {},
     "output_type": "execute_result"
    }
   ],
   "source": [
    "model.score(X_test,y_test)"
   ]
  },
  {
   "cell_type": "code",
   "execution_count": 161,
   "id": "fcab7da1",
   "metadata": {
    "ExecuteTime": {
     "end_time": "2022-02-24T20:43:34.917068Z",
     "start_time": "2022-02-24T20:43:34.471069Z"
    }
   },
   "outputs": [],
   "source": [
    "y_pred=model.predict(X_test)"
   ]
  },
  {
   "cell_type": "code",
   "execution_count": 162,
   "id": "16d81d51",
   "metadata": {
    "ExecuteTime": {
     "end_time": "2022-02-24T20:43:49.145049Z",
     "start_time": "2022-02-24T20:43:49.105265Z"
    },
    "scrolled": true
   },
   "outputs": [
    {
     "name": "stdout",
     "output_type": "stream",
     "text": [
      "              precision    recall  f1-score   support\n",
      "\n",
      "           0       0.96      1.00      0.98      1845\n",
      "           1       0.00      0.00      0.00        82\n",
      "\n",
      "    accuracy                           0.96      1927\n",
      "   macro avg       0.48      0.50      0.49      1927\n",
      "weighted avg       0.92      0.96      0.94      1927\n",
      "\n"
     ]
    }
   ],
   "source": [
    "print(classification_report(y_test,y_pred)) \n",
    "#Se observa accury muy alta => consecuencia posible de df muy desbalanceado"
   ]
  },
  {
   "cell_type": "code",
   "execution_count": 163,
   "id": "ae8a2020",
   "metadata": {},
   "outputs": [
    {
     "data": {
      "text/plain": [
       "0.9574468085106383"
      ]
     },
     "execution_count": 163,
     "metadata": {},
     "output_type": "execute_result"
    }
   ],
   "source": [
    "#desbalanceo de X\n",
    "1845/1927"
   ]
  },
  {
   "cell_type": "markdown",
   "id": "4ab53dd4",
   "metadata": {},
   "source": [
    "## Segundo modelo con undersampling"
   ]
  },
  {
   "cell_type": "code",
   "execution_count": 164,
   "id": "6c9ff206",
   "metadata": {
    "ExecuteTime": {
     "end_time": "2022-02-24T20:44:42.683756Z",
     "start_time": "2022-02-24T20:44:42.565703Z"
    }
   },
   "outputs": [],
   "source": [
    "rus = RandomUnderSampler(random_state=0)\n",
    "X_res, y_res =rus.fit_resample(X, y)\n",
    "\n",
    "#split el dataframe\n",
    "X_train, X_test, y_train, y_test = train_test_split(X_res, y_res, test_size=0.2, random_state=0)\n",
    "\n"
   ]
  },
  {
   "cell_type": "code",
   "execution_count": 165,
   "id": "2999b8e7",
   "metadata": {
    "ExecuteTime": {
     "end_time": "2022-02-24T20:44:51.498300Z",
     "start_time": "2022-02-24T20:44:48.889299Z"
    }
   },
   "outputs": [
    {
     "name": "stdout",
     "output_type": "stream",
     "text": [
      "              precision    recall  f1-score   support\n",
      "\n",
      "           0       0.69      0.69      0.69        80\n",
      "           1       0.73      0.73      0.73        93\n",
      "\n",
      "    accuracy                           0.71       173\n",
      "   macro avg       0.71      0.71      0.71       173\n",
      "weighted avg       0.71      0.71      0.71       173\n",
      "\n"
     ]
    }
   ],
   "source": [
    "model=RandomForestClassifier()\n",
    "model.fit(X_train,y_train)\n",
    "\n",
    "y_pred=model.predict(X_test)\n",
    "\n",
    "print(classification_report(y_test, y_pred))\n",
    "#random forest classifier consigue un 72% de accuracy"
   ]
  },
  {
   "cell_type": "code",
   "execution_count": 166,
   "id": "591512ed",
   "metadata": {
    "ExecuteTime": {
     "end_time": "2022-02-24T20:46:04.172875Z",
     "start_time": "2022-02-24T20:46:00.712817Z"
    }
   },
   "outputs": [
    {
     "name": "stdout",
     "output_type": "stream",
     "text": [
      "              precision    recall  f1-score   support\n",
      "\n",
      "           0       0.72      0.42      0.54        80\n",
      "           1       0.63      0.86      0.73        93\n",
      "\n",
      "    accuracy                           0.66       173\n",
      "   macro avg       0.68      0.64      0.63       173\n",
      "weighted avg       0.68      0.66      0.64       173\n",
      "\n"
     ]
    }
   ],
   "source": [
    "model2=SVC()\n",
    "model2.fit(X_train,y_train)\n",
    "y_pred=model2.predict(X_test)\n",
    "print(classification_report(y_test, y_pred))\n",
    "#SVC consigue un 66% de accuracy"
   ]
  },
  {
   "cell_type": "markdown",
   "id": "7b0f238b",
   "metadata": {},
   "source": [
    "## Tercer modelo con Over-sampling"
   ]
  },
  {
   "cell_type": "code",
   "execution_count": 167,
   "id": "6f71a02c",
   "metadata": {},
   "outputs": [],
   "source": [
    "#res= SMOTEN()\n",
    "res = RandomOverSampler(random_state=0)"
   ]
  },
  {
   "cell_type": "code",
   "execution_count": 168,
   "id": "cb62d94b",
   "metadata": {},
   "outputs": [],
   "source": [
    "X_res,y_res=res.fit_resample(X, y)"
   ]
  },
  {
   "cell_type": "code",
   "execution_count": 169,
   "id": "c675fe1e",
   "metadata": {},
   "outputs": [
    {
     "data": {
      "text/plain": [
       "0.5"
      ]
     },
     "execution_count": 169,
     "metadata": {},
     "output_type": "execute_result"
    }
   ],
   "source": [
    "#comprobación\n",
    "sum(y_res)/len(y_res) "
   ]
  },
  {
   "cell_type": "code",
   "execution_count": 170,
   "id": "a7d91b4b",
   "metadata": {},
   "outputs": [],
   "source": [
    "#split el dataframe\n",
    "X_train, X_test, y_train, y_test = train_test_split(X_res, y_res, test_size=0.2, random_state=0)"
   ]
  },
  {
   "cell_type": "code",
   "execution_count": 171,
   "id": "96cb1cf3",
   "metadata": {},
   "outputs": [
    {
     "name": "stdout",
     "output_type": "stream",
     "text": [
      "              precision    recall  f1-score   support\n",
      "\n",
      "           0       1.00      0.99      1.00      1847\n",
      "           1       0.99      1.00      1.00      1834\n",
      "\n",
      "    accuracy                           1.00      3681\n",
      "   macro avg       1.00      1.00      1.00      3681\n",
      "weighted avg       1.00      1.00      1.00      3681\n",
      "\n"
     ]
    }
   ],
   "source": [
    "model3=RandomForestClassifier()\n",
    "model3.fit(X_train,y_train)\n",
    "y_pred=model3.predict(X_test)\n",
    "print(classification_report(y_test, y_pred))\n",
    "#random forest classifier con oversampling consigue un 100% de accuracy"
   ]
  },
  {
   "cell_type": "code",
   "execution_count": 172,
   "id": "07bd3f67",
   "metadata": {},
   "outputs": [
    {
     "data": {
      "text/plain": [
       "'model4=SVC()\\nmodel4.fit(X_train,y_train).score(X_test,y_test)\\ny_pred=model4.predict(X_test)\\nprint(classification_report(y_test, y_pred))\\n#SVC con oversampling consigue un 77% de accuracy'"
      ]
     },
     "execution_count": 172,
     "metadata": {},
     "output_type": "execute_result"
    }
   ],
   "source": [
    "#no ejecuto porque el anterior ya me vale\n",
    "'''model4=SVC()\n",
    "model4.fit(X_train,y_train).score(X_test,y_test)\n",
    "y_pred=model4.predict(X_test)\n",
    "print(classification_report(y_test, y_pred))\n",
    "#SVC con oversampling consigue un 77% de accuracy'''"
   ]
  },
  {
   "cell_type": "markdown",
   "id": "e306622f",
   "metadata": {},
   "source": [
    "## Parameter tunnig"
   ]
  },
  {
   "cell_type": "code",
   "execution_count": 174,
   "id": "aa9284d0",
   "metadata": {},
   "outputs": [],
   "source": [
    "param_grid = { \n",
    "    'n_estimators': [200, 500],\n",
    "    'max_features': ['auto', 'sqrt', 'log2'],\n",
    "    'max_depth' : [4,5,6,7,8],\n",
    "    'criterion' :['gini', 'entropy']\n",
    "}"
   ]
  },
  {
   "cell_type": "code",
   "execution_count": 175,
   "id": "792791f4",
   "metadata": {
    "code_folding": []
   },
   "outputs": [
    {
     "name": "stdout",
     "output_type": "stream",
     "text": [
      "Wall time: 31min 30s\n"
     ]
    },
    {
     "data": {
      "text/plain": [
       "GridSearchCV(cv=5, estimator=RandomForestClassifier(),\n",
       "             param_grid={'criterion': ['gini', 'entropy'],\n",
       "                         'max_depth': [4, 5, 6, 7, 8],\n",
       "                         'max_features': ['auto', 'sqrt', 'log2'],\n",
       "                         'n_estimators': [200, 500]})"
      ]
     },
     "execution_count": 175,
     "metadata": {},
     "output_type": "execute_result"
    }
   ],
   "source": [
    "%%time\n",
    "from sklearn.model_selection import GridSearchCV\n",
    "CV_rfc = GridSearchCV(estimator=model3, param_grid=param_grid, cv= 5)\n",
    "CV_rfc.fit(X_train, y_train)"
   ]
  },
  {
   "cell_type": "code",
   "execution_count": 176,
   "id": "4d6dbb44",
   "metadata": {},
   "outputs": [
    {
     "data": {
      "text/plain": [
       "{'criterion': 'gini',\n",
       " 'max_depth': 8,\n",
       " 'max_features': 'sqrt',\n",
       " 'n_estimators': 500}"
      ]
     },
     "execution_count": 176,
     "metadata": {},
     "output_type": "execute_result"
    }
   ],
   "source": [
    "CV_rfc.best_params_"
   ]
  },
  {
   "cell_type": "code",
   "execution_count": 177,
   "id": "26fcca24",
   "metadata": {},
   "outputs": [
    {
     "name": "stdout",
     "output_type": "stream",
     "text": [
      "              precision    recall  f1-score   support\n",
      "\n",
      "           0       0.99      0.82      0.90      1847\n",
      "           1       0.84      0.99      0.91      1834\n",
      "\n",
      "    accuracy                           0.90      3681\n",
      "   macro avg       0.92      0.90      0.90      3681\n",
      "weighted avg       0.92      0.90      0.90      3681\n",
      "\n"
     ]
    }
   ],
   "source": [
    "model_def=RandomForestClassifier(max_features='sqrt', n_estimators= 500, max_depth=8, criterion='gini')\n",
    "model_def.fit(X_train,y_train)\n",
    "y_pred=model_def.predict(X_test)\n",
    "print(classification_report(y_test, y_pred))\n",
    "#random forest classifier con oversampling consigue un 90% de accuracy"
   ]
  },
  {
   "cell_type": "markdown",
   "id": "5e45aa8e",
   "metadata": {},
   "source": [
    "## Exportar modelo"
   ]
  },
  {
   "cell_type": "code",
   "execution_count": 178,
   "id": "ae26784c",
   "metadata": {},
   "outputs": [],
   "source": [
    "import pickle"
   ]
  },
  {
   "cell_type": "code",
   "execution_count": 179,
   "id": "a8b082b1",
   "metadata": {},
   "outputs": [],
   "source": [
    "#wb => de escritura y binario\n",
    "with open('./models/model_GK.pkl','wb') as f:\n",
    "    pickle.dump(model_def,f)"
   ]
  },
  {
   "cell_type": "markdown",
   "id": "120fe2be",
   "metadata": {},
   "source": [
    "## Variables a usar"
   ]
  },
  {
   "cell_type": "code",
   "execution_count": 180,
   "id": "0af2bef8",
   "metadata": {},
   "outputs": [
    {
     "data": {
      "text/plain": [
       "['overall',\n",
       " 'value_eur',\n",
       " 'wage_eur',\n",
       " 'age',\n",
       " 'height_cm',\n",
       " 'weight_kg',\n",
       " 'attacking_short_passing',\n",
       " 'attacking_volleys',\n",
       " 'skill_curve',\n",
       " 'skill_fk_accuracy',\n",
       " 'skill_long_passing',\n",
       " 'skill_ball_control',\n",
       " 'movement_acceleration',\n",
       " 'movement_sprint_speed',\n",
       " 'movement_agility',\n",
       " 'movement_reactions',\n",
       " 'movement_balance',\n",
       " 'power_shot_power',\n",
       " 'power_jumping',\n",
       " 'power_stamina',\n",
       " 'power_strength',\n",
       " 'power_long_shots',\n",
       " 'mentality_aggression',\n",
       " 'mentality_interceptions',\n",
       " 'mentality_positioning',\n",
       " 'mentality_vision',\n",
       " 'mentality_penalties',\n",
       " 'mentality_composure',\n",
       " 'defending_marking_awareness',\n",
       " 'defending_standing_tackle',\n",
       " 'goalkeeping_kicking',\n",
       " 'gk',\n",
       " 'overall_team/year',\n",
       " 'teams_in_league/year',\n",
       " 'mean_league/year',\n",
       " 'años_de_contrato']"
      ]
     },
     "execution_count": 180,
     "metadata": {},
     "output_type": "execute_result"
    }
   ],
   "source": [
    "variables_def.to_list()"
   ]
  }
 ],
 "metadata": {
  "kernelspec": {
   "display_name": "Python 3",
   "language": "python",
   "name": "python3"
  },
  "language_info": {
   "codemirror_mode": {
    "name": "ipython",
    "version": 3
   },
   "file_extension": ".py",
   "mimetype": "text/x-python",
   "name": "python",
   "nbconvert_exporter": "python",
   "pygments_lexer": "ipython3",
   "version": "3.8.8"
  },
  "toc": {
   "base_numbering": 1,
   "nav_menu": {},
   "number_sections": true,
   "sideBar": true,
   "skip_h1_title": false,
   "title_cell": "Table of Contents",
   "title_sidebar": "Contents",
   "toc_cell": false,
   "toc_position": {},
   "toc_section_display": true,
   "toc_window_display": false
  },
  "varInspector": {
   "cols": {
    "lenName": 16,
    "lenType": 16,
    "lenVar": 40
   },
   "kernels_config": {
    "python": {
     "delete_cmd_postfix": "",
     "delete_cmd_prefix": "del ",
     "library": "var_list.py",
     "varRefreshCmd": "print(var_dic_list())"
    },
    "r": {
     "delete_cmd_postfix": ") ",
     "delete_cmd_prefix": "rm(",
     "library": "var_list.r",
     "varRefreshCmd": "cat(var_dic_list()) "
    }
   },
   "types_to_exclude": [
    "module",
    "function",
    "builtin_function_or_method",
    "instance",
    "_Feature"
   ],
   "window_display": false
  }
 },
 "nbformat": 4,
 "nbformat_minor": 5
}
