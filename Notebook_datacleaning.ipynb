{
 "cells": [
  {
   "cell_type": "code",
   "execution_count": 124,
   "id": "2030e0ee",
   "metadata": {},
   "outputs": [],
   "source": [
    "import pandas as pd\n",
    "import numpy as np"
   ]
  },
  {
   "cell_type": "code",
   "execution_count": 24,
   "id": "998ffa6f",
   "metadata": {},
   "outputs": [
    {
     "name": "stderr",
     "output_type": "stream",
     "text": [
      "C:\\Users\\carlo\\anaconda3\\lib\\site-packages\\IPython\\core\\interactiveshell.py:3165: DtypeWarning: Columns (104) have mixed types.Specify dtype option on import or set low_memory=False.\n",
      "  has_raised = await self.run_ast_nodes(code_ast.body, cell_name,\n",
      "C:\\Users\\carlo\\anaconda3\\lib\\site-packages\\IPython\\core\\interactiveshell.py:3165: DtypeWarning: Columns (81,82,83,84,85) have mixed types.Specify dtype option on import or set low_memory=False.\n",
      "  has_raised = await self.run_ast_nodes(code_ast.body, cell_name,\n",
      "C:\\Users\\carlo\\anaconda3\\lib\\site-packages\\IPython\\core\\interactiveshell.py:3165: DtypeWarning: Columns (25,108) have mixed types.Specify dtype option on import or set low_memory=False.\n",
      "  has_raised = await self.run_ast_nodes(code_ast.body, cell_name,\n"
     ]
    }
   ],
   "source": [
    "#llama a los datasets\n",
    "df15=pd.read_csv('data/players_15.csv')\n",
    "df16=pd.read_csv('data/players_16.csv')\n",
    "df17=pd.read_csv('data/players_17.csv')\n",
    "df18=pd.read_csv('data/players_18.csv')\n",
    "df19=pd.read_csv('data/players_19.csv')\n",
    "df20=pd.read_csv('data/players_20.csv')\n",
    "df21=pd.read_csv('data/players_21.csv')\n",
    "df22=pd.read_csv('data/players_22.csv')"
   ]
  },
  {
   "cell_type": "code",
   "execution_count": 25,
   "id": "182eece0",
   "metadata": {},
   "outputs": [],
   "source": [
    "#bucle para añadir columna version en todos los datasets\n",
    "for i,df in zip(range(2015,2023),(df15,df16,df17,df18,df19,df20,df21,df22)):\n",
    "    df['año_version']=i"
   ]
  },
  {
   "cell_type": "code",
   "execution_count": 26,
   "id": "72988957",
   "metadata": {},
   "outputs": [],
   "source": [
    "#fusiono todos los datasets en uno\n",
    "frames = [df15,df16,df17,df18,df19,df20,df21,df22]\n",
    "df = pd.concat(frames).reset_index()"
   ]
  },
  {
   "cell_type": "code",
   "execution_count": 27,
   "id": "0b1f869d",
   "metadata": {},
   "outputs": [],
   "source": [
    "#eliminamos columnas de url que no aportan información\n",
    "df = df[df.columns.drop(list(df.filter(regex='url')))]"
   ]
  },
  {
   "cell_type": "markdown",
   "id": "67ff3940",
   "metadata": {},
   "source": [
    "## Agrupacion de posiciones"
   ]
  },
  {
   "cell_type": "code",
   "execution_count": 28,
   "id": "16731314",
   "metadata": {},
   "outputs": [],
   "source": [
    "#funcion transformación en lista\n",
    "def lista_posicion(x):\n",
    "    return (x.replace(' ','').split(','))"
   ]
  },
  {
   "cell_type": "code",
   "execution_count": 29,
   "id": "7e865b41",
   "metadata": {},
   "outputs": [],
   "source": [
    "#transforma valores de columna player_positions en una lista\n",
    "df['player_positions']=df['player_positions'].apply(lambda x: lista_posicion(x))"
   ]
  },
  {
   "cell_type": "code",
   "execution_count": 30,
   "id": "a005047e",
   "metadata": {},
   "outputs": [],
   "source": [
    "#defino listas para agrupar posiciones por 4 categorias\n",
    "pos_defensas=['LCB','RCB','CB','RB','LB','RWB','LWB']\n",
    "pos_medios=['LW','LCM','RCM','CAM','RW','LDM','CDM','CM','RDM','RM','RAM','LAM','LM']\n",
    "pos_delanteros=['CF','ST','RS','LS','RF']"
   ]
  },
  {
   "cell_type": "code",
   "execution_count": 31,
   "id": "be54f1ee",
   "metadata": {},
   "outputs": [],
   "source": [
    "#agrupo posiciones en posiciones genéricas    \n",
    "for i in df.index:\n",
    "            if len(df.at[i,'player_positions'])==1:\n",
    "                if df.at[i,'player_positions'][0]=='GK':\n",
    "                    df.at[i,'player_positions']='portero'\n",
    "                if df.at[i,'player_positions'][0] in pos_defensas:\n",
    "                    df.at[i,'player_positions']='defensa'\n",
    "                elif df.at[i,'player_positions'][0] in pos_medios:\n",
    "                    df.at[i,'player_positions']='centrocampista'\n",
    "                elif df.at[i,'player_positions'][0] in pos_delanteros:\n",
    "                    df.at[i,'player_positions']='delantero'\n",
    "            else:\n",
    "                if df.at[i,'player_positions'][0] in pos_defensas:\n",
    "                    df.at[i,'player_positions']='defensa'\n",
    "                elif df.at[i,'player_positions'][0] in pos_medios:\n",
    "                    df.at[i,'player_positions']='centrocampista'\n",
    "                elif df.at[i,'player_positions'][0] in pos_delanteros:\n",
    "                    df.at[i,'player_positions']='delantero'\n",
    "                elif df.at[i,'player_positions'][0]=='GK':\n",
    "                    df.at[i,'player_positions']='portero'"
   ]
  },
  {
   "cell_type": "code",
   "execution_count": 33,
   "id": "2f5956b3",
   "metadata": {},
   "outputs": [
    {
     "data": {
      "text/plain": [
       "player_positions\n",
       "centrocampista    58700\n",
       "defensa           46218\n",
       "delantero         21369\n",
       "portero           15792\n",
       "Name: sofifa_id, dtype: int64"
      ]
     },
     "execution_count": 33,
     "metadata": {},
     "output_type": "execute_result"
    }
   ],
   "source": [
    "#comprobación de dataset\n",
    "df.groupby('player_positions')['sofifa_id'].count()"
   ]
  },
  {
   "cell_type": "markdown",
   "id": "f3ab6f76",
   "metadata": {},
   "source": [
    "## definir variable objetivo"
   ]
  },
  {
   "cell_type": "code",
   "execution_count": 45,
   "id": "fc117ad3",
   "metadata": {},
   "outputs": [],
   "source": [
    "def progresion_anual(row):\n",
    "    #Calcula primero la primera y ultima version en que apareció el jugador en el juego. \n",
    "    #Despúes calcula la progresión porcentual que tendrá el overall en la versión siguiente.\n",
    "    #El dateframe debe llamarse 'df'\n",
    "    #Ojo! calculando por el dataframe segmento de la primera división tarda en ejecucarse unos 28.1s. El df total son 13 min\n",
    "    #Sample Input: df.iloc[8].squeeze()\n",
    "    #Sample Output: -0.022727272727272728\n",
    "    \n",
    "    \n",
    "    firstfifa=df[df['sofifa_id']==row['sofifa_id']].nsmallest(1, 'año_version')['año_version'].to_list()[0]\n",
    "    lastfifa=df[df['sofifa_id']==row['sofifa_id']].nlargest(1, 'año_version')['año_version'].to_list()[0]\n",
    "    try:\n",
    "        if row['año_version'] in range(firstfifa,lastfifa):\n",
    "            value_fut=df[(df['sofifa_id']==row['sofifa_id'])&(df['año_version']==(row['año_version']+1))]['overall'].to_list()[0]\n",
    "            value_act=df[(df['sofifa_id']==row['sofifa_id'])&(df['año_version']==row['año_version'])]['overall'].to_list()[0]\n",
    "            return (value_fut-value_act)/value_act\n",
    "        else:\n",
    "            return None\n",
    "    except:\n",
    "        pass"
   ]
  },
  {
   "cell_type": "code",
   "execution_count": 46,
   "id": "ed06f94f",
   "metadata": {},
   "outputs": [
    {
     "name": "stdout",
     "output_type": "stream",
     "text": [
      "Wall time: 11min 43s\n"
     ]
    }
   ],
   "source": [
    "%%time\n",
    "df['progresion_anual']=df.apply(progresion_anual, axis=1)"
   ]
  },
  {
   "cell_type": "code",
   "execution_count": 48,
   "id": "ac26601f",
   "metadata": {},
   "outputs": [],
   "source": [
    "#quito valores nulos de progresion anual\n",
    "df=df[df['progresion_anual'].notnull()]"
   ]
  },
  {
   "cell_type": "code",
   "execution_count": 50,
   "id": "efe9c11b",
   "metadata": {},
   "outputs": [],
   "source": [
    "df=df.reset_index()"
   ]
  },
  {
   "cell_type": "markdown",
   "id": "27263ab3",
   "metadata": {},
   "source": [
    "## Transformación columnas overall por posiciones"
   ]
  },
  {
   "cell_type": "code",
   "execution_count": 52,
   "id": "c03783e9",
   "metadata": {},
   "outputs": [],
   "source": [
    "#df solo con las columnas a transformar\n",
    "posiciones=df[[\"ls\",\"st\",\"rs\",\"lw\",\"lf\",\"cf\",\"rf\",\"rw\", 'lam', 'cam', 'ram', 'lm', 'lcm', 'cm', 'rcm', 'rm', 'ldm', 'cdm', 'rdm',\n",
    "     'lwb', 'rwb', 'lb', 'lcb', 'cb', 'rcb', 'rb',\"gk\"]]"
   ]
  },
  {
   "cell_type": "code",
   "execution_count": 79,
   "id": "b88f14e2",
   "metadata": {},
   "outputs": [],
   "source": [
    "#funcion para limpiar valores\n",
    "def limp_posiciones(x):\n",
    "    x.replace(\"+\",\" \")\n",
    "    return x.split(\" \")[0]\n"
   ]
  },
  {
   "cell_type": "code",
   "execution_count": 83,
   "id": "7856aafd",
   "metadata": {},
   "outputs": [
    {
     "ename": "ValueError",
     "evalue": "invalid literal for int() with base 10: '8+'",
     "output_type": "error",
     "traceback": [
      "\u001b[1;31m---------------------------------------------------------------------------\u001b[0m",
      "\u001b[1;31mValueError\u001b[0m                                Traceback (most recent call last)",
      "\u001b[1;32m<ipython-input-83-dc0f832e4790>\u001b[0m in \u001b[0;36m<module>\u001b[1;34m\u001b[0m\n\u001b[0;32m      3\u001b[0m     \u001b[0mdf\u001b[0m\u001b[1;33m[\u001b[0m\u001b[0mi\u001b[0m\u001b[1;33m]\u001b[0m\u001b[1;33m=\u001b[0m\u001b[0mdf\u001b[0m\u001b[1;33m[\u001b[0m\u001b[0mi\u001b[0m\u001b[1;33m]\u001b[0m\u001b[1;33m.\u001b[0m\u001b[0mastype\u001b[0m\u001b[1;33m(\u001b[0m\u001b[0mstr\u001b[0m\u001b[1;33m)\u001b[0m\u001b[1;33m\u001b[0m\u001b[1;33m\u001b[0m\u001b[0m\n\u001b[0;32m      4\u001b[0m     \u001b[0mdf\u001b[0m\u001b[1;33m[\u001b[0m\u001b[0mi\u001b[0m\u001b[1;33m]\u001b[0m\u001b[1;33m=\u001b[0m\u001b[0mdf\u001b[0m\u001b[1;33m[\u001b[0m\u001b[0mi\u001b[0m\u001b[1;33m]\u001b[0m\u001b[1;33m.\u001b[0m\u001b[0mapply\u001b[0m\u001b[1;33m(\u001b[0m\u001b[0mlimp_posiciones\u001b[0m\u001b[1;33m)\u001b[0m\u001b[1;33m\u001b[0m\u001b[1;33m\u001b[0m\u001b[0m\n\u001b[1;32m----> 5\u001b[1;33m     \u001b[0mdf\u001b[0m\u001b[1;33m[\u001b[0m\u001b[0mi\u001b[0m\u001b[1;33m]\u001b[0m\u001b[1;33m=\u001b[0m\u001b[0mdf\u001b[0m\u001b[1;33m[\u001b[0m\u001b[0mi\u001b[0m\u001b[1;33m]\u001b[0m\u001b[1;33m.\u001b[0m\u001b[0mastype\u001b[0m\u001b[1;33m(\u001b[0m\u001b[0mint\u001b[0m\u001b[1;33m)\u001b[0m\u001b[1;33m\u001b[0m\u001b[1;33m\u001b[0m\u001b[0m\n\u001b[0m",
      "\u001b[1;32m~\\anaconda3\\lib\\site-packages\\pandas\\core\\generic.py\u001b[0m in \u001b[0;36mastype\u001b[1;34m(self, dtype, copy, errors)\u001b[0m\n\u001b[0;32m   5875\u001b[0m         \u001b[1;32melse\u001b[0m\u001b[1;33m:\u001b[0m\u001b[1;33m\u001b[0m\u001b[1;33m\u001b[0m\u001b[0m\n\u001b[0;32m   5876\u001b[0m             \u001b[1;31m# else, only a single dtype is given\u001b[0m\u001b[1;33m\u001b[0m\u001b[1;33m\u001b[0m\u001b[1;33m\u001b[0m\u001b[0m\n\u001b[1;32m-> 5877\u001b[1;33m             \u001b[0mnew_data\u001b[0m \u001b[1;33m=\u001b[0m \u001b[0mself\u001b[0m\u001b[1;33m.\u001b[0m\u001b[0m_mgr\u001b[0m\u001b[1;33m.\u001b[0m\u001b[0mastype\u001b[0m\u001b[1;33m(\u001b[0m\u001b[0mdtype\u001b[0m\u001b[1;33m=\u001b[0m\u001b[0mdtype\u001b[0m\u001b[1;33m,\u001b[0m \u001b[0mcopy\u001b[0m\u001b[1;33m=\u001b[0m\u001b[0mcopy\u001b[0m\u001b[1;33m,\u001b[0m \u001b[0merrors\u001b[0m\u001b[1;33m=\u001b[0m\u001b[0merrors\u001b[0m\u001b[1;33m)\u001b[0m\u001b[1;33m\u001b[0m\u001b[1;33m\u001b[0m\u001b[0m\n\u001b[0m\u001b[0;32m   5878\u001b[0m             \u001b[1;32mreturn\u001b[0m \u001b[0mself\u001b[0m\u001b[1;33m.\u001b[0m\u001b[0m_constructor\u001b[0m\u001b[1;33m(\u001b[0m\u001b[0mnew_data\u001b[0m\u001b[1;33m)\u001b[0m\u001b[1;33m.\u001b[0m\u001b[0m__finalize__\u001b[0m\u001b[1;33m(\u001b[0m\u001b[0mself\u001b[0m\u001b[1;33m,\u001b[0m \u001b[0mmethod\u001b[0m\u001b[1;33m=\u001b[0m\u001b[1;34m\"astype\"\u001b[0m\u001b[1;33m)\u001b[0m\u001b[1;33m\u001b[0m\u001b[1;33m\u001b[0m\u001b[0m\n\u001b[0;32m   5879\u001b[0m \u001b[1;33m\u001b[0m\u001b[0m\n",
      "\u001b[1;32m~\\anaconda3\\lib\\site-packages\\pandas\\core\\internals\\managers.py\u001b[0m in \u001b[0;36mastype\u001b[1;34m(self, dtype, copy, errors)\u001b[0m\n\u001b[0;32m    629\u001b[0m         \u001b[0mself\u001b[0m\u001b[1;33m,\u001b[0m \u001b[0mdtype\u001b[0m\u001b[1;33m,\u001b[0m \u001b[0mcopy\u001b[0m\u001b[1;33m:\u001b[0m \u001b[0mbool\u001b[0m \u001b[1;33m=\u001b[0m \u001b[1;32mFalse\u001b[0m\u001b[1;33m,\u001b[0m \u001b[0merrors\u001b[0m\u001b[1;33m:\u001b[0m \u001b[0mstr\u001b[0m \u001b[1;33m=\u001b[0m \u001b[1;34m\"raise\"\u001b[0m\u001b[1;33m\u001b[0m\u001b[1;33m\u001b[0m\u001b[0m\n\u001b[0;32m    630\u001b[0m     ) -> \"BlockManager\":\n\u001b[1;32m--> 631\u001b[1;33m         \u001b[1;32mreturn\u001b[0m \u001b[0mself\u001b[0m\u001b[1;33m.\u001b[0m\u001b[0mapply\u001b[0m\u001b[1;33m(\u001b[0m\u001b[1;34m\"astype\"\u001b[0m\u001b[1;33m,\u001b[0m \u001b[0mdtype\u001b[0m\u001b[1;33m=\u001b[0m\u001b[0mdtype\u001b[0m\u001b[1;33m,\u001b[0m \u001b[0mcopy\u001b[0m\u001b[1;33m=\u001b[0m\u001b[0mcopy\u001b[0m\u001b[1;33m,\u001b[0m \u001b[0merrors\u001b[0m\u001b[1;33m=\u001b[0m\u001b[0merrors\u001b[0m\u001b[1;33m)\u001b[0m\u001b[1;33m\u001b[0m\u001b[1;33m\u001b[0m\u001b[0m\n\u001b[0m\u001b[0;32m    632\u001b[0m \u001b[1;33m\u001b[0m\u001b[0m\n\u001b[0;32m    633\u001b[0m     def convert(\n",
      "\u001b[1;32m~\\anaconda3\\lib\\site-packages\\pandas\\core\\internals\\managers.py\u001b[0m in \u001b[0;36mapply\u001b[1;34m(self, f, align_keys, ignore_failures, **kwargs)\u001b[0m\n\u001b[0;32m    425\u001b[0m                     \u001b[0mapplied\u001b[0m \u001b[1;33m=\u001b[0m \u001b[0mb\u001b[0m\u001b[1;33m.\u001b[0m\u001b[0mapply\u001b[0m\u001b[1;33m(\u001b[0m\u001b[0mf\u001b[0m\u001b[1;33m,\u001b[0m \u001b[1;33m**\u001b[0m\u001b[0mkwargs\u001b[0m\u001b[1;33m)\u001b[0m\u001b[1;33m\u001b[0m\u001b[1;33m\u001b[0m\u001b[0m\n\u001b[0;32m    426\u001b[0m                 \u001b[1;32melse\u001b[0m\u001b[1;33m:\u001b[0m\u001b[1;33m\u001b[0m\u001b[1;33m\u001b[0m\u001b[0m\n\u001b[1;32m--> 427\u001b[1;33m                     \u001b[0mapplied\u001b[0m \u001b[1;33m=\u001b[0m \u001b[0mgetattr\u001b[0m\u001b[1;33m(\u001b[0m\u001b[0mb\u001b[0m\u001b[1;33m,\u001b[0m \u001b[0mf\u001b[0m\u001b[1;33m)\u001b[0m\u001b[1;33m(\u001b[0m\u001b[1;33m**\u001b[0m\u001b[0mkwargs\u001b[0m\u001b[1;33m)\u001b[0m\u001b[1;33m\u001b[0m\u001b[1;33m\u001b[0m\u001b[0m\n\u001b[0m\u001b[0;32m    428\u001b[0m             \u001b[1;32mexcept\u001b[0m \u001b[1;33m(\u001b[0m\u001b[0mTypeError\u001b[0m\u001b[1;33m,\u001b[0m \u001b[0mNotImplementedError\u001b[0m\u001b[1;33m)\u001b[0m\u001b[1;33m:\u001b[0m\u001b[1;33m\u001b[0m\u001b[1;33m\u001b[0m\u001b[0m\n\u001b[0;32m    429\u001b[0m                 \u001b[1;32mif\u001b[0m \u001b[1;32mnot\u001b[0m \u001b[0mignore_failures\u001b[0m\u001b[1;33m:\u001b[0m\u001b[1;33m\u001b[0m\u001b[1;33m\u001b[0m\u001b[0m\n",
      "\u001b[1;32m~\\anaconda3\\lib\\site-packages\\pandas\\core\\internals\\blocks.py\u001b[0m in \u001b[0;36mastype\u001b[1;34m(self, dtype, copy, errors)\u001b[0m\n\u001b[0;32m    671\u001b[0m             \u001b[0mvals1d\u001b[0m \u001b[1;33m=\u001b[0m \u001b[0mvalues\u001b[0m\u001b[1;33m.\u001b[0m\u001b[0mravel\u001b[0m\u001b[1;33m(\u001b[0m\u001b[1;33m)\u001b[0m\u001b[1;33m\u001b[0m\u001b[1;33m\u001b[0m\u001b[0m\n\u001b[0;32m    672\u001b[0m             \u001b[1;32mtry\u001b[0m\u001b[1;33m:\u001b[0m\u001b[1;33m\u001b[0m\u001b[1;33m\u001b[0m\u001b[0m\n\u001b[1;32m--> 673\u001b[1;33m                 \u001b[0mvalues\u001b[0m \u001b[1;33m=\u001b[0m \u001b[0mastype_nansafe\u001b[0m\u001b[1;33m(\u001b[0m\u001b[0mvals1d\u001b[0m\u001b[1;33m,\u001b[0m \u001b[0mdtype\u001b[0m\u001b[1;33m,\u001b[0m \u001b[0mcopy\u001b[0m\u001b[1;33m=\u001b[0m\u001b[1;32mTrue\u001b[0m\u001b[1;33m)\u001b[0m\u001b[1;33m\u001b[0m\u001b[1;33m\u001b[0m\u001b[0m\n\u001b[0m\u001b[0;32m    674\u001b[0m             \u001b[1;32mexcept\u001b[0m \u001b[1;33m(\u001b[0m\u001b[0mValueError\u001b[0m\u001b[1;33m,\u001b[0m \u001b[0mTypeError\u001b[0m\u001b[1;33m)\u001b[0m\u001b[1;33m:\u001b[0m\u001b[1;33m\u001b[0m\u001b[1;33m\u001b[0m\u001b[0m\n\u001b[0;32m    675\u001b[0m                 \u001b[1;31m# e.g. astype_nansafe can fail on object-dtype of strings\u001b[0m\u001b[1;33m\u001b[0m\u001b[1;33m\u001b[0m\u001b[1;33m\u001b[0m\u001b[0m\n",
      "\u001b[1;32m~\\anaconda3\\lib\\site-packages\\pandas\\core\\dtypes\\cast.py\u001b[0m in \u001b[0;36mastype_nansafe\u001b[1;34m(arr, dtype, copy, skipna)\u001b[0m\n\u001b[0;32m   1072\u001b[0m         \u001b[1;31m# work around NumPy brokenness, #1987\u001b[0m\u001b[1;33m\u001b[0m\u001b[1;33m\u001b[0m\u001b[1;33m\u001b[0m\u001b[0m\n\u001b[0;32m   1073\u001b[0m         \u001b[1;32mif\u001b[0m \u001b[0mnp\u001b[0m\u001b[1;33m.\u001b[0m\u001b[0missubdtype\u001b[0m\u001b[1;33m(\u001b[0m\u001b[0mdtype\u001b[0m\u001b[1;33m.\u001b[0m\u001b[0mtype\u001b[0m\u001b[1;33m,\u001b[0m \u001b[0mnp\u001b[0m\u001b[1;33m.\u001b[0m\u001b[0minteger\u001b[0m\u001b[1;33m)\u001b[0m\u001b[1;33m:\u001b[0m\u001b[1;33m\u001b[0m\u001b[1;33m\u001b[0m\u001b[0m\n\u001b[1;32m-> 1074\u001b[1;33m             \u001b[1;32mreturn\u001b[0m \u001b[0mlib\u001b[0m\u001b[1;33m.\u001b[0m\u001b[0mastype_intsafe\u001b[0m\u001b[1;33m(\u001b[0m\u001b[0marr\u001b[0m\u001b[1;33m.\u001b[0m\u001b[0mravel\u001b[0m\u001b[1;33m(\u001b[0m\u001b[1;33m)\u001b[0m\u001b[1;33m,\u001b[0m \u001b[0mdtype\u001b[0m\u001b[1;33m)\u001b[0m\u001b[1;33m.\u001b[0m\u001b[0mreshape\u001b[0m\u001b[1;33m(\u001b[0m\u001b[0marr\u001b[0m\u001b[1;33m.\u001b[0m\u001b[0mshape\u001b[0m\u001b[1;33m)\u001b[0m\u001b[1;33m\u001b[0m\u001b[1;33m\u001b[0m\u001b[0m\n\u001b[0m\u001b[0;32m   1075\u001b[0m \u001b[1;33m\u001b[0m\u001b[0m\n\u001b[0;32m   1076\u001b[0m         \u001b[1;31m# if we have a datetime/timedelta array of objects\u001b[0m\u001b[1;33m\u001b[0m\u001b[1;33m\u001b[0m\u001b[1;33m\u001b[0m\u001b[0m\n",
      "\u001b[1;32mpandas\\_libs\\lib.pyx\u001b[0m in \u001b[0;36mpandas._libs.lib.astype_intsafe\u001b[1;34m()\u001b[0m\n",
      "\u001b[1;31mValueError\u001b[0m: invalid literal for int() with base 10: '8+'"
     ]
    }
   ],
   "source": [
    "#limpiar en df\n",
    "for i in posiciones.columns:\n",
    "    df[i]=df[i].astype(str)\n",
    "    df[i]=df[i].apply(limp_posiciones)"
   ]
  },
  {
   "cell_type": "markdown",
   "id": "fe3415dd",
   "metadata": {},
   "source": [
    "## Añadir columnas nuevas"
   ]
  },
  {
   "cell_type": "code",
   "execution_count": 88,
   "id": "c75402c3",
   "metadata": {},
   "outputs": [],
   "source": [
    "#Agrupa por Equipo y año versión(temporada) y añade el total en cada jugador\n",
    "df['overall_team/year'] = df.groupby(['club_team_id', 'año_version'])['overall'].transform('sum')"
   ]
  },
  {
   "cell_type": "code",
   "execution_count": 89,
   "id": "902afdf2",
   "metadata": {},
   "outputs": [],
   "source": [
    "#Crea columna nº de equipos por liga/año\n",
    "df['teams_in_league/year'] = df.groupby(['league_name', 'año_version'])['club_team_id'].transform('nunique')"
   ]
  },
  {
   "cell_type": "code",
   "execution_count": 90,
   "id": "95b6de08",
   "metadata": {},
   "outputs": [],
   "source": [
    "#Crea columna media liga/año\n",
    "df['mean_league/year'] = df.groupby(['league_name', 'año_version'])['overall'].transform('mean')"
   ]
  },
  {
   "cell_type": "code",
   "execution_count": 98,
   "id": "a8d3ec62",
   "metadata": {},
   "outputs": [],
   "source": [
    "#Crea columna media equipo/año\n",
    "df['mean_team/year'] = df.groupby(['club_team_id', 'año_version'])['overall'].transform('mean')"
   ]
  },
  {
   "cell_type": "markdown",
   "id": "bb1de8e6",
   "metadata": {},
   "source": [
    "## Columnas ranking equipos"
   ]
  },
  {
   "cell_type": "code",
   "execution_count": 92,
   "id": "eec1a090",
   "metadata": {},
   "outputs": [],
   "source": [
    "ranking=pd.read_csv('data/ranking_equipos2.csv')"
   ]
  },
  {
   "cell_type": "code",
   "execution_count": 94,
   "id": "5db9fb47",
   "metadata": {},
   "outputs": [],
   "source": [
    "ranking.drop('Unnamed: 0',axis=1,inplace=True)"
   ]
  },
  {
   "cell_type": "code",
   "execution_count": 101,
   "id": "d7a4e36f",
   "metadata": {},
   "outputs": [],
   "source": [
    "df=df.merge(ranking,how=\"left\",on=\"club_name\")"
   ]
  },
  {
   "cell_type": "markdown",
   "id": "abe1b584",
   "metadata": {},
   "source": [
    "## Gestión de missing values"
   ]
  },
  {
   "cell_type": "code",
   "execution_count": 108,
   "id": "ee95a284",
   "metadata": {},
   "outputs": [
    {
     "data": {
      "text/plain": [
       "nation_team_id               81070\n",
       "nation_position              81070\n",
       "goalkeeping_speed            78114\n",
       "player_traits                45640\n",
       "mentality_composure          22682\n",
       "passing                       9633\n",
       "dribbling                     9633\n",
       "shooting                      9633\n",
       "pace                          9633\n",
       "defending                     9633\n",
       "physic                        9633\n",
       "club_joined                   6510\n",
       "league_level                  1142\n",
       "value_eur                      946\n",
       "club_contract_valid_until      840\n",
       "club_jersey_number             840\n",
       "club_position                  840\n",
       "league_name                    840\n",
       "club_name                      840\n",
       "club_team_id                   840\n",
       "overall_team/year              840\n",
       "teams_in_league/year           840\n",
       "mean_league/year               840\n",
       "mean_team/year                 840\n",
       "wage_eur                       834\n",
       "link                           188\n",
       "ranking                        133\n",
       "puntos                         133\n",
       "lf                               0\n",
       "cf                               0\n",
       "rf                               0\n",
       "rw                               0\n",
       "dtype: int64"
      ]
     },
     "execution_count": 108,
     "metadata": {},
     "output_type": "execute_result"
    }
   ],
   "source": [
    "df.isna().sum().sort_values(ascending=False).head(32)"
   ]
  },
  {
   "cell_type": "code",
   "execution_count": 119,
   "id": "9803d7f4",
   "metadata": {},
   "outputs": [
    {
     "ename": "KeyError",
     "evalue": "\"['club_loaned_from' 'nation_jersey_number' 'player_tags'\\n 'release_clause_eur'] not found in axis\"",
     "output_type": "error",
     "traceback": [
      "\u001b[1;31m---------------------------------------------------------------------------\u001b[0m",
      "\u001b[1;31mKeyError\u001b[0m                                  Traceback (most recent call last)",
      "\u001b[1;32m<ipython-input-119-4f63bf526c52>\u001b[0m in \u001b[0;36m<module>\u001b[1;34m\u001b[0m\n\u001b[0;32m      1\u001b[0m \u001b[1;31m#eliminamos columnas no relevantes\u001b[0m\u001b[1;33m\u001b[0m\u001b[1;33m\u001b[0m\u001b[1;33m\u001b[0m\u001b[0m\n\u001b[1;32m----> 2\u001b[1;33m \u001b[0mdf\u001b[0m\u001b[1;33m.\u001b[0m\u001b[0mdrop\u001b[0m\u001b[1;33m(\u001b[0m\u001b[1;33m[\u001b[0m\u001b[1;34m\"club_loaned_from\"\u001b[0m\u001b[1;33m,\u001b[0m\u001b[1;34m\"nation_jersey_number\"\u001b[0m\u001b[1;33m,\u001b[0m\u001b[1;34m'player_tags'\u001b[0m\u001b[1;33m,\u001b[0m\u001b[1;34m'release_clause_eur'\u001b[0m\u001b[1;33m,\u001b[0m\u001b[1;34m'level_0'\u001b[0m\u001b[1;33m,\u001b[0m\u001b[1;34m'index'\u001b[0m\u001b[1;33m]\u001b[0m\u001b[1;33m,\u001b[0m\u001b[0maxis\u001b[0m\u001b[1;33m=\u001b[0m\u001b[1;36m1\u001b[0m\u001b[1;33m,\u001b[0m\u001b[0minplace\u001b[0m\u001b[1;33m=\u001b[0m\u001b[1;32mTrue\u001b[0m\u001b[1;33m)\u001b[0m\u001b[1;33m\u001b[0m\u001b[1;33m\u001b[0m\u001b[0m\n\u001b[0m",
      "\u001b[1;32m~\\anaconda3\\lib\\site-packages\\pandas\\core\\frame.py\u001b[0m in \u001b[0;36mdrop\u001b[1;34m(self, labels, axis, index, columns, level, inplace, errors)\u001b[0m\n\u001b[0;32m   4306\u001b[0m                 \u001b[0mweight\u001b[0m  \u001b[1;36m1.0\u001b[0m     \u001b[1;36m0.8\u001b[0m\u001b[1;33m\u001b[0m\u001b[1;33m\u001b[0m\u001b[0m\n\u001b[0;32m   4307\u001b[0m         \"\"\"\n\u001b[1;32m-> 4308\u001b[1;33m         return super().drop(\n\u001b[0m\u001b[0;32m   4309\u001b[0m             \u001b[0mlabels\u001b[0m\u001b[1;33m=\u001b[0m\u001b[0mlabels\u001b[0m\u001b[1;33m,\u001b[0m\u001b[1;33m\u001b[0m\u001b[1;33m\u001b[0m\u001b[0m\n\u001b[0;32m   4310\u001b[0m             \u001b[0maxis\u001b[0m\u001b[1;33m=\u001b[0m\u001b[0maxis\u001b[0m\u001b[1;33m,\u001b[0m\u001b[1;33m\u001b[0m\u001b[1;33m\u001b[0m\u001b[0m\n",
      "\u001b[1;32m~\\anaconda3\\lib\\site-packages\\pandas\\core\\generic.py\u001b[0m in \u001b[0;36mdrop\u001b[1;34m(self, labels, axis, index, columns, level, inplace, errors)\u001b[0m\n\u001b[0;32m   4151\u001b[0m         \u001b[1;32mfor\u001b[0m \u001b[0maxis\u001b[0m\u001b[1;33m,\u001b[0m \u001b[0mlabels\u001b[0m \u001b[1;32min\u001b[0m \u001b[0maxes\u001b[0m\u001b[1;33m.\u001b[0m\u001b[0mitems\u001b[0m\u001b[1;33m(\u001b[0m\u001b[1;33m)\u001b[0m\u001b[1;33m:\u001b[0m\u001b[1;33m\u001b[0m\u001b[1;33m\u001b[0m\u001b[0m\n\u001b[0;32m   4152\u001b[0m             \u001b[1;32mif\u001b[0m \u001b[0mlabels\u001b[0m \u001b[1;32mis\u001b[0m \u001b[1;32mnot\u001b[0m \u001b[1;32mNone\u001b[0m\u001b[1;33m:\u001b[0m\u001b[1;33m\u001b[0m\u001b[1;33m\u001b[0m\u001b[0m\n\u001b[1;32m-> 4153\u001b[1;33m                 \u001b[0mobj\u001b[0m \u001b[1;33m=\u001b[0m \u001b[0mobj\u001b[0m\u001b[1;33m.\u001b[0m\u001b[0m_drop_axis\u001b[0m\u001b[1;33m(\u001b[0m\u001b[0mlabels\u001b[0m\u001b[1;33m,\u001b[0m \u001b[0maxis\u001b[0m\u001b[1;33m,\u001b[0m \u001b[0mlevel\u001b[0m\u001b[1;33m=\u001b[0m\u001b[0mlevel\u001b[0m\u001b[1;33m,\u001b[0m \u001b[0merrors\u001b[0m\u001b[1;33m=\u001b[0m\u001b[0merrors\u001b[0m\u001b[1;33m)\u001b[0m\u001b[1;33m\u001b[0m\u001b[1;33m\u001b[0m\u001b[0m\n\u001b[0m\u001b[0;32m   4154\u001b[0m \u001b[1;33m\u001b[0m\u001b[0m\n\u001b[0;32m   4155\u001b[0m         \u001b[1;32mif\u001b[0m \u001b[0minplace\u001b[0m\u001b[1;33m:\u001b[0m\u001b[1;33m\u001b[0m\u001b[1;33m\u001b[0m\u001b[0m\n",
      "\u001b[1;32m~\\anaconda3\\lib\\site-packages\\pandas\\core\\generic.py\u001b[0m in \u001b[0;36m_drop_axis\u001b[1;34m(self, labels, axis, level, errors)\u001b[0m\n\u001b[0;32m   4186\u001b[0m                 \u001b[0mnew_axis\u001b[0m \u001b[1;33m=\u001b[0m \u001b[0maxis\u001b[0m\u001b[1;33m.\u001b[0m\u001b[0mdrop\u001b[0m\u001b[1;33m(\u001b[0m\u001b[0mlabels\u001b[0m\u001b[1;33m,\u001b[0m \u001b[0mlevel\u001b[0m\u001b[1;33m=\u001b[0m\u001b[0mlevel\u001b[0m\u001b[1;33m,\u001b[0m \u001b[0merrors\u001b[0m\u001b[1;33m=\u001b[0m\u001b[0merrors\u001b[0m\u001b[1;33m)\u001b[0m\u001b[1;33m\u001b[0m\u001b[1;33m\u001b[0m\u001b[0m\n\u001b[0;32m   4187\u001b[0m             \u001b[1;32melse\u001b[0m\u001b[1;33m:\u001b[0m\u001b[1;33m\u001b[0m\u001b[1;33m\u001b[0m\u001b[0m\n\u001b[1;32m-> 4188\u001b[1;33m                 \u001b[0mnew_axis\u001b[0m \u001b[1;33m=\u001b[0m \u001b[0maxis\u001b[0m\u001b[1;33m.\u001b[0m\u001b[0mdrop\u001b[0m\u001b[1;33m(\u001b[0m\u001b[0mlabels\u001b[0m\u001b[1;33m,\u001b[0m \u001b[0merrors\u001b[0m\u001b[1;33m=\u001b[0m\u001b[0merrors\u001b[0m\u001b[1;33m)\u001b[0m\u001b[1;33m\u001b[0m\u001b[1;33m\u001b[0m\u001b[0m\n\u001b[0m\u001b[0;32m   4189\u001b[0m             \u001b[0mresult\u001b[0m \u001b[1;33m=\u001b[0m \u001b[0mself\u001b[0m\u001b[1;33m.\u001b[0m\u001b[0mreindex\u001b[0m\u001b[1;33m(\u001b[0m\u001b[1;33m**\u001b[0m\u001b[1;33m{\u001b[0m\u001b[0maxis_name\u001b[0m\u001b[1;33m:\u001b[0m \u001b[0mnew_axis\u001b[0m\u001b[1;33m}\u001b[0m\u001b[1;33m)\u001b[0m\u001b[1;33m\u001b[0m\u001b[1;33m\u001b[0m\u001b[0m\n\u001b[0;32m   4190\u001b[0m \u001b[1;33m\u001b[0m\u001b[0m\n",
      "\u001b[1;32m~\\anaconda3\\lib\\site-packages\\pandas\\core\\indexes\\base.py\u001b[0m in \u001b[0;36mdrop\u001b[1;34m(self, labels, errors)\u001b[0m\n\u001b[0;32m   5589\u001b[0m         \u001b[1;32mif\u001b[0m \u001b[0mmask\u001b[0m\u001b[1;33m.\u001b[0m\u001b[0many\u001b[0m\u001b[1;33m(\u001b[0m\u001b[1;33m)\u001b[0m\u001b[1;33m:\u001b[0m\u001b[1;33m\u001b[0m\u001b[1;33m\u001b[0m\u001b[0m\n\u001b[0;32m   5590\u001b[0m             \u001b[1;32mif\u001b[0m \u001b[0merrors\u001b[0m \u001b[1;33m!=\u001b[0m \u001b[1;34m\"ignore\"\u001b[0m\u001b[1;33m:\u001b[0m\u001b[1;33m\u001b[0m\u001b[1;33m\u001b[0m\u001b[0m\n\u001b[1;32m-> 5591\u001b[1;33m                 \u001b[1;32mraise\u001b[0m \u001b[0mKeyError\u001b[0m\u001b[1;33m(\u001b[0m\u001b[1;34mf\"{labels[mask]} not found in axis\"\u001b[0m\u001b[1;33m)\u001b[0m\u001b[1;33m\u001b[0m\u001b[1;33m\u001b[0m\u001b[0m\n\u001b[0m\u001b[0;32m   5592\u001b[0m             \u001b[0mindexer\u001b[0m \u001b[1;33m=\u001b[0m \u001b[0mindexer\u001b[0m\u001b[1;33m[\u001b[0m\u001b[1;33m~\u001b[0m\u001b[0mmask\u001b[0m\u001b[1;33m]\u001b[0m\u001b[1;33m\u001b[0m\u001b[1;33m\u001b[0m\u001b[0m\n\u001b[0;32m   5593\u001b[0m         \u001b[1;32mreturn\u001b[0m \u001b[0mself\u001b[0m\u001b[1;33m.\u001b[0m\u001b[0mdelete\u001b[0m\u001b[1;33m(\u001b[0m\u001b[0mindexer\u001b[0m\u001b[1;33m)\u001b[0m\u001b[1;33m\u001b[0m\u001b[1;33m\u001b[0m\u001b[0m\n",
      "\u001b[1;31mKeyError\u001b[0m: \"['club_loaned_from' 'nation_jersey_number' 'player_tags'\\n 'release_clause_eur'] not found in axis\""
     ]
    }
   ],
   "source": [
    "#eliminamos columnas no relevantes\n",
    "df.drop([\"club_loaned_from\",\"nation_jersey_number\",'player_tags','release_clause_eur'],axis=1,inplace=True)"
   ]
  },
  {
   "cell_type": "code",
   "execution_count": null,
   "id": "5272041a",
   "metadata": {},
   "outputs": [],
   "source": [
    "df.drop(['level_0','index'],axis=1,inplace=True)"
   ]
  },
  {
   "cell_type": "code",
   "execution_count": 141,
   "id": "f9e5ec75",
   "metadata": {},
   "outputs": [],
   "source": [
    "#reemplazo valor nan = 0\n",
    "df[['goalkeeping_speed','player_traits','club_team_id','club_jersey_number',\n",
    "   'club_contract_valid_until', 'value_eur','wage_eur','pace','shooting',\n",
    "   'passing','dribbling','defending','club_joined','physic','shooting',\n",
    "  'league_level','mentality_composure','club_joined','mean_team/year','mean_league/year','teams_in_league/year','overall_team/year','puntos','ranking']] = df[['goalkeeping_speed','player_traits','club_team_id','club_jersey_number',\n",
    "   'club_contract_valid_until', 'value_eur','wage_eur','pace','shooting',\n",
    "   'passing','dribbling','defending','club_joined','physic','shooting',\n",
    "  'league_level','mentality_composure','club_joined','mean_team/year','mean_league/year','teams_in_league/year','overall_team/year','puntos','ranking']].replace(np.nan, 0)"
   ]
  },
  {
   "cell_type": "code",
   "execution_count": 129,
   "id": "39914210",
   "metadata": {},
   "outputs": [],
   "source": [
    "#Replace NaNs por Jugador libre\n",
    "df[['club_name','league_name']] = df[['club_name','league_name']].replace(np.nan, \"jugador_libre\")"
   ]
  },
  {
   "cell_type": "code",
   "execution_count": 130,
   "id": "92e999be",
   "metadata": {},
   "outputs": [],
   "source": [
    "#Transformar por Nation_Team_Id por 0 y 1:\n",
    "df['nation_team_id'] = df['nation_team_id'].replace(np.nan, 0)\n",
    "df['nation_team_id'] = df['nation_team_id'].apply(lambda x: 0 if x==0 else 1)"
   ]
  },
  {
   "cell_type": "code",
   "execution_count": 131,
   "id": "f3b2b45a",
   "metadata": {},
   "outputs": [],
   "source": [
    "#Transformar por Club_Position por 0 y 1:\n",
    "df['club_position'] = df['club_position'].replace(np.nan, 0)\n",
    "def titular(x):\n",
    "    if x=='SUB':\n",
    "        return (0)\n",
    "    elif x==\"RES\":\n",
    "        return (0)\n",
    "    else:\n",
    "        return (1)\n",
    "df['club_position'] = df['club_position'].apply(titular)"
   ]
  },
  {
   "cell_type": "code",
   "execution_count": 132,
   "id": "8c42c75e",
   "metadata": {},
   "outputs": [],
   "source": [
    "#Transformar por nation_position por 0 y 1:\n",
    "df['nation_position'] = df['nation_position'].replace(np.nan, 0)\n",
    "df['nation_position'] = df['nation_position'].apply(lambda x: 0 if x==0 else 1)"
   ]
  },
  {
   "cell_type": "code",
   "execution_count": 143,
   "id": "a4c5c972",
   "metadata": {},
   "outputs": [],
   "source": [
    "#drop la columna link porque no aportar información relevante\n",
    "df.drop(\"link\",axis=1,inplace=True)"
   ]
  },
  {
   "cell_type": "code",
   "execution_count": 151,
   "id": "638beb23",
   "metadata": {},
   "outputs": [],
   "source": [
    "df[['puntos','ranking']]=df[['puntos','ranking']].replace('No disponible',0)"
   ]
  },
  {
   "cell_type": "code",
   "execution_count": 152,
   "id": "869d8dbd",
   "metadata": {},
   "outputs": [
    {
     "data": {
      "text/plain": [
       "array(['Olympiacos CFP', 'Levante Unión Deportiva',\n",
       "       'Montpellier Hérault SC', 'Demir Grup Sivasspor',\n",
       "       'Sport-Club Freiburg', 'Club de Foot Montréal',\n",
       "       'Évian Thonon Gaillard FC', 'En Avant de Guingamp',\n",
       "       'Unión Deportiva Almería', 'Club Atlético Tigre', 'CD Nacional',\n",
       "       'Unión Deportiva Las Palmas', 'İstanbul Başakşehir FK',\n",
       "       'Stade Malherbe Caen', 'Kardemir Karabükspor', 'Sporting Lokeren',\n",
       "       'FC Sochaux-Montbéliard', 'İttifak Holding Konyaspor',\n",
       "       'Derby County', \"CD O'Higgins\", 'Associação Académica de Coimbra',\n",
       "       'RCD Mallorca', 'Clube Sport Marítimo',\n",
       "       'Club Atlético Independiente', 'Belenenses SAD', 'Ipswich Town',\n",
       "       'Club Deportivo Guadalajara', 'Stade Lavallois Mayenne FC',\n",
       "       'Charlton Athletic', 'Inverness Caledonian Thistle',\n",
       "       'Gençlerbirliği SK', 'Trapani', 'SD Ponferradina',\n",
       "       'AS Nancy Lorraine', 'RC Recreativo de Huelva', 'CD Numancia',\n",
       "       'Modena', 'Club de Deportes Cobresal', 'Club Deportivo Palestino',\n",
       "       'US Créteil-Lusitanos', 'Leyton Orient', 'CD Lugo',\n",
       "       'La Berrichonne de Châteauroux', 'Fleetwood Town', 'Tours FC',\n",
       "       'Barnsley', 'Coventry City', 'CD Huachipato', 'SV Sandhausen',\n",
       "       'Rionegro Águilas', 'Latina', 'Karlsruher SC',\n",
       "       'CD Universidad de Concepción', 'Notts County', 'AD Alcorcón',\n",
       "       'FC Mordovia Saransk', 'Pohang Steelers', 'CD Antofagasta',\n",
       "       'Piast Gliwice', 'Le Havre AC', 'Seongnam FC', 'Envigado FC',\n",
       "       'La Equidad', 'Al Taawoun', 'FC Dordrecht', 'Waasland-Beveren',\n",
       "       'Clermont Foot 63', 'Busan IPark', 'SK Sturm Graz', 'Avellino',\n",
       "       'Go Ahead Eagles', 'Deportes Iquique', 'SC Cambuur',\n",
       "       'Boyacá Chicó FC', 'FK Bodø/Glimt', 'Djurgårdens IF',\n",
       "       'Lillestrøm SK', 'Åtvidabergs FF', 'VfR Aalen', 'Excelsior',\n",
       "       'Górnik Zabrze', 'CE Sabadell FC', 'SV Ried', 'Sheffield United',\n",
       "       'SV Darmstadt 98', 'SS Virtus Lanciano', 'Wellington Phoenix',\n",
       "       'Ternana', 'Bristol City', 'Partick Thistle FC',\n",
       "       'Virtus Entella Chiavari', 'FC Pro Vercelli 1892', 'Hobro IK',\n",
       "       'CD Mirandés', '1. FC Heidenheim 1846',\n",
       "       'Deportivo San Marcos de Arica', 'Stabæk Fotball',\n",
       "       'Shrewsbury Town', 'Central Coast Mariners', 'St. Johnstone FC',\n",
       "       'Milton Keynes Dons', 'Walsall', 'Chamois Niortais Football Club',\n",
       "       'UE Llagostera', 'Preston North End', 'Defensa y Justicia',\n",
       "       'Peterborough United', 'KSV Cercle Brugge', 'Sandnes Ulf',\n",
       "       'Chesterfield', 'Sarpsborg 08 FF', 'Racing Santander', 'Cracovia',\n",
       "       'SønderjyskE', 'FC Erzgebirge Aue', 'Crewe Alexandra', 'IK Start',\n",
       "       'CD Leganés', 'Albacete BP', 'KVC Westerlo', 'GKS Bełchatów',\n",
       "       'Carlisle United', 'Doncaster Rovers', 'Plymouth Argyle',\n",
       "       'Rochdale', 'Hartlepool United', 'RZ Pellets Wolfsberger AC',\n",
       "       'Korona Kielce', 'Yeovil Town', 'US Orléans Loiret Football',\n",
       "       'Crawley Town', 'SV Grödig', 'Podbeskidzie Bielsko-Biała',\n",
       "       'Cheltenham Town', 'St. Mirren', 'Fortaleza CEIF',\n",
       "       'Oldham Athletic', 'Gillingham', 'Oxford United', 'Varese',\n",
       "       'AC Arles Avignon', 'Górnik Łęczna', 'Port Vale', 'Örebro SK',\n",
       "       'Perth Glory', 'Dagenham and Redbridge', 'Colchester United',\n",
       "       'Scunthorpe United', 'AFC Wimbledon', 'Sogndal Fotball', 'Bury',\n",
       "       'FC Flyeralarm Admira', 'Swindon Town', 'SC Magna Wiener Neustadt',\n",
       "       'AC Barnechea', 'Northampton Town', 'Morecambe', 'Cittadella',\n",
       "       'IF Brommapojkarna', 'Mjällby AIF', 'Burton Albion', 'FC Aarau',\n",
       "       'Cambridge United', 'Exeter City', 'Mansfield Town',\n",
       "       \"St. Patrick's Athletic\", 'Stevenage', 'Tranmere Rovers',\n",
       "       'Wycombe Wanderers', 'Newport County', 'Sangju Sangmu FC',\n",
       "       'Al Shoulla', 'Accrington Stanley', 'UCD AFC', 'Sint-Truidense VV',\n",
       "       'Yukatel Kayserispor', 'Club Atlético Huracán', 'União da Madeira',\n",
       "       'Vicenza', 'N.E.C. Nijmegen', 'Novara Calcio', 'Red Star FC',\n",
       "       'Gimnàstic de Tarragona', 'Club Atlético Aldosivi',\n",
       "       'Jaguares de Córdoba Fútbol Club', 'Ascoli', 'Bristol Rovers',\n",
       "       'MSV Duisburg', 'Football Bourg En Bresse Peronnas 01',\n",
       "       'SV Mattersburg', 'Al Wehda', 'Barnet', 'Aytemiz Alanyaspor',\n",
       "       'América Futebol Clube', 'Associação Chapecoense de Futebol',\n",
       "       'GD Chaves', 'CF Reus Deportiu', 'Club Atlético Talleres',\n",
       "       'Club de Regatas Vasco da Gama', 'Pisa', 'UCAM Murcia CF',\n",
       "       'Sevilla Atlético', 'SG Dynamo Dresden', 'FC Würzburger Kickers',\n",
       "       'Jönköpings Södra IF', 'Östersunds FK', 'Grimsby Town',\n",
       "       'spusu SKN St. Pölten', 'Desportivo das Aves', 'US Cremonese',\n",
       "       'Al Fayha', 'Cultural Leonesa', 'SSV Jahn Regensburg',\n",
       "       'Holstein Kiel', 'VfL Osnabrück', 'Lorca FC', 'SpVgg Unterhaching',\n",
       "       'Foggia', 'VfL Sportfreunde Lotte', '1. FC Magdeburg',\n",
       "       'SV Wehen Wiesbaden', 'SC Preußen Münster',\n",
       "       'SG Sonnenhof Großaspach', 'SC Fortuna Köln', 'F.C. Hansa Rostock',\n",
       "       'Hallescher FC', 'Lincoln City', 'FSV Zwickau', 'SV Meppen',\n",
       "       'Chemnitzer FC', 'SV Werder Bremen II', 'FC Carl Zeiss Jena',\n",
       "       'Forest Green Rovers', 'FC Rot-Weiß Erfurt',\n",
       "       'US Quevilly Rouen Métropole', 'MKE Ankaragücü',\n",
       "       'Ceará Sporting Club', 'Neuchâtel Xamax FCS', 'KFC Uerdingen 05',\n",
       "       'Cosenza', 'CF Rayo Majadahonda', 'Extremadura UD',\n",
       "       'Ranheim Fotball', 'Padova', 'TSV Egger Glas Hartberg',\n",
       "       'FC Energie Cottbus', 'Itagüí Leones FC', 'AS Béziers',\n",
       "       'Macclesfield Town', 'FC Viitorul Constanța', 'Fútbol Club Juárez',\n",
       "       'Castellammare di Stabia', 'Club Atlético Central Córdoba',\n",
       "       'Salford City', 'FC Bayern München II', 'Club Unión Magdalena S.A',\n",
       "       'CF Fuenlabrada', 'ŁKS Łódź', 'CSM Politehnica Iași',\n",
       "       'FC Chambly Oise', 'SV Waldhof Mannheim 07',\n",
       "       'Rodez Aveyron Football', 'Al Adalah', 'Sepsi OSK Sf. Gheorghe',\n",
       "       'Pordenone', 'Atakaş Hatayspor', 'Club Atlético Peñarol',\n",
       "       'Club Libertad', 'Club Guaraní', 'Shijiazhuang Ever Bright F.C.',\n",
       "       'LDU Quito', 'AC Monza', 'Mazatlán Futbol Club', 'Nashville SC',\n",
       "       'FC Cartagena', 'Sport Club Corinthians Paulista',\n",
       "       'K Beerschot VA', 'CS Emelec', 'Club Atlético Grau', 'FBC Melgar',\n",
       "       'Macarthur FC', 'Barcelona Sporting Club', 'Cusco Fútbol Club',\n",
       "       'Club Bolívar', 'SC Farense', 'Sociedad Deportiva Aucas',\n",
       "       'Club Nacional', 'UD Logroñés', 'C.D. Castellón',\n",
       "       'Club Always Ready', 'Delfín Sporting Club',\n",
       "       'Club Deportivo Jorge Wilstermann',\n",
       "       'Club Deportivo Oriente Petrolero', 'Liverpool Fútbol Club',\n",
       "       'Club Deportivo El Nacional', 'Pau FC',\n",
       "       'Club River Plate Asunción', 'Centro Atlético Fénix',\n",
       "       'Club Social, Cultural y Deportivo de Blooming',\n",
       "       'Club Sol de América', 'Sport Huancayo', 'Warta Poznań',\n",
       "       'AC Mineros de Guayana', 'USL Dunkerque', 'Club Alianza Lima',\n",
       "       'AFC UTA Arad', 'Yokohama FC',\n",
       "       'C.D. Universidad Católica del Ecuador', 'Caracas Fútbol Club',\n",
       "       'Club Atlético River Plate', 'Türkgücü München',\n",
       "       'PGE FKS Stal Mielec', 'VfB Lübeck', '1. FC Saarbrücken',\n",
       "       'Deportivo Binacional', 'Aragua Fútbol Club',\n",
       "       'Club Atlético Nacional Potosí', 'Sportclub Verl', 'Barrow',\n",
       "       'Varbergs BoIS FC', 'Club Plaza de Deportes Colonia',\n",
       "       'Campionii FC Arges', 'Club Sportivo Luqueño',\n",
       "       'Estudiantes de Mérida', 'Harrogate Town', 'Zamora Fútbol Club',\n",
       "       'Shelbourne FC'], dtype=object)"
      ]
     },
     "execution_count": 152,
     "metadata": {},
     "output_type": "execute_result"
    }
   ],
   "source": [
    "#clubes sin liga asignada\n",
    "df[df['puntos']==0]['club_name'].unique()"
   ]
  },
  {
   "cell_type": "markdown",
   "id": "cacf8372",
   "metadata": {},
   "source": [
    "## exportación fichero"
   ]
  },
  {
   "cell_type": "code",
   "execution_count": 154,
   "id": "201f3d72",
   "metadata": {},
   "outputs": [],
   "source": [
    "df.to_csv('data\\df_cleaned.csv',index=False)"
   ]
  },
  {
   "cell_type": "code",
   "execution_count": null,
   "id": "4a841f23",
   "metadata": {},
   "outputs": [],
   "source": []
  }
 ],
 "metadata": {
  "kernelspec": {
   "display_name": "Python 3",
   "language": "python",
   "name": "python3"
  },
  "language_info": {
   "codemirror_mode": {
    "name": "ipython",
    "version": 3
   },
   "file_extension": ".py",
   "mimetype": "text/x-python",
   "name": "python",
   "nbconvert_exporter": "python",
   "pygments_lexer": "ipython3",
   "version": "3.8.8"
  },
  "toc": {
   "base_numbering": 1,
   "nav_menu": {},
   "number_sections": true,
   "sideBar": true,
   "skip_h1_title": false,
   "title_cell": "Table of Contents",
   "title_sidebar": "Contents",
   "toc_cell": false,
   "toc_position": {},
   "toc_section_display": true,
   "toc_window_display": false
  },
  "varInspector": {
   "cols": {
    "lenName": 16,
    "lenType": 16,
    "lenVar": 40
   },
   "kernels_config": {
    "python": {
     "delete_cmd_postfix": "",
     "delete_cmd_prefix": "del ",
     "library": "var_list.py",
     "varRefreshCmd": "print(var_dic_list())"
    },
    "r": {
     "delete_cmd_postfix": ") ",
     "delete_cmd_prefix": "rm(",
     "library": "var_list.r",
     "varRefreshCmd": "cat(var_dic_list()) "
    }
   },
   "types_to_exclude": [
    "module",
    "function",
    "builtin_function_or_method",
    "instance",
    "_Feature"
   ],
   "window_display": false
  }
 },
 "nbformat": 4,
 "nbformat_minor": 5
}
