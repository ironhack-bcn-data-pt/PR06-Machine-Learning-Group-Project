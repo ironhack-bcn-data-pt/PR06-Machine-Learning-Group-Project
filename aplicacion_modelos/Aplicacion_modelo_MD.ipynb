{
 "cells": [
  {
   "cell_type": "code",
   "execution_count": 1,
   "id": "760a3d27",
   "metadata": {},
   "outputs": [],
   "source": [
    "import pickle\n",
    "import pandas as pd\n",
    "import seaborn as sns\n",
    "import numpy as np\n",
    "import matplotlib.pyplot as plt"
   ]
  },
  {
   "cell_type": "code",
   "execution_count": 2,
   "id": "837dcc3d",
   "metadata": {},
   "outputs": [
    {
     "name": "stderr",
     "output_type": "stream",
     "text": [
      "C:\\Users\\carlo\\anaconda3\\lib\\site-packages\\IPython\\core\\interactiveshell.py:3165: DtypeWarning: Columns (25,108) have mixed types.Specify dtype option on import or set low_memory=False.\n",
      "  has_raised = await self.run_ast_nodes(code_ast.body, cell_name,\n"
     ]
    }
   ],
   "source": [
    "#importación dataset\n",
    "df22=pd.read_csv('../data/players_22.csv')\n"
   ]
  },
  {
   "cell_type": "markdown",
   "id": "deb5c8bc",
   "metadata": {},
   "source": [
    "## Limpieza datos"
   ]
  },
  {
   "cell_type": "code",
   "execution_count": 3,
   "id": "42be1721",
   "metadata": {},
   "outputs": [],
   "source": [
    "#eliminamos columnas de url que no aportan información\n",
    "df22 = df22[df22.columns.drop(df22.filter(regex='url').columns)]"
   ]
  },
  {
   "cell_type": "code",
   "execution_count": 4,
   "id": "b80cb5e9",
   "metadata": {},
   "outputs": [],
   "source": [
    "#funcion transformación en lista\n",
    "def lista_posicion(x):\n",
    "    return (x.replace(' ','').split(','))"
   ]
  },
  {
   "cell_type": "code",
   "execution_count": 5,
   "id": "ca6e49ac",
   "metadata": {},
   "outputs": [],
   "source": [
    "#transforma valores de columna player_positions en una lista\n",
    "df22['player_positions']=df22['player_positions'].apply(lambda x: lista_posicion(x))"
   ]
  },
  {
   "cell_type": "code",
   "execution_count": 6,
   "id": "a02c3a10",
   "metadata": {},
   "outputs": [],
   "source": [
    "#defino listas para agrupar posiciones por 4 categorias\n",
    "pos_defensas=['LCB','RCB','CB','RB','LB','RWB','LWB']\n",
    "pos_medios=['LW','LCM','RCM','CAM','RW','LDM','CDM','CM','RDM','RM','RAM','LAM','LM']\n",
    "pos_delanteros=['CF','ST','RS','LS','RF']"
   ]
  },
  {
   "cell_type": "code",
   "execution_count": 7,
   "id": "6902b0be",
   "metadata": {},
   "outputs": [],
   "source": [
    "#agrupo posiciones en posiciones genéricas    \n",
    "for i in df22.index:\n",
    "            if len(df22.at[i,'player_positions'])==1:\n",
    "                if df22.at[i,'player_positions'][0]=='GK':\n",
    "                    df22.at[i,'player_positions']='portero'\n",
    "                if df22.at[i,'player_positions'][0] in pos_defensas:\n",
    "                    df22.at[i,'player_positions']='defensa'\n",
    "                elif df22.at[i,'player_positions'][0] in pos_medios:\n",
    "                    df22.at[i,'player_positions']='centrocampista'\n",
    "                elif df22.at[i,'player_positions'][0] in pos_delanteros:\n",
    "                    df22.at[i,'player_positions']='delantero'\n",
    "            else:\n",
    "                if df22.at[i,'player_positions'][0] in pos_defensas:\n",
    "                    df22.at[i,'player_positions']='defensa'\n",
    "                elif df22.at[i,'player_positions'][0] in pos_medios:\n",
    "                    df22.at[i,'player_positions']='centrocampista'\n",
    "                elif df22.at[i,'player_positions'][0] in pos_delanteros:\n",
    "                    df22.at[i,'player_positions']='delantero'\n",
    "                elif df22.at[i,'player_positions'][0]=='GK':\n",
    "                    df22.at[i,'player_positions']='portero'"
   ]
  },
  {
   "cell_type": "code",
   "execution_count": 8,
   "id": "d9885e2e",
   "metadata": {},
   "outputs": [],
   "source": [
    "#filtramos dataset \n",
    "df22=df22[df22['player_positions']=='centrocampista']"
   ]
  },
  {
   "cell_type": "code",
   "execution_count": 9,
   "id": "291a5d84",
   "metadata": {},
   "outputs": [],
   "source": [
    "#Agrupa por Equipo y año versión(temporada) y añade el total en cada jugador\n",
    "df22['overall_team/year'] = df22.groupby('club_team_id')['overall'].transform('sum')"
   ]
  },
  {
   "cell_type": "code",
   "execution_count": 10,
   "id": "ed26a8c2",
   "metadata": {},
   "outputs": [],
   "source": [
    "#Crea columna nº de equipos por liga/año\n",
    "df22['teams_in_league/year'] = df22.groupby('league_name')['club_team_id'].transform('nunique')"
   ]
  },
  {
   "cell_type": "code",
   "execution_count": 11,
   "id": "e0675684",
   "metadata": {},
   "outputs": [],
   "source": [
    "#Crea columna media liga/año\n",
    "df22['mean_league/year'] = df22.groupby('league_name')['overall'].transform('mean')"
   ]
  },
  {
   "cell_type": "code",
   "execution_count": 12,
   "id": "ff49bfc9",
   "metadata": {},
   "outputs": [],
   "source": [
    "#Crea columna media equipo/año\n",
    "df22['mean_team/year'] = df22.groupby('club_team_id')['overall'].transform('mean')"
   ]
  },
  {
   "cell_type": "code",
   "execution_count": 13,
   "id": "dd9e94e8",
   "metadata": {},
   "outputs": [],
   "source": [
    "#df solo con las columnas a transformar\n",
    "posiciones=df22[[\"ls\",\"st\",\"rs\",\"lw\",\"lf\",\"cf\",\"rf\",\"rw\", 'lam', 'cam', 'ram', 'lm', 'lcm', 'cm', 'rcm', 'rm', 'ldm', 'cdm', 'rdm',\n",
    "     'lwb', 'rwb', 'lb', 'lcb', 'cb', 'rcb', 'rb',\"gk\"]]"
   ]
  },
  {
   "cell_type": "code",
   "execution_count": 14,
   "id": "ecf985bd",
   "metadata": {},
   "outputs": [],
   "source": [
    "#funcion para limpiar valores\n",
    "def limp_posiciones(x):\n",
    "    x.replace(\"+\",\" \")\n",
    "    return x.split(\" \")[0]"
   ]
  },
  {
   "cell_type": "code",
   "execution_count": 15,
   "id": "f919bfa1",
   "metadata": {},
   "outputs": [],
   "source": [
    "#limpiar en df\n",
    "for i in posiciones.columns:\n",
    "    df22[i]=df22[i].astype(str)\n",
    "    df22[i]=df22[i].apply(limp_posiciones)"
   ]
  },
  {
   "cell_type": "code",
   "execution_count": 16,
   "id": "4ab0a0a5",
   "metadata": {},
   "outputs": [],
   "source": [
    "df22['lf'] = df22['lf'].str.replace(r'\\+', ' ', regex=True)\n",
    "df22['cf'] = df22['cf'].str.replace(r'\\+', ' ', regex=True)\n",
    "df22['rf'] = df22['rf'].str.replace(r'\\+', ' ', regex=True)\n",
    "df22['lam'] = df22['lam'].str.replace(r'\\+', ' ', regex=True)\n",
    "df22['ram'] = df22['ram'].str.replace(r'\\+', ' ', regex=True)\n",
    "df22['lm'] = df22['lm'].str.replace(r'\\+', ' ', regex=True)\n",
    "df22['rm'] = df22['rm'].str.replace(r'\\+', ' ', regex=True)\n",
    "df22['cam'] = df22['cam'].str.replace(r'\\+', ' ', regex=True)\n",
    "df22['rs'] = df22['rs'].str.replace(r'\\+', ' ', regex=True)\n",
    "\n",
    "df22['lf'] = df22['lf'].str.replace(r'\\-', ' ', regex=True)\n",
    "df22['cf'] = df22['cf'].str.replace(r'\\-', ' ', regex=True)\n",
    "df22['rf'] = df22['rf'].str.replace(r'\\-', ' ', regex=True)\n",
    "df22['lam'] = df22['lam'].str.replace(r'\\-', ' ', regex=True)\n",
    "df22['ram'] = df22['ram'].str.replace(r'\\-', ' ', regex=True)\n",
    "df22['lm'] = df22['lm'].str.replace(r'\\-', ' ', regex=True)\n",
    "df22['rm'] = df22['rm'].str.replace(r'\\-', ' ', regex=True)\n",
    "df22['cam'] = df22['cam'].str.replace(r'\\-', ' ', regex=True)\n",
    "df22['rs'] = df22['rs'].str.replace(r'\\-', ' ', regex=True)"
   ]
  },
  {
   "cell_type": "code",
   "execution_count": 17,
   "id": "1e71b80b",
   "metadata": {},
   "outputs": [],
   "source": [
    "#funcion para limpiar valores\n",
    "def limp_posiciones(x):\n",
    "    return x.split(\" \")[0]"
   ]
  },
  {
   "cell_type": "code",
   "execution_count": 18,
   "id": "e521b506",
   "metadata": {},
   "outputs": [],
   "source": [
    "for i in ['lf','cf','rf','rs','lam','ram','cam','lm','rm']:\n",
    "    df22[i]=df22[i].astype(str)\n",
    "    df22[i]=df22[i].apply(limp_posiciones)"
   ]
  },
  {
   "cell_type": "code",
   "execution_count": 19,
   "id": "c054a41c",
   "metadata": {},
   "outputs": [
    {
     "data": {
      "text/html": [
       "<div>\n",
       "<style scoped>\n",
       "    .dataframe tbody tr th:only-of-type {\n",
       "        vertical-align: middle;\n",
       "    }\n",
       "\n",
       "    .dataframe tbody tr th {\n",
       "        vertical-align: top;\n",
       "    }\n",
       "\n",
       "    .dataframe thead th {\n",
       "        text-align: right;\n",
       "    }\n",
       "</style>\n",
       "<table border=\"1\" class=\"dataframe\">\n",
       "  <thead>\n",
       "    <tr style=\"text-align: right;\">\n",
       "      <th></th>\n",
       "      <th>lf</th>\n",
       "      <th>cf</th>\n",
       "      <th>rf</th>\n",
       "      <th>rs</th>\n",
       "      <th>lam</th>\n",
       "      <th>ram</th>\n",
       "      <th>cam</th>\n",
       "      <th>lm</th>\n",
       "      <th>rm</th>\n",
       "    </tr>\n",
       "  </thead>\n",
       "  <tbody>\n",
       "    <tr>\n",
       "      <th>0</th>\n",
       "      <td>93</td>\n",
       "      <td>93</td>\n",
       "      <td>93</td>\n",
       "      <td>89</td>\n",
       "      <td>93</td>\n",
       "      <td>93</td>\n",
       "      <td>93</td>\n",
       "      <td>91</td>\n",
       "      <td>91</td>\n",
       "    </tr>\n",
       "    <tr>\n",
       "      <th>3</th>\n",
       "      <td>88</td>\n",
       "      <td>88</td>\n",
       "      <td>88</td>\n",
       "      <td>83</td>\n",
       "      <td>89</td>\n",
       "      <td>89</td>\n",
       "      <td>89</td>\n",
       "      <td>89</td>\n",
       "      <td>89</td>\n",
       "    </tr>\n",
       "    <tr>\n",
       "      <th>4</th>\n",
       "      <td>87</td>\n",
       "      <td>87</td>\n",
       "      <td>87</td>\n",
       "      <td>83</td>\n",
       "      <td>89</td>\n",
       "      <td>89</td>\n",
       "      <td>89</td>\n",
       "      <td>89</td>\n",
       "      <td>89</td>\n",
       "    </tr>\n",
       "    <tr>\n",
       "      <th>10</th>\n",
       "      <td>77</td>\n",
       "      <td>77</td>\n",
       "      <td>77</td>\n",
       "      <td>72</td>\n",
       "      <td>78</td>\n",
       "      <td>78</td>\n",
       "      <td>78</td>\n",
       "      <td>79</td>\n",
       "      <td>79</td>\n",
       "    </tr>\n",
       "    <tr>\n",
       "      <th>13</th>\n",
       "      <td>87</td>\n",
       "      <td>87</td>\n",
       "      <td>87</td>\n",
       "      <td>85</td>\n",
       "      <td>86</td>\n",
       "      <td>86</td>\n",
       "      <td>86</td>\n",
       "      <td>86</td>\n",
       "      <td>86</td>\n",
       "    </tr>\n",
       "    <tr>\n",
       "      <th>...</th>\n",
       "      <td>...</td>\n",
       "      <td>...</td>\n",
       "      <td>...</td>\n",
       "      <td>...</td>\n",
       "      <td>...</td>\n",
       "      <td>...</td>\n",
       "      <td>...</td>\n",
       "      <td>...</td>\n",
       "      <td>...</td>\n",
       "    </tr>\n",
       "    <tr>\n",
       "      <th>19233</th>\n",
       "      <td>46</td>\n",
       "      <td>46</td>\n",
       "      <td>46</td>\n",
       "      <td>44</td>\n",
       "      <td>47</td>\n",
       "      <td>47</td>\n",
       "      <td>47</td>\n",
       "      <td>46</td>\n",
       "      <td>46</td>\n",
       "    </tr>\n",
       "    <tr>\n",
       "      <th>19234</th>\n",
       "      <td>45</td>\n",
       "      <td>45</td>\n",
       "      <td>45</td>\n",
       "      <td>44</td>\n",
       "      <td>46</td>\n",
       "      <td>46</td>\n",
       "      <td>46</td>\n",
       "      <td>47</td>\n",
       "      <td>47</td>\n",
       "    </tr>\n",
       "    <tr>\n",
       "      <th>19235</th>\n",
       "      <td>46</td>\n",
       "      <td>46</td>\n",
       "      <td>46</td>\n",
       "      <td>45</td>\n",
       "      <td>47</td>\n",
       "      <td>47</td>\n",
       "      <td>47</td>\n",
       "      <td>49</td>\n",
       "      <td>49</td>\n",
       "    </tr>\n",
       "    <tr>\n",
       "      <th>19236</th>\n",
       "      <td>46</td>\n",
       "      <td>46</td>\n",
       "      <td>46</td>\n",
       "      <td>45</td>\n",
       "      <td>47</td>\n",
       "      <td>47</td>\n",
       "      <td>47</td>\n",
       "      <td>48</td>\n",
       "      <td>48</td>\n",
       "    </tr>\n",
       "    <tr>\n",
       "      <th>19238</th>\n",
       "      <td>47</td>\n",
       "      <td>47</td>\n",
       "      <td>47</td>\n",
       "      <td>45</td>\n",
       "      <td>47</td>\n",
       "      <td>47</td>\n",
       "      <td>47</td>\n",
       "      <td>48</td>\n",
       "      <td>48</td>\n",
       "    </tr>\n",
       "  </tbody>\n",
       "</table>\n",
       "<p>7963 rows × 9 columns</p>\n",
       "</div>"
      ],
      "text/plain": [
       "       lf  cf  rf  rs lam ram cam  lm  rm\n",
       "0      93  93  93  89  93  93  93  91  91\n",
       "3      88  88  88  83  89  89  89  89  89\n",
       "4      87  87  87  83  89  89  89  89  89\n",
       "10     77  77  77  72  78  78  78  79  79\n",
       "13     87  87  87  85  86  86  86  86  86\n",
       "...    ..  ..  ..  ..  ..  ..  ..  ..  ..\n",
       "19233  46  46  46  44  47  47  47  46  46\n",
       "19234  45  45  45  44  46  46  46  47  47\n",
       "19235  46  46  46  45  47  47  47  49  49\n",
       "19236  46  46  46  45  47  47  47  48  48\n",
       "19238  47  47  47  45  47  47  47  48  48\n",
       "\n",
       "[7963 rows x 9 columns]"
      ]
     },
     "execution_count": 19,
     "metadata": {},
     "output_type": "execute_result"
    }
   ],
   "source": [
    "df22[['lf','cf','rf','rs','lam','ram','cam','lm','rm']]"
   ]
  },
  {
   "cell_type": "markdown",
   "id": "5bb3580b",
   "metadata": {},
   "source": [
    "## Definir X"
   ]
  },
  {
   "cell_type": "code",
   "execution_count": 20,
   "id": "cf6ea5cd",
   "metadata": {},
   "outputs": [],
   "source": [
    "#Variables a usar (según notebook de modelo):\n",
    "variables=['potential', 'value_eur', 'age', 'height_cm', 'weight_kg',\n",
    "       'attacking_crossing', 'attacking_heading_accuracy', 'attacking_volleys',\n",
    "       'skill_dribbling', 'skill_curve', 'skill_fk_accuracy',\n",
    "       'skill_long_passing', 'movement_acceleration', 'movement_sprint_speed',\n",
    "       'movement_agility', 'movement_reactions', 'movement_balance',\n",
    "       'power_shot_power', 'power_jumping', 'power_stamina',\n",
    "       'power_long_shots', 'mentality_aggression', 'mentality_interceptions',\n",
    "       'mentality_positioning', 'mentality_vision', 'mentality_penalties',\n",
    "       'mentality_composure', 'defending_marking_awareness',\n",
    "       'defending_sliding_tackle', 'rs', 'overall_team/year',\n",
    "       'teams_in_league/year', 'mean_league/year']"
   ]
  },
  {
   "cell_type": "code",
   "execution_count": 21,
   "id": "831634e8",
   "metadata": {},
   "outputs": [],
   "source": [
    "X22=df22[variables]"
   ]
  },
  {
   "cell_type": "code",
   "execution_count": 22,
   "id": "6bf838f6",
   "metadata": {},
   "outputs": [
    {
     "name": "stderr",
     "output_type": "stream",
     "text": [
      "C:\\Users\\carlo\\anaconda3\\lib\\site-packages\\pandas\\core\\frame.py:4462: SettingWithCopyWarning: \n",
      "A value is trying to be set on a copy of a slice from a DataFrame\n",
      "\n",
      "See the caveats in the documentation: https://pandas.pydata.org/pandas-docs/stable/user_guide/indexing.html#returning-a-view-versus-a-copy\n",
      "  return super().fillna(\n"
     ]
    }
   ],
   "source": [
    "#llenar valor nulos de forma preventiva\n",
    "X22.fillna(0,inplace=True)"
   ]
  },
  {
   "cell_type": "markdown",
   "id": "5d6f0a90",
   "metadata": {},
   "source": [
    "## aplicar modelo"
   ]
  },
  {
   "cell_type": "code",
   "execution_count": 23,
   "id": "30493b62",
   "metadata": {},
   "outputs": [],
   "source": [
    "with open('../models/model_MD.pkl','rb') as f:\n",
    "    super_modelo=pickle.load(f)"
   ]
  },
  {
   "cell_type": "code",
   "execution_count": 24,
   "id": "2047facd",
   "metadata": {},
   "outputs": [],
   "source": [
    "y_pred=super_modelo.predict(X22)"
   ]
  },
  {
   "cell_type": "code",
   "execution_count": 25,
   "id": "da101715",
   "metadata": {},
   "outputs": [],
   "source": [
    "ind_list=X22[y_pred==1].index.to_list()"
   ]
  },
  {
   "cell_type": "code",
   "execution_count": 26,
   "id": "4328aee8",
   "metadata": {},
   "outputs": [
    {
     "data": {
      "text/html": [
       "<div>\n",
       "<style scoped>\n",
       "    .dataframe tbody tr th:only-of-type {\n",
       "        vertical-align: middle;\n",
       "    }\n",
       "\n",
       "    .dataframe tbody tr th {\n",
       "        vertical-align: top;\n",
       "    }\n",
       "\n",
       "    .dataframe thead th {\n",
       "        text-align: right;\n",
       "    }\n",
       "</style>\n",
       "<table border=\"1\" class=\"dataframe\">\n",
       "  <thead>\n",
       "    <tr style=\"text-align: right;\">\n",
       "      <th></th>\n",
       "      <th>sofifa_id</th>\n",
       "      <th>short_name</th>\n",
       "      <th>long_name</th>\n",
       "      <th>player_positions</th>\n",
       "      <th>overall</th>\n",
       "      <th>potential</th>\n",
       "      <th>value_eur</th>\n",
       "      <th>wage_eur</th>\n",
       "      <th>age</th>\n",
       "      <th>dob</th>\n",
       "      <th>...</th>\n",
       "      <th>lb</th>\n",
       "      <th>lcb</th>\n",
       "      <th>cb</th>\n",
       "      <th>rcb</th>\n",
       "      <th>rb</th>\n",
       "      <th>gk</th>\n",
       "      <th>overall_team/year</th>\n",
       "      <th>teams_in_league/year</th>\n",
       "      <th>mean_league/year</th>\n",
       "      <th>mean_team/year</th>\n",
       "    </tr>\n",
       "  </thead>\n",
       "  <tbody>\n",
       "    <tr>\n",
       "      <th>17674</th>\n",
       "      <td>260979</td>\n",
       "      <td>J. Kisiel</td>\n",
       "      <td>Jakub Kisiel</td>\n",
       "      <td>centrocampista</td>\n",
       "      <td>56</td>\n",
       "      <td>75</td>\n",
       "      <td>350000.0</td>\n",
       "      <td>500.0</td>\n",
       "      <td>18</td>\n",
       "      <td>2003-02-05</td>\n",
       "      <td>...</td>\n",
       "      <td>54+2</td>\n",
       "      <td>55+2</td>\n",
       "      <td>55+2</td>\n",
       "      <td>55+2</td>\n",
       "      <td>54+2</td>\n",
       "      <td>15+2</td>\n",
       "      <td>658.0</td>\n",
       "      <td>18.0</td>\n",
       "      <td>63.179612</td>\n",
       "      <td>65.800000</td>\n",
       "    </tr>\n",
       "    <tr>\n",
       "      <th>18106</th>\n",
       "      <td>263895</td>\n",
       "      <td>K. Al Mahous</td>\n",
       "      <td>Khalid Eid Al Mahous</td>\n",
       "      <td>centrocampista</td>\n",
       "      <td>55</td>\n",
       "      <td>68</td>\n",
       "      <td>300000.0</td>\n",
       "      <td>2000.0</td>\n",
       "      <td>21</td>\n",
       "      <td>2000-01-06</td>\n",
       "      <td>...</td>\n",
       "      <td>53+2</td>\n",
       "      <td>54+2</td>\n",
       "      <td>54+2</td>\n",
       "      <td>54+2</td>\n",
       "      <td>53+2</td>\n",
       "      <td>16+2</td>\n",
       "      <td>788.0</td>\n",
       "      <td>16.0</td>\n",
       "      <td>63.299517</td>\n",
       "      <td>60.615385</td>\n",
       "    </tr>\n",
       "    <tr>\n",
       "      <th>18027</th>\n",
       "      <td>261473</td>\n",
       "      <td>K. Patten</td>\n",
       "      <td>Keenan Patten</td>\n",
       "      <td>centrocampista</td>\n",
       "      <td>55</td>\n",
       "      <td>68</td>\n",
       "      <td>300000.0</td>\n",
       "      <td>3000.0</td>\n",
       "      <td>20</td>\n",
       "      <td>2001-04-07</td>\n",
       "      <td>...</td>\n",
       "      <td>55+2</td>\n",
       "      <td>54+2</td>\n",
       "      <td>54+2</td>\n",
       "      <td>54+2</td>\n",
       "      <td>55+2</td>\n",
       "      <td>15+2</td>\n",
       "      <td>685.0</td>\n",
       "      <td>24.0</td>\n",
       "      <td>66.469925</td>\n",
       "      <td>62.272727</td>\n",
       "    </tr>\n",
       "    <tr>\n",
       "      <th>18248</th>\n",
       "      <td>256681</td>\n",
       "      <td>W. Lancaster</td>\n",
       "      <td>Will Lancaster</td>\n",
       "      <td>centrocampista</td>\n",
       "      <td>54</td>\n",
       "      <td>70</td>\n",
       "      <td>250000.0</td>\n",
       "      <td>2000.0</td>\n",
       "      <td>18</td>\n",
       "      <td>2002-08-03</td>\n",
       "      <td>...</td>\n",
       "      <td>51+2</td>\n",
       "      <td>53+2</td>\n",
       "      <td>53+2</td>\n",
       "      <td>53+2</td>\n",
       "      <td>51+2</td>\n",
       "      <td>16+2</td>\n",
       "      <td>377.0</td>\n",
       "      <td>24.0</td>\n",
       "      <td>66.469925</td>\n",
       "      <td>62.833333</td>\n",
       "    </tr>\n",
       "    <tr>\n",
       "      <th>18262</th>\n",
       "      <td>257953</td>\n",
       "      <td>F. Gerbowski</td>\n",
       "      <td>Fryderyk Gerbowski</td>\n",
       "      <td>centrocampista</td>\n",
       "      <td>54</td>\n",
       "      <td>69</td>\n",
       "      <td>250000.0</td>\n",
       "      <td>500.0</td>\n",
       "      <td>18</td>\n",
       "      <td>2003-01-17</td>\n",
       "      <td>...</td>\n",
       "      <td>53+2</td>\n",
       "      <td>53+2</td>\n",
       "      <td>53+2</td>\n",
       "      <td>53+2</td>\n",
       "      <td>53+2</td>\n",
       "      <td>15+2</td>\n",
       "      <td>807.0</td>\n",
       "      <td>18.0</td>\n",
       "      <td>63.179612</td>\n",
       "      <td>62.076923</td>\n",
       "    </tr>\n",
       "  </tbody>\n",
       "</table>\n",
       "<p>5 rows × 108 columns</p>\n",
       "</div>"
      ],
      "text/plain": [
       "       sofifa_id    short_name             long_name player_positions  \\\n",
       "17674     260979     J. Kisiel          Jakub Kisiel   centrocampista   \n",
       "18106     263895  K. Al Mahous  Khalid Eid Al Mahous   centrocampista   \n",
       "18027     261473     K. Patten         Keenan Patten   centrocampista   \n",
       "18248     256681  W. Lancaster        Will Lancaster   centrocampista   \n",
       "18262     257953  F. Gerbowski    Fryderyk Gerbowski   centrocampista   \n",
       "\n",
       "       overall  potential  value_eur  wage_eur  age         dob  ...    lb  \\\n",
       "17674       56         75   350000.0     500.0   18  2003-02-05  ...  54+2   \n",
       "18106       55         68   300000.0    2000.0   21  2000-01-06  ...  53+2   \n",
       "18027       55         68   300000.0    3000.0   20  2001-04-07  ...  55+2   \n",
       "18248       54         70   250000.0    2000.0   18  2002-08-03  ...  51+2   \n",
       "18262       54         69   250000.0     500.0   18  2003-01-17  ...  53+2   \n",
       "\n",
       "        lcb    cb   rcb    rb    gk overall_team/year  teams_in_league/year  \\\n",
       "17674  55+2  55+2  55+2  54+2  15+2             658.0                  18.0   \n",
       "18106  54+2  54+2  54+2  53+2  16+2             788.0                  16.0   \n",
       "18027  54+2  54+2  54+2  55+2  15+2             685.0                  24.0   \n",
       "18248  53+2  53+2  53+2  51+2  16+2             377.0                  24.0   \n",
       "18262  53+2  53+2  53+2  53+2  15+2             807.0                  18.0   \n",
       "\n",
       "      mean_league/year mean_team/year  \n",
       "17674        63.179612      65.800000  \n",
       "18106        63.299517      60.615385  \n",
       "18027        66.469925      62.272727  \n",
       "18248        66.469925      62.833333  \n",
       "18262        63.179612      62.076923  \n",
       "\n",
       "[5 rows x 108 columns]"
      ]
     },
     "execution_count": 26,
     "metadata": {},
     "output_type": "execute_result"
    }
   ],
   "source": [
    "#top 5 centrocampistas con mayor proyección\n",
    "df22[df22.index.isin(ind_list)].sort_values(by='overall', ascending=False).head()"
   ]
  },
  {
   "cell_type": "code",
   "execution_count": null,
   "id": "aabf3945",
   "metadata": {},
   "outputs": [],
   "source": []
  }
 ],
 "metadata": {
  "kernelspec": {
   "display_name": "Python 3",
   "language": "python",
   "name": "python3"
  },
  "language_info": {
   "codemirror_mode": {
    "name": "ipython",
    "version": 3
   },
   "file_extension": ".py",
   "mimetype": "text/x-python",
   "name": "python",
   "nbconvert_exporter": "python",
   "pygments_lexer": "ipython3",
   "version": "3.8.8"
  },
  "toc": {
   "base_numbering": 1,
   "nav_menu": {},
   "number_sections": true,
   "sideBar": true,
   "skip_h1_title": false,
   "title_cell": "Table of Contents",
   "title_sidebar": "Contents",
   "toc_cell": false,
   "toc_position": {},
   "toc_section_display": true,
   "toc_window_display": false
  },
  "varInspector": {
   "cols": {
    "lenName": 16,
    "lenType": 16,
    "lenVar": 40
   },
   "kernels_config": {
    "python": {
     "delete_cmd_postfix": "",
     "delete_cmd_prefix": "del ",
     "library": "var_list.py",
     "varRefreshCmd": "print(var_dic_list())"
    },
    "r": {
     "delete_cmd_postfix": ") ",
     "delete_cmd_prefix": "rm(",
     "library": "var_list.r",
     "varRefreshCmd": "cat(var_dic_list()) "
    }
   },
   "types_to_exclude": [
    "module",
    "function",
    "builtin_function_or_method",
    "instance",
    "_Feature"
   ],
   "window_display": false
  }
 },
 "nbformat": 4,
 "nbformat_minor": 5
}
