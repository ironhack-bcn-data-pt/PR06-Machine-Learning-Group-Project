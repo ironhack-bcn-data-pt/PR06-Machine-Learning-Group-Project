{
 "cells": [
  {
   "cell_type": "code",
   "execution_count": 28,
   "id": "760a3d27",
   "metadata": {},
   "outputs": [],
   "source": [
    "import pickle\n",
    "import pandas as pd\n",
    "import seaborn as sns\n",
    "import numpy as np\n",
    "import matplotlib.pyplot as plt"
   ]
  },
  {
   "cell_type": "code",
   "execution_count": 29,
   "id": "837dcc3d",
   "metadata": {},
   "outputs": [
    {
     "name": "stderr",
     "output_type": "stream",
     "text": [
      "C:\\Users\\carlo\\anaconda3\\lib\\site-packages\\IPython\\core\\interactiveshell.py:3165: DtypeWarning: Columns (25,108) have mixed types.Specify dtype option on import or set low_memory=False.\n",
      "  has_raised = await self.run_ast_nodes(code_ast.body, cell_name,\n"
     ]
    }
   ],
   "source": [
    "#importación dataset\n",
    "df22=pd.read_csv('../data/players_22.csv')\n"
   ]
  },
  {
   "cell_type": "markdown",
   "id": "deb5c8bc",
   "metadata": {},
   "source": [
    "## Limpieza datos"
   ]
  },
  {
   "cell_type": "code",
   "execution_count": 30,
   "id": "42be1721",
   "metadata": {},
   "outputs": [],
   "source": [
    "#eliminamos columnas de url que no aportan información\n",
    "df22 = df22[df22.columns.drop(df22.filter(regex='url').columns)]"
   ]
  },
  {
   "cell_type": "code",
   "execution_count": 31,
   "id": "b80cb5e9",
   "metadata": {},
   "outputs": [],
   "source": [
    "#funcion transformación en lista\n",
    "def lista_posicion(x):\n",
    "    return (x.replace(' ','').split(','))"
   ]
  },
  {
   "cell_type": "code",
   "execution_count": 32,
   "id": "ca6e49ac",
   "metadata": {},
   "outputs": [],
   "source": [
    "#transforma valores de columna player_positions en una lista\n",
    "df22['player_positions']=df22['player_positions'].apply(lambda x: lista_posicion(x))"
   ]
  },
  {
   "cell_type": "code",
   "execution_count": 33,
   "id": "a02c3a10",
   "metadata": {},
   "outputs": [],
   "source": [
    "#defino listas para agrupar posiciones por 4 categorias\n",
    "pos_defensas=['LCB','RCB','CB','RB','LB','RWB','LWB']\n",
    "pos_medios=['LW','LCM','RCM','CAM','RW','LDM','CDM','CM','RDM','RM','RAM','LAM','LM']\n",
    "pos_delanteros=['CF','ST','RS','LS','RF']"
   ]
  },
  {
   "cell_type": "code",
   "execution_count": 34,
   "id": "6902b0be",
   "metadata": {},
   "outputs": [],
   "source": [
    "#agrupo posiciones en posiciones genéricas    \n",
    "for i in df22.index:\n",
    "            if len(df22.at[i,'player_positions'])==1:\n",
    "                if df22.at[i,'player_positions'][0]=='GK':\n",
    "                    df22.at[i,'player_positions']='portero'\n",
    "                if df22.at[i,'player_positions'][0] in pos_defensas:\n",
    "                    df22.at[i,'player_positions']='defensa'\n",
    "                elif df22.at[i,'player_positions'][0] in pos_medios:\n",
    "                    df22.at[i,'player_positions']='centrocampista'\n",
    "                elif df22.at[i,'player_positions'][0] in pos_delanteros:\n",
    "                    df22.at[i,'player_positions']='delantero'\n",
    "            else:\n",
    "                if df22.at[i,'player_positions'][0] in pos_defensas:\n",
    "                    df22.at[i,'player_positions']='defensa'\n",
    "                elif df22.at[i,'player_positions'][0] in pos_medios:\n",
    "                    df22.at[i,'player_positions']='centrocampista'\n",
    "                elif df22.at[i,'player_positions'][0] in pos_delanteros:\n",
    "                    df22.at[i,'player_positions']='delantero'\n",
    "                elif df22.at[i,'player_positions'][0]=='GK':\n",
    "                    df22.at[i,'player_positions']='portero'"
   ]
  },
  {
   "cell_type": "code",
   "execution_count": 35,
   "id": "291a5d84",
   "metadata": {},
   "outputs": [],
   "source": [
    "#Agrupa por Equipo y año versión(temporada) y añade el total en cada jugador\n",
    "df22['overall_team/year'] = df22.groupby('club_team_id')['overall'].transform('sum')"
   ]
  },
  {
   "cell_type": "code",
   "execution_count": 36,
   "id": "ed26a8c2",
   "metadata": {},
   "outputs": [],
   "source": [
    "#Crea columna nº de equipos por liga/año\n",
    "df22['teams_in_league/year'] = df22.groupby('league_name')['club_team_id'].transform('nunique')"
   ]
  },
  {
   "cell_type": "code",
   "execution_count": 37,
   "id": "e0675684",
   "metadata": {},
   "outputs": [],
   "source": [
    "#Crea columna media liga/año\n",
    "df22['mean_league/year'] = df22.groupby('league_name')['overall'].transform('mean')"
   ]
  },
  {
   "cell_type": "code",
   "execution_count": 38,
   "id": "ff49bfc9",
   "metadata": {},
   "outputs": [],
   "source": [
    "#Crea columna media equipo/año\n",
    "df22['mean_team/year'] = df22.groupby('club_team_id')['overall'].transform('mean')"
   ]
  },
  {
   "cell_type": "code",
   "execution_count": 39,
   "id": "dd9e94e8",
   "metadata": {},
   "outputs": [],
   "source": [
    "#df solo con las columnas a transformar\n",
    "posiciones=df22[[\"ls\",\"st\",\"rs\",\"lw\",\"lf\",\"cf\",\"rf\",\"rw\", 'lam', 'cam', 'ram', 'lm', 'lcm', 'cm', 'rcm', 'rm', 'ldm', 'cdm', 'rdm',\n",
    "     'lwb', 'rwb', 'lb', 'lcb', 'cb', 'rcb', 'rb',\"gk\"]]"
   ]
  },
  {
   "cell_type": "code",
   "execution_count": 40,
   "id": "ecf985bd",
   "metadata": {},
   "outputs": [],
   "source": [
    "#funcion para limpiar valores\n",
    "def limp_posiciones(x):\n",
    "    x.replace(\"+\",\" \")\n",
    "    return x.split(\" \")[0]"
   ]
  },
  {
   "cell_type": "code",
   "execution_count": 41,
   "id": "f919bfa1",
   "metadata": {},
   "outputs": [],
   "source": [
    "#limpiar en df\n",
    "for i in posiciones.columns:\n",
    "    df22[i]=df22[i].astype(str)\n",
    "    df22[i]=df22[i].apply(limp_posiciones)"
   ]
  },
  {
   "cell_type": "code",
   "execution_count": 42,
   "id": "4ab0a0a5",
   "metadata": {},
   "outputs": [],
   "source": [
    "df22['lf'] = df22['lf'].str.replace(r'\\+', ' ', regex=True)\n",
    "df22['cf'] = df22['cf'].str.replace(r'\\+', ' ', regex=True)\n",
    "df22['rf'] = df22['rf'].str.replace(r'\\+', ' ', regex=True)\n",
    "df22['lam'] = df22['lam'].str.replace(r'\\+', ' ', regex=True)\n",
    "df22['ram'] = df22['ram'].str.replace(r'\\+', ' ', regex=True)\n",
    "df22['lm'] = df22['lm'].str.replace(r'\\+', ' ', regex=True)\n",
    "df22['rm'] = df22['rm'].str.replace(r'\\+', ' ', regex=True)\n",
    "df22['cam'] = df22['cam'].str.replace(r'\\+', ' ', regex=True)\n",
    "df22['rs'] = df22['rs'].str.replace(r'\\+', ' ', regex=True)\n",
    "df22['gk'] = df22['gk'].str.replace(r'\\+', ' ', regex=True)\n",
    "\n",
    "df22['lf'] = df22['lf'].str.replace(r'\\-', ' ', regex=True)\n",
    "df22['cf'] = df22['cf'].str.replace(r'\\-', ' ', regex=True)\n",
    "df22['rf'] = df22['rf'].str.replace(r'\\-', ' ', regex=True)\n",
    "df22['lam'] = df22['lam'].str.replace(r'\\-', ' ', regex=True)\n",
    "df22['ram'] = df22['ram'].str.replace(r'\\-', ' ', regex=True)\n",
    "df22['lm'] = df22['lm'].str.replace(r'\\-', ' ', regex=True)\n",
    "df22['rm'] = df22['rm'].str.replace(r'\\-', ' ', regex=True)\n",
    "df22['cam'] = df22['cam'].str.replace(r'\\-', ' ', regex=True)\n",
    "df22['gk'] = df22['gk'].str.replace(r'\\-', ' ', regex=True)"
   ]
  },
  {
   "cell_type": "code",
   "execution_count": 43,
   "id": "1e71b80b",
   "metadata": {},
   "outputs": [],
   "source": [
    "#funcion para limpiar valores\n",
    "def limp_posiciones(x):\n",
    "    return x.split(\" \")[0]"
   ]
  },
  {
   "cell_type": "code",
   "execution_count": 44,
   "id": "e521b506",
   "metadata": {},
   "outputs": [],
   "source": [
    "for i in ['lf','cf','rf','rs','lam','ram','cam','lm','rm','gk']:\n",
    "    df22[i]=df22[i].astype(str)\n",
    "    df22[i]=df22[i].apply(limp_posiciones)"
   ]
  },
  {
   "cell_type": "code",
   "execution_count": 45,
   "id": "c054a41c",
   "metadata": {},
   "outputs": [
    {
     "data": {
      "text/html": [
       "<div>\n",
       "<style scoped>\n",
       "    .dataframe tbody tr th:only-of-type {\n",
       "        vertical-align: middle;\n",
       "    }\n",
       "\n",
       "    .dataframe tbody tr th {\n",
       "        vertical-align: top;\n",
       "    }\n",
       "\n",
       "    .dataframe thead th {\n",
       "        text-align: right;\n",
       "    }\n",
       "</style>\n",
       "<table border=\"1\" class=\"dataframe\">\n",
       "  <thead>\n",
       "    <tr style=\"text-align: right;\">\n",
       "      <th></th>\n",
       "      <th>lf</th>\n",
       "      <th>cf</th>\n",
       "      <th>rf</th>\n",
       "      <th>rs</th>\n",
       "      <th>lam</th>\n",
       "      <th>ram</th>\n",
       "      <th>cam</th>\n",
       "      <th>lm</th>\n",
       "      <th>rm</th>\n",
       "      <th>gk</th>\n",
       "    </tr>\n",
       "  </thead>\n",
       "  <tbody>\n",
       "    <tr>\n",
       "      <th>0</th>\n",
       "      <td>93</td>\n",
       "      <td>93</td>\n",
       "      <td>93</td>\n",
       "      <td>89</td>\n",
       "      <td>93</td>\n",
       "      <td>93</td>\n",
       "      <td>93</td>\n",
       "      <td>91</td>\n",
       "      <td>91</td>\n",
       "      <td>19</td>\n",
       "    </tr>\n",
       "    <tr>\n",
       "      <th>1</th>\n",
       "      <td>88</td>\n",
       "      <td>88</td>\n",
       "      <td>88</td>\n",
       "      <td>90</td>\n",
       "      <td>86</td>\n",
       "      <td>86</td>\n",
       "      <td>86</td>\n",
       "      <td>84</td>\n",
       "      <td>84</td>\n",
       "      <td>19</td>\n",
       "    </tr>\n",
       "    <tr>\n",
       "      <th>2</th>\n",
       "      <td>89</td>\n",
       "      <td>89</td>\n",
       "      <td>89</td>\n",
       "      <td>90</td>\n",
       "      <td>86</td>\n",
       "      <td>86</td>\n",
       "      <td>86</td>\n",
       "      <td>86</td>\n",
       "      <td>86</td>\n",
       "      <td>20</td>\n",
       "    </tr>\n",
       "    <tr>\n",
       "      <th>3</th>\n",
       "      <td>88</td>\n",
       "      <td>88</td>\n",
       "      <td>88</td>\n",
       "      <td>83</td>\n",
       "      <td>89</td>\n",
       "      <td>89</td>\n",
       "      <td>89</td>\n",
       "      <td>89</td>\n",
       "      <td>89</td>\n",
       "      <td>20</td>\n",
       "    </tr>\n",
       "    <tr>\n",
       "      <th>4</th>\n",
       "      <td>87</td>\n",
       "      <td>87</td>\n",
       "      <td>87</td>\n",
       "      <td>83</td>\n",
       "      <td>89</td>\n",
       "      <td>89</td>\n",
       "      <td>89</td>\n",
       "      <td>89</td>\n",
       "      <td>89</td>\n",
       "      <td>21</td>\n",
       "    </tr>\n",
       "    <tr>\n",
       "      <th>...</th>\n",
       "      <td>...</td>\n",
       "      <td>...</td>\n",
       "      <td>...</td>\n",
       "      <td>...</td>\n",
       "      <td>...</td>\n",
       "      <td>...</td>\n",
       "      <td>...</td>\n",
       "      <td>...</td>\n",
       "      <td>...</td>\n",
       "      <td>...</td>\n",
       "    </tr>\n",
       "    <tr>\n",
       "      <th>19234</th>\n",
       "      <td>45</td>\n",
       "      <td>45</td>\n",
       "      <td>45</td>\n",
       "      <td>44</td>\n",
       "      <td>46</td>\n",
       "      <td>46</td>\n",
       "      <td>46</td>\n",
       "      <td>47</td>\n",
       "      <td>47</td>\n",
       "      <td>15</td>\n",
       "    </tr>\n",
       "    <tr>\n",
       "      <th>19235</th>\n",
       "      <td>46</td>\n",
       "      <td>46</td>\n",
       "      <td>46</td>\n",
       "      <td>45</td>\n",
       "      <td>47</td>\n",
       "      <td>47</td>\n",
       "      <td>47</td>\n",
       "      <td>49</td>\n",
       "      <td>49</td>\n",
       "      <td>14</td>\n",
       "    </tr>\n",
       "    <tr>\n",
       "      <th>19236</th>\n",
       "      <td>46</td>\n",
       "      <td>46</td>\n",
       "      <td>46</td>\n",
       "      <td>45</td>\n",
       "      <td>47</td>\n",
       "      <td>47</td>\n",
       "      <td>47</td>\n",
       "      <td>48</td>\n",
       "      <td>48</td>\n",
       "      <td>12</td>\n",
       "    </tr>\n",
       "    <tr>\n",
       "      <th>19237</th>\n",
       "      <td>47</td>\n",
       "      <td>47</td>\n",
       "      <td>47</td>\n",
       "      <td>47</td>\n",
       "      <td>45</td>\n",
       "      <td>45</td>\n",
       "      <td>45</td>\n",
       "      <td>45</td>\n",
       "      <td>45</td>\n",
       "      <td>15</td>\n",
       "    </tr>\n",
       "    <tr>\n",
       "      <th>19238</th>\n",
       "      <td>47</td>\n",
       "      <td>47</td>\n",
       "      <td>47</td>\n",
       "      <td>45</td>\n",
       "      <td>47</td>\n",
       "      <td>47</td>\n",
       "      <td>47</td>\n",
       "      <td>48</td>\n",
       "      <td>48</td>\n",
       "      <td>16</td>\n",
       "    </tr>\n",
       "  </tbody>\n",
       "</table>\n",
       "<p>19239 rows × 10 columns</p>\n",
       "</div>"
      ],
      "text/plain": [
       "       lf  cf  rf  rs lam ram cam  lm  rm  gk\n",
       "0      93  93  93  89  93  93  93  91  91  19\n",
       "1      88  88  88  90  86  86  86  84  84  19\n",
       "2      89  89  89  90  86  86  86  86  86  20\n",
       "3      88  88  88  83  89  89  89  89  89  20\n",
       "4      87  87  87  83  89  89  89  89  89  21\n",
       "...    ..  ..  ..  ..  ..  ..  ..  ..  ..  ..\n",
       "19234  45  45  45  44  46  46  46  47  47  15\n",
       "19235  46  46  46  45  47  47  47  49  49  14\n",
       "19236  46  46  46  45  47  47  47  48  48  12\n",
       "19237  47  47  47  47  45  45  45  45  45  15\n",
       "19238  47  47  47  45  47  47  47  48  48  16\n",
       "\n",
       "[19239 rows x 10 columns]"
      ]
     },
     "execution_count": 45,
     "metadata": {},
     "output_type": "execute_result"
    }
   ],
   "source": [
    "df22[['lf','cf','rf','rs','lam','ram','cam','lm','rm','gk']]"
   ]
  },
  {
   "cell_type": "markdown",
   "id": "5bb3580b",
   "metadata": {},
   "source": [
    "## Definir X"
   ]
  },
  {
   "cell_type": "code",
   "execution_count": 46,
   "id": "cf6ea5cd",
   "metadata": {},
   "outputs": [],
   "source": [
    "#Variables a usar (según notebook de modelo):\n",
    "variables=['overall', 'potential', 'value_eur', 'wage_eur', 'age', 'height_cm',\n",
    "       'weight_kg', 'pace', 'physic', 'attacking_crossing',\n",
    "       'attacking_finishing', 'attacking_heading_accuracy',\n",
    "       'attacking_short_passing', 'attacking_volleys', 'skill_dribbling',\n",
    "       'skill_curve', 'skill_fk_accuracy', 'skill_long_passing',\n",
    "       'skill_ball_control', 'movement_acceleration', 'movement_sprint_speed',\n",
    "       'movement_agility', 'movement_reactions', 'movement_balance',\n",
    "       'power_shot_power', 'power_jumping', 'power_stamina', 'power_strength',\n",
    "       'power_long_shots', 'mentality_aggression', 'mentality_interceptions',\n",
    "       'mentality_positioning', 'mentality_vision', 'mentality_penalties',\n",
    "       'mentality_composure', 'defending_marking_awareness',\n",
    "       'defending_standing_tackle', 'defending_sliding_tackle',\n",
    "       'goalkeeping_diving', 'goalkeeping_handling', 'goalkeeping_kicking',\n",
    "       'goalkeeping_positioning', 'goalkeeping_reflexes', 'gk',\n",
    "       'overall_team/year', 'teams_in_league/year', 'mean_league/year',\n",
    "       'mean_team/year']"
   ]
  },
  {
   "cell_type": "code",
   "execution_count": 47,
   "id": "831634e8",
   "metadata": {},
   "outputs": [],
   "source": [
    "X22=df22[variables]"
   ]
  },
  {
   "cell_type": "code",
   "execution_count": 48,
   "id": "6bf838f6",
   "metadata": {},
   "outputs": [
    {
     "name": "stderr",
     "output_type": "stream",
     "text": [
      "C:\\Users\\carlo\\anaconda3\\lib\\site-packages\\pandas\\core\\frame.py:4462: SettingWithCopyWarning: \n",
      "A value is trying to be set on a copy of a slice from a DataFrame\n",
      "\n",
      "See the caveats in the documentation: https://pandas.pydata.org/pandas-docs/stable/user_guide/indexing.html#returning-a-view-versus-a-copy\n",
      "  return super().fillna(\n"
     ]
    }
   ],
   "source": [
    "#llenar valor nulos de forma preventiva\n",
    "X22.fillna(0,inplace=True)"
   ]
  },
  {
   "cell_type": "code",
   "execution_count": 49,
   "id": "b1b74550",
   "metadata": {},
   "outputs": [
    {
     "name": "stderr",
     "output_type": "stream",
     "text": [
      "<ipython-input-49-01dbb10a3d63>:2: SettingWithCopyWarning: \n",
      "A value is trying to be set on a copy of a slice from a DataFrame.\n",
      "Try using .loc[row_indexer,col_indexer] = value instead\n",
      "\n",
      "See the caveats in the documentation: https://pandas.pydata.org/pandas-docs/stable/user_guide/indexing.html#returning-a-view-versus-a-copy\n",
      "  X22['gk']=X22.gk.astype(int)\n"
     ]
    }
   ],
   "source": [
    "#transformar datos a numérico\n",
    "X22['gk']=X22.gk.astype(int)"
   ]
  },
  {
   "cell_type": "markdown",
   "id": "5d6f0a90",
   "metadata": {},
   "source": [
    "## aplicar modelo"
   ]
  },
  {
   "cell_type": "code",
   "execution_count": 52,
   "id": "30493b62",
   "metadata": {},
   "outputs": [],
   "source": [
    "with open('../models/model_all.pkl','rb') as f:\n",
    "    super_modelo=pickle.load(f)"
   ]
  },
  {
   "cell_type": "code",
   "execution_count": 53,
   "id": "7a780bf8",
   "metadata": {},
   "outputs": [
    {
     "data": {
      "text/plain": [
       "RandomForestClassifier()"
      ]
     },
     "execution_count": 53,
     "metadata": {},
     "output_type": "execute_result"
    }
   ],
   "source": [
    "super_modelo"
   ]
  },
  {
   "cell_type": "code",
   "execution_count": 54,
   "id": "2047facd",
   "metadata": {},
   "outputs": [],
   "source": [
    "y_pred=super_modelo.predict(X22)"
   ]
  },
  {
   "cell_type": "code",
   "execution_count": 55,
   "id": "da101715",
   "metadata": {},
   "outputs": [],
   "source": [
    "ind_list=X22[y_pred==1].index.to_list()"
   ]
  },
  {
   "cell_type": "code",
   "execution_count": 57,
   "id": "4328aee8",
   "metadata": {},
   "outputs": [
    {
     "data": {
      "text/html": [
       "<div>\n",
       "<style scoped>\n",
       "    .dataframe tbody tr th:only-of-type {\n",
       "        vertical-align: middle;\n",
       "    }\n",
       "\n",
       "    .dataframe tbody tr th {\n",
       "        vertical-align: top;\n",
       "    }\n",
       "\n",
       "    .dataframe thead th {\n",
       "        text-align: right;\n",
       "    }\n",
       "</style>\n",
       "<table border=\"1\" class=\"dataframe\">\n",
       "  <thead>\n",
       "    <tr style=\"text-align: right;\">\n",
       "      <th></th>\n",
       "      <th>sofifa_id</th>\n",
       "      <th>short_name</th>\n",
       "      <th>long_name</th>\n",
       "      <th>player_positions</th>\n",
       "      <th>overall</th>\n",
       "      <th>potential</th>\n",
       "      <th>value_eur</th>\n",
       "      <th>wage_eur</th>\n",
       "      <th>age</th>\n",
       "      <th>dob</th>\n",
       "      <th>...</th>\n",
       "      <th>lb</th>\n",
       "      <th>lcb</th>\n",
       "      <th>cb</th>\n",
       "      <th>rcb</th>\n",
       "      <th>rb</th>\n",
       "      <th>gk</th>\n",
       "      <th>overall_team/year</th>\n",
       "      <th>teams_in_league/year</th>\n",
       "      <th>mean_league/year</th>\n",
       "      <th>mean_team/year</th>\n",
       "    </tr>\n",
       "  </thead>\n",
       "  <tbody>\n",
       "    <tr>\n",
       "      <th>17993</th>\n",
       "      <td>259808</td>\n",
       "      <td>J. Moreno</td>\n",
       "      <td>Joiner Moreno Montero</td>\n",
       "      <td>defensa</td>\n",
       "      <td>55</td>\n",
       "      <td>65</td>\n",
       "      <td>250000.0</td>\n",
       "      <td>500.0</td>\n",
       "      <td>20</td>\n",
       "      <td>2000-08-02</td>\n",
       "      <td>...</td>\n",
       "      <td>52+2</td>\n",
       "      <td>55+2</td>\n",
       "      <td>55+2</td>\n",
       "      <td>55+2</td>\n",
       "      <td>52+2</td>\n",
       "      <td>16</td>\n",
       "      <td>1290.0</td>\n",
       "      <td>8.0</td>\n",
       "      <td>64.099476</td>\n",
       "      <td>64.500000</td>\n",
       "    </tr>\n",
       "    <tr>\n",
       "      <th>18034</th>\n",
       "      <td>261684</td>\n",
       "      <td>G. Machado</td>\n",
       "      <td>Gustavo Ezequiel Machado Ferrando</td>\n",
       "      <td>centrocampista</td>\n",
       "      <td>55</td>\n",
       "      <td>68</td>\n",
       "      <td>300000.0</td>\n",
       "      <td>500.0</td>\n",
       "      <td>20</td>\n",
       "      <td>2001-06-23</td>\n",
       "      <td>...</td>\n",
       "      <td>54+2</td>\n",
       "      <td>53+2</td>\n",
       "      <td>53+2</td>\n",
       "      <td>53+2</td>\n",
       "      <td>54+2</td>\n",
       "      <td>14</td>\n",
       "      <td>1205.0</td>\n",
       "      <td>6.0</td>\n",
       "      <td>63.439394</td>\n",
       "      <td>60.250000</td>\n",
       "    </tr>\n",
       "    <tr>\n",
       "      <th>18174</th>\n",
       "      <td>243517</td>\n",
       "      <td>C. Logan</td>\n",
       "      <td>Cameron Logan</td>\n",
       "      <td>defensa</td>\n",
       "      <td>54</td>\n",
       "      <td>72</td>\n",
       "      <td>275000.0</td>\n",
       "      <td>600.0</td>\n",
       "      <td>19</td>\n",
       "      <td>2002-01-28</td>\n",
       "      <td>...</td>\n",
       "      <td>52+2</td>\n",
       "      <td>50+2</td>\n",
       "      <td>50+2</td>\n",
       "      <td>50+2</td>\n",
       "      <td>52+2</td>\n",
       "      <td>15</td>\n",
       "      <td>1603.0</td>\n",
       "      <td>12.0</td>\n",
       "      <td>64.225000</td>\n",
       "      <td>64.120000</td>\n",
       "    </tr>\n",
       "    <tr>\n",
       "      <th>18302</th>\n",
       "      <td>260269</td>\n",
       "      <td>M. Monzeglio</td>\n",
       "      <td>Manuel Monzeglio Velázquez</td>\n",
       "      <td>centrocampista</td>\n",
       "      <td>54</td>\n",
       "      <td>67</td>\n",
       "      <td>250000.0</td>\n",
       "      <td>500.0</td>\n",
       "      <td>19</td>\n",
       "      <td>2001-09-25</td>\n",
       "      <td>...</td>\n",
       "      <td>38+2</td>\n",
       "      <td>31+2</td>\n",
       "      <td>31+2</td>\n",
       "      <td>31+2</td>\n",
       "      <td>38+2</td>\n",
       "      <td>12</td>\n",
       "      <td>1491.0</td>\n",
       "      <td>6.0</td>\n",
       "      <td>63.439394</td>\n",
       "      <td>67.772727</td>\n",
       "    </tr>\n",
       "    <tr>\n",
       "      <th>18479</th>\n",
       "      <td>251875</td>\n",
       "      <td>R. Ispas</td>\n",
       "      <td>Rareș Ispas</td>\n",
       "      <td>defensa</td>\n",
       "      <td>53</td>\n",
       "      <td>66</td>\n",
       "      <td>220000.0</td>\n",
       "      <td>2000.0</td>\n",
       "      <td>20</td>\n",
       "      <td>2000-08-26</td>\n",
       "      <td>...</td>\n",
       "      <td>51+2</td>\n",
       "      <td>48+2</td>\n",
       "      <td>48+2</td>\n",
       "      <td>48+2</td>\n",
       "      <td>51+2</td>\n",
       "      <td>14</td>\n",
       "      <td>1765.0</td>\n",
       "      <td>16.0</td>\n",
       "      <td>62.628959</td>\n",
       "      <td>63.035714</td>\n",
       "    </tr>\n",
       "  </tbody>\n",
       "</table>\n",
       "<p>5 rows × 108 columns</p>\n",
       "</div>"
      ],
      "text/plain": [
       "       sofifa_id    short_name                          long_name  \\\n",
       "17993     259808     J. Moreno              Joiner Moreno Montero   \n",
       "18034     261684    G. Machado  Gustavo Ezequiel Machado Ferrando   \n",
       "18174     243517      C. Logan                      Cameron Logan   \n",
       "18302     260269  M. Monzeglio         Manuel Monzeglio Velázquez   \n",
       "18479     251875      R. Ispas                        Rareș Ispas   \n",
       "\n",
       "      player_positions  overall  potential  value_eur  wage_eur  age  \\\n",
       "17993          defensa       55         65   250000.0     500.0   20   \n",
       "18034   centrocampista       55         68   300000.0     500.0   20   \n",
       "18174          defensa       54         72   275000.0     600.0   19   \n",
       "18302   centrocampista       54         67   250000.0     500.0   19   \n",
       "18479          defensa       53         66   220000.0    2000.0   20   \n",
       "\n",
       "              dob  ...    lb   lcb    cb   rcb    rb  gk overall_team/year  \\\n",
       "17993  2000-08-02  ...  52+2  55+2  55+2  55+2  52+2  16            1290.0   \n",
       "18034  2001-06-23  ...  54+2  53+2  53+2  53+2  54+2  14            1205.0   \n",
       "18174  2002-01-28  ...  52+2  50+2  50+2  50+2  52+2  15            1603.0   \n",
       "18302  2001-09-25  ...  38+2  31+2  31+2  31+2  38+2  12            1491.0   \n",
       "18479  2000-08-26  ...  51+2  48+2  48+2  48+2  51+2  14            1765.0   \n",
       "\n",
       "       teams_in_league/year mean_league/year mean_team/year  \n",
       "17993                   8.0        64.099476      64.500000  \n",
       "18034                   6.0        63.439394      60.250000  \n",
       "18174                  12.0        64.225000      64.120000  \n",
       "18302                   6.0        63.439394      67.772727  \n",
       "18479                  16.0        62.628959      63.035714  \n",
       "\n",
       "[5 rows x 108 columns]"
      ]
     },
     "execution_count": 57,
     "metadata": {},
     "output_type": "execute_result"
    }
   ],
   "source": [
    "#top 5 porteros con mayor proyección\n",
    "df22[df22.index.isin(ind_list)].sort_values(by='overall', ascending=False).head()"
   ]
  },
  {
   "cell_type": "code",
   "execution_count": null,
   "id": "605bc087",
   "metadata": {},
   "outputs": [],
   "source": []
  }
 ],
 "metadata": {
  "kernelspec": {
   "display_name": "Python 3",
   "language": "python",
   "name": "python3"
  },
  "language_info": {
   "codemirror_mode": {
    "name": "ipython",
    "version": 3
   },
   "file_extension": ".py",
   "mimetype": "text/x-python",
   "name": "python",
   "nbconvert_exporter": "python",
   "pygments_lexer": "ipython3",
   "version": "3.8.8"
  },
  "toc": {
   "base_numbering": 1,
   "nav_menu": {},
   "number_sections": true,
   "sideBar": true,
   "skip_h1_title": false,
   "title_cell": "Table of Contents",
   "title_sidebar": "Contents",
   "toc_cell": false,
   "toc_position": {},
   "toc_section_display": true,
   "toc_window_display": false
  },
  "varInspector": {
   "cols": {
    "lenName": 16,
    "lenType": 16,
    "lenVar": 40
   },
   "kernels_config": {
    "python": {
     "delete_cmd_postfix": "",
     "delete_cmd_prefix": "del ",
     "library": "var_list.py",
     "varRefreshCmd": "print(var_dic_list())"
    },
    "r": {
     "delete_cmd_postfix": ") ",
     "delete_cmd_prefix": "rm(",
     "library": "var_list.r",
     "varRefreshCmd": "cat(var_dic_list()) "
    }
   },
   "types_to_exclude": [
    "module",
    "function",
    "builtin_function_or_method",
    "instance",
    "_Feature"
   ],
   "window_display": false
  }
 },
 "nbformat": 4,
 "nbformat_minor": 5
}
