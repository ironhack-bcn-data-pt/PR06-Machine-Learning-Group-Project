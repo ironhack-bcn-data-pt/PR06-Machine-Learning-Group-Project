{
 "cells": [
  {
   "cell_type": "code",
   "execution_count": 1,
   "id": "1b7aaeb4",
   "metadata": {},
   "outputs": [],
   "source": [
    "import pandas as pd\n",
    "import numpy as np\n",
    "import seaborn as sns\n",
    "import matplotlib.pyplot as plt"
   ]
  },
  {
   "cell_type": "code",
   "execution_count": 16,
   "id": "b2da0a89",
   "metadata": {},
   "outputs": [],
   "source": [
    "from sklearn.ensemble import RandomForestRegressor\n",
    "from sklearn.ensemble import RandomForestClassifier"
   ]
  },
  {
   "cell_type": "code",
   "execution_count": 2,
   "id": "be70b206",
   "metadata": {},
   "outputs": [
    {
     "name": "stderr",
     "output_type": "stream",
     "text": [
      "C:\\Users\\Natalia Gonzalez\\anaconda3\\lib\\site-packages\\IPython\\core\\interactiveshell.py:3165: DtypeWarning: Columns (99) have mixed types.Specify dtype option on import or set low_memory=False.\n",
      "  has_raised = await self.run_ast_nodes(code_ast.body, cell_name,\n"
     ]
    }
   ],
   "source": [
    "df=pd.read_csv('data/df_cleaned.csv')"
   ]
  },
  {
   "cell_type": "code",
   "execution_count": 3,
   "id": "d535d97a",
   "metadata": {},
   "outputs": [
    {
     "data": {
      "text/html": [
       "<div>\n",
       "<style scoped>\n",
       "    .dataframe tbody tr th:only-of-type {\n",
       "        vertical-align: middle;\n",
       "    }\n",
       "\n",
       "    .dataframe tbody tr th {\n",
       "        vertical-align: top;\n",
       "    }\n",
       "\n",
       "    .dataframe thead th {\n",
       "        text-align: right;\n",
       "    }\n",
       "</style>\n",
       "<table border=\"1\" class=\"dataframe\">\n",
       "  <thead>\n",
       "    <tr style=\"text-align: right;\">\n",
       "      <th></th>\n",
       "      <th>sofifa_id</th>\n",
       "      <th>short_name</th>\n",
       "      <th>long_name</th>\n",
       "      <th>player_positions</th>\n",
       "      <th>overall</th>\n",
       "      <th>potential</th>\n",
       "      <th>value_eur</th>\n",
       "      <th>wage_eur</th>\n",
       "      <th>age</th>\n",
       "      <th>dob</th>\n",
       "      <th>...</th>\n",
       "      <th>rb</th>\n",
       "      <th>gk</th>\n",
       "      <th>año_version</th>\n",
       "      <th>progresion_anual</th>\n",
       "      <th>overall_team/year</th>\n",
       "      <th>teams_in_league/year</th>\n",
       "      <th>mean_league/year</th>\n",
       "      <th>mean_team/year</th>\n",
       "      <th>ranking</th>\n",
       "      <th>puntos</th>\n",
       "    </tr>\n",
       "  </thead>\n",
       "  <tbody>\n",
       "    <tr>\n",
       "      <th>0</th>\n",
       "      <td>158023</td>\n",
       "      <td>L. Messi</td>\n",
       "      <td>Lionel Andrés Messi Cuccittini</td>\n",
       "      <td>delantero</td>\n",
       "      <td>93</td>\n",
       "      <td>95</td>\n",
       "      <td>100500000.0</td>\n",
       "      <td>550000.0</td>\n",
       "      <td>27</td>\n",
       "      <td>1987-06-24</td>\n",
       "      <td>...</td>\n",
       "      <td>54</td>\n",
       "      <td>15</td>\n",
       "      <td>2015</td>\n",
       "      <td>0.010753</td>\n",
       "      <td>1917.0</td>\n",
       "      <td>20.0</td>\n",
       "      <td>71.357143</td>\n",
       "      <td>79.875000</td>\n",
       "      <td>13</td>\n",
       "      <td>1833</td>\n",
       "    </tr>\n",
       "    <tr>\n",
       "      <th>1</th>\n",
       "      <td>20801</td>\n",
       "      <td>Cristiano Ronaldo</td>\n",
       "      <td>Cristiano Ronaldo dos Santos Aveiro</td>\n",
       "      <td>centrocampista</td>\n",
       "      <td>92</td>\n",
       "      <td>92</td>\n",
       "      <td>79000000.0</td>\n",
       "      <td>375000.0</td>\n",
       "      <td>29</td>\n",
       "      <td>1985-02-05</td>\n",
       "      <td>...</td>\n",
       "      <td>57</td>\n",
       "      <td>16</td>\n",
       "      <td>2015</td>\n",
       "      <td>0.010870</td>\n",
       "      <td>2418.0</td>\n",
       "      <td>20.0</td>\n",
       "      <td>71.357143</td>\n",
       "      <td>75.562500</td>\n",
       "      <td>4</td>\n",
       "      <td>1980</td>\n",
       "    </tr>\n",
       "    <tr>\n",
       "      <th>2</th>\n",
       "      <td>9014</td>\n",
       "      <td>A. Robben</td>\n",
       "      <td>Arjen Robben</td>\n",
       "      <td>centrocampista</td>\n",
       "      <td>90</td>\n",
       "      <td>90</td>\n",
       "      <td>54500000.0</td>\n",
       "      <td>275000.0</td>\n",
       "      <td>30</td>\n",
       "      <td>1984-01-23</td>\n",
       "      <td>...</td>\n",
       "      <td>55</td>\n",
       "      <td>14</td>\n",
       "      <td>2015</td>\n",
       "      <td>0.000000</td>\n",
       "      <td>2061.0</td>\n",
       "      <td>18.0</td>\n",
       "      <td>71.280514</td>\n",
       "      <td>79.269231</td>\n",
       "      <td>1</td>\n",
       "      <td>2089</td>\n",
       "    </tr>\n",
       "    <tr>\n",
       "      <th>3</th>\n",
       "      <td>41236</td>\n",
       "      <td>Z. Ibrahimović</td>\n",
       "      <td>Zlatan Ibrahimović</td>\n",
       "      <td>delantero</td>\n",
       "      <td>90</td>\n",
       "      <td>90</td>\n",
       "      <td>52500000.0</td>\n",
       "      <td>275000.0</td>\n",
       "      <td>32</td>\n",
       "      <td>1981-10-03</td>\n",
       "      <td>...</td>\n",
       "      <td>56</td>\n",
       "      <td>17</td>\n",
       "      <td>2015</td>\n",
       "      <td>-0.011111</td>\n",
       "      <td>1730.0</td>\n",
       "      <td>20.0</td>\n",
       "      <td>69.209644</td>\n",
       "      <td>78.636364</td>\n",
       "      <td>8</td>\n",
       "      <td>1907</td>\n",
       "    </tr>\n",
       "    <tr>\n",
       "      <th>4</th>\n",
       "      <td>167495</td>\n",
       "      <td>M. Neuer</td>\n",
       "      <td>Manuel Peter Neuer</td>\n",
       "      <td>portero</td>\n",
       "      <td>90</td>\n",
       "      <td>90</td>\n",
       "      <td>63500000.0</td>\n",
       "      <td>300000.0</td>\n",
       "      <td>28</td>\n",
       "      <td>1986-03-27</td>\n",
       "      <td>...</td>\n",
       "      <td>36</td>\n",
       "      <td>87</td>\n",
       "      <td>2015</td>\n",
       "      <td>0.000000</td>\n",
       "      <td>2061.0</td>\n",
       "      <td>18.0</td>\n",
       "      <td>71.280514</td>\n",
       "      <td>79.269231</td>\n",
       "      <td>1</td>\n",
       "      <td>2089</td>\n",
       "    </tr>\n",
       "  </tbody>\n",
       "</table>\n",
       "<p>5 rows × 108 columns</p>\n",
       "</div>"
      ],
      "text/plain": [
       "   sofifa_id         short_name                            long_name  \\\n",
       "0     158023           L. Messi       Lionel Andrés Messi Cuccittini   \n",
       "1      20801  Cristiano Ronaldo  Cristiano Ronaldo dos Santos Aveiro   \n",
       "2       9014          A. Robben                         Arjen Robben   \n",
       "3      41236     Z. Ibrahimović                   Zlatan Ibrahimović   \n",
       "4     167495           M. Neuer                   Manuel Peter Neuer   \n",
       "\n",
       "  player_positions  overall  potential    value_eur  wage_eur  age  \\\n",
       "0        delantero       93         95  100500000.0  550000.0   27   \n",
       "1   centrocampista       92         92   79000000.0  375000.0   29   \n",
       "2   centrocampista       90         90   54500000.0  275000.0   30   \n",
       "3        delantero       90         90   52500000.0  275000.0   32   \n",
       "4          portero       90         90   63500000.0  300000.0   28   \n",
       "\n",
       "          dob  ...  rb  gk  año_version progresion_anual overall_team/year  \\\n",
       "0  1987-06-24  ...  54  15         2015         0.010753            1917.0   \n",
       "1  1985-02-05  ...  57  16         2015         0.010870            2418.0   \n",
       "2  1984-01-23  ...  55  14         2015         0.000000            2061.0   \n",
       "3  1981-10-03  ...  56  17         2015        -0.011111            1730.0   \n",
       "4  1986-03-27  ...  36  87         2015         0.000000            2061.0   \n",
       "\n",
       "   teams_in_league/year  mean_league/year  mean_team/year ranking  puntos  \n",
       "0                  20.0         71.357143       79.875000      13    1833  \n",
       "1                  20.0         71.357143       75.562500       4    1980  \n",
       "2                  18.0         71.280514       79.269231       1    2089  \n",
       "3                  20.0         69.209644       78.636364       8    1907  \n",
       "4                  18.0         71.280514       79.269231       1    2089  \n",
       "\n",
       "[5 rows x 108 columns]"
      ]
     },
     "execution_count": 3,
     "metadata": {},
     "output_type": "execute_result"
    }
   ],
   "source": [
    "df.head()"
   ]
  },
  {
   "cell_type": "code",
   "execution_count": 6,
   "id": "a5af55e7",
   "metadata": {},
   "outputs": [],
   "source": [
    "df['gk'] =df['gk'].replace(\"+\",\"\")"
   ]
  },
  {
   "cell_type": "code",
   "execution_count": 7,
   "id": "49f22a7b",
   "metadata": {},
   "outputs": [],
   "source": [
    "df['gk'] = df['gk'].str.replace(r'\\+', '', regex=True)"
   ]
  },
  {
   "cell_type": "code",
   "execution_count": 8,
   "id": "ea9efc1d",
   "metadata": {},
   "outputs": [],
   "source": [
    "df.gk.fillna(0,inplace=True)"
   ]
  },
  {
   "cell_type": "code",
   "execution_count": 10,
   "id": "2b93b8b6",
   "metadata": {},
   "outputs": [],
   "source": [
    "df['gk']=df.gk.astype(int)"
   ]
  },
  {
   "cell_type": "code",
   "execution_count": 11,
   "id": "15a53174",
   "metadata": {},
   "outputs": [
    {
     "data": {
      "text/plain": [
       "array([15, 16, 14, 17, 87, 34, 13, 18, 85, 83,  8, 84, 12, 82,  9, 11, 80,\n",
       "       81, 20,  6,  7, 79, 35, 10, 78, 77,  5, 76, 75, 25, 74, 73, 72, 27,\n",
       "       33, 71, 70, 69, 68, 67, 66, 65, 39, 64, 63, 62, 61, 60, 59,  4, 58,\n",
       "       57, 56, 55, 54, 53, 52, 51, 50, 49, 48, 47, 46, 43, 19, 37, 21, 38,\n",
       "       23, 22, 29, 31, 28, 32, 44, 89, 86, 45, 90, 88, 24,  0])"
      ]
     },
     "execution_count": 11,
     "metadata": {},
     "output_type": "execute_result"
    }
   ],
   "source": [
    "df['gk'].unique()"
   ]
  },
  {
   "cell_type": "code",
   "execution_count": 12,
   "id": "5ea012cd",
   "metadata": {},
   "outputs": [],
   "source": [
    "df=df[df['player_positions']=='defensa']"
   ]
  },
  {
   "cell_type": "code",
   "execution_count": 13,
   "id": "9ab6009d",
   "metadata": {},
   "outputs": [
    {
     "name": "stdout",
     "output_type": "stream",
     "text": [
      "['sofifa_id', 'short_name', 'long_name', 'player_positions', 'overall', 'potential', 'value_eur', 'wage_eur', 'age', 'dob', 'height_cm', 'weight_kg', 'club_team_id', 'club_name', 'league_name', 'league_level', 'club_position', 'club_jersey_number', 'club_joined', 'club_contract_valid_until', 'nationality_id', 'nationality_name', 'nation_team_id', 'nation_position', 'preferred_foot', 'weak_foot', 'skill_moves', 'international_reputation', 'work_rate', 'body_type', 'real_face', 'player_traits', 'pace', 'shooting', 'passing', 'dribbling', 'defending', 'physic', 'attacking_crossing', 'attacking_finishing', 'attacking_heading_accuracy', 'attacking_short_passing', 'attacking_volleys', 'skill_dribbling', 'skill_curve', 'skill_fk_accuracy', 'skill_long_passing', 'skill_ball_control', 'movement_acceleration', 'movement_sprint_speed', 'movement_agility', 'movement_reactions', 'movement_balance', 'power_shot_power', 'power_jumping', 'power_stamina', 'power_strength', 'power_long_shots', 'mentality_aggression', 'mentality_interceptions', 'mentality_positioning', 'mentality_vision', 'mentality_penalties', 'mentality_composure', 'defending_marking_awareness', 'defending_standing_tackle', 'defending_sliding_tackle', 'goalkeeping_diving', 'goalkeeping_handling', 'goalkeeping_kicking', 'goalkeeping_positioning', 'goalkeeping_reflexes', 'goalkeeping_speed', 'ls', 'st', 'rs', 'lw', 'lf', 'cf', 'rf', 'rw', 'lam', 'cam', 'ram', 'lm', 'lcm', 'cm', 'rcm', 'rm', 'lwb', 'ldm', 'cdm', 'rdm', 'rwb', 'lb', 'lcb', 'cb', 'rcb', 'rb', 'gk', 'año_version', 'progresion_anual', 'overall_team/year', 'teams_in_league/year', 'mean_league/year', 'mean_team/year', 'ranking', 'puntos']\n"
     ]
    }
   ],
   "source": [
    "pd.set_option('display.max_columns', None)\n",
    "print(df.columns.tolist())"
   ]
  },
  {
   "cell_type": "code",
   "execution_count": 17,
   "id": "521d1b40",
   "metadata": {},
   "outputs": [],
   "source": [
    "model = RandomForestClassifier()"
   ]
  },
  {
   "cell_type": "code",
   "execution_count": null,
   "id": "a9c4589e",
   "metadata": {},
   "outputs": [],
   "source": []
  }
 ],
 "metadata": {
  "kernelspec": {
   "display_name": "Python 3",
   "language": "python",
   "name": "python3"
  },
  "language_info": {
   "codemirror_mode": {
    "name": "ipython",
    "version": 3
   },
   "file_extension": ".py",
   "mimetype": "text/x-python",
   "name": "python",
   "nbconvert_exporter": "python",
   "pygments_lexer": "ipython3",
   "version": "3.8.8"
  }
 },
 "nbformat": 4,
 "nbformat_minor": 5
}
