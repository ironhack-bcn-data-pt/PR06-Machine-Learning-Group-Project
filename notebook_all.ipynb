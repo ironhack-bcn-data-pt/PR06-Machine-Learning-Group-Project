{
 "cells": [
  {
   "cell_type": "code",
   "execution_count": 2,
   "id": "1b7aaeb4",
   "metadata": {},
   "outputs": [],
   "source": [
    "import pandas as pd\n",
    "import numpy as np\n",
    "import matplotlib.pyplot as plt\n",
    "import seaborn as sns\n",
    "from sklearn.ensemble import RandomForestClassifier\n",
    "from sklearn.feature_selection import SelectFromModel\n",
    "from sklearn.model_selection import train_test_split\n",
    "from sklearn.preprocessing import StandardScaler, OneHotEncoder, LabelEncoder, OrdinalEncoder\n",
    "from sklearn.compose import make_column_transformer\n",
    "from sklearn.pipeline import make_pipeline\n",
    "from sklearn.linear_model import LinearRegression, Lasso, Ridge, ElasticNet\n",
    "from sklearn.metrics import classification_report\n",
    "from imblearn.under_sampling import RandomUnderSampler\n",
    "from sklearn.svm import SVC\n",
    "from imblearn.over_sampling import SMOTEN"
   ]
  },
  {
   "cell_type": "code",
   "execution_count": 3,
   "id": "be70b206",
   "metadata": {},
   "outputs": [
    {
     "name": "stderr",
     "output_type": "stream",
     "text": [
      "/usr/local/lib/python3.9/site-packages/IPython/core/interactiveshell.py:3441: DtypeWarning: Columns (99) have mixed types.Specify dtype option on import or set low_memory=False.\n",
      "  exec(code_obj, self.user_global_ns, self.user_ns)\n"
     ]
    }
   ],
   "source": [
    "df=pd.read_csv('data/df_cleaned.csv')"
   ]
  },
  {
   "cell_type": "markdown",
   "id": "af375c3a",
   "metadata": {},
   "source": [
    "## depuración columna \"gk\""
   ]
  },
  {
   "cell_type": "code",
   "execution_count": 4,
   "id": "ff30476c",
   "metadata": {
    "ExecuteTime": {
     "end_time": "2022-02-24T20:17:36.860000Z",
     "start_time": "2022-02-24T20:17:36.843947Z"
    }
   },
   "outputs": [],
   "source": [
    "df['gk'] =df['gk'].replace(\"+\",\"\")"
   ]
  },
  {
   "cell_type": "code",
   "execution_count": 5,
   "id": "ececff56",
   "metadata": {
    "ExecuteTime": {
     "end_time": "2022-02-24T20:17:37.206404Z",
     "start_time": "2022-02-24T20:17:37.109341Z"
    }
   },
   "outputs": [],
   "source": [
    "df['gk'] = df['gk'].str.replace(r'\\+', '', regex=True)\n"
   ]
  },
  {
   "cell_type": "code",
   "execution_count": 6,
   "id": "c32f8e2c",
   "metadata": {
    "ExecuteTime": {
     "end_time": "2022-02-24T20:17:37.503936Z",
     "start_time": "2022-02-24T20:17:37.486659Z"
    }
   },
   "outputs": [],
   "source": [
    "df.gk.fillna(0,inplace=True)"
   ]
  },
  {
   "cell_type": "code",
   "execution_count": 7,
   "id": "0349c1ba",
   "metadata": {
    "ExecuteTime": {
     "end_time": "2022-02-24T20:17:40.391524Z",
     "start_time": "2022-02-24T20:17:40.366478Z"
    }
   },
   "outputs": [],
   "source": [
    "df['gk']=df.gk.astype(int)"
   ]
  },
  {
   "cell_type": "code",
   "execution_count": 8,
   "id": "2848a252",
   "metadata": {},
   "outputs": [
    {
     "data": {
      "text/plain": [
       "0        15\n",
       "1        16\n",
       "2        14\n",
       "3        17\n",
       "4        87\n",
       "         ..\n",
       "87742     0\n",
       "87743     0\n",
       "87744     0\n",
       "87745     0\n",
       "87746     0\n",
       "Name: gk, Length: 87747, dtype: int64"
      ]
     },
     "execution_count": 8,
     "metadata": {},
     "output_type": "execute_result"
    }
   ],
   "source": [
    "df['gk']"
   ]
  },
  {
   "cell_type": "markdown",
   "id": "a6ecf8f3",
   "metadata": {},
   "source": [
    "## Añadir variable años pendientes de contrato"
   ]
  },
  {
   "cell_type": "code",
   "execution_count": 9,
   "id": "26a24d45",
   "metadata": {},
   "outputs": [],
   "source": [
    "df['años_de_contrato']=np.where((df['club_contract_valid_until']-df['año_version'])<0,0,(df['club_contract_valid_until']-df['año_version']))"
   ]
  },
  {
   "cell_type": "code",
   "execution_count": 10,
   "id": "6f2dcd88",
   "metadata": {},
   "outputs": [
    {
     "data": {
      "text/plain": [
       "años_de_contrato\n",
       "0.0    30707\n",
       "1.0    21182\n",
       "2.0    17779\n",
       "3.0     9287\n",
       "4.0     4872\n",
       "5.0     2502\n",
       "6.0     1413\n",
       "7.0        3\n",
       "8.0        2\n",
       "Name: años_de_contrato, dtype: int64"
      ]
     },
     "execution_count": 10,
     "metadata": {},
     "output_type": "execute_result"
    }
   ],
   "source": [
    "#comprobación\n",
    "df.groupby('años_de_contrato')['años_de_contrato'].count()"
   ]
  },
  {
   "cell_type": "markdown",
   "id": "2f59cdea",
   "metadata": {},
   "source": [
    "## Eliminación de ruido"
   ]
  },
  {
   "cell_type": "code",
   "execution_count": 11,
   "id": "694b9187",
   "metadata": {
    "ExecuteTime": {
     "end_time": "2022-02-24T20:17:17.443509Z",
     "start_time": "2022-02-24T20:17:17.363443Z"
    }
   },
   "outputs": [
    {
     "data": {
      "text/plain": [
       "\"df.drop(['sofifa_id',\\n 'short_name',\\n 'long_name',\\n 'player_positions',\\n     'dob', 'club_team_id',\\n 'club_name',\\n 'league_name',\\n 'league_level',\\n'club_jersey_number',\\n 'club_joined',\\n 'club_contract_valid_until',\\n 'nationality_id',\\n 'nationality_name',\\n 'nation_team_id','work_rate',\\n 'body_type',\\n 'real_face',\\n    'player_traits'],axis=1,inplace=True)\""
      ]
     },
     "execution_count": 11,
     "metadata": {},
     "output_type": "execute_result"
    }
   ],
   "source": [
    "#elimino columnas (según Sergio)\n",
    "'''df.drop(['sofifa_id',\n",
    " 'short_name',\n",
    " 'long_name',\n",
    " 'player_positions',\n",
    "     'dob', 'club_team_id',\n",
    " 'club_name',\n",
    " 'league_name',\n",
    " 'league_level',\n",
    "'club_jersey_number',\n",
    " 'club_joined',\n",
    " 'club_contract_valid_until',\n",
    " 'nationality_id',\n",
    " 'nationality_name',\n",
    " 'nation_team_id','work_rate',\n",
    " 'body_type',\n",
    " 'real_face',\n",
    "    'player_traits'],axis=1,inplace=True)'''"
   ]
  },
  {
   "cell_type": "code",
   "execution_count": 12,
   "id": "18634378",
   "metadata": {},
   "outputs": [],
   "source": [
    "#eliminamos columnas que sabemos seguro que sólo aportan ruido (según Carlos)\n",
    "df.drop([\"sofifa_id\",'short_name', 'long_name',\"nationality_id\",\"dob\",'club_team_id', 'club_name', 'league_name',\n",
    "        'club_jersey_number', 'club_joined', 'club_contract_valid_until','nationality_id', 'nationality_name','player_traits',\n",
    "        'ranking','puntos','año_version','player_positions'],axis=1,inplace=True)"
   ]
  },
  {
   "cell_type": "markdown",
   "id": "e9ef54c5",
   "metadata": {},
   "source": [
    "## Agrupar columna bodytype"
   ]
  },
  {
   "cell_type": "code",
   "execution_count": 13,
   "id": "a79555a7",
   "metadata": {},
   "outputs": [],
   "source": [
    "Lean=['Lean (170-)','Lean (185+)','Lean (170-185)']\n",
    "Normal=['Normal (170-)','Normal (170-185)','Normal (185+)']\n",
    "Stocky=['Stocky (170-)','Stocky (170-185)','Stocky (185+)']\n",
    "\n",
    "#agrupo posiciones en posiciones genéricas    \n",
    "for i in df.index:\n",
    "    if df.at[i,'body_type'] in Lean:\n",
    "        df.at[i,'body_type']='Lean'\n",
    "    elif df.at[i,'body_type'] in Normal:\n",
    "        df.at[i,'body_type']='Normal'\n",
    "    elif df.at[i,'body_type'] in Stocky:\n",
    "        df.at[i,'body_type']='Stocky'\n",
    "    else:\n",
    "        pass"
   ]
  },
  {
   "cell_type": "markdown",
   "id": "91da7391",
   "metadata": {},
   "source": [
    "## Exploración feature engineering"
   ]
  },
  {
   "cell_type": "code",
   "execution_count": 14,
   "id": "41d15456",
   "metadata": {},
   "outputs": [
    {
     "data": {
      "text/plain": [
       "Right    66970\n",
       "Left     20777\n",
       "Name: preferred_foot, dtype: int64"
      ]
     },
     "execution_count": 14,
     "metadata": {},
     "output_type": "execute_result"
    }
   ],
   "source": [
    "df.preferred_foot.value_counts() #categorica a OHE"
   ]
  },
  {
   "cell_type": "code",
   "execution_count": 15,
   "id": "35c80876",
   "metadata": {},
   "outputs": [
    {
     "data": {
      "text/plain": [
       "Medium/Medium    47248\n",
       "High/Medium      15911\n",
       "Medium/High       8196\n",
       "High/High         4712\n",
       "Medium/Low        4072\n",
       "High/Low          3332\n",
       "Low/Medium        2078\n",
       "Low/High          2058\n",
       "Low/Low            140\n",
       "Name: work_rate, dtype: int64"
      ]
     },
     "execution_count": 15,
     "metadata": {},
     "output_type": "execute_result"
    }
   ],
   "source": [
    "df.work_rate.value_counts() #categorica transformarla con un ordinal encoder"
   ]
  },
  {
   "cell_type": "code",
   "execution_count": 16,
   "id": "6e2593a5",
   "metadata": {},
   "outputs": [
    {
     "data": {
      "text/plain": [
       "Normal    51581\n",
       "Lean      30898\n",
       "Stocky     5099\n",
       "Unique      169\n",
       "Name: body_type, dtype: int64"
      ]
     },
     "execution_count": 16,
     "metadata": {},
     "output_type": "execute_result"
    }
   ],
   "source": [
    "df.body_type.value_counts() #categorica a OHE"
   ]
  },
  {
   "cell_type": "code",
   "execution_count": 17,
   "id": "f7eb32f1",
   "metadata": {},
   "outputs": [
    {
     "data": {
      "text/plain": [
       "No     78885\n",
       "Yes     8862\n",
       "Name: real_face, dtype: int64"
      ]
     },
     "execution_count": 17,
     "metadata": {},
     "output_type": "execute_result"
    }
   ],
   "source": [
    "df.real_face.value_counts() #categorica a OHE"
   ]
  },
  {
   "cell_type": "markdown",
   "id": "d42a36c9",
   "metadata": {},
   "source": [
    "## Feature engineering (transformar todas las variables a numéricas menos player_positions)"
   ]
  },
  {
   "cell_type": "code",
   "execution_count": 18,
   "id": "153d6124",
   "metadata": {},
   "outputs": [],
   "source": [
    "#preparación para transformación categorica a num\n",
    "work_rate_ord=['Low/Low','Low/Medium','Low/High','Medium/Low','Medium/Medium','Medium/High','High/Low','High/Medium','High/High']\n",
    "league_level_ord=['0.0','4.0','3.0','2.0','1.0']\n",
    "df['league_level']=df['league_level'].apply(str)"
   ]
  },
  {
   "cell_type": "code",
   "execution_count": 19,
   "id": "fd3368d0",
   "metadata": {},
   "outputs": [],
   "source": [
    "#Ordinal Encoder\n",
    "df[['work_rate','league_level']]=OrdinalEncoder(categories=[work_rate_ord,league_level_ord]).fit_transform(df[['work_rate','league_level']])"
   ]
  },
  {
   "cell_type": "code",
   "execution_count": 20,
   "id": "d5589aa9",
   "metadata": {},
   "outputs": [],
   "source": [
    "#OHE\n",
    "df[['preferred_foot','body_type_1','body_type_2','body_type_3','real_face']]=OneHotEncoder(drop='first',sparse=False).fit_transform(df[['preferred_foot','body_type','real_face']])                                          "
   ]
  },
  {
   "cell_type": "code",
   "execution_count": 21,
   "id": "c5aac211",
   "metadata": {},
   "outputs": [
    {
     "data": {
      "text/plain": [
       "body_type    True\n",
       "dtype: bool"
      ]
     },
     "execution_count": 21,
     "metadata": {},
     "output_type": "execute_result"
    }
   ],
   "source": [
    "#comprobar columnas\n",
    "categorical = df.dtypes == object\n",
    "categorical[categorical==True]"
   ]
  },
  {
   "cell_type": "code",
   "execution_count": 22,
   "id": "389108ce",
   "metadata": {},
   "outputs": [],
   "source": [
    "#eliminar columna body_type\n",
    "df.drop([\"body_type\"],axis=1,inplace=True)"
   ]
  },
  {
   "cell_type": "code",
   "execution_count": 23,
   "id": "417e333f",
   "metadata": {
    "ExecuteTime": {
     "end_time": "2022-02-24T20:20:51.943085Z",
     "start_time": "2022-02-24T20:20:51.893811Z"
    }
   },
   "outputs": [],
   "source": [
    "target=[]\n",
    "#elegimos el % de target para que sea 0 y 1\n",
    "for i in df.progresion_anual:\n",
    "    if i>0.1:\n",
    "        target.append(1)\n",
    "    else:\n",
    "        target.append(0)\n",
    "df[\"target\"]=target"
   ]
  },
  {
   "cell_type": "code",
   "execution_count": 24,
   "id": "d330135a",
   "metadata": {
    "ExecuteTime": {
     "end_time": "2022-02-24T20:40:34.881381Z",
     "start_time": "2022-02-24T20:40:34.841376Z"
    }
   },
   "outputs": [],
   "source": [
    "X=df.drop([\"progresion_anual\",\"target\"],axis=1)\n",
    "y=df.target"
   ]
  },
  {
   "cell_type": "code",
   "execution_count": 25,
   "id": "75e9f6f9",
   "metadata": {
    "ExecuteTime": {
     "end_time": "2022-02-24T20:41:09.093225Z",
     "start_time": "2022-02-24T20:40:36.300755Z"
    }
   },
   "outputs": [
    {
     "data": {
      "text/plain": [
       "SelectFromModel(estimator=RandomForestClassifier())"
      ]
     },
     "execution_count": 25,
     "metadata": {},
     "output_type": "execute_result"
    }
   ],
   "source": [
    "#seleccion de columnas \n",
    "sel = SelectFromModel(RandomForestClassifier(n_estimators = 100))\n",
    "sel.fit(X,y)"
   ]
  },
  {
   "cell_type": "code",
   "execution_count": 26,
   "id": "9e0dad1f",
   "metadata": {
    "ExecuteTime": {
     "end_time": "2022-02-24T20:41:09.390521Z",
     "start_time": "2022-02-24T20:41:09.359514Z"
    },
    "scrolled": true
   },
   "outputs": [
    {
     "data": {
      "text/plain": [
       "array([ True,  True,  True,  True,  True,  True,  True, False, False,\n",
       "       False, False, False, False, False, False, False, False,  True,\n",
       "       False, False, False, False,  True,  True,  True,  True,  True,\n",
       "        True,  True,  True,  True,  True,  True,  True,  True,  True,\n",
       "        True,  True,  True,  True,  True,  True,  True,  True,  True,\n",
       "        True,  True,  True,  True,  True,  True,  True,  True,  True,\n",
       "        True,  True,  True, False, False, False, False, False, False,\n",
       "       False, False, False, False, False, False, False, False, False,\n",
       "       False, False, False, False, False, False, False, False, False,\n",
       "       False, False, False,  True,  True,  True,  True,  True, False,\n",
       "       False, False, False])"
      ]
     },
     "execution_count": 26,
     "metadata": {},
     "output_type": "execute_result"
    }
   ],
   "source": [
    "#columnas que coge\n",
    "sel.get_support()"
   ]
  },
  {
   "cell_type": "code",
   "execution_count": 27,
   "id": "f79c5d53",
   "metadata": {
    "ExecuteTime": {
     "end_time": "2022-02-24T20:41:18.336499Z",
     "start_time": "2022-02-24T20:41:18.285499Z"
    }
   },
   "outputs": [
    {
     "data": {
      "text/plain": [
       "48"
      ]
     },
     "execution_count": 27,
     "metadata": {},
     "output_type": "execute_result"
    }
   ],
   "source": [
    "selected_feat= X.columns[(sel.get_support())]\n",
    "len(selected_feat) #selecciona 42 columnas"
   ]
  },
  {
   "cell_type": "code",
   "execution_count": 28,
   "id": "c94acda7",
   "metadata": {
    "ExecuteTime": {
     "end_time": "2022-02-24T20:41:26.824245Z",
     "start_time": "2022-02-24T20:41:26.814251Z"
    }
   },
   "outputs": [
    {
     "data": {
      "text/plain": [
       "Index(['overall', 'potential', 'value_eur', 'wage_eur', 'age', 'height_cm',\n",
       "       'weight_kg', 'pace', 'physic', 'attacking_crossing',\n",
       "       'attacking_finishing', 'attacking_heading_accuracy',\n",
       "       'attacking_short_passing', 'attacking_volleys', 'skill_dribbling',\n",
       "       'skill_curve', 'skill_fk_accuracy', 'skill_long_passing',\n",
       "       'skill_ball_control', 'movement_acceleration', 'movement_sprint_speed',\n",
       "       'movement_agility', 'movement_reactions', 'movement_balance',\n",
       "       'power_shot_power', 'power_jumping', 'power_stamina', 'power_strength',\n",
       "       'power_long_shots', 'mentality_aggression', 'mentality_interceptions',\n",
       "       'mentality_positioning', 'mentality_vision', 'mentality_penalties',\n",
       "       'mentality_composure', 'defending_marking_awareness',\n",
       "       'defending_standing_tackle', 'defending_sliding_tackle',\n",
       "       'goalkeeping_diving', 'goalkeeping_handling', 'goalkeeping_kicking',\n",
       "       'goalkeeping_positioning', 'goalkeeping_reflexes', 'gk',\n",
       "       'overall_team/year', 'teams_in_league/year', 'mean_league/year',\n",
       "       'mean_team/year'],\n",
       "      dtype='object')"
      ]
     },
     "execution_count": 28,
     "metadata": {},
     "output_type": "execute_result"
    }
   ],
   "source": [
    "#vemos que variables son\n",
    "selected_feat"
   ]
  },
  {
   "cell_type": "code",
   "execution_count": 29,
   "id": "1640338f",
   "metadata": {},
   "outputs": [],
   "source": [
    "#redefinimos X:\n",
    "X=df[selected_feat.to_list()]"
   ]
  },
  {
   "cell_type": "markdown",
   "id": "53ac5078",
   "metadata": {},
   "source": [
    "## Primer modelo naive"
   ]
  },
  {
   "cell_type": "code",
   "execution_count": 30,
   "id": "5a4c7caf",
   "metadata": {
    "ExecuteTime": {
     "end_time": "2022-02-24T20:42:27.481284Z",
     "start_time": "2022-02-24T20:42:27.367290Z"
    }
   },
   "outputs": [],
   "source": [
    "#split el dataframe\n",
    "X_train, X_test, y_train, y_test = train_test_split(X, y, test_size=0.2, random_state=0)"
   ]
  },
  {
   "cell_type": "code",
   "execution_count": 31,
   "id": "513f2e4e",
   "metadata": {
    "ExecuteTime": {
     "end_time": "2022-02-24T20:42:17.969587Z",
     "start_time": "2022-02-24T20:42:17.962592Z"
    }
   },
   "outputs": [],
   "source": [
    "model=RandomForestClassifier()"
   ]
  },
  {
   "cell_type": "code",
   "execution_count": 32,
   "id": "60bdc0f9",
   "metadata": {
    "ExecuteTime": {
     "end_time": "2022-02-24T20:43:04.281305Z",
     "start_time": "2022-02-24T20:42:37.149298Z"
    }
   },
   "outputs": [
    {
     "data": {
      "text/plain": [
       "RandomForestClassifier()"
      ]
     },
     "execution_count": 32,
     "metadata": {},
     "output_type": "execute_result"
    }
   ],
   "source": [
    "model.fit(X_train,y_train)"
   ]
  },
  {
   "cell_type": "code",
   "execution_count": 33,
   "id": "60233585",
   "metadata": {
    "ExecuteTime": {
     "end_time": "2022-02-24T20:43:09.960495Z",
     "start_time": "2022-02-24T20:43:09.495490Z"
    }
   },
   "outputs": [
    {
     "data": {
      "text/plain": [
       "0.9490598290598291"
      ]
     },
     "execution_count": 33,
     "metadata": {},
     "output_type": "execute_result"
    }
   ],
   "source": [
    "model.score(X_test,y_test)"
   ]
  },
  {
   "cell_type": "code",
   "execution_count": 34,
   "id": "fcab7da1",
   "metadata": {
    "ExecuteTime": {
     "end_time": "2022-02-24T20:43:34.917068Z",
     "start_time": "2022-02-24T20:43:34.471069Z"
    }
   },
   "outputs": [],
   "source": [
    "y_pred=model.predict(X_test)"
   ]
  },
  {
   "cell_type": "code",
   "execution_count": 35,
   "id": "16d81d51",
   "metadata": {
    "ExecuteTime": {
     "end_time": "2022-02-24T20:43:49.145049Z",
     "start_time": "2022-02-24T20:43:49.105265Z"
    },
    "scrolled": true
   },
   "outputs": [
    {
     "name": "stdout",
     "output_type": "stream",
     "text": [
      "              precision    recall  f1-score   support\n",
      "\n",
      "           0       0.95      1.00      0.97     16667\n",
      "           1       0.30      0.01      0.02       883\n",
      "\n",
      "    accuracy                           0.95     17550\n",
      "   macro avg       0.62      0.50      0.50     17550\n",
      "weighted avg       0.92      0.95      0.93     17550\n",
      "\n"
     ]
    }
   ],
   "source": [
    "print(classification_report(y_test,y_pred)) \n",
    "#Se observa accury muy alta => consecuencia posible de df muy desbalanceado"
   ]
  },
  {
   "cell_type": "code",
   "execution_count": 36,
   "id": "ae8a2020",
   "metadata": {},
   "outputs": [
    {
     "data": {
      "text/plain": [
       "0.9574468085106383"
      ]
     },
     "execution_count": 36,
     "metadata": {},
     "output_type": "execute_result"
    }
   ],
   "source": [
    "#desbalanceo de X\n",
    "1845/1927"
   ]
  },
  {
   "cell_type": "markdown",
   "id": "4ab53dd4",
   "metadata": {},
   "source": [
    "## Segundo modelo con undersampling"
   ]
  },
  {
   "cell_type": "code",
   "execution_count": 37,
   "id": "6c9ff206",
   "metadata": {
    "ExecuteTime": {
     "end_time": "2022-02-24T20:44:42.683756Z",
     "start_time": "2022-02-24T20:44:42.565703Z"
    }
   },
   "outputs": [],
   "source": [
    "rus = RandomUnderSampler(random_state=0)\n",
    "X_res, y_res =rus.fit_resample(X, y)\n",
    "\n",
    "#split el dataframe\n",
    "X_train, X_test, y_train, y_test = train_test_split(X_res, y_res, test_size=0.2, random_state=0)\n",
    "\n"
   ]
  },
  {
   "cell_type": "code",
   "execution_count": 38,
   "id": "2999b8e7",
   "metadata": {
    "ExecuteTime": {
     "end_time": "2022-02-24T20:44:51.498300Z",
     "start_time": "2022-02-24T20:44:48.889299Z"
    }
   },
   "outputs": [
    {
     "name": "stdout",
     "output_type": "stream",
     "text": [
      "              precision    recall  f1-score   support\n",
      "\n",
      "           0       0.82      0.77      0.79       853\n",
      "           1       0.77      0.83      0.80       824\n",
      "\n",
      "    accuracy                           0.80      1677\n",
      "   macro avg       0.80      0.80      0.80      1677\n",
      "weighted avg       0.80      0.80      0.80      1677\n",
      "\n"
     ]
    }
   ],
   "source": [
    "model=RandomForestClassifier()\n",
    "model.fit(X_train,y_train)\n",
    "\n",
    "y_pred=model.predict(X_test)\n",
    "\n",
    "print(classification_report(y_test, y_pred))\n",
    "#random forest classifier consigue un 73% de accuracy"
   ]
  },
  {
   "cell_type": "code",
   "execution_count": 39,
   "id": "591512ed",
   "metadata": {
    "ExecuteTime": {
     "end_time": "2022-02-24T20:46:04.172875Z",
     "start_time": "2022-02-24T20:46:00.712817Z"
    }
   },
   "outputs": [
    {
     "name": "stdout",
     "output_type": "stream",
     "text": [
      "              precision    recall  f1-score   support\n",
      "\n",
      "           0       0.78      0.62      0.69       853\n",
      "           1       0.68      0.82      0.74       824\n",
      "\n",
      "    accuracy                           0.72      1677\n",
      "   macro avg       0.73      0.72      0.72      1677\n",
      "weighted avg       0.73      0.72      0.72      1677\n",
      "\n"
     ]
    }
   ],
   "source": [
    "model2=SVC()\n",
    "model2.fit(X_train,y_train)\n",
    "y_pred=model2.predict(X_test)\n",
    "print(classification_report(y_test, y_pred))\n"
   ]
  },
  {
   "cell_type": "markdown",
   "id": "7b0f238b",
   "metadata": {},
   "source": [
    "## Tercer modelo con Over-sampling"
   ]
  },
  {
   "cell_type": "code",
   "execution_count": 40,
   "id": "6f71a02c",
   "metadata": {},
   "outputs": [],
   "source": [
    "res= SMOTEN()"
   ]
  },
  {
   "cell_type": "code",
   "execution_count": 41,
   "id": "cb62d94b",
   "metadata": {},
   "outputs": [],
   "source": [
    "X_res,y_res=res.fit_resample(X, y)"
   ]
  },
  {
   "cell_type": "code",
   "execution_count": 42,
   "id": "c675fe1e",
   "metadata": {},
   "outputs": [
    {
     "data": {
      "text/plain": [
       "0.5"
      ]
     },
     "execution_count": 42,
     "metadata": {},
     "output_type": "execute_result"
    }
   ],
   "source": [
    "#comprobación\n",
    "sum(y_res)/len(y_res) "
   ]
  },
  {
   "cell_type": "code",
   "execution_count": 43,
   "id": "a7d91b4b",
   "metadata": {},
   "outputs": [],
   "source": [
    "#split el dataframe\n",
    "X_train, X_test, y_train, y_test = train_test_split(X_res, y_res, test_size=0.2, random_state=0)"
   ]
  },
  {
   "cell_type": "code",
   "execution_count": 44,
   "id": "96cb1cf3",
   "metadata": {},
   "outputs": [
    {
     "name": "stdout",
     "output_type": "stream",
     "text": [
      "              precision    recall  f1-score   support\n",
      "\n",
      "           0       0.95      0.99      0.97     16576\n",
      "           1       0.99      0.95      0.97     16846\n",
      "\n",
      "    accuracy                           0.97     33422\n",
      "   macro avg       0.97      0.97      0.97     33422\n",
      "weighted avg       0.97      0.97      0.97     33422\n",
      "\n"
     ]
    }
   ],
   "source": [
    "model3=RandomForestClassifier()\n",
    "model3.fit(X_train,y_train)\n",
    "y_pred=model3.predict(X_test)\n",
    "print(classification_report(y_test, y_pred))\n"
   ]
  },
  {
   "cell_type": "code",
   "execution_count": 45,
   "id": "07bd3f67",
   "metadata": {},
   "outputs": [],
   "source": [
    "#model4=SVC()\n",
    "#model4.fit(X_train,y_train).score(X_test,y_test)\n",
    "#y_pred=model4.predict(X_test)\n",
    "#print(classification_report(y_test, y_pred))\n",
    "#SVC con oversampling consigue un 77% de accuracy"
   ]
  },
  {
   "cell_type": "code",
   "execution_count": null,
   "metadata": {},
   "outputs": [],
   "source": []
  },
  {
   "cell_type": "code",
   "execution_count": null,
   "metadata": {},
   "outputs": [],
   "source": []
  },
  {
   "cell_type": "code",
   "execution_count": 47,
   "metadata": {},
   "outputs": [
    {
     "name": "stdout",
     "output_type": "stream",
     "text": [
      "              precision    recall  f1-score   support\n",
      "\n",
      "           0       0.95      0.99      0.97     16576\n",
      "           1       0.99      0.95      0.97     16846\n",
      "\n",
      "    accuracy                           0.97     33422\n",
      "   macro avg       0.97      0.97      0.97     33422\n",
      "weighted avg       0.97      0.97      0.97     33422\n",
      "\n"
     ]
    }
   ],
   "source": [
    "from imblearn.over_sampling import RandomOverSampler\n",
    "ros = RandomOverSampler(random_state=0)\n",
    "X_res, y_res = ros.fit_resample(X, y)\n",
    "\n",
    "X_train, X_test, y_train, y_test = train_test_split(X_res, y_res, test_size=0.2, random_state=0)\n",
    "print(classification_report(y_test, y_pred))"
   ]
  },
  {
   "cell_type": "code",
   "execution_count": 48,
   "metadata": {},
   "outputs": [],
   "source": [
    "import pickle"
   ]
  },
  {
   "cell_type": "code",
   "execution_count": 50,
   "metadata": {},
   "outputs": [],
   "source": [
    "with open('./models/model_all.pkl','wb') as f:\n",
    "    pickle.dump(ros,f)"
   ]
  },
  {
   "cell_type": "code",
   "execution_count": null,
   "metadata": {},
   "outputs": [],
   "source": []
  }
 ],
 "metadata": {
  "interpreter": {
   "hash": "aee8b7b246df8f9039afb4144a1f6fd8d2ca17a180786b69acc140d282b71a49"
  },
  "kernelspec": {
   "display_name": "Python 3.9.6 64-bit",
   "language": "python",
   "name": "python3"
  },
  "language_info": {
   "codemirror_mode": {
    "name": "ipython",
    "version": 3
   },
   "file_extension": ".py",
   "mimetype": "text/x-python",
   "name": "python",
   "nbconvert_exporter": "python",
   "pygments_lexer": "ipython3",
   "version": "3.9.6"
  },
  "orig_nbformat": 4
 },
 "nbformat": 4,
 "nbformat_minor": 2
}
